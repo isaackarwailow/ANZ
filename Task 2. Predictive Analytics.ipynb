{
 "cells": [
  {
   "cell_type": "markdown",
   "metadata": {},
   "source": [
    "# Predictive Analysis: ANZ Synthesized 3-month Transactional Dataset"
   ]
  },
  {
   "cell_type": "code",
   "execution_count": 495,
   "metadata": {},
   "outputs": [],
   "source": [
    "import pandas as pd\n",
    "import numpy as np\n",
    "import matplotlib.pyplot as plt\n",
    "import seaborn as sns\n",
    "from sklearn.preprocessing import StandardScaler\n",
    "from sklearn.model_selection import train_test_split\n",
    "from sklearn.linear_model import LinearRegression\n",
    "from sklearn.linear_model import LogisticRegression\n",
    "\n",
    "%matplotlib inline"
   ]
  },
  {
   "cell_type": "markdown",
   "metadata": {},
   "source": [
    "## Background\n",
    "\n",
    "Source: https://www.theforage.com/modules/ZLJCsrpkHo9pZBJNY/BiJPfqmGY2QwgN6gA\n",
    "\n",
    "This task is based on a synthesised transaction dataset containing 3 months’ worth of transactions for 100 hypothetical customers. It contains purchases, recurring transactions, and salary transactions. The dataset is designed to simulate realistic transaction behaviours that are observed in ANZ’s real transaction data, so many of the insights gathered from the activities will be genuine.\n",
    "\n",
    "*NOTE*: Data preprocessing for this dataset was already done in the notebook for Task 1. If reference for data preprocessing is required, please refer to Steps 0 and 1 in the notebook file 'Task 1. Exploratory Data Analysis.ipynb'. The dataset to be loaded here should be the cleaned file named 'DATA/ANZ-synthesized-transactions-cleaned.csv'"
   ]
  },
  {
   "cell_type": "markdown",
   "metadata": {},
   "source": [
    "## Step 0: Load the dataset and perform EDA"
   ]
  },
  {
   "cell_type": "markdown",
   "metadata": {},
   "source": [
    "### Overview\n",
    "The aim of this dataset is to try to understand the features of purchasing behaviour of customers as a predictor metric for modelling expected values for annual pay/ salary\n",
    "\n",
    "The plan of execution is to configure the best model for predicting customer's annual salary. According to the principle of Occam's Razor, simpler models will be preferred to more complex models, and the generation of models will stop when it can accurately predict new data."
   ]
  },
  {
   "cell_type": "code",
   "execution_count": 511,
   "metadata": {},
   "outputs": [],
   "source": [
    "# referencing the cleaned dataset\n",
    "file = 'DATA/ANZ-synthesized-transactions-cleaned.csv'\n",
    "# Read file and parse timestamp as the index\n",
    "df = pd.read_csv(file)"
   ]
  },
  {
   "cell_type": "code",
   "execution_count": 512,
   "metadata": {},
   "outputs": [
    {
     "data": {
      "text/html": [
       "<div>\n",
       "<style scoped>\n",
       "    .dataframe tbody tr th:only-of-type {\n",
       "        vertical-align: middle;\n",
       "    }\n",
       "\n",
       "    .dataframe tbody tr th {\n",
       "        vertical-align: top;\n",
       "    }\n",
       "\n",
       "    .dataframe thead th {\n",
       "        text-align: right;\n",
       "    }\n",
       "</style>\n",
       "<table border=\"1\" class=\"dataframe\">\n",
       "  <thead>\n",
       "    <tr style=\"text-align: right;\">\n",
       "      <th></th>\n",
       "      <th>timestamp</th>\n",
       "      <th>status</th>\n",
       "      <th>card_present_flag</th>\n",
       "      <th>account</th>\n",
       "      <th>first_name</th>\n",
       "      <th>age</th>\n",
       "      <th>gender</th>\n",
       "      <th>txn_description</th>\n",
       "      <th>balance</th>\n",
       "      <th>amount</th>\n",
       "      <th>...</th>\n",
       "      <th>X</th>\n",
       "      <th>Y</th>\n",
       "      <th>merch_suburb</th>\n",
       "      <th>merch_state</th>\n",
       "      <th>merch_geometry</th>\n",
       "      <th>merch_X</th>\n",
       "      <th>merch_Y</th>\n",
       "      <th>distance</th>\n",
       "      <th>country</th>\n",
       "      <th>card_present_bool</th>\n",
       "    </tr>\n",
       "  </thead>\n",
       "  <tbody>\n",
       "    <tr>\n",
       "      <th>0</th>\n",
       "      <td>2018-08-01 01:01:15+00:00</td>\n",
       "      <td>authorized</td>\n",
       "      <td>1</td>\n",
       "      <td>1598451071</td>\n",
       "      <td>Diana</td>\n",
       "      <td>26</td>\n",
       "      <td>F</td>\n",
       "      <td>POS</td>\n",
       "      <td>35.39</td>\n",
       "      <td>16.25</td>\n",
       "      <td>...</td>\n",
       "      <td>-27.95</td>\n",
       "      <td>153.41</td>\n",
       "      <td>Ashmore</td>\n",
       "      <td>QLD</td>\n",
       "      <td>153.38 -27.99</td>\n",
       "      <td>-27.99</td>\n",
       "      <td>153.38</td>\n",
       "      <td>5.34</td>\n",
       "      <td>Australia</td>\n",
       "      <td>True</td>\n",
       "    </tr>\n",
       "    <tr>\n",
       "      <th>1</th>\n",
       "      <td>2018-08-01 01:13:45+00:00</td>\n",
       "      <td>authorized</td>\n",
       "      <td>0</td>\n",
       "      <td>1598451071</td>\n",
       "      <td>Diana</td>\n",
       "      <td>26</td>\n",
       "      <td>F</td>\n",
       "      <td>SALES-POS</td>\n",
       "      <td>21.20</td>\n",
       "      <td>14.19</td>\n",
       "      <td>...</td>\n",
       "      <td>-27.95</td>\n",
       "      <td>153.41</td>\n",
       "      <td>Sydney</td>\n",
       "      <td>NSW</td>\n",
       "      <td>151.21 -33.87</td>\n",
       "      <td>-33.87</td>\n",
       "      <td>151.21</td>\n",
       "      <td>691.63</td>\n",
       "      <td>Australia</td>\n",
       "      <td>False</td>\n",
       "    </tr>\n",
       "    <tr>\n",
       "      <th>2</th>\n",
       "      <td>2018-08-01 01:26:15+00:00</td>\n",
       "      <td>authorized</td>\n",
       "      <td>1</td>\n",
       "      <td>1222300524</td>\n",
       "      <td>Michael</td>\n",
       "      <td>38</td>\n",
       "      <td>M</td>\n",
       "      <td>POS</td>\n",
       "      <td>5.71</td>\n",
       "      <td>6.42</td>\n",
       "      <td>...</td>\n",
       "      <td>-33.94</td>\n",
       "      <td>151.23</td>\n",
       "      <td>Sydney</td>\n",
       "      <td>NSW</td>\n",
       "      <td>151.21 -33.87</td>\n",
       "      <td>-33.87</td>\n",
       "      <td>151.21</td>\n",
       "      <td>8.01</td>\n",
       "      <td>Australia</td>\n",
       "      <td>True</td>\n",
       "    </tr>\n",
       "    <tr>\n",
       "      <th>3</th>\n",
       "      <td>2018-08-01 01:38:45+00:00</td>\n",
       "      <td>authorized</td>\n",
       "      <td>1</td>\n",
       "      <td>1037050564</td>\n",
       "      <td>Rhonda</td>\n",
       "      <td>40</td>\n",
       "      <td>F</td>\n",
       "      <td>SALES-POS</td>\n",
       "      <td>2117.22</td>\n",
       "      <td>40.90</td>\n",
       "      <td>...</td>\n",
       "      <td>-27.66</td>\n",
       "      <td>153.10</td>\n",
       "      <td>Buderim</td>\n",
       "      <td>QLD</td>\n",
       "      <td>153.05 -26.68</td>\n",
       "      <td>-26.68</td>\n",
       "      <td>153.05</td>\n",
       "      <td>109.20</td>\n",
       "      <td>Australia</td>\n",
       "      <td>True</td>\n",
       "    </tr>\n",
       "    <tr>\n",
       "      <th>4</th>\n",
       "      <td>2018-08-01 01:51:15+00:00</td>\n",
       "      <td>authorized</td>\n",
       "      <td>1</td>\n",
       "      <td>1598451071</td>\n",
       "      <td>Diana</td>\n",
       "      <td>26</td>\n",
       "      <td>F</td>\n",
       "      <td>SALES-POS</td>\n",
       "      <td>17.95</td>\n",
       "      <td>3.25</td>\n",
       "      <td>...</td>\n",
       "      <td>-27.95</td>\n",
       "      <td>153.41</td>\n",
       "      <td>Mermaid Beach</td>\n",
       "      <td>QLD</td>\n",
       "      <td>153.44 -28.06</td>\n",
       "      <td>-28.06</td>\n",
       "      <td>153.44</td>\n",
       "      <td>12.60</td>\n",
       "      <td>Australia</td>\n",
       "      <td>True</td>\n",
       "    </tr>\n",
       "  </tbody>\n",
       "</table>\n",
       "<p>5 rows × 21 columns</p>\n",
       "</div>"
      ],
      "text/plain": [
       "                   timestamp      status  card_present_flag     account  \\\n",
       "0  2018-08-01 01:01:15+00:00  authorized                  1  1598451071   \n",
       "1  2018-08-01 01:13:45+00:00  authorized                  0  1598451071   \n",
       "2  2018-08-01 01:26:15+00:00  authorized                  1  1222300524   \n",
       "3  2018-08-01 01:38:45+00:00  authorized                  1  1037050564   \n",
       "4  2018-08-01 01:51:15+00:00  authorized                  1  1598451071   \n",
       "\n",
       "  first_name  age gender txn_description  balance  amount  ...      X       Y  \\\n",
       "0      Diana   26      F             POS    35.39   16.25  ... -27.95  153.41   \n",
       "1      Diana   26      F       SALES-POS    21.20   14.19  ... -27.95  153.41   \n",
       "2    Michael   38      M             POS     5.71    6.42  ... -33.94  151.23   \n",
       "3     Rhonda   40      F       SALES-POS  2117.22   40.90  ... -27.66  153.10   \n",
       "4      Diana   26      F       SALES-POS    17.95    3.25  ... -27.95  153.41   \n",
       "\n",
       "    merch_suburb merch_state merch_geometry merch_X  merch_Y  distance  \\\n",
       "0        Ashmore         QLD  153.38 -27.99  -27.99   153.38      5.34   \n",
       "1         Sydney         NSW  151.21 -33.87  -33.87   151.21    691.63   \n",
       "2         Sydney         NSW  151.21 -33.87  -33.87   151.21      8.01   \n",
       "3        Buderim         QLD  153.05 -26.68  -26.68   153.05    109.20   \n",
       "4  Mermaid Beach         QLD  153.44 -28.06  -28.06   153.44     12.60   \n",
       "\n",
       "     country card_present_bool  \n",
       "0  Australia              True  \n",
       "1  Australia             False  \n",
       "2  Australia              True  \n",
       "3  Australia              True  \n",
       "4  Australia              True  \n",
       "\n",
       "[5 rows x 21 columns]"
      ]
     },
     "execution_count": 512,
     "metadata": {},
     "output_type": "execute_result"
    }
   ],
   "source": [
    "# To display the first 5 rows of the data\n",
    "df.head()"
   ]
  },
  {
   "cell_type": "code",
   "execution_count": 513,
   "metadata": {},
   "outputs": [
    {
     "data": {
      "text/plain": [
       "(12043, 21)"
      ]
     },
     "execution_count": 513,
     "metadata": {},
     "output_type": "execute_result"
    }
   ],
   "source": [
    "# check the shape of the DataFrame\n",
    "df.shape"
   ]
  },
  {
   "cell_type": "markdown",
   "metadata": {},
   "source": [
    "* Rows in dataset: 12043\n",
    "* Columns in dataset: 21"
   ]
  },
  {
   "cell_type": "code",
   "execution_count": 514,
   "metadata": {},
   "outputs": [
    {
     "data": {
      "text/plain": [
       "timestamp            0\n",
       "status               0\n",
       "card_present_flag    0\n",
       "account              0\n",
       "first_name           0\n",
       "age                  0\n",
       "gender               0\n",
       "txn_description      0\n",
       "balance              0\n",
       "amount               0\n",
       "geometry             0\n",
       "X                    0\n",
       "Y                    0\n",
       "merch_suburb         0\n",
       "merch_state          0\n",
       "merch_geometry       0\n",
       "merch_X              0\n",
       "merch_Y              0\n",
       "distance             0\n",
       "country              0\n",
       "card_present_bool    0\n",
       "dtype: int64"
      ]
     },
     "execution_count": 514,
     "metadata": {},
     "output_type": "execute_result"
    }
   ],
   "source": [
    "# display all missing values\n",
    "df.isna().sum()"
   ]
  },
  {
   "cell_type": "markdown",
   "metadata": {},
   "source": [
    "## Step 1: Identify annual salary of each customer"
   ]
  },
  {
   "cell_type": "markdown",
   "metadata": {},
   "source": [
    "### a) Drop irrelevant features and create dummies"
   ]
  },
  {
   "cell_type": "code",
   "execution_count": 515,
   "metadata": {},
   "outputs": [
    {
     "data": {
      "text/plain": [
       "timestamp             object\n",
       "status                object\n",
       "card_present_flag      int64\n",
       "account                int64\n",
       "first_name            object\n",
       "age                    int64\n",
       "gender                object\n",
       "txn_description       object\n",
       "balance              float64\n",
       "amount               float64\n",
       "geometry              object\n",
       "X                    float64\n",
       "Y                    float64\n",
       "merch_suburb          object\n",
       "merch_state           object\n",
       "merch_geometry        object\n",
       "merch_X              float64\n",
       "merch_Y              float64\n",
       "distance             float64\n",
       "country               object\n",
       "card_present_bool       bool\n",
       "dtype: object"
      ]
     },
     "execution_count": 515,
     "metadata": {},
     "output_type": "execute_result"
    }
   ],
   "source": [
    "# confirmation of data types prior to conversion\n",
    "df.dtypes"
   ]
  },
  {
   "cell_type": "markdown",
   "metadata": {},
   "source": [
    "* drop all features that are unrelated to purchasing behaviour, as well as any feature that cannot be converted into a helpful categorical/ numerical dummy vairable:\n",
    "    - timestamp\n",
    "    - country\n",
    "    - card_present_bool\n",
    "    - merch_suburb (use coords)\n",
    "    - merch_state (use coords)\n",
    "    - geometry (use X, Y)\n",
    "    - merch_geometry\n",
    "    - merch_X\n",
    "    - merch_Y\n",
    "    - distance\n",
    "* Since we want to group data into an annual salary aggregate table of customer indexes, these dummy variables will need to be merged later on as predictors"
   ]
  },
  {
   "cell_type": "code",
   "execution_count": 516,
   "metadata": {},
   "outputs": [],
   "source": [
    "df = df.drop(columns=['country', 'timestamp', 'geometry', 'merch_suburb', 'merch_state', \n",
    "                       'merch_geometry', 'merch_X', 'merch_Y', 'distance', 'card_present_bool'])"
   ]
  },
  {
   "cell_type": "code",
   "execution_count": 517,
   "metadata": {},
   "outputs": [],
   "source": [
    "# get dummy variables\n",
    "df = pd.get_dummies(data=df, columns=['status', 'gender'], prefix=['status', 'gender'], drop_first=True)"
   ]
  },
  {
   "cell_type": "code",
   "execution_count": 518,
   "metadata": {},
   "outputs": [
    {
     "data": {
      "text/html": [
       "<div>\n",
       "<style scoped>\n",
       "    .dataframe tbody tr th:only-of-type {\n",
       "        vertical-align: middle;\n",
       "    }\n",
       "\n",
       "    .dataframe tbody tr th {\n",
       "        vertical-align: top;\n",
       "    }\n",
       "\n",
       "    .dataframe thead th {\n",
       "        text-align: right;\n",
       "    }\n",
       "</style>\n",
       "<table border=\"1\" class=\"dataframe\">\n",
       "  <thead>\n",
       "    <tr style=\"text-align: right;\">\n",
       "      <th></th>\n",
       "      <th>card_present_flag</th>\n",
       "      <th>account</th>\n",
       "      <th>first_name</th>\n",
       "      <th>age</th>\n",
       "      <th>txn_description</th>\n",
       "      <th>balance</th>\n",
       "      <th>amount</th>\n",
       "      <th>X</th>\n",
       "      <th>Y</th>\n",
       "      <th>status_posted</th>\n",
       "      <th>gender_M</th>\n",
       "    </tr>\n",
       "  </thead>\n",
       "  <tbody>\n",
       "    <tr>\n",
       "      <th>0</th>\n",
       "      <td>1</td>\n",
       "      <td>1598451071</td>\n",
       "      <td>Diana</td>\n",
       "      <td>26</td>\n",
       "      <td>POS</td>\n",
       "      <td>35.39</td>\n",
       "      <td>16.25</td>\n",
       "      <td>-27.95</td>\n",
       "      <td>153.41</td>\n",
       "      <td>0</td>\n",
       "      <td>0</td>\n",
       "    </tr>\n",
       "    <tr>\n",
       "      <th>1</th>\n",
       "      <td>0</td>\n",
       "      <td>1598451071</td>\n",
       "      <td>Diana</td>\n",
       "      <td>26</td>\n",
       "      <td>SALES-POS</td>\n",
       "      <td>21.20</td>\n",
       "      <td>14.19</td>\n",
       "      <td>-27.95</td>\n",
       "      <td>153.41</td>\n",
       "      <td>0</td>\n",
       "      <td>0</td>\n",
       "    </tr>\n",
       "    <tr>\n",
       "      <th>2</th>\n",
       "      <td>1</td>\n",
       "      <td>1222300524</td>\n",
       "      <td>Michael</td>\n",
       "      <td>38</td>\n",
       "      <td>POS</td>\n",
       "      <td>5.71</td>\n",
       "      <td>6.42</td>\n",
       "      <td>-33.94</td>\n",
       "      <td>151.23</td>\n",
       "      <td>0</td>\n",
       "      <td>1</td>\n",
       "    </tr>\n",
       "    <tr>\n",
       "      <th>3</th>\n",
       "      <td>1</td>\n",
       "      <td>1037050564</td>\n",
       "      <td>Rhonda</td>\n",
       "      <td>40</td>\n",
       "      <td>SALES-POS</td>\n",
       "      <td>2117.22</td>\n",
       "      <td>40.90</td>\n",
       "      <td>-27.66</td>\n",
       "      <td>153.10</td>\n",
       "      <td>0</td>\n",
       "      <td>0</td>\n",
       "    </tr>\n",
       "    <tr>\n",
       "      <th>4</th>\n",
       "      <td>1</td>\n",
       "      <td>1598451071</td>\n",
       "      <td>Diana</td>\n",
       "      <td>26</td>\n",
       "      <td>SALES-POS</td>\n",
       "      <td>17.95</td>\n",
       "      <td>3.25</td>\n",
       "      <td>-27.95</td>\n",
       "      <td>153.41</td>\n",
       "      <td>0</td>\n",
       "      <td>0</td>\n",
       "    </tr>\n",
       "  </tbody>\n",
       "</table>\n",
       "</div>"
      ],
      "text/plain": [
       "   card_present_flag     account first_name  age txn_description  balance  \\\n",
       "0                  1  1598451071      Diana   26             POS    35.39   \n",
       "1                  0  1598451071      Diana   26       SALES-POS    21.20   \n",
       "2                  1  1222300524    Michael   38             POS     5.71   \n",
       "3                  1  1037050564     Rhonda   40       SALES-POS  2117.22   \n",
       "4                  1  1598451071      Diana   26       SALES-POS    17.95   \n",
       "\n",
       "   amount      X       Y  status_posted  gender_M  \n",
       "0   16.25 -27.95  153.41              0         0  \n",
       "1   14.19 -27.95  153.41              0         0  \n",
       "2    6.42 -33.94  151.23              0         1  \n",
       "3   40.90 -27.66  153.10              0         0  \n",
       "4    3.25 -27.95  153.41              0         0  "
      ]
     },
     "execution_count": 518,
     "metadata": {},
     "output_type": "execute_result"
    }
   ],
   "source": [
    "df.head()"
   ]
  },
  {
   "cell_type": "code",
   "execution_count": 523,
   "metadata": {},
   "outputs": [],
   "source": [
    "df.set_index('account', inplace=True)"
   ]
  },
  {
   "cell_type": "markdown",
   "metadata": {},
   "source": [
    "### b) Subset Pay/Salary transactions and group by account"
   ]
  },
  {
   "cell_type": "code",
   "execution_count": 524,
   "metadata": {},
   "outputs": [
    {
     "data": {
      "text/plain": [
       "SALES-POS     3934\n",
       "POS           3783\n",
       "PAYMENT       2600\n",
       "PAY/SALARY     883\n",
       "INTER BANK     742\n",
       "PHONE BANK     101\n",
       "Name: txn_description, dtype: int64"
      ]
     },
     "execution_count": 524,
     "metadata": {},
     "output_type": "execute_result"
    }
   ],
   "source": [
    "# display counts of payment types\n",
    "df.txn_description.value_counts()"
   ]
  },
  {
   "cell_type": "code",
   "execution_count": 525,
   "metadata": {},
   "outputs": [
    {
     "data": {
      "text/plain": [
       "card_present_flag        2\n",
       "first_name              80\n",
       "age                     33\n",
       "txn_description          6\n",
       "balance              12006\n",
       "amount                4457\n",
       "X                       85\n",
       "Y                       87\n",
       "status_posted            2\n",
       "gender_M                 2\n",
       "dtype: int64"
      ]
     },
     "execution_count": 525,
     "metadata": {},
     "output_type": "execute_result"
    }
   ],
   "source": [
    "# Check the distinct values for each column\n",
    "df.nunique()"
   ]
  },
  {
   "cell_type": "markdown",
   "metadata": {},
   "source": [
    "- *NOTE*: First name and account column number of unique values do not match up:\n",
    "     - First name has 80 unique values\n",
    "     - Account has 100 unique values\n",
    "- It would be helpful for us to index these by account as it has better unique identification of customers.\n",
    "- In order to get a good target feature for annual salary, the index should be a sum of all the pay/ salary type descriptions grouped by each account."
   ]
  },
  {
   "cell_type": "code",
   "execution_count": 526,
   "metadata": {},
   "outputs": [],
   "source": [
    "#### i) Make Payment transaction Table"
   ]
  },
  {
   "cell_type": "code",
   "execution_count": 549,
   "metadata": {},
   "outputs": [],
   "source": [
    "df_pay = df[df.txn_description == 'PAY/SALARY']"
   ]
  },
  {
   "cell_type": "markdown",
   "metadata": {},
   "source": [
    "* Card_present_flag is useless for our prediction model\n",
    "* Status_posted is not useful in this case because all Pay/ Salary transaction types are functionally dependent on the status of posted. Hence, this column can be dropped\n",
    "* Basically, all customer unique fields (fully dependent features) have been dropped.\n",
    "* Only balance is a valid cumulative measure because it is not uniquely identified by the key."
   ]
  },
  {
   "cell_type": "code",
   "execution_count": 550,
   "metadata": {},
   "outputs": [],
   "source": [
    "df_pay = df_pay.drop(columns=['card_present_flag', 'age', 'X', 'Y', 'status_posted', 'gender_M'])"
   ]
  },
  {
   "cell_type": "code",
   "execution_count": 551,
   "metadata": {},
   "outputs": [
    {
     "data": {
      "text/plain": [
       "(883, 4)"
      ]
     },
     "execution_count": 551,
     "metadata": {},
     "output_type": "execute_result"
    }
   ],
   "source": [
    "df_pay.shape"
   ]
  },
  {
   "cell_type": "markdown",
   "metadata": {},
   "source": [
    "* The code shows that there were 883 payment transactions conducted in August, September and October"
   ]
  },
  {
   "cell_type": "code",
   "execution_count": 552,
   "metadata": {},
   "outputs": [],
   "source": [
    "# Group all payment transactions by accounts and sum\n",
    "df_pay_sum = df_pay.groupby('account').sum()"
   ]
  },
  {
   "cell_type": "code",
   "execution_count": 737,
   "metadata": {},
   "outputs": [
    {
     "name": "stdout",
     "output_type": "stream",
     "text": [
      "1598451071    14\n",
      "2920611728    14\n",
      "1973887809    14\n",
      "819621312     14\n",
      "3326339947    14\n",
      "              ..\n",
      "2153562714     3\n",
      "1217063613     2\n",
      "3100725361     2\n",
      "211792489      2\n",
      "2673069055     2\n",
      "Name: account, Length: 100, dtype: int64\n"
     ]
    }
   ],
   "source": [
    "# However, payment counts differ for each account\n",
    "salary_counts = df_pay.index.value_counts()\n",
    "print(salary_counts)"
   ]
  },
  {
   "cell_type": "code",
   "execution_count": 738,
   "metadata": {},
   "outputs": [
    {
     "data": {
      "image/png": "[encoded data removed]",
      "text/plain": [
       "<Figure size 432x288 with 1 Axes>"
      ]
     },
     "metadata": {
      "needs_background": "light"
     },
     "output_type": "display_data"
    }
   ],
   "source": [
    "_ = plt.hist(payment_counts)\n",
    "_ = plt.xlabel('Number of salary transactions')\n",
    "_ = plt.ylabel('Frequency')\n",
    "_ = plt.title('Histogram of number of salaries in 3 months (92 days)')"
   ]
  },
  {
   "cell_type": "markdown",
   "metadata": {},
   "source": [
    "* The above payment counts by individual accounts shows that:\n",
    "    - (35 + 5) = 40 of payment transactions were conducted weekly: 92 / 14 = 6.5714, or 92 / 12 = 7.6 (~7 days)\n",
    "    - (24 + 27) = 51 of payment transactions were conducted biweekly: 92 / 6 = 15.3333 or 92 / 8 = 11.5 (~14 days)\n",
    "    - (5 + 2 + 1) = 8 transactions were conducted 92 / 2 = 26, or 92 / 4 = 23, or 92 / 5 = 18.4 (~30 days)\n",
    "* *NOTE*: The above are just generalizations not exact measures"
   ]
  },
  {
   "cell_type": "markdown",
   "metadata": {},
   "source": [
    "* Therefore, the payment mean for each account would be a fairly inaccurate scale to be accounting for annual salary.\n",
    "* Dividing payment sums with the mean of payment counts should give us better scaled features for our data"
   ]
  },
  {
   "cell_type": "code",
   "execution_count": 533,
   "metadata": {},
   "outputs": [],
   "source": [
    "scaler = payment_counts.mean()"
   ]
  },
  {
   "cell_type": "code",
   "execution_count": 534,
   "metadata": {},
   "outputs": [],
   "source": [
    "df_pay_standardized = df_pay_sum / scaler"
   ]
  },
  {
   "cell_type": "markdown",
   "metadata": {},
   "source": [
    "* However, this is not good enough as we want the annual salary\n",
    "    - Since 365/30 = 12.166667, and 30/8.83 = 3.3975085\n",
    "    - annual salary = sum_amounts/ 8.83 * 3.3975085 * 12.166667"
   ]
  },
  {
   "cell_type": "code",
   "execution_count": 707,
   "metadata": {},
   "outputs": [],
   "source": [
    "df_pay_sum['annualized_sal'] = df_pay_sum['amount']/3.3975085 * 12.166667"
   ]
  },
  {
   "cell_type": "code",
   "execution_count": 708,
   "metadata": {},
   "outputs": [
    {
     "data": {
      "text/html": [
       "<div>\n",
       "<style scoped>\n",
       "    .dataframe tbody tr th:only-of-type {\n",
       "        vertical-align: middle;\n",
       "    }\n",
       "\n",
       "    .dataframe tbody tr th {\n",
       "        vertical-align: top;\n",
       "    }\n",
       "\n",
       "    .dataframe thead th {\n",
       "        text-align: right;\n",
       "    }\n",
       "</style>\n",
       "<table border=\"1\" class=\"dataframe\">\n",
       "  <thead>\n",
       "    <tr style=\"text-align: right;\">\n",
       "      <th></th>\n",
       "      <th>balance</th>\n",
       "      <th>amount</th>\n",
       "      <th>annualized_sal</th>\n",
       "    </tr>\n",
       "    <tr>\n",
       "      <th>account</th>\n",
       "      <th></th>\n",
       "      <th></th>\n",
       "      <th></th>\n",
       "    </tr>\n",
       "  </thead>\n",
       "  <tbody>\n",
       "    <tr>\n",
       "      <th>1523339231</th>\n",
       "      <td>295834.60</td>\n",
       "      <td>35343.92</td>\n",
       "      <td>126568.544307</td>\n",
       "    </tr>\n",
       "    <tr>\n",
       "      <th>1496451953</th>\n",
       "      <td>183287.54</td>\n",
       "      <td>33644.13</td>\n",
       "      <td>120481.501728</td>\n",
       "    </tr>\n",
       "    <tr>\n",
       "      <th>3317636250</th>\n",
       "      <td>164255.24</td>\n",
       "      <td>33081.88</td>\n",
       "      <td>118468.053191</td>\n",
       "    </tr>\n",
       "    <tr>\n",
       "      <th>2231965366</th>\n",
       "      <td>204657.85</td>\n",
       "      <td>31762.12</td>\n",
       "      <td>113741.919190</td>\n",
       "    </tr>\n",
       "    <tr>\n",
       "      <th>240804743</th>\n",
       "      <td>106299.10</td>\n",
       "      <td>30837.10</td>\n",
       "      <td>110429.371095</td>\n",
       "    </tr>\n",
       "    <tr>\n",
       "      <th>...</th>\n",
       "      <td>...</td>\n",
       "      <td>...</td>\n",
       "      <td>...</td>\n",
       "    </tr>\n",
       "    <tr>\n",
       "      <th>53508546</th>\n",
       "      <td>54704.11</td>\n",
       "      <td>8703.84</td>\n",
       "      <td>31168.935383</td>\n",
       "    </tr>\n",
       "    <tr>\n",
       "      <th>2615038700</th>\n",
       "      <td>409793.72</td>\n",
       "      <td>8637.59</td>\n",
       "      <td>30931.690447</td>\n",
       "    </tr>\n",
       "    <tr>\n",
       "      <th>2970114956</th>\n",
       "      <td>58334.28</td>\n",
       "      <td>8603.88</td>\n",
       "      <td>30810.973061</td>\n",
       "    </tr>\n",
       "    <tr>\n",
       "      <th>559365433</th>\n",
       "      <td>36491.38</td>\n",
       "      <td>7488.00</td>\n",
       "      <td>26814.944685</td>\n",
       "    </tr>\n",
       "    <tr>\n",
       "      <th>2988263882</th>\n",
       "      <td>63183.45</td>\n",
       "      <td>7155.96</td>\n",
       "      <td>25625.890968</td>\n",
       "    </tr>\n",
       "  </tbody>\n",
       "</table>\n",
       "<p>100 rows × 3 columns</p>\n",
       "</div>"
      ],
      "text/plain": [
       "              balance    amount  annualized_sal\n",
       "account                                        \n",
       "1523339231  295834.60  35343.92   126568.544307\n",
       "1496451953  183287.54  33644.13   120481.501728\n",
       "3317636250  164255.24  33081.88   118468.053191\n",
       "2231965366  204657.85  31762.12   113741.919190\n",
       "240804743   106299.10  30837.10   110429.371095\n",
       "...               ...       ...             ...\n",
       "53508546     54704.11   8703.84    31168.935383\n",
       "2615038700  409793.72   8637.59    30931.690447\n",
       "2970114956   58334.28   8603.88    30810.973061\n",
       "559365433    36491.38   7488.00    26814.944685\n",
       "2988263882   63183.45   7155.96    25625.890968\n",
       "\n",
       "[100 rows x 3 columns]"
      ]
     },
     "execution_count": 708,
     "metadata": {},
     "output_type": "execute_result"
    }
   ],
   "source": [
    "df_pay_sum.sort_values('annualized_sal', ascending=False)"
   ]
  },
  {
   "cell_type": "code",
   "execution_count": 709,
   "metadata": {},
   "outputs": [],
   "source": [
    "df_pay_sum.drop(columns='amount', inplace=True)"
   ]
  },
  {
   "cell_type": "code",
   "execution_count": 710,
   "metadata": {},
   "outputs": [
    {
     "data": {
      "text/plain": [
       "(100, 2)"
      ]
     },
     "execution_count": 710,
     "metadata": {},
     "output_type": "execute_result"
    }
   ],
   "source": [
    "# this confirms we have all 100 accounts in new dataset group\n",
    "df_pay_sum.shape"
   ]
  },
  {
   "cell_type": "code",
   "execution_count": 711,
   "metadata": {},
   "outputs": [
    {
     "data": {
      "text/plain": [
       "count       100.000000\n",
       "mean      60039.149965\n",
       "std       24141.843194\n",
       "min       25625.890968\n",
       "25%       41509.206707\n",
       "50%       53047.914113\n",
       "75%       76392.923308\n",
       "max      126568.544307\n",
       "Name: annualized_sal, dtype: float64"
      ]
     },
     "execution_count": 711,
     "metadata": {},
     "output_type": "execute_result"
    }
   ],
   "source": [
    "df_pay_sum.annualized_sal.describe()"
   ]
  },
  {
   "cell_type": "markdown",
   "metadata": {},
   "source": [
    "* The max annual salary is **\\$126, 568.54** and the min annual salary is **\\$25, 625.89**\n",
    "* This range of salary amounts is not an accurate measure of the entire year, it is a projected annuity based on three months. Therefore, it is useful to keep that in mind when making the predictions."
   ]
  },
  {
   "cell_type": "markdown",
   "metadata": {},
   "source": [
    "#### ii) Make other transactiont type tables to add new features to merge"
   ]
  },
  {
   "cell_type": "code",
   "execution_count": 562,
   "metadata": {},
   "outputs": [],
   "source": [
    "df_sales_pos = df[df.txn_description == 'SALES-POS']"
   ]
  },
  {
   "cell_type": "code",
   "execution_count": 563,
   "metadata": {},
   "outputs": [],
   "source": [
    "drop_columns = [c for c in df_sales_pos.columns if (c != 'amount' and c != 'account')]\n",
    "df_sales_pos = df_sales_pos.drop(columns = drop_columns)\n"
   ]
  },
  {
   "cell_type": "code",
   "execution_count": 567,
   "metadata": {},
   "outputs": [],
   "source": [
    "df_sales_pos_sum = df_sales_pos.groupby('account').sum()\n",
    "sales_pos_counts = df_sales_pos.index.value_counts()"
   ]
  },
  {
   "cell_type": "code",
   "execution_count": 641,
   "metadata": {},
   "outputs": [],
   "source": [
    "df_sales_pos_sum.rename({'amount': 'sales_pos'}, axis=1, inplace=True)"
   ]
  },
  {
   "cell_type": "markdown",
   "metadata": {},
   "source": [
    "* One customer missing for sales-pos transaction data"
   ]
  },
  {
   "cell_type": "code",
   "execution_count": 569,
   "metadata": {},
   "outputs": [
    {
     "data": {
      "image/png": "[encoded data removed]",
      "text/plain": [
       "<Figure size 432x288 with 1 Axes>"
      ]
     },
     "metadata": {
      "needs_background": "light"
     },
     "output_type": "display_data"
    }
   ],
   "source": [
    "_ = plt.hist(sales_pos_counts)\n",
    "_ = plt.xlabel('Number of Sales-Pos')\n",
    "_ = plt.ylabel('Frequency')\n",
    "_ = plt.title('Histogram of number of sales-pos in 3 months (92 days)')"
   ]
  },
  {
   "cell_type": "code",
   "execution_count": 570,
   "metadata": {},
   "outputs": [
    {
     "data": {
      "text/plain": [
       "SALES-POS     3934\n",
       "POS           3783\n",
       "PAYMENT       2600\n",
       "PAY/SALARY     883\n",
       "INTER BANK     742\n",
       "PHONE BANK     101\n",
       "Name: txn_description, dtype: int64"
      ]
     },
     "execution_count": 570,
     "metadata": {},
     "output_type": "execute_result"
    }
   ],
   "source": [
    "df.txn_description.value_counts()"
   ]
  },
  {
   "cell_type": "code",
   "execution_count": 577,
   "metadata": {},
   "outputs": [],
   "source": [
    "df_pos = df[df.txn_description == 'POS']"
   ]
  },
  {
   "cell_type": "code",
   "execution_count": 578,
   "metadata": {},
   "outputs": [],
   "source": [
    "drop_columns = [c for c in df_pos.columns if (c != 'amount' and c != 'account')]\n",
    "df_pos = df_pos.drop(columns = drop_columns)"
   ]
  },
  {
   "cell_type": "code",
   "execution_count": 579,
   "metadata": {},
   "outputs": [],
   "source": [
    "df_pos_sum = df_pos.groupby('account').sum()\n",
    "pos_counts = df_pos.index.value_counts()"
   ]
  },
  {
   "cell_type": "code",
   "execution_count": 642,
   "metadata": {},
   "outputs": [],
   "source": [
    "df_pos_sum.rename({'amount': 'pos'}, axis=1, inplace=True)"
   ]
  },
  {
   "cell_type": "code",
   "execution_count": 589,
   "metadata": {},
   "outputs": [
    {
     "data": {
      "image/png": "[encoded data removed]",
      "text/plain": [
       "<Figure size 432x288 with 1 Axes>"
      ]
     },
     "metadata": {
      "needs_background": "light"
     },
     "output_type": "display_data"
    }
   ],
   "source": [
    "_ = plt.hist(pos_counts)\n",
    "_ = plt.xlabel('Number of pos transactions')\n",
    "_ = plt.ylabel('Frequency')\n",
    "_ = plt.title('Histogram of number of pos in 3 months (92 days)')"
   ]
  },
  {
   "cell_type": "code",
   "execution_count": 739,
   "metadata": {},
   "outputs": [],
   "source": [
    "df_payment = df[df.txn_description == 'PAYMENT']"
   ]
  },
  {
   "cell_type": "code",
   "execution_count": 740,
   "metadata": {},
   "outputs": [],
   "source": [
    "drop_columns = [c for c in df_payment.columns if (c != 'amount' and c != 'account')]\n",
    "df_payment = df_payment.drop(columns = drop_columns)"
   ]
  },
  {
   "cell_type": "code",
   "execution_count": 741,
   "metadata": {},
   "outputs": [],
   "source": [
    "df_payment_sum = df_payment.groupby('account').sum()\n",
    "payment_counts = df_payment.index.value_counts()"
   ]
  },
  {
   "cell_type": "code",
   "execution_count": 742,
   "metadata": {},
   "outputs": [],
   "source": [
    "df_payment_sum.rename({'amount': 'payment'}, axis=1, inplace=True)"
   ]
  },
  {
   "cell_type": "code",
   "execution_count": 743,
   "metadata": {},
   "outputs": [
    {
     "data": {
      "image/png": "[encoded data removed]",
      "text/plain": [
       "<Figure size 432x288 with 1 Axes>"
      ]
     },
     "metadata": {
      "needs_background": "light"
     },
     "output_type": "display_data"
    }
   ],
   "source": [
    "_ = plt.hist(payment_counts)\n",
    "_ = plt.xlabel('Number of payment transactions')\n",
    "_ = plt.ylabel('Frequency')\n",
    "_ = plt.title('Histogram of number of payment transactions in 3 months (92 days)')"
   ]
  },
  {
   "cell_type": "code",
   "execution_count": 593,
   "metadata": {},
   "outputs": [],
   "source": [
    "df_interbank = df[df.txn_description == 'INTER BANK']"
   ]
  },
  {
   "cell_type": "code",
   "execution_count": 594,
   "metadata": {},
   "outputs": [],
   "source": [
    "drop_columns = [c for c in df_interbank.columns if (c != 'amount' and c != 'account')]\n",
    "df_interbank = df_interbank.drop(columns = drop_columns)"
   ]
  },
  {
   "cell_type": "code",
   "execution_count": 595,
   "metadata": {},
   "outputs": [],
   "source": [
    "df_interbank_sum = df_interbank.groupby('account').sum()\n",
    "interbank_counts = df_interbank.index.value_counts()"
   ]
  },
  {
   "cell_type": "code",
   "execution_count": 727,
   "metadata": {},
   "outputs": [],
   "source": [
    "df_interbank_sum.rename({'amount': 'inter_bank'}, axis=1, inplace=True)"
   ]
  },
  {
   "cell_type": "code",
   "execution_count": 596,
   "metadata": {},
   "outputs": [
    {
     "data": {
      "image/png": "[encoded data removed]",
      "text/plain": [
       "<Figure size 432x288 with 1 Axes>"
      ]
     },
     "metadata": {
      "needs_background": "light"
     },
     "output_type": "display_data"
    }
   ],
   "source": [
    "_ = plt.hist(interbank_counts)\n",
    "_ = plt.xlabel('Number of interbank transactions')\n",
    "_ = plt.ylabel('Frequency')\n",
    "_ = plt.title('Histogram of number of interbank transactions in 3 months (92 days)')"
   ]
  },
  {
   "cell_type": "code",
   "execution_count": 599,
   "metadata": {},
   "outputs": [],
   "source": [
    "df_phonebank = df[df.txn_description == 'PHONE BANK']"
   ]
  },
  {
   "cell_type": "code",
   "execution_count": 600,
   "metadata": {},
   "outputs": [],
   "source": [
    "drop_columns = [c for c in df_phonebank.columns if (c != 'amount' and c != 'account')]\n",
    "df_phonebank = df_phonebank.drop(columns = drop_columns)"
   ]
  },
  {
   "cell_type": "code",
   "execution_count": 601,
   "metadata": {},
   "outputs": [],
   "source": [
    "df_phonebank_sum = df_phonebank.groupby('account').sum()\n",
    "phonebank_counts = df_phonebank.index.value_counts()"
   ]
  },
  {
   "cell_type": "code",
   "execution_count": 728,
   "metadata": {},
   "outputs": [],
   "source": [
    "df_phonebank_sum.rename({'amount': 'phone_bank'}, axis=1, inplace=True)"
   ]
  },
  {
   "cell_type": "code",
   "execution_count": 647,
   "metadata": {},
   "outputs": [
    {
     "data": {
      "image/png": "[encoded data removed]",
      "text/plain": [
       "<Figure size 432x288 with 1 Axes>"
      ]
     },
     "metadata": {
      "needs_background": "light"
     },
     "output_type": "display_data"
    }
   ],
   "source": [
    "_ = plt.hist(phonebank_counts)\n",
    "_ = plt.xlabel('Number of phonebank transactions')\n",
    "_ = plt.ylabel('Frequency')\n",
    "_ = plt.title('Histogram of number of phonebank transactions in 3 months (92 days)')"
   ]
  },
  {
   "cell_type": "code",
   "execution_count": 745,
   "metadata": {},
   "outputs": [],
   "source": [
    "dfs = [df_pay_sum, df_sales_pos_sum, df_pos_sum, df_payment_sum, df_interbank_sum, df_phonebank_sum] # list of dataframes\n",
    "\n",
    "dfm = dfs[0].merge(dfs[1], how='inner', on='account') \\\n",
    "            .merge(dfs[2], how='inner', on='account') \\\n",
    "            .merge(dfs[3], how='inner', on='account') \\\n",
    "#             .merge(dfs[4], how='inner', on='account') \\\n",
    "#             .merge(dfs[5], how='inner', on='account') \n"
   ]
  },
  {
   "cell_type": "code",
   "execution_count": 746,
   "metadata": {},
   "outputs": [
    {
     "data": {
      "text/html": [
       "<div>\n",
       "<style scoped>\n",
       "    .dataframe tbody tr th:only-of-type {\n",
       "        vertical-align: middle;\n",
       "    }\n",
       "\n",
       "    .dataframe tbody tr th {\n",
       "        vertical-align: top;\n",
       "    }\n",
       "\n",
       "    .dataframe thead th {\n",
       "        text-align: right;\n",
       "    }\n",
       "</style>\n",
       "<table border=\"1\" class=\"dataframe\">\n",
       "  <thead>\n",
       "    <tr style=\"text-align: right;\">\n",
       "      <th></th>\n",
       "      <th>balance</th>\n",
       "      <th>annualized_sal</th>\n",
       "      <th>sales_pos</th>\n",
       "      <th>pos</th>\n",
       "      <th>payment</th>\n",
       "    </tr>\n",
       "    <tr>\n",
       "      <th>account</th>\n",
       "      <th></th>\n",
       "      <th></th>\n",
       "      <th></th>\n",
       "      <th></th>\n",
       "      <th></th>\n",
       "    </tr>\n",
       "  </thead>\n",
       "  <tbody>\n",
       "    <tr>\n",
       "      <th>37709441</th>\n",
       "      <td>98107.03</td>\n",
       "      <td>103584.219036</td>\n",
       "      <td>399.84</td>\n",
       "      <td>663.05</td>\n",
       "      <td>2088.0</td>\n",
       "    </tr>\n",
       "    <tr>\n",
       "      <th>38923874</th>\n",
       "      <td>506145.72</td>\n",
       "      <td>87565.226052</td>\n",
       "      <td>734.41</td>\n",
       "      <td>1716.74</td>\n",
       "      <td>4671.0</td>\n",
       "    </tr>\n",
       "    <tr>\n",
       "      <th>53508546</th>\n",
       "      <td>54704.11</td>\n",
       "      <td>31168.935383</td>\n",
       "      <td>1204.22</td>\n",
       "      <td>350.31</td>\n",
       "      <td>1180.0</td>\n",
       "    </tr>\n",
       "    <tr>\n",
       "      <th>80388494</th>\n",
       "      <td>35050.32</td>\n",
       "      <td>41178.773749</td>\n",
       "      <td>3033.07</td>\n",
       "      <td>1356.47</td>\n",
       "      <td>852.0</td>\n",
       "    </tr>\n",
       "    <tr>\n",
       "      <th>90814749</th>\n",
       "      <td>65301.33</td>\n",
       "      <td>49604.854445</td>\n",
       "      <td>1472.62</td>\n",
       "      <td>1845.16</td>\n",
       "      <td>831.0</td>\n",
       "    </tr>\n",
       "    <tr>\n",
       "      <th>...</th>\n",
       "      <td>...</td>\n",
       "      <td>...</td>\n",
       "      <td>...</td>\n",
       "      <td>...</td>\n",
       "      <td>...</td>\n",
       "    </tr>\n",
       "    <tr>\n",
       "      <th>4065652575</th>\n",
       "      <td>83700.42</td>\n",
       "      <td>89707.413540</td>\n",
       "      <td>3369.45</td>\n",
       "      <td>606.37</td>\n",
       "      <td>3957.0</td>\n",
       "    </tr>\n",
       "    <tr>\n",
       "      <th>4163822186</th>\n",
       "      <td>94134.87</td>\n",
       "      <td>39565.364938</td>\n",
       "      <td>104.55</td>\n",
       "      <td>19.76</td>\n",
       "      <td>2442.0</td>\n",
       "    </tr>\n",
       "    <tr>\n",
       "      <th>4258502723</th>\n",
       "      <td>51624.95</td>\n",
       "      <td>49339.498221</td>\n",
       "      <td>2662.22</td>\n",
       "      <td>3667.82</td>\n",
       "      <td>1984.0</td>\n",
       "    </tr>\n",
       "    <tr>\n",
       "      <th>4274272854</th>\n",
       "      <td>42000.30</td>\n",
       "      <td>35255.421225</td>\n",
       "      <td>233.12</td>\n",
       "      <td>1369.50</td>\n",
       "      <td>1183.0</td>\n",
       "    </tr>\n",
       "    <tr>\n",
       "      <th>4281711154</th>\n",
       "      <td>275038.66</td>\n",
       "      <td>44063.958663</td>\n",
       "      <td>2054.40</td>\n",
       "      <td>122.86</td>\n",
       "      <td>1438.0</td>\n",
       "    </tr>\n",
       "  </tbody>\n",
       "</table>\n",
       "<p>99 rows × 5 columns</p>\n",
       "</div>"
      ],
      "text/plain": [
       "              balance  annualized_sal  sales_pos      pos  payment\n",
       "account                                                           \n",
       "37709441     98107.03   103584.219036     399.84   663.05   2088.0\n",
       "38923874    506145.72    87565.226052     734.41  1716.74   4671.0\n",
       "53508546     54704.11    31168.935383    1204.22   350.31   1180.0\n",
       "80388494     35050.32    41178.773749    3033.07  1356.47    852.0\n",
       "90814749     65301.33    49604.854445    1472.62  1845.16    831.0\n",
       "...               ...             ...        ...      ...      ...\n",
       "4065652575   83700.42    89707.413540    3369.45   606.37   3957.0\n",
       "4163822186   94134.87    39565.364938     104.55    19.76   2442.0\n",
       "4258502723   51624.95    49339.498221    2662.22  3667.82   1984.0\n",
       "4274272854   42000.30    35255.421225     233.12  1369.50   1183.0\n",
       "4281711154  275038.66    44063.958663    2054.40   122.86   1438.0\n",
       "\n",
       "[99 rows x 5 columns]"
      ]
     },
     "execution_count": 746,
     "metadata": {},
     "output_type": "execute_result"
    }
   ],
   "source": [
    "dfm"
   ]
  },
  {
   "cell_type": "code",
   "execution_count": 715,
   "metadata": {},
   "outputs": [
    {
     "data": {
      "text/plain": [
       "(99, 5)"
      ]
     },
     "execution_count": 715,
     "metadata": {},
     "output_type": "execute_result"
    }
   ],
   "source": [
    "dfm.shape"
   ]
  },
  {
   "cell_type": "markdown",
   "metadata": {},
   "source": [
    "### c) Merge a customer table with pay/salary table"
   ]
  },
  {
   "cell_type": "markdown",
   "metadata": {},
   "source": [
    "* Here, a customer table is extracted from the original data, dropping everything that is not fully dependent on the primary key, satisfying 3NF.\n",
    "* The reason why the cleaning is done for 3NF here is because most of the cleaning has already met 1NF and 2NF rules, even though we are not making relational tables."
   ]
  },
  {
   "cell_type": "code",
   "execution_count": 747,
   "metadata": {},
   "outputs": [
    {
     "data": {
      "text/html": [
       "<div>\n",
       "<style scoped>\n",
       "    .dataframe tbody tr th:only-of-type {\n",
       "        vertical-align: middle;\n",
       "    }\n",
       "\n",
       "    .dataframe tbody tr th {\n",
       "        vertical-align: top;\n",
       "    }\n",
       "\n",
       "    .dataframe thead th {\n",
       "        text-align: right;\n",
       "    }\n",
       "</style>\n",
       "<table border=\"1\" class=\"dataframe\">\n",
       "  <thead>\n",
       "    <tr style=\"text-align: right;\">\n",
       "      <th></th>\n",
       "      <th>card_present_flag</th>\n",
       "      <th>first_name</th>\n",
       "      <th>age</th>\n",
       "      <th>txn_description</th>\n",
       "      <th>balance</th>\n",
       "      <th>amount</th>\n",
       "      <th>X</th>\n",
       "      <th>Y</th>\n",
       "      <th>status_posted</th>\n",
       "      <th>gender_M</th>\n",
       "    </tr>\n",
       "    <tr>\n",
       "      <th>account</th>\n",
       "      <th></th>\n",
       "      <th></th>\n",
       "      <th></th>\n",
       "      <th></th>\n",
       "      <th></th>\n",
       "      <th></th>\n",
       "      <th></th>\n",
       "      <th></th>\n",
       "      <th></th>\n",
       "      <th></th>\n",
       "    </tr>\n",
       "  </thead>\n",
       "  <tbody>\n",
       "    <tr>\n",
       "      <th>1598451071</th>\n",
       "      <td>1</td>\n",
       "      <td>Diana</td>\n",
       "      <td>26</td>\n",
       "      <td>POS</td>\n",
       "      <td>35.39</td>\n",
       "      <td>16.25</td>\n",
       "      <td>-27.95</td>\n",
       "      <td>153.41</td>\n",
       "      <td>0</td>\n",
       "      <td>0</td>\n",
       "    </tr>\n",
       "    <tr>\n",
       "      <th>1598451071</th>\n",
       "      <td>0</td>\n",
       "      <td>Diana</td>\n",
       "      <td>26</td>\n",
       "      <td>SALES-POS</td>\n",
       "      <td>21.20</td>\n",
       "      <td>14.19</td>\n",
       "      <td>-27.95</td>\n",
       "      <td>153.41</td>\n",
       "      <td>0</td>\n",
       "      <td>0</td>\n",
       "    </tr>\n",
       "    <tr>\n",
       "      <th>1222300524</th>\n",
       "      <td>1</td>\n",
       "      <td>Michael</td>\n",
       "      <td>38</td>\n",
       "      <td>POS</td>\n",
       "      <td>5.71</td>\n",
       "      <td>6.42</td>\n",
       "      <td>-33.94</td>\n",
       "      <td>151.23</td>\n",
       "      <td>0</td>\n",
       "      <td>1</td>\n",
       "    </tr>\n",
       "    <tr>\n",
       "      <th>1037050564</th>\n",
       "      <td>1</td>\n",
       "      <td>Rhonda</td>\n",
       "      <td>40</td>\n",
       "      <td>SALES-POS</td>\n",
       "      <td>2117.22</td>\n",
       "      <td>40.90</td>\n",
       "      <td>-27.66</td>\n",
       "      <td>153.10</td>\n",
       "      <td>0</td>\n",
       "      <td>0</td>\n",
       "    </tr>\n",
       "    <tr>\n",
       "      <th>1598451071</th>\n",
       "      <td>1</td>\n",
       "      <td>Diana</td>\n",
       "      <td>26</td>\n",
       "      <td>SALES-POS</td>\n",
       "      <td>17.95</td>\n",
       "      <td>3.25</td>\n",
       "      <td>-27.95</td>\n",
       "      <td>153.41</td>\n",
       "      <td>0</td>\n",
       "      <td>0</td>\n",
       "    </tr>\n",
       "  </tbody>\n",
       "</table>\n",
       "</div>"
      ],
      "text/plain": [
       "            card_present_flag first_name  age txn_description  balance  \\\n",
       "account                                                                  \n",
       "1598451071                  1      Diana   26             POS    35.39   \n",
       "1598451071                  0      Diana   26       SALES-POS    21.20   \n",
       "1222300524                  1    Michael   38             POS     5.71   \n",
       "1037050564                  1     Rhonda   40       SALES-POS  2117.22   \n",
       "1598451071                  1      Diana   26       SALES-POS    17.95   \n",
       "\n",
       "            amount      X       Y  status_posted  gender_M  \n",
       "account                                                     \n",
       "1598451071   16.25 -27.95  153.41              0         0  \n",
       "1598451071   14.19 -27.95  153.41              0         0  \n",
       "1222300524    6.42 -33.94  151.23              0         1  \n",
       "1037050564   40.90 -27.66  153.10              0         0  \n",
       "1598451071    3.25 -27.95  153.41              0         0  "
      ]
     },
     "execution_count": 747,
     "metadata": {},
     "output_type": "execute_result"
    }
   ],
   "source": [
    "df.head()"
   ]
  },
  {
   "cell_type": "markdown",
   "metadata": {},
   "source": [
    "* To avoid the inclusion of duplicate values, customer table should be in 3NF"
   ]
  },
  {
   "cell_type": "code",
   "execution_count": 748,
   "metadata": {},
   "outputs": [],
   "source": [
    "df_cust = df[['age', 'X', 'Y']]"
   ]
  },
  {
   "cell_type": "markdown",
   "metadata": {},
   "source": [
    "*NOTE*: The reason why X and Y is considered to be fully dependent on the customer account number is because they represent the location of the customer"
   ]
  },
  {
   "cell_type": "code",
   "execution_count": 749,
   "metadata": {},
   "outputs": [],
   "source": [
    "df_cust = df_cust.drop_duplicates()"
   ]
  },
  {
   "cell_type": "code",
   "execution_count": 750,
   "metadata": {},
   "outputs": [
    {
     "data": {
      "text/html": [
       "<div>\n",
       "<style scoped>\n",
       "    .dataframe tbody tr th:only-of-type {\n",
       "        vertical-align: middle;\n",
       "    }\n",
       "\n",
       "    .dataframe tbody tr th {\n",
       "        vertical-align: top;\n",
       "    }\n",
       "\n",
       "    .dataframe thead th {\n",
       "        text-align: right;\n",
       "    }\n",
       "</style>\n",
       "<table border=\"1\" class=\"dataframe\">\n",
       "  <thead>\n",
       "    <tr style=\"text-align: right;\">\n",
       "      <th></th>\n",
       "      <th>age</th>\n",
       "      <th>X</th>\n",
       "      <th>Y</th>\n",
       "    </tr>\n",
       "    <tr>\n",
       "      <th>account</th>\n",
       "      <th></th>\n",
       "      <th></th>\n",
       "      <th></th>\n",
       "    </tr>\n",
       "  </thead>\n",
       "  <tbody>\n",
       "    <tr>\n",
       "      <th>37709441</th>\n",
       "      <td>18</td>\n",
       "      <td>-28.01</td>\n",
       "      <td>153.41</td>\n",
       "    </tr>\n",
       "    <tr>\n",
       "      <th>38923874</th>\n",
       "      <td>38</td>\n",
       "      <td>-33.90</td>\n",
       "      <td>151.27</td>\n",
       "    </tr>\n",
       "    <tr>\n",
       "      <th>53508546</th>\n",
       "      <td>35</td>\n",
       "      <td>-33.76</td>\n",
       "      <td>150.62</td>\n",
       "    </tr>\n",
       "    <tr>\n",
       "      <th>80388494</th>\n",
       "      <td>28</td>\n",
       "      <td>-37.42</td>\n",
       "      <td>144.97</td>\n",
       "    </tr>\n",
       "    <tr>\n",
       "      <th>90814749</th>\n",
       "      <td>35</td>\n",
       "      <td>-32.98</td>\n",
       "      <td>151.68</td>\n",
       "    </tr>\n",
       "  </tbody>\n",
       "</table>\n",
       "</div>"
      ],
      "text/plain": [
       "          age      X       Y\n",
       "account                     \n",
       "37709441   18 -28.01  153.41\n",
       "38923874   38 -33.90  151.27\n",
       "53508546   35 -33.76  150.62\n",
       "80388494   28 -37.42  144.97\n",
       "90814749   35 -32.98  151.68"
      ]
     },
     "execution_count": 750,
     "metadata": {},
     "output_type": "execute_result"
    }
   ],
   "source": [
    "df_cust.sort_index().head()"
   ]
  },
  {
   "cell_type": "code",
   "execution_count": 751,
   "metadata": {},
   "outputs": [
    {
     "data": {
      "text/html": [
       "<div>\n",
       "<style scoped>\n",
       "    .dataframe tbody tr th:only-of-type {\n",
       "        vertical-align: middle;\n",
       "    }\n",
       "\n",
       "    .dataframe tbody tr th {\n",
       "        vertical-align: top;\n",
       "    }\n",
       "\n",
       "    .dataframe thead th {\n",
       "        text-align: right;\n",
       "    }\n",
       "</style>\n",
       "<table border=\"1\" class=\"dataframe\">\n",
       "  <thead>\n",
       "    <tr style=\"text-align: right;\">\n",
       "      <th></th>\n",
       "      <th>balance</th>\n",
       "      <th>annualized_sal</th>\n",
       "      <th>sales_pos</th>\n",
       "      <th>pos</th>\n",
       "      <th>payment</th>\n",
       "    </tr>\n",
       "    <tr>\n",
       "      <th>account</th>\n",
       "      <th></th>\n",
       "      <th></th>\n",
       "      <th></th>\n",
       "      <th></th>\n",
       "      <th></th>\n",
       "    </tr>\n",
       "  </thead>\n",
       "  <tbody>\n",
       "    <tr>\n",
       "      <th>37709441</th>\n",
       "      <td>98107.03</td>\n",
       "      <td>103584.219036</td>\n",
       "      <td>399.84</td>\n",
       "      <td>663.05</td>\n",
       "      <td>2088.0</td>\n",
       "    </tr>\n",
       "    <tr>\n",
       "      <th>38923874</th>\n",
       "      <td>506145.72</td>\n",
       "      <td>87565.226052</td>\n",
       "      <td>734.41</td>\n",
       "      <td>1716.74</td>\n",
       "      <td>4671.0</td>\n",
       "    </tr>\n",
       "    <tr>\n",
       "      <th>53508546</th>\n",
       "      <td>54704.11</td>\n",
       "      <td>31168.935383</td>\n",
       "      <td>1204.22</td>\n",
       "      <td>350.31</td>\n",
       "      <td>1180.0</td>\n",
       "    </tr>\n",
       "    <tr>\n",
       "      <th>80388494</th>\n",
       "      <td>35050.32</td>\n",
       "      <td>41178.773749</td>\n",
       "      <td>3033.07</td>\n",
       "      <td>1356.47</td>\n",
       "      <td>852.0</td>\n",
       "    </tr>\n",
       "    <tr>\n",
       "      <th>90814749</th>\n",
       "      <td>65301.33</td>\n",
       "      <td>49604.854445</td>\n",
       "      <td>1472.62</td>\n",
       "      <td>1845.16</td>\n",
       "      <td>831.0</td>\n",
       "    </tr>\n",
       "  </tbody>\n",
       "</table>\n",
       "</div>"
      ],
      "text/plain": [
       "            balance  annualized_sal  sales_pos      pos  payment\n",
       "account                                                         \n",
       "37709441   98107.03   103584.219036     399.84   663.05   2088.0\n",
       "38923874  506145.72    87565.226052     734.41  1716.74   4671.0\n",
       "53508546   54704.11    31168.935383    1204.22   350.31   1180.0\n",
       "80388494   35050.32    41178.773749    3033.07  1356.47    852.0\n",
       "90814749   65301.33    49604.854445    1472.62  1845.16    831.0"
      ]
     },
     "execution_count": 751,
     "metadata": {},
     "output_type": "execute_result"
    }
   ],
   "source": [
    "dfm.sort_index().head()"
   ]
  },
  {
   "cell_type": "code",
   "execution_count": 752,
   "metadata": {},
   "outputs": [],
   "source": [
    "df_merged = df_cust.merge(dfm, how='inner', on='account').sort_index()"
   ]
  },
  {
   "cell_type": "code",
   "execution_count": 753,
   "metadata": {},
   "outputs": [
    {
     "data": {
      "text/plain": [
       "(99, 8)"
      ]
     },
     "execution_count": 753,
     "metadata": {},
     "output_type": "execute_result"
    }
   ],
   "source": [
    "df_merged.shape"
   ]
  },
  {
   "cell_type": "code",
   "execution_count": 754,
   "metadata": {},
   "outputs": [
    {
     "data": {
      "text/html": [
       "<div>\n",
       "<style scoped>\n",
       "    .dataframe tbody tr th:only-of-type {\n",
       "        vertical-align: middle;\n",
       "    }\n",
       "\n",
       "    .dataframe tbody tr th {\n",
       "        vertical-align: top;\n",
       "    }\n",
       "\n",
       "    .dataframe thead th {\n",
       "        text-align: right;\n",
       "    }\n",
       "</style>\n",
       "<table border=\"1\" class=\"dataframe\">\n",
       "  <thead>\n",
       "    <tr style=\"text-align: right;\">\n",
       "      <th></th>\n",
       "      <th>age</th>\n",
       "      <th>X</th>\n",
       "      <th>Y</th>\n",
       "      <th>balance</th>\n",
       "      <th>annualized_sal</th>\n",
       "      <th>sales_pos</th>\n",
       "      <th>pos</th>\n",
       "      <th>payment</th>\n",
       "    </tr>\n",
       "    <tr>\n",
       "      <th>account</th>\n",
       "      <th></th>\n",
       "      <th></th>\n",
       "      <th></th>\n",
       "      <th></th>\n",
       "      <th></th>\n",
       "      <th></th>\n",
       "      <th></th>\n",
       "      <th></th>\n",
       "    </tr>\n",
       "  </thead>\n",
       "  <tbody>\n",
       "    <tr>\n",
       "      <th>37709441</th>\n",
       "      <td>18</td>\n",
       "      <td>-28.01</td>\n",
       "      <td>153.41</td>\n",
       "      <td>98107.03</td>\n",
       "      <td>103584.219036</td>\n",
       "      <td>399.84</td>\n",
       "      <td>663.05</td>\n",
       "      <td>2088.0</td>\n",
       "    </tr>\n",
       "    <tr>\n",
       "      <th>38923874</th>\n",
       "      <td>38</td>\n",
       "      <td>-33.90</td>\n",
       "      <td>151.27</td>\n",
       "      <td>506145.72</td>\n",
       "      <td>87565.226052</td>\n",
       "      <td>734.41</td>\n",
       "      <td>1716.74</td>\n",
       "      <td>4671.0</td>\n",
       "    </tr>\n",
       "    <tr>\n",
       "      <th>53508546</th>\n",
       "      <td>35</td>\n",
       "      <td>-33.76</td>\n",
       "      <td>150.62</td>\n",
       "      <td>54704.11</td>\n",
       "      <td>31168.935383</td>\n",
       "      <td>1204.22</td>\n",
       "      <td>350.31</td>\n",
       "      <td>1180.0</td>\n",
       "    </tr>\n",
       "    <tr>\n",
       "      <th>80388494</th>\n",
       "      <td>28</td>\n",
       "      <td>-37.42</td>\n",
       "      <td>144.97</td>\n",
       "      <td>35050.32</td>\n",
       "      <td>41178.773749</td>\n",
       "      <td>3033.07</td>\n",
       "      <td>1356.47</td>\n",
       "      <td>852.0</td>\n",
       "    </tr>\n",
       "    <tr>\n",
       "      <th>90814749</th>\n",
       "      <td>35</td>\n",
       "      <td>-32.98</td>\n",
       "      <td>151.68</td>\n",
       "      <td>65301.33</td>\n",
       "      <td>49604.854445</td>\n",
       "      <td>1472.62</td>\n",
       "      <td>1845.16</td>\n",
       "      <td>831.0</td>\n",
       "    </tr>\n",
       "  </tbody>\n",
       "</table>\n",
       "</div>"
      ],
      "text/plain": [
       "          age      X       Y    balance  annualized_sal  sales_pos      pos  \\\n",
       "account                                                                       \n",
       "37709441   18 -28.01  153.41   98107.03   103584.219036     399.84   663.05   \n",
       "38923874   38 -33.90  151.27  506145.72    87565.226052     734.41  1716.74   \n",
       "53508546   35 -33.76  150.62   54704.11    31168.935383    1204.22   350.31   \n",
       "80388494   28 -37.42  144.97   35050.32    41178.773749    3033.07  1356.47   \n",
       "90814749   35 -32.98  151.68   65301.33    49604.854445    1472.62  1845.16   \n",
       "\n",
       "          payment  \n",
       "account            \n",
       "37709441   2088.0  \n",
       "38923874   4671.0  \n",
       "53508546   1180.0  \n",
       "80388494    852.0  \n",
       "90814749    831.0  "
      ]
     },
     "execution_count": 754,
     "metadata": {},
     "output_type": "execute_result"
    }
   ],
   "source": [
    "df_merged.head()"
   ]
  },
  {
   "cell_type": "markdown",
   "metadata": {},
   "source": [
    "## Step 2: Explore correlations between annual salary and various customer attributes"
   ]
  },
  {
   "cell_type": "code",
   "execution_count": 755,
   "metadata": {},
   "outputs": [
    {
     "data": {
      "text/plain": [
       "age               0.009027\n",
       "X                -0.086803\n",
       "Y                -0.033711\n",
       "balance           0.249791\n",
       "annualized_sal    1.000000\n",
       "sales_pos         0.112323\n",
       "pos              -0.082584\n",
       "payment           0.626551\n",
       "Name: annualized_sal, dtype: float64"
      ]
     },
     "execution_count": 755,
     "metadata": {},
     "output_type": "execute_result"
    }
   ],
   "source": [
    "df_merged.corr()['annualized_sal']"
   ]
  },
  {
   "cell_type": "code",
   "execution_count": 756,
   "metadata": {},
   "outputs": [
    {
     "data": {
      "text/plain": [
       "<seaborn.axisgrid.PairGrid at 0x21b11969ee0>"
      ]
     },
     "execution_count": 756,
     "metadata": {},
     "output_type": "execute_result"
    },
    {
     "data": {
      "image/png": "[encoded data removed]",
      "text/plain": [
       "<Figure size 1440x1440 with 72 Axes>"
      ]
     },
     "metadata": {
      "needs_background": "light"
     },
     "output_type": "display_data"
    }
   ],
   "source": [
    "sns.pairplot(df_merged)"
   ]
  },
  {
   "cell_type": "markdown",
   "metadata": {},
   "source": [
    "* Drop features that don't have a strong correlation with annualized amount"
   ]
  },
  {
   "cell_type": "markdown",
   "metadata": {},
   "source": [
    "## Step 3: Build linear regression model to predict annual salary"
   ]
  },
  {
   "cell_type": "markdown",
   "metadata": {},
   "source": [
    "### a) Feature selection"
   ]
  },
  {
   "cell_type": "code",
   "execution_count": 758,
   "metadata": {},
   "outputs": [],
   "source": [
    "features = list(set(df_merged.columns) - set(df_merged[['annualized_sal']]))"
   ]
  },
  {
   "cell_type": "code",
   "execution_count": 760,
   "metadata": {},
   "outputs": [
    {
     "data": {
      "text/html": [
       "<div>\n",
       "<style scoped>\n",
       "    .dataframe tbody tr th:only-of-type {\n",
       "        vertical-align: middle;\n",
       "    }\n",
       "\n",
       "    .dataframe tbody tr th {\n",
       "        vertical-align: top;\n",
       "    }\n",
       "\n",
       "    .dataframe thead th {\n",
       "        text-align: right;\n",
       "    }\n",
       "</style>\n",
       "<table border=\"1\" class=\"dataframe\">\n",
       "  <thead>\n",
       "    <tr style=\"text-align: right;\">\n",
       "      <th></th>\n",
       "      <th>sales_pos</th>\n",
       "      <th>payment</th>\n",
       "      <th>balance</th>\n",
       "      <th>X</th>\n",
       "      <th>pos</th>\n",
       "      <th>age</th>\n",
       "      <th>Y</th>\n",
       "    </tr>\n",
       "    <tr>\n",
       "      <th>account</th>\n",
       "      <th></th>\n",
       "      <th></th>\n",
       "      <th></th>\n",
       "      <th></th>\n",
       "      <th></th>\n",
       "      <th></th>\n",
       "      <th></th>\n",
       "    </tr>\n",
       "  </thead>\n",
       "  <tbody>\n",
       "    <tr>\n",
       "      <th>37709441</th>\n",
       "      <td>399.84</td>\n",
       "      <td>2088.0</td>\n",
       "      <td>98107.03</td>\n",
       "      <td>-28.01</td>\n",
       "      <td>663.05</td>\n",
       "      <td>18</td>\n",
       "      <td>153.41</td>\n",
       "    </tr>\n",
       "    <tr>\n",
       "      <th>38923874</th>\n",
       "      <td>734.41</td>\n",
       "      <td>4671.0</td>\n",
       "      <td>506145.72</td>\n",
       "      <td>-33.90</td>\n",
       "      <td>1716.74</td>\n",
       "      <td>38</td>\n",
       "      <td>151.27</td>\n",
       "    </tr>\n",
       "    <tr>\n",
       "      <th>53508546</th>\n",
       "      <td>1204.22</td>\n",
       "      <td>1180.0</td>\n",
       "      <td>54704.11</td>\n",
       "      <td>-33.76</td>\n",
       "      <td>350.31</td>\n",
       "      <td>35</td>\n",
       "      <td>150.62</td>\n",
       "    </tr>\n",
       "    <tr>\n",
       "      <th>80388494</th>\n",
       "      <td>3033.07</td>\n",
       "      <td>852.0</td>\n",
       "      <td>35050.32</td>\n",
       "      <td>-37.42</td>\n",
       "      <td>1356.47</td>\n",
       "      <td>28</td>\n",
       "      <td>144.97</td>\n",
       "    </tr>\n",
       "    <tr>\n",
       "      <th>90814749</th>\n",
       "      <td>1472.62</td>\n",
       "      <td>831.0</td>\n",
       "      <td>65301.33</td>\n",
       "      <td>-32.98</td>\n",
       "      <td>1845.16</td>\n",
       "      <td>35</td>\n",
       "      <td>151.68</td>\n",
       "    </tr>\n",
       "  </tbody>\n",
       "</table>\n",
       "</div>"
      ],
      "text/plain": [
       "          sales_pos  payment    balance      X      pos  age       Y\n",
       "account                                                             \n",
       "37709441     399.84   2088.0   98107.03 -28.01   663.05   18  153.41\n",
       "38923874     734.41   4671.0  506145.72 -33.90  1716.74   38  151.27\n",
       "53508546    1204.22   1180.0   54704.11 -33.76   350.31   35  150.62\n",
       "80388494    3033.07    852.0   35050.32 -37.42  1356.47   28  144.97\n",
       "90814749    1472.62    831.0   65301.33 -32.98  1845.16   35  151.68"
      ]
     },
     "execution_count": 760,
     "metadata": {},
     "output_type": "execute_result"
    }
   ],
   "source": [
    "X = df_merged[features]\n",
    "y = df_merged['annualized_sal']\n",
    "X.head()"
   ]
  },
  {
   "cell_type": "code",
   "execution_count": 761,
   "metadata": {},
   "outputs": [],
   "source": [
    "# Normalize X using a StandardScalar\n",
    "scaler = StandardScaler()\n",
    "X_scaled = scaler.fit_transform(X)"
   ]
  },
  {
   "cell_type": "code",
   "execution_count": 762,
   "metadata": {},
   "outputs": [
    {
     "data": {
      "text/html": [
       "<div>\n",
       "<style scoped>\n",
       "    .dataframe tbody tr th:only-of-type {\n",
       "        vertical-align: middle;\n",
       "    }\n",
       "\n",
       "    .dataframe tbody tr th {\n",
       "        vertical-align: top;\n",
       "    }\n",
       "\n",
       "    .dataframe thead th {\n",
       "        text-align: right;\n",
       "    }\n",
       "</style>\n",
       "<table border=\"1\" class=\"dataframe\">\n",
       "  <thead>\n",
       "    <tr style=\"text-align: right;\">\n",
       "      <th></th>\n",
       "      <th>sales_pos</th>\n",
       "      <th>payment</th>\n",
       "      <th>balance</th>\n",
       "      <th>X</th>\n",
       "      <th>pos</th>\n",
       "      <th>age</th>\n",
       "      <th>Y</th>\n",
       "    </tr>\n",
       "  </thead>\n",
       "  <tbody>\n",
       "    <tr>\n",
       "      <th>0</th>\n",
       "      <td>-1.022947</td>\n",
       "      <td>0.054719</td>\n",
       "      <td>-0.175010</td>\n",
       "      <td>0.196154</td>\n",
       "      <td>-0.667597</td>\n",
       "      <td>-1.260038</td>\n",
       "      <td>0.608855</td>\n",
       "    </tr>\n",
       "    <tr>\n",
       "      <th>1</th>\n",
       "      <td>-0.734391</td>\n",
       "      <td>2.445365</td>\n",
       "      <td>1.604700</td>\n",
       "      <td>0.087629</td>\n",
       "      <td>0.131509</td>\n",
       "      <td>0.634325</td>\n",
       "      <td>0.476704</td>\n",
       "    </tr>\n",
       "    <tr>\n",
       "      <th>2</th>\n",
       "      <td>-0.329195</td>\n",
       "      <td>-0.785664</td>\n",
       "      <td>-0.364317</td>\n",
       "      <td>0.090208</td>\n",
       "      <td>-0.904775</td>\n",
       "      <td>0.350170</td>\n",
       "      <td>0.436565</td>\n",
       "    </tr>\n",
       "    <tr>\n",
       "      <th>3</th>\n",
       "      <td>1.248128</td>\n",
       "      <td>-1.089238</td>\n",
       "      <td>-0.450039</td>\n",
       "      <td>0.022771</td>\n",
       "      <td>-0.141715</td>\n",
       "      <td>-0.312857</td>\n",
       "      <td>0.087664</td>\n",
       "    </tr>\n",
       "    <tr>\n",
       "      <th>4</th>\n",
       "      <td>-0.097709</td>\n",
       "      <td>-1.108674</td>\n",
       "      <td>-0.318096</td>\n",
       "      <td>0.104580</td>\n",
       "      <td>0.228901</td>\n",
       "      <td>0.350170</td>\n",
       "      <td>0.502023</td>\n",
       "    </tr>\n",
       "    <tr>\n",
       "      <th>...</th>\n",
       "      <td>...</td>\n",
       "      <td>...</td>\n",
       "      <td>...</td>\n",
       "      <td>...</td>\n",
       "      <td>...</td>\n",
       "      <td>...</td>\n",
       "      <td>...</td>\n",
       "    </tr>\n",
       "    <tr>\n",
       "      <th>94</th>\n",
       "      <td>1.538244</td>\n",
       "      <td>1.784536</td>\n",
       "      <td>-0.237846</td>\n",
       "      <td>0.125954</td>\n",
       "      <td>-0.710582</td>\n",
       "      <td>-0.975884</td>\n",
       "      <td>-1.713039</td>\n",
       "    </tr>\n",
       "    <tr>\n",
       "      <th>95</th>\n",
       "      <td>-1.277624</td>\n",
       "      <td>0.382357</td>\n",
       "      <td>-0.192335</td>\n",
       "      <td>0.067913</td>\n",
       "      <td>-1.155460</td>\n",
       "      <td>-0.502293</td>\n",
       "      <td>0.338379</td>\n",
       "    </tr>\n",
       "    <tr>\n",
       "      <th>96</th>\n",
       "      <td>0.928282</td>\n",
       "      <td>-0.041537</td>\n",
       "      <td>-0.377747</td>\n",
       "      <td>0.016875</td>\n",
       "      <td>1.611185</td>\n",
       "      <td>-0.691730</td>\n",
       "      <td>0.117305</td>\n",
       "    </tr>\n",
       "    <tr>\n",
       "      <th>97</th>\n",
       "      <td>-1.166737</td>\n",
       "      <td>-0.782887</td>\n",
       "      <td>-0.419726</td>\n",
       "      <td>0.014664</td>\n",
       "      <td>-0.131833</td>\n",
       "      <td>-1.070602</td>\n",
       "      <td>0.103719</td>\n",
       "    </tr>\n",
       "    <tr>\n",
       "      <th>98</th>\n",
       "      <td>0.404057</td>\n",
       "      <td>-0.546877</td>\n",
       "      <td>0.596699</td>\n",
       "      <td>0.015033</td>\n",
       "      <td>-1.077270</td>\n",
       "      <td>1.013197</td>\n",
       "      <td>0.088281</td>\n",
       "    </tr>\n",
       "  </tbody>\n",
       "</table>\n",
       "<p>99 rows × 7 columns</p>\n",
       "</div>"
      ],
      "text/plain": [
       "    sales_pos   payment   balance         X       pos       age         Y\n",
       "0   -1.022947  0.054719 -0.175010  0.196154 -0.667597 -1.260038  0.608855\n",
       "1   -0.734391  2.445365  1.604700  0.087629  0.131509  0.634325  0.476704\n",
       "2   -0.329195 -0.785664 -0.364317  0.090208 -0.904775  0.350170  0.436565\n",
       "3    1.248128 -1.089238 -0.450039  0.022771 -0.141715 -0.312857  0.087664\n",
       "4   -0.097709 -1.108674 -0.318096  0.104580  0.228901  0.350170  0.502023\n",
       "..        ...       ...       ...       ...       ...       ...       ...\n",
       "94   1.538244  1.784536 -0.237846  0.125954 -0.710582 -0.975884 -1.713039\n",
       "95  -1.277624  0.382357 -0.192335  0.067913 -1.155460 -0.502293  0.338379\n",
       "96   0.928282 -0.041537 -0.377747  0.016875  1.611185 -0.691730  0.117305\n",
       "97  -1.166737 -0.782887 -0.419726  0.014664 -0.131833 -1.070602  0.103719\n",
       "98   0.404057 -0.546877  0.596699  0.015033 -1.077270  1.013197  0.088281\n",
       "\n",
       "[99 rows x 7 columns]"
      ]
     },
     "execution_count": 762,
     "metadata": {},
     "output_type": "execute_result"
    }
   ],
   "source": [
    "X = pd.DataFrame(X_scaled, columns=X.columns)\n",
    "X"
   ]
  },
  {
   "cell_type": "code",
   "execution_count": 763,
   "metadata": {},
   "outputs": [],
   "source": [
    "X_train, X_test, y_train, y_test = train_test_split(X, y, test_size = 0.2)"
   ]
  },
  {
   "cell_type": "code",
   "execution_count": 764,
   "metadata": {},
   "outputs": [],
   "source": [
    "## Flag intermediate output\n",
    "\n",
    "show_steps = True   # for testing/debugging\n",
    "# show_steps = False  # without showing steps"
   ]
  },
  {
   "cell_type": "code",
   "execution_count": 765,
   "metadata": {},
   "outputs": [
    {
     "name": "stdout",
     "output_type": "stream",
     "text": [
      "n is: 20\n",
      "\n",
      "(Step) Excluded = X, payment, sales_pos, pos, age, balance, Y\n",
      "(Step) Trying X...\n",
      "(Step) - Features = X\n",
      "Model fitted: LinearRegression()\n",
      "Score of model: 0.012764681137065748\n",
      "Number of predictors: 1\n",
      "Adjusted R^2: -0.04208172546643052\n",
      "(Step) - Adjusted R^2: This = -0.042; Best = 0.000\n",
      "(Step) Trying payment...\n",
      "(Step) - Features = payment\n",
      "Model fitted: LinearRegression()\n",
      "Score of model: 0.3030924365578993\n",
      "Number of predictors: 1\n",
      "Adjusted R^2: 0.26437534970000476\n",
      "(Step) - Adjusted R^2: This = 0.264; Best = 0.000\n",
      "Found a better model than previous regressor...\n",
      "(Step) - New Best!   : Feature = payment; R^2 = 0.303; Adjusted R^2 = 0.264\n",
      "(Step) Trying sales_pos...\n",
      "(Step) - Features = sales_pos\n",
      "Model fitted: LinearRegression()\n",
      "Score of model: 0.0005323544447012329\n",
      "Number of predictors: 1\n",
      "Adjusted R^2: -0.05499362586392653\n",
      "(Step) - Adjusted R^2: This = -0.055; Best = 0.264\n",
      "(Step) Trying pos...\n",
      "(Step) - Features = pos\n",
      "Model fitted: LinearRegression()\n",
      "Score of model: 6.593692845757726e-05\n",
      "Number of predictors: 1\n",
      "Adjusted R^2: -0.055485955464406045\n",
      "(Step) - Adjusted R^2: This = -0.055; Best = 0.264\n",
      "(Step) Trying age...\n",
      "(Step) - Features = age\n",
      "Model fitted: LinearRegression()\n",
      "Score of model: 0.0008452165912729015\n",
      "Number of predictors: 1\n",
      "Adjusted R^2: -0.054663382486989764\n",
      "(Step) - Adjusted R^2: This = -0.055; Best = 0.264\n",
      "(Step) Trying balance...\n",
      "(Step) - Features = balance\n",
      "Model fitted: LinearRegression()\n",
      "Score of model: 0.06799100810332814\n",
      "Number of predictors: 1\n",
      "Adjusted R^2: 0.016212730775735262\n",
      "(Step) - Adjusted R^2: This = 0.016; Best = 0.264\n",
      "(Step) Trying Y...\n",
      "(Step) - Features = Y\n",
      "Model fitted: LinearRegression()\n",
      "Score of model: 0.0006359335004249012\n",
      "Number of predictors: 1\n",
      "Adjusted R^2: -0.05488429241621806\n",
      "(Step) - Adjusted R^2: This = -0.055; Best = 0.264\n",
      "Added feature payment with R^2 = 0.303 and adjusted R^2 = 0.264\n",
      "\n",
      "(Step) Excluded = sales_pos, age, balance, X, pos, Y\n",
      "(Step) Trying sales_pos...\n",
      "(Step) - Features = payment, sales_pos\n",
      "Model fitted: LinearRegression()\n",
      "Score of model: 0.3052230081600964\n",
      "Number of predictors: 2\n",
      "Adjusted R^2: 0.22348453853187245\n",
      "(Step) - Adjusted R^2: This = 0.223; Best = 0.264\n",
      "(Step) Trying age...\n",
      "(Step) - Features = payment, age\n",
      "Model fitted: LinearRegression()\n",
      "Score of model: 0.3064173204922972\n",
      "Number of predictors: 2\n",
      "Adjusted R^2: 0.2248193581972734\n",
      "(Step) - Adjusted R^2: This = 0.225; Best = 0.264\n",
      "(Step) Trying balance...\n",
      "(Step) - Features = payment, balance\n",
      "Model fitted: LinearRegression()\n",
      "Score of model: 0.33242334260241035\n",
      "Number of predictors: 2\n",
      "Adjusted R^2: 0.25388491232034094\n",
      "(Step) - Adjusted R^2: This = 0.254; Best = 0.264\n",
      "(Step) Trying X...\n",
      "(Step) - Features = payment, X\n",
      "Model fitted: LinearRegression()\n",
      "Score of model: 0.31473275987339433\n",
      "Number of predictors: 2\n",
      "Adjusted R^2: 0.23411308456438196\n",
      "(Step) - Adjusted R^2: This = 0.234; Best = 0.264\n",
      "(Step) Trying pos...\n",
      "(Step) - Features = payment, pos\n",
      "Model fitted: LinearRegression()\n",
      "Score of model: 0.30580720763226055\n",
      "Number of predictors: 2\n",
      "Adjusted R^2: 0.224137467353703\n",
      "(Step) - Adjusted R^2: This = 0.224; Best = 0.264\n",
      "(Step) Trying Y...\n",
      "(Step) - Features = payment, Y\n",
      "Model fitted: LinearRegression()\n",
      "Score of model: 0.30315720922475387\n",
      "Number of predictors: 2\n",
      "Adjusted R^2: 0.2211757044276661\n",
      "(Step) - Adjusted R^2: This = 0.221; Best = 0.264\n",
      "\n",
      "Resulting features:\n",
      "payment\n"
     ]
    }
   ],
   "source": [
    "## Use Forward Feature Selection to pick a good model\n",
    "\n",
    "# start with no predictors\n",
    "included = []\n",
    "# keep track of model and parameters\n",
    "best = {'feature': '', 'r2': 0, 'a_r2': 0}\n",
    "# create a model object to hold the modelling parameters\n",
    "model = LinearRegression() # create a model for Linear Regression\n",
    "# get the number of cases in the test data\n",
    "n = X_test.shape[0]\n",
    "if show_steps:\n",
    "        print('n is:', n)  \n",
    "\n",
    "while True:\n",
    "    changed = False\n",
    "    \n",
    "    if show_steps:\n",
    "        print('') \n",
    "\n",
    "    # list the features to be evaluated\n",
    "    excluded = list(set(X.columns) - set(included))\n",
    "    \n",
    "    if show_steps:\n",
    "        print('(Step) Excluded = %s' % ', '.join(excluded))  \n",
    "\n",
    "    # for each remaining feature to be evaluated\n",
    "    for new_column in excluded:\n",
    "        \n",
    "        if show_steps:\n",
    "            print('(Step) Trying %s...' % new_column)\n",
    "            print('(Step) - Features = %s' % ', '.join(included + [new_column]))\n",
    "\n",
    "        # fit the model with the Training data\n",
    "        fit = model.fit(X_train[included + [new_column]], y_train) # fit a model; consider which predictors should be included\n",
    "        # calculate the score (R^2 for Regression)\n",
    "        if show_steps:\n",
    "            print('Model fitted:', fit)\n",
    "        r2 = fit.score(X_train[included + [new_column]], y_train) # calculate the score\n",
    "        if show_steps:\n",
    "            print('Score of model:', r2)\n",
    "        # number of predictors in this model\n",
    "        k = len(included) + 1\n",
    "        if show_steps:\n",
    "            print('Number of predictors:', k)\n",
    "        # calculate the adjusted R^2\n",
    "        adjusted_r2 = 1 - (1-r2)*(n-1)/(n-k-1) # calculate the Adjusted R^2\n",
    "        if show_steps:\n",
    "            print('Adjusted R^2:', adjusted_r2)\n",
    "        if show_steps:\n",
    "            print('(Step) - Adjusted R^2: This = %.3f; Best = %.3f' % \n",
    "                  (adjusted_r2, best['a_r2']))\n",
    "\n",
    "        # if model improves\n",
    "        if adjusted_r2 > best['a_r2']:\n",
    "            # record new parameters\n",
    "            best = {'feature': new_column, 'r2': r2, 'a_r2': adjusted_r2}\n",
    "            # flag that found a better model\n",
    "            if show_steps:\n",
    "                print('Found a better model than previous regressor...')\n",
    "            changed = True\n",
    "            if show_steps:\n",
    "                print('(Step) - New Best!   : Feature = %s; R^2 = %.3f; Adjusted R^2 = %.3f' % \n",
    "                      (best['feature'], best['r2'], best['a_r2']))\n",
    "    # END for\n",
    "\n",
    "    # if found a better model after testing all remaining features\n",
    "    if changed:\n",
    "        # update control details\n",
    "        included.append(best['feature'])\n",
    "        excluded = list(set(excluded) - set(best['feature']))\n",
    "        print('Added feature %-4s with R^2 = %.3f and adjusted R^2 = %.3f' % \n",
    "              (best['feature'], best['r2'], best['a_r2']))\n",
    "    else:\n",
    "        # terminate if no better model\n",
    "        break\n",
    "\n",
    "print('')\n",
    "print('Resulting features:')\n",
    "print(', '.join(included))"
   ]
  },
  {
   "cell_type": "code",
   "execution_count": null,
   "metadata": {},
   "outputs": [],
   "source": []
  }
 ],
 "metadata": {
  "kernelspec": {
   "display_name": "Python 3",
   "language": "python",
   "name": "python3"
  },
  "language_info": {
   "codemirror_mode": {
    "name": "ipython",
    "version": 3
   },
   "file_extension": ".py",
   "mimetype": "text/x-python",
   "name": "python",
   "nbconvert_exporter": "python",
   "pygments_lexer": "ipython3",
   "version": "3.8.5"
  }
 },
 "nbformat": 4,
 "nbformat_minor": 4
}
