{
 "cells": [
  {
   "cell_type": "markdown",
   "metadata": {},
   "source": [
    "# Predictive Analysis: ANZ Synthesized 3-month Transactional Dataset"
   ]
  },
  {
   "cell_type": "code",
   "execution_count": 1085,
   "metadata": {},
   "outputs": [],
   "source": [
    "import pandas as pd\n",
    "import reverse_geocoder as rg\n",
    "import numpy as np\n",
    "import matplotlib.pyplot as plt\n",
    "import seaborn as sns\n",
    "from sklearn.preprocessing import StandardScaler\n",
    "from sklearn.model_selection import train_test_split\n",
    "from sklearn.linear_model import LinearRegression\n",
    "from sklearn.linear_model import LogisticRegression\n",
    "from sklearn.decomposition import PCA\n",
    "\n",
    "from sklearn.model_selection import GridSearchCV\n",
    "import sklearn.metrics as metrics\n",
    "from sklearn.metrics import roc_curve, auc\n",
    "from sklearn import svm, naive_bayes\n",
    "from sklearn.datasets import make_blobs\n",
    "from sklearn.model_selection import learning_curve\n",
    "\n",
    "%matplotlib inline"
   ]
  },
  {
   "cell_type": "markdown",
   "metadata": {},
   "source": [
    "## Background\n",
    "\n",
    "Source: https://www.theforage.com/modules/ZLJCsrpkHo9pZBJNY/BiJPfqmGY2QwgN6gA\n",
    "\n",
    "This task is based on a synthesised transaction dataset containing 3 months’ worth of transactions for 100 hypothetical customers. It contains purchases, recurring transactions, and salary transactions. The dataset is designed to simulate realistic transaction behaviours that are observed in ANZ’s real transaction data, so many of the insights gathered from the activities will be genuine."
   ]
  },
  {
   "cell_type": "markdown",
   "metadata": {},
   "source": [
    "## Step 0: Load the dataset and perform EDA"
   ]
  },
  {
   "cell_type": "markdown",
   "metadata": {},
   "source": [
    "### Overview\n",
    "The aim of this dataset is to try to understand the features of purchasing behaviour of customers (independent variables) for modelling expected values for annualized salary (dependent variable)"
   ]
  },
  {
   "cell_type": "code",
   "execution_count": 1220,
   "metadata": {},
   "outputs": [],
   "source": [
    "# referencing the cleaned dataset\n",
    "file = 'DATA/ANZ-synthesized-transactions-cleaned.csv'\n",
    "# Read file and parse timestamp as the index\n",
    "df = pd.read_csv(file)"
   ]
  },
  {
   "cell_type": "code",
   "execution_count": 1221,
   "metadata": {},
   "outputs": [
    {
     "name": "stdout",
     "output_type": "stream",
     "text": [
      "<class 'pandas.core.frame.DataFrame'>\n",
      "RangeIndex: 12043 entries, 0 to 12042\n",
      "Data columns (total 21 columns):\n",
      " #   Column             Non-Null Count  Dtype  \n",
      "---  ------             --------------  -----  \n",
      " 0   timestamp          12043 non-null  object \n",
      " 1   status             12043 non-null  object \n",
      " 2   card_present_flag  6194 non-null   float64\n",
      " 3   account            12043 non-null  int64  \n",
      " 4   first_name         12043 non-null  object \n",
      " 5   age                12043 non-null  int64  \n",
      " 6   gender             12043 non-null  object \n",
      " 7   txn_description    12043 non-null  object \n",
      " 8   balance            12043 non-null  float64\n",
      " 9   amount             12043 non-null  float64\n",
      " 10  geometry           12043 non-null  object \n",
      " 11  X                  12043 non-null  float64\n",
      " 12  Y                  12043 non-null  float64\n",
      " 13  merch_suburb       7717 non-null   object \n",
      " 14  merch_state        7717 non-null   object \n",
      " 15  merch_geometry     7717 non-null   object \n",
      " 16  merch_X            7717 non-null   float64\n",
      " 17  merch_Y            7717 non-null   float64\n",
      " 18  distance           7709 non-null   float64\n",
      " 19  country            12043 non-null  object \n",
      " 20  card_present_bool  12043 non-null  bool   \n",
      "dtypes: bool(1), float64(8), int64(2), object(10)\n",
      "memory usage: 1.8+ MB\n"
     ]
    }
   ],
   "source": [
    "df.info()"
   ]
  },
  {
   "cell_type": "code",
   "execution_count": 1222,
   "metadata": {},
   "outputs": [
    {
     "data": {
      "text/plain": [
       "timestamp               0\n",
       "status                  0\n",
       "card_present_flag    5849\n",
       "account                 0\n",
       "first_name              0\n",
       "age                     0\n",
       "gender                  0\n",
       "txn_description         0\n",
       "balance                 0\n",
       "amount                  0\n",
       "geometry                0\n",
       "X                       0\n",
       "Y                       0\n",
       "merch_suburb         4326\n",
       "merch_state          4326\n",
       "merch_geometry       4326\n",
       "merch_X              4326\n",
       "merch_Y              4326\n",
       "distance             4334\n",
       "country                 0\n",
       "card_present_bool       0\n",
       "dtype: int64"
      ]
     },
     "execution_count": 1222,
     "metadata": {},
     "output_type": "execute_result"
    }
   ],
   "source": [
    "df.isnull().sum()"
   ]
  },
  {
   "cell_type": "code",
   "execution_count": 1223,
   "metadata": {},
   "outputs": [
    {
     "data": {
      "text/plain": [
       "timestamp             9231\n",
       "status                   2\n",
       "card_present_flag        1\n",
       "account                100\n",
       "first_name              80\n",
       "age                     33\n",
       "gender                   2\n",
       "txn_description          6\n",
       "balance              11920\n",
       "amount                3980\n",
       "geometry               100\n",
       "X                       85\n",
       "Y                       87\n",
       "merch_suburb          1609\n",
       "merch_state              8\n",
       "merch_geometry        2674\n",
       "merch_X                647\n",
       "merch_Y                690\n",
       "distance              3967\n",
       "country                  1\n",
       "card_present_bool        2\n",
       "dtype: int64"
      ]
     },
     "execution_count": 1223,
     "metadata": {},
     "output_type": "execute_result"
    }
   ],
   "source": [
    "# Check the distinct values for each column\n",
    "df.nunique()"
   ]
  },
  {
   "cell_type": "code",
   "execution_count": 1224,
   "metadata": {},
   "outputs": [
    {
     "data": {
      "text/html": [
       "<div>\n",
       "<style scoped>\n",
       "    .dataframe tbody tr th:only-of-type {\n",
       "        vertical-align: middle;\n",
       "    }\n",
       "\n",
       "    .dataframe tbody tr th {\n",
       "        vertical-align: top;\n",
       "    }\n",
       "\n",
       "    .dataframe thead th {\n",
       "        text-align: right;\n",
       "    }\n",
       "</style>\n",
       "<table border=\"1\" class=\"dataframe\">\n",
       "  <thead>\n",
       "    <tr style=\"text-align: right;\">\n",
       "      <th></th>\n",
       "      <th>timestamp</th>\n",
       "      <th>status</th>\n",
       "      <th>card_present_flag</th>\n",
       "      <th>account</th>\n",
       "      <th>first_name</th>\n",
       "      <th>age</th>\n",
       "      <th>gender</th>\n",
       "      <th>txn_description</th>\n",
       "      <th>balance</th>\n",
       "      <th>amount</th>\n",
       "      <th>...</th>\n",
       "      <th>X</th>\n",
       "      <th>Y</th>\n",
       "      <th>merch_suburb</th>\n",
       "      <th>merch_state</th>\n",
       "      <th>merch_geometry</th>\n",
       "      <th>merch_X</th>\n",
       "      <th>merch_Y</th>\n",
       "      <th>distance</th>\n",
       "      <th>country</th>\n",
       "      <th>card_present_bool</th>\n",
       "    </tr>\n",
       "  </thead>\n",
       "  <tbody>\n",
       "    <tr>\n",
       "      <th>0</th>\n",
       "      <td>218-8-1 1:1:15+:</td>\n",
       "      <td>authorized</td>\n",
       "      <td>1.0</td>\n",
       "      <td>159845171</td>\n",
       "      <td>Diana</td>\n",
       "      <td>26</td>\n",
       "      <td>F</td>\n",
       "      <td>POS</td>\n",
       "      <td>35.39</td>\n",
       "      <td>16.25</td>\n",
       "      <td>...</td>\n",
       "      <td>-27.95</td>\n",
       "      <td>153.41</td>\n",
       "      <td>Ashmore</td>\n",
       "      <td>QLD</td>\n",
       "      <td>153.38 -27.99</td>\n",
       "      <td>-27.99</td>\n",
       "      <td>153.38</td>\n",
       "      <td>5.34</td>\n",
       "      <td>Australia</td>\n",
       "      <td>True</td>\n",
       "    </tr>\n",
       "    <tr>\n",
       "      <th>1</th>\n",
       "      <td>218-8-1 1:13:45+:</td>\n",
       "      <td>authorized</td>\n",
       "      <td>NaN</td>\n",
       "      <td>159845171</td>\n",
       "      <td>Diana</td>\n",
       "      <td>26</td>\n",
       "      <td>F</td>\n",
       "      <td>SALES-POS</td>\n",
       "      <td>21.20</td>\n",
       "      <td>14.19</td>\n",
       "      <td>...</td>\n",
       "      <td>-27.95</td>\n",
       "      <td>153.41</td>\n",
       "      <td>Sydney</td>\n",
       "      <td>NSW</td>\n",
       "      <td>151.21 -33.87</td>\n",
       "      <td>-33.87</td>\n",
       "      <td>151.21</td>\n",
       "      <td>691.63</td>\n",
       "      <td>Australia</td>\n",
       "      <td>False</td>\n",
       "    </tr>\n",
       "    <tr>\n",
       "      <th>2</th>\n",
       "      <td>218-8-1 1:26:15+:</td>\n",
       "      <td>authorized</td>\n",
       "      <td>1.0</td>\n",
       "      <td>12223524</td>\n",
       "      <td>Michael</td>\n",
       "      <td>38</td>\n",
       "      <td>M</td>\n",
       "      <td>POS</td>\n",
       "      <td>5.71</td>\n",
       "      <td>6.42</td>\n",
       "      <td>...</td>\n",
       "      <td>-33.94</td>\n",
       "      <td>151.23</td>\n",
       "      <td>Sydney</td>\n",
       "      <td>NSW</td>\n",
       "      <td>151.21 -33.87</td>\n",
       "      <td>-33.87</td>\n",
       "      <td>151.21</td>\n",
       "      <td>8.10</td>\n",
       "      <td>Australia</td>\n",
       "      <td>True</td>\n",
       "    </tr>\n",
       "    <tr>\n",
       "      <th>3</th>\n",
       "      <td>218-8-1 1:38:45+:</td>\n",
       "      <td>authorized</td>\n",
       "      <td>1.0</td>\n",
       "      <td>1375564</td>\n",
       "      <td>Rhonda</td>\n",
       "      <td>4</td>\n",
       "      <td>F</td>\n",
       "      <td>SALES-POS</td>\n",
       "      <td>2117.22</td>\n",
       "      <td>4.90</td>\n",
       "      <td>...</td>\n",
       "      <td>-27.66</td>\n",
       "      <td>153.10</td>\n",
       "      <td>Buderim</td>\n",
       "      <td>QLD</td>\n",
       "      <td>153.5 -26.68</td>\n",
       "      <td>-26.68</td>\n",
       "      <td>153.50</td>\n",
       "      <td>19.20</td>\n",
       "      <td>Australia</td>\n",
       "      <td>True</td>\n",
       "    </tr>\n",
       "    <tr>\n",
       "      <th>4</th>\n",
       "      <td>218-8-1 1:51:15+:</td>\n",
       "      <td>authorized</td>\n",
       "      <td>1.0</td>\n",
       "      <td>159845171</td>\n",
       "      <td>Diana</td>\n",
       "      <td>26</td>\n",
       "      <td>F</td>\n",
       "      <td>SALES-POS</td>\n",
       "      <td>17.95</td>\n",
       "      <td>3.25</td>\n",
       "      <td>...</td>\n",
       "      <td>-27.95</td>\n",
       "      <td>153.41</td>\n",
       "      <td>Mermaid Beach</td>\n",
       "      <td>QLD</td>\n",
       "      <td>153.44 -28.6</td>\n",
       "      <td>-28.60</td>\n",
       "      <td>153.44</td>\n",
       "      <td>12.60</td>\n",
       "      <td>Australia</td>\n",
       "      <td>True</td>\n",
       "    </tr>\n",
       "  </tbody>\n",
       "</table>\n",
       "<p>5 rows × 21 columns</p>\n",
       "</div>"
      ],
      "text/plain": [
       "           timestamp      status  card_present_flag    account first_name  \\\n",
       "0   218-8-1 1:1:15+:  authorized                1.0  159845171      Diana   \n",
       "1  218-8-1 1:13:45+:  authorized                NaN  159845171      Diana   \n",
       "2  218-8-1 1:26:15+:  authorized                1.0   12223524    Michael   \n",
       "3  218-8-1 1:38:45+:  authorized                1.0    1375564     Rhonda   \n",
       "4  218-8-1 1:51:15+:  authorized                1.0  159845171      Diana   \n",
       "\n",
       "   age gender txn_description  balance  amount  ...      X       Y  \\\n",
       "0   26      F             POS    35.39   16.25  ... -27.95  153.41   \n",
       "1   26      F       SALES-POS    21.20   14.19  ... -27.95  153.41   \n",
       "2   38      M             POS     5.71    6.42  ... -33.94  151.23   \n",
       "3    4      F       SALES-POS  2117.22    4.90  ... -27.66  153.10   \n",
       "4   26      F       SALES-POS    17.95    3.25  ... -27.95  153.41   \n",
       "\n",
       "    merch_suburb merch_state merch_geometry merch_X  merch_Y  distance  \\\n",
       "0        Ashmore         QLD  153.38 -27.99  -27.99   153.38      5.34   \n",
       "1         Sydney         NSW  151.21 -33.87  -33.87   151.21    691.63   \n",
       "2         Sydney         NSW  151.21 -33.87  -33.87   151.21      8.10   \n",
       "3        Buderim         QLD   153.5 -26.68  -26.68   153.50     19.20   \n",
       "4  Mermaid Beach         QLD   153.44 -28.6  -28.60   153.44     12.60   \n",
       "\n",
       "     country card_present_bool  \n",
       "0  Australia              True  \n",
       "1  Australia             False  \n",
       "2  Australia              True  \n",
       "3  Australia              True  \n",
       "4  Australia              True  \n",
       "\n",
       "[5 rows x 21 columns]"
      ]
     },
     "execution_count": 1224,
     "metadata": {},
     "output_type": "execute_result"
    }
   ],
   "source": [
    "df.head()"
   ]
  },
  {
   "cell_type": "code",
   "execution_count": 1225,
   "metadata": {},
   "outputs": [
    {
     "data": {
      "text/plain": [
       "SALES-POS     3934\n",
       "POS           3783\n",
       "PAYMENT       2600\n",
       "PAY/SALARY     883\n",
       "INTER BANK     742\n",
       "PHONE BANK     101\n",
       "Name: txn_description, dtype: int64"
      ]
     },
     "execution_count": 1225,
     "metadata": {},
     "output_type": "execute_result"
    }
   ],
   "source": [
    "df.txn_description.value_counts()"
   ]
  },
  {
   "cell_type": "code",
   "execution_count": 1226,
   "metadata": {},
   "outputs": [
    {
     "data": {
      "text/plain": [
       "NSW    2169\n",
       "VIC    2131\n",
       "QLD    1556\n",
       "WA     1100\n",
       "SA      415\n",
       "NT      205\n",
       "ACT      73\n",
       "TAS      68\n",
       "Name: merch_state, dtype: int64"
      ]
     },
     "execution_count": 1226,
     "metadata": {},
     "output_type": "execute_result"
    }
   ],
   "source": [
    "df.merch_state.value_counts()"
   ]
  },
  {
   "cell_type": "code",
   "execution_count": 1227,
   "metadata": {},
   "outputs": [],
   "source": [
    "df_state_cat = df.groupby(['account', 'merch_state']).size().unstack(fill_value=0)"
   ]
  },
  {
   "cell_type": "code",
   "execution_count": 1228,
   "metadata": {},
   "outputs": [],
   "source": [
    "assert np.sum(df_state_cat[['ACT', 'NSW', 'NT', 'QLD', 'SA', 'TAS', 'VIC', 'WA']].sum(axis=1) != 0) \\\n",
    "            == len(df.groupby('account')), 'If dataframe is indexed on customer accounts, \\\n",
    "            then there will be no missing values for merchant information'"
   ]
  },
  {
   "cell_type": "markdown",
   "metadata": {},
   "source": [
    "#### a) Drop irrelevant features"
   ]
  },
  {
   "cell_type": "code",
   "execution_count": 1229,
   "metadata": {},
   "outputs": [],
   "source": [
    "df = df.drop(columns=['status', 'card_present_flag', 'first_name','country', \n",
    "                      'timestamp', 'geometry', 'merch_suburb', 'distance',\n",
    "                       'merch_geometry', 'card_present_bool'])"
   ]
  },
  {
   "cell_type": "markdown",
   "metadata": {},
   "source": [
    "#### b) Conduct Feature engineering"
   ]
  },
  {
   "cell_type": "code",
   "execution_count": 1230,
   "metadata": {},
   "outputs": [],
   "source": [
    "def geocoder(x, y):\n",
    "    '''\n",
    "    input: dataframe containing Latitude(x) and Longitude(y) coordinates\n",
    "    output: JSON data containing info on available building or street names.\n",
    "    '''\n",
    "    coordinates = list(zip(x, y))\n",
    "    results = rg.search(coordinates) # default mode = 2\n",
    "    return results\n",
    "\n",
    "list_1 = geocoder(x, y)"
   ]
  },
  {
   "cell_type": "code",
   "execution_count": 1231,
   "metadata": {},
   "outputs": [],
   "source": [
    "df_geocodes = pd.DataFrame.from_dict(list_1)"
   ]
  },
  {
   "cell_type": "code",
   "execution_count": 1232,
   "metadata": {},
   "outputs": [
    {
     "data": {
      "text/html": [
       "<div>\n",
       "<style scoped>\n",
       "    .dataframe tbody tr th:only-of-type {\n",
       "        vertical-align: middle;\n",
       "    }\n",
       "\n",
       "    .dataframe tbody tr th {\n",
       "        vertical-align: top;\n",
       "    }\n",
       "\n",
       "    .dataframe thead th {\n",
       "        text-align: right;\n",
       "    }\n",
       "</style>\n",
       "<table border=\"1\" class=\"dataframe\">\n",
       "  <thead>\n",
       "    <tr style=\"text-align: right;\">\n",
       "      <th></th>\n",
       "      <th>lat</th>\n",
       "      <th>lon</th>\n",
       "      <th>name</th>\n",
       "      <th>admin1</th>\n",
       "      <th>admin2</th>\n",
       "      <th>cc</th>\n",
       "    </tr>\n",
       "  </thead>\n",
       "  <tbody>\n",
       "    <tr>\n",
       "      <th>0</th>\n",
       "      <td>-27.96724</td>\n",
       "      <td>153.39796</td>\n",
       "      <td>Southport</td>\n",
       "      <td>Queensland</td>\n",
       "      <td>Gold Coast</td>\n",
       "      <td>AU</td>\n",
       "    </tr>\n",
       "    <tr>\n",
       "      <th>1</th>\n",
       "      <td>-27.96724</td>\n",
       "      <td>153.39796</td>\n",
       "      <td>Southport</td>\n",
       "      <td>Queensland</td>\n",
       "      <td>Gold Coast</td>\n",
       "      <td>AU</td>\n",
       "    </tr>\n",
       "    <tr>\n",
       "      <th>2</th>\n",
       "      <td>-33.93333</td>\n",
       "      <td>151.23333</td>\n",
       "      <td>Daceyville</td>\n",
       "      <td>New South Wales</td>\n",
       "      <td>Randwick</td>\n",
       "      <td>AU</td>\n",
       "    </tr>\n",
       "    <tr>\n",
       "      <th>3</th>\n",
       "      <td>-27.63917</td>\n",
       "      <td>153.10944</td>\n",
       "      <td>Logan City</td>\n",
       "      <td>Queensland</td>\n",
       "      <td>Logan</td>\n",
       "      <td>AU</td>\n",
       "    </tr>\n",
       "    <tr>\n",
       "      <th>4</th>\n",
       "      <td>-27.96724</td>\n",
       "      <td>153.39796</td>\n",
       "      <td>Southport</td>\n",
       "      <td>Queensland</td>\n",
       "      <td>Gold Coast</td>\n",
       "      <td>AU</td>\n",
       "    </tr>\n",
       "  </tbody>\n",
       "</table>\n",
       "</div>"
      ],
      "text/plain": [
       "         lat        lon        name           admin1      admin2  cc\n",
       "0  -27.96724  153.39796   Southport       Queensland  Gold Coast  AU\n",
       "1  -27.96724  153.39796   Southport       Queensland  Gold Coast  AU\n",
       "2  -33.93333  151.23333  Daceyville  New South Wales    Randwick  AU\n",
       "3  -27.63917  153.10944  Logan City       Queensland       Logan  AU\n",
       "4  -27.96724  153.39796   Southport       Queensland  Gold Coast  AU"
      ]
     },
     "execution_count": 1232,
     "metadata": {},
     "output_type": "execute_result"
    }
   ],
   "source": [
    "df_geocodes.head()"
   ]
  },
  {
   "cell_type": "code",
   "execution_count": 1233,
   "metadata": {},
   "outputs": [
    {
     "data": {
      "text/plain": [
       "lat       83\n",
       "lon       85\n",
       "name      87\n",
       "admin1    11\n",
       "admin2    60\n",
       "cc         6\n",
       "dtype: int64"
      ]
     },
     "execution_count": 1233,
     "metadata": {},
     "output_type": "execute_result"
    }
   ],
   "source": [
    "df_geocodes.nunique()"
   ]
  },
  {
   "cell_type": "code",
   "execution_count": 1234,
   "metadata": {},
   "outputs": [
    {
     "data": {
      "text/plain": [
       "AU    10513\n",
       "ZA      830\n",
       "AO      368\n",
       "ID      134\n",
       "AQ      123\n",
       "NA       75\n",
       "Name: cc, dtype: int64"
      ]
     },
     "execution_count": 1234,
     "metadata": {},
     "output_type": "execute_result"
    }
   ],
   "source": [
    "df_geocodes.cc.value_counts()"
   ]
  },
  {
   "cell_type": "markdown",
   "metadata": {},
   "source": [
    "* AU = Australia\n",
    "* ZA = South Africa\n",
    "* AO = Angola\n",
    "* ID = Indonesia\n",
    "* AQ = Antartica\n",
    "* NA = Namibia"
   ]
  },
  {
   "cell_type": "code",
   "execution_count": 1235,
   "metadata": {},
   "outputs": [
    {
     "data": {
      "text/plain": [
       "Victoria             3716\n",
       "Queensland           2360\n",
       "New South Wales      1835\n",
       "Western Australia    1716\n",
       "Western Cape          830\n",
       "South Australia       798\n",
       "Benguela              368\n",
       "Sulawesi Tenggara     134\n",
       "                      123\n",
       "Tasmania               88\n",
       "Erongo                 75\n",
       "Name: admin1, dtype: int64"
      ]
     },
     "execution_count": 1235,
     "metadata": {},
     "output_type": "execute_result"
    }
   ],
   "source": [
    "df_geocodes.admin1.value_counts()"
   ]
  },
  {
   "cell_type": "code",
   "execution_count": 1236,
   "metadata": {},
   "outputs": [
    {
     "data": {
      "text/plain": [
       "123"
      ]
     },
     "execution_count": 1236,
     "metadata": {},
     "output_type": "execute_result"
    }
   ],
   "source": [
    "df_geocodes[~df_geocodes.admin1.str.contains('\\w')].admin1.count()"
   ]
  },
  {
   "cell_type": "code",
   "execution_count": 1237,
   "metadata": {},
   "outputs": [],
   "source": [
    "df_geocodes.replace(r'^\\s*$', np.nan, regex=True, inplace=True)"
   ]
  },
  {
   "cell_type": "code",
   "execution_count": 1238,
   "metadata": {},
   "outputs": [
    {
     "data": {
      "text/plain": [
       "lat         0\n",
       "lon         0\n",
       "name        0\n",
       "admin1    123\n",
       "admin2    973\n",
       "cc          0\n",
       "dtype: int64"
      ]
     },
     "execution_count": 1238,
     "metadata": {},
     "output_type": "execute_result"
    }
   ],
   "source": [
    "df_geocodes.isnull().sum()"
   ]
  },
  {
   "cell_type": "code",
   "execution_count": 1239,
   "metadata": {},
   "outputs": [],
   "source": [
    "df['cust_state'] = df_geocodes['admin1']\n",
    "df['cc'] = df_geocodes['cc']"
   ]
  },
  {
   "cell_type": "code",
   "execution_count": 1240,
   "metadata": {},
   "outputs": [],
   "source": [
    "# get dummy variables\n",
    "df = pd.get_dummies(data=df, columns=['gender', 'txn_description', 'merch_state', 'cust_state', 'cc'], \n",
    "                    prefix=['g', 't', 'm', 'c', 'cc'], drop_first=True)"
   ]
  },
  {
   "cell_type": "code",
   "execution_count": 1241,
   "metadata": {},
   "outputs": [],
   "source": [
    "# feature engineer from coordinates X and Y\n",
    "x = df.X\n",
    "y = df.Y"
   ]
  },
  {
   "cell_type": "markdown",
   "metadata": {},
   "source": [
    " **Source:** https://bmanikan.medium.com/feature-engineering-all-i-learned-about-geo-spatial-features-649871d16796"
   ]
  },
  {
   "cell_type": "code",
   "execution_count": 1242,
   "metadata": {},
   "outputs": [],
   "source": [
    "# geospatial feature engineering trick 1: Add 4 new features of Polar coordinates to the dataset\n",
    "df['r'] = np.sqrt(x**2 + y**2)\n",
    "df['phi'] = np.arctan2(y, x)\n",
    "df['rot_x'] = np.cos(x) + np.sin(x)\n",
    "df['rot_y'] = np.sin(x) - np.sin(y)"
   ]
  },
  {
   "cell_type": "code",
   "execution_count": 1243,
   "metadata": {},
   "outputs": [],
   "source": [
    "# geospatial feature engineering trick 2: Add 4 new features of rotational Cartesian coordinates\n",
    "\n",
    "df['rot_45_x'] = (0.707 * x) + (0.707 * y)\n",
    "df['rot_45_y'] = (0.707 * y) + (0.707 * x)\n",
    "df['rot_30_x'] = (0.866 * x) + (0.5 * y)\n",
    "df['rot_30_y'] = (0.866 * y) + (0.5 * x)"
   ]
  },
  {
   "cell_type": "code",
   "execution_count": 1244,
   "metadata": {},
   "outputs": [],
   "source": [
    "# geospatial feature engineering trick 3: Add new feature of Haversine distance to the dataset\n",
    "x_1 = df.merch_X\n",
    "y_1 = df.merch_Y\n",
    "\n",
    "def haversine(lon1, lat1, lon2, lat2):\n",
    "    \"\"\"\n",
    "    Calculate the great circle distance between two points \n",
    "    on the earth (specified in decimal degrees)\n",
    "    \"\"\"\n",
    "    # convert decimal degrees to radians \n",
    "    lon1, lat1, lon2, lat2 = map(radians, [lon1, lat1, lon2, lat2])\n",
    "\n",
    "    # haversine formula \n",
    "    dlon = lon2 - lon1 \n",
    "    dlat = lat2 - lat1 \n",
    "    a = sin(dlat/2)**2 + cos(lat1) * cos(lat2) * sin(dlon/2)**2\n",
    "    c = 2 * asin(sqrt(a)) \n",
    "    r = 6371 # Radius of earth in kilometers. Use 3956 for miles\n",
    "    return c * r\n",
    "\n",
    "df['h_dist'] = haversine_dist(x, y, x_1, y_1)"
   ]
  },
  {
   "cell_type": "code",
   "execution_count": 1245,
   "metadata": {},
   "outputs": [],
   "source": [
    "def manhattan_dist(lat1, lng1, lat2, lng2):\n",
    "    '''\n",
    "    calculating two haversine distances by,\n",
    "     - avoiding Latitude of one point \n",
    "     - avoiding Longitude of one point\n",
    "    and adding it together.\n",
    "    '''\n",
    "    a = haversine_dist(lat1, lng1, lat1, lng2)\n",
    "    b = haversine_dist(lat1, lng1, lat2, lng1)\n",
    "    return a + b\n",
    "\n",
    "df['m_dist'] = manhattan_dist(x, y, x_1, y_1)"
   ]
  },
  {
   "cell_type": "code",
   "execution_count": 1246,
   "metadata": {},
   "outputs": [],
   "source": [
    "def bearing_degree(lat1, lng1, lat2, lng2):\n",
    "    '''\n",
    "    calculate angle between two points\n",
    "    '''\n",
    "    radius = 6371  # Mean radius of Earth\n",
    "    diff_lng = np.radians(lng2 - lng1)\n",
    "    lat1, lng1, lat2, lng2 = map(np.radians, (lat1, lng1, lat2, lng2))\n",
    "    y = np.sin(diff_lng) * np.cos(lat2)\n",
    "    x = np.cos(lat1) * np.sin(lat2) - np.sin(lat1) * np.cos(lat2) * np.cos(diff_lng)\n",
    "    return np.degrees(np.arctan2(y, x))\n",
    "\n",
    "df['b_deg'] = bearing_degree(x, y, x_1, y_1)"
   ]
  },
  {
   "cell_type": "code",
   "execution_count": 1247,
   "metadata": {},
   "outputs": [],
   "source": [
    "def pca(data):\n",
    "    '''\n",
    "    input: dataframe containing Latitude(x) and Longitude(y)\n",
    "    '''\n",
    "    coordinates = data[['X','Y']].values\n",
    "    pca_obj = PCA().fit(coordinates)\n",
    "    pca_x = pca_obj.transform(data[['X', 'Y']])[:,0]\n",
    "    pca_y = pca_obj.transform(data[['X', 'Y']])[:,1]\n",
    "    return pca_x, pca_y\n",
    "\n",
    "df['pca_x'], df['pca_y'] = pca(df)"
   ]
  },
  {
   "cell_type": "code",
   "execution_count": 1248,
   "metadata": {},
   "outputs": [],
   "source": [
    "df.drop(columns=['X', 'Y', 'merch_X', 'merch_Y'], inplace=True)"
   ]
  },
  {
   "cell_type": "code",
   "execution_count": 1249,
   "metadata": {},
   "outputs": [],
   "source": [
    "df = df.rename(columns={'account': 'acc', 'balance': 'bal', 'amount': 'amt','t_PAY/SALARY': 't_pay', 't_PAYMENT': 't_pmt', \n",
    "                        't_PHONE BANK': 't_phb', 't_POS': 't_pos', 't_SALES-POS': 't_sales', 'c_Erongo': 'c_ER', \n",
    "                        'c_New South Wales': 'c_NSW', 'c_Queensland': 'c_QLD', 'c_South Australia': 'c_SA', \n",
    "                        'c_Sulawesi Tenggara': 'c_SULTRA', 'c_Tasmania': 'c_TAS', 'c_Victoria': 'c_VIC', \n",
    "                        'c_Western Australia': 'c_WA', 'c_Western Cape': 'c_WC'})"
   ]
  },
  {
   "cell_type": "code",
   "execution_count": 1250,
   "metadata": {},
   "outputs": [
    {
     "data": {
      "text/plain": [
       "Index(['acc', 'age', 'bal', 'amt', 'g_M', 't_pay', 't_pmt', 't_phb', 't_pos',\n",
       "       't_sales', 'm_NSW', 'm_NT', 'm_QLD', 'm_SA', 'm_TAS', 'm_VIC', 'm_WA',\n",
       "       'c_ER', 'c_NSW', 'c_QLD', 'c_SA', 'c_SULTRA', 'c_TAS', 'c_VIC', 'c_WA',\n",
       "       'c_WC', 'cc_AQ', 'cc_AU', 'cc_ID', 'cc_NA', 'cc_ZA', 'r', 'phi',\n",
       "       'rot_x', 'rot_y', 'rot_45_x', 'rot_45_y', 'rot_30_x', 'rot_30_y',\n",
       "       'h_dist', 'm_dist', 'b_deg', 'pca_x', 'pca_y'],\n",
       "      dtype='object')"
      ]
     },
     "execution_count": 1250,
     "metadata": {},
     "output_type": "execute_result"
    }
   ],
   "source": [
    "df.columns"
   ]
  },
  {
   "cell_type": "code",
   "execution_count": 1251,
   "metadata": {},
   "outputs": [
    {
     "data": {
      "text/html": [
       "<div>\n",
       "<style scoped>\n",
       "    .dataframe tbody tr th:only-of-type {\n",
       "        vertical-align: middle;\n",
       "    }\n",
       "\n",
       "    .dataframe tbody tr th {\n",
       "        vertical-align: top;\n",
       "    }\n",
       "\n",
       "    .dataframe thead th {\n",
       "        text-align: right;\n",
       "    }\n",
       "</style>\n",
       "<table border=\"1\" class=\"dataframe\">\n",
       "  <thead>\n",
       "    <tr style=\"text-align: right;\">\n",
       "      <th></th>\n",
       "      <th>acc</th>\n",
       "      <th>age</th>\n",
       "      <th>bal</th>\n",
       "      <th>amt</th>\n",
       "      <th>g_M</th>\n",
       "      <th>t_pay</th>\n",
       "      <th>t_pmt</th>\n",
       "      <th>t_phb</th>\n",
       "      <th>t_pos</th>\n",
       "      <th>t_sales</th>\n",
       "      <th>...</th>\n",
       "      <th>rot_y</th>\n",
       "      <th>rot_45_x</th>\n",
       "      <th>rot_45_y</th>\n",
       "      <th>rot_30_x</th>\n",
       "      <th>rot_30_y</th>\n",
       "      <th>h_dist</th>\n",
       "      <th>m_dist</th>\n",
       "      <th>b_deg</th>\n",
       "      <th>pca_x</th>\n",
       "      <th>pca_y</th>\n",
       "    </tr>\n",
       "  </thead>\n",
       "  <tbody>\n",
       "    <tr>\n",
       "      <th>0</th>\n",
       "      <td>159845171</td>\n",
       "      <td>26</td>\n",
       "      <td>35.39</td>\n",
       "      <td>16.25</td>\n",
       "      <td>0</td>\n",
       "      <td>0</td>\n",
       "      <td>0</td>\n",
       "      <td>0</td>\n",
       "      <td>1</td>\n",
       "      <td>0</td>\n",
       "      <td>...</td>\n",
       "      <td>-0.822519</td>\n",
       "      <td>88.70022</td>\n",
       "      <td>88.70022</td>\n",
       "      <td>52.50030</td>\n",
       "      <td>118.87806</td>\n",
       "      <td>5.335071</td>\n",
       "      <td>7.394541</td>\n",
       "      <td>-146.486743</td>\n",
       "      <td>1.474513</td>\n",
       "      <td>-25.386254</td>\n",
       "    </tr>\n",
       "    <tr>\n",
       "      <th>1</th>\n",
       "      <td>159845171</td>\n",
       "      <td>26</td>\n",
       "      <td>21.20</td>\n",
       "      <td>14.19</td>\n",
       "      <td>0</td>\n",
       "      <td>0</td>\n",
       "      <td>0</td>\n",
       "      <td>0</td>\n",
       "      <td>0</td>\n",
       "      <td>1</td>\n",
       "      <td>...</td>\n",
       "      <td>-0.822519</td>\n",
       "      <td>88.70022</td>\n",
       "      <td>88.70022</td>\n",
       "      <td>52.50030</td>\n",
       "      <td>118.87806</td>\n",
       "      <td>690.864475</td>\n",
       "      <td>874.365633</td>\n",
       "      <td>-162.871975</td>\n",
       "      <td>1.474513</td>\n",
       "      <td>-25.386254</td>\n",
       "    </tr>\n",
       "    <tr>\n",
       "      <th>2</th>\n",
       "      <td>12223524</td>\n",
       "      <td>38</td>\n",
       "      <td>5.71</td>\n",
       "      <td>6.42</td>\n",
       "      <td>1</td>\n",
       "      <td>0</td>\n",
       "      <td>0</td>\n",
       "      <td>0</td>\n",
       "      <td>1</td>\n",
       "      <td>0</td>\n",
       "      <td>...</td>\n",
       "      <td>-0.999112</td>\n",
       "      <td>82.92403</td>\n",
       "      <td>82.92403</td>\n",
       "      <td>46.22296</td>\n",
       "      <td>113.99518</td>\n",
       "      <td>7.999496</td>\n",
       "      <td>9.628642</td>\n",
       "      <td>-13.345862</td>\n",
       "      <td>5.874605</td>\n",
       "      <td>-20.774129</td>\n",
       "    </tr>\n",
       "    <tr>\n",
       "      <th>3</th>\n",
       "      <td>1375564</td>\n",
       "      <td>4</td>\n",
       "      <td>2117.22</td>\n",
       "      <td>4.90</td>\n",
       "      <td>0</td>\n",
       "      <td>0</td>\n",
       "      <td>0</td>\n",
       "      <td>0</td>\n",
       "      <td>0</td>\n",
       "      <td>1</td>\n",
       "      <td>...</td>\n",
       "      <td>-1.319748</td>\n",
       "      <td>88.68608</td>\n",
       "      <td>88.68608</td>\n",
       "      <td>52.59644</td>\n",
       "      <td>118.75460</td>\n",
       "      <td>115.932766</td>\n",
       "      <td>148.365947</td>\n",
       "      <td>20.048840</td>\n",
       "      <td>1.077052</td>\n",
       "      <td>-25.237176</td>\n",
       "    </tr>\n",
       "    <tr>\n",
       "      <th>4</th>\n",
       "      <td>159845171</td>\n",
       "      <td>26</td>\n",
       "      <td>17.95</td>\n",
       "      <td>3.25</td>\n",
       "      <td>0</td>\n",
       "      <td>0</td>\n",
       "      <td>0</td>\n",
       "      <td>0</td>\n",
       "      <td>0</td>\n",
       "      <td>1</td>\n",
       "      <td>...</td>\n",
       "      <td>-0.822519</td>\n",
       "      <td>88.70022</td>\n",
       "      <td>88.70022</td>\n",
       "      <td>52.50030</td>\n",
       "      <td>118.87806</td>\n",
       "      <td>72.336383</td>\n",
       "      <td>75.223447</td>\n",
       "      <td>177.679475</td>\n",
       "      <td>1.474513</td>\n",
       "      <td>-25.386254</td>\n",
       "    </tr>\n",
       "  </tbody>\n",
       "</table>\n",
       "<p>5 rows × 44 columns</p>\n",
       "</div>"
      ],
      "text/plain": [
       "         acc  age      bal    amt  g_M  t_pay  t_pmt  t_phb  t_pos  t_sales  \\\n",
       "0  159845171   26    35.39  16.25    0      0      0      0      1        0   \n",
       "1  159845171   26    21.20  14.19    0      0      0      0      0        1   \n",
       "2   12223524   38     5.71   6.42    1      0      0      0      1        0   \n",
       "3    1375564    4  2117.22   4.90    0      0      0      0      0        1   \n",
       "4  159845171   26    17.95   3.25    0      0      0      0      0        1   \n",
       "\n",
       "   ...     rot_y  rot_45_x  rot_45_y  rot_30_x   rot_30_y      h_dist  \\\n",
       "0  ... -0.822519  88.70022  88.70022  52.50030  118.87806    5.335071   \n",
       "1  ... -0.822519  88.70022  88.70022  52.50030  118.87806  690.864475   \n",
       "2  ... -0.999112  82.92403  82.92403  46.22296  113.99518    7.999496   \n",
       "3  ... -1.319748  88.68608  88.68608  52.59644  118.75460  115.932766   \n",
       "4  ... -0.822519  88.70022  88.70022  52.50030  118.87806   72.336383   \n",
       "\n",
       "       m_dist       b_deg     pca_x      pca_y  \n",
       "0    7.394541 -146.486743  1.474513 -25.386254  \n",
       "1  874.365633 -162.871975  1.474513 -25.386254  \n",
       "2    9.628642  -13.345862  5.874605 -20.774129  \n",
       "3  148.365947   20.048840  1.077052 -25.237176  \n",
       "4   75.223447  177.679475  1.474513 -25.386254  \n",
       "\n",
       "[5 rows x 44 columns]"
      ]
     },
     "execution_count": 1251,
     "metadata": {},
     "output_type": "execute_result"
    }
   ],
   "source": [
    "df.head()"
   ]
  },
  {
   "cell_type": "markdown",
   "metadata": {},
   "source": [
    "## Step 1: Identify annual salary of each customer"
   ]
  },
  {
   "cell_type": "markdown",
   "metadata": {},
   "source": [
    "### a) Subset Pay/Salary transactions and group by account"
   ]
  },
  {
   "cell_type": "code",
   "execution_count": 1252,
   "metadata": {},
   "outputs": [],
   "source": [
    "# display counts of payment types\n",
    "total_sal = df.amt[df.t_pay == 1].groupby(df.acc).sum()\n",
    "annual_sal = total_sal * 4\n",
    "annual_sal = annual_sal.sort_values()"
   ]
  },
  {
   "cell_type": "code",
   "execution_count": 1254,
   "metadata": {},
   "outputs": [],
   "source": [
    "df = df.groupby('acc').mean()\n",
    "df['a_sal'] = annual_sal"
   ]
  },
  {
   "cell_type": "code",
   "execution_count": 1256,
   "metadata": {},
   "outputs": [
    {
     "data": {
      "text/html": [
       "<div>\n",
       "<style scoped>\n",
       "    .dataframe tbody tr th:only-of-type {\n",
       "        vertical-align: middle;\n",
       "    }\n",
       "\n",
       "    .dataframe tbody tr th {\n",
       "        vertical-align: top;\n",
       "    }\n",
       "\n",
       "    .dataframe thead th {\n",
       "        text-align: right;\n",
       "    }\n",
       "</style>\n",
       "<table border=\"1\" class=\"dataframe\">\n",
       "  <thead>\n",
       "    <tr style=\"text-align: right;\">\n",
       "      <th></th>\n",
       "      <th>age</th>\n",
       "      <th>bal</th>\n",
       "      <th>amt</th>\n",
       "      <th>g_M</th>\n",
       "      <th>t_pay</th>\n",
       "      <th>t_pmt</th>\n",
       "      <th>t_phb</th>\n",
       "      <th>t_pos</th>\n",
       "      <th>t_sales</th>\n",
       "      <th>m_NSW</th>\n",
       "      <th>...</th>\n",
       "      <th>rot_45_x</th>\n",
       "      <th>rot_45_y</th>\n",
       "      <th>rot_30_x</th>\n",
       "      <th>rot_30_y</th>\n",
       "      <th>h_dist</th>\n",
       "      <th>m_dist</th>\n",
       "      <th>b_deg</th>\n",
       "      <th>pca_x</th>\n",
       "      <th>pca_y</th>\n",
       "      <th>a_sal</th>\n",
       "    </tr>\n",
       "    <tr>\n",
       "      <th>acc</th>\n",
       "      <th></th>\n",
       "      <th></th>\n",
       "      <th></th>\n",
       "      <th></th>\n",
       "      <th></th>\n",
       "      <th></th>\n",
       "      <th></th>\n",
       "      <th></th>\n",
       "      <th></th>\n",
       "      <th></th>\n",
       "      <th></th>\n",
       "      <th></th>\n",
       "      <th></th>\n",
       "      <th></th>\n",
       "      <th></th>\n",
       "      <th></th>\n",
       "      <th></th>\n",
       "      <th></th>\n",
       "      <th></th>\n",
       "      <th></th>\n",
       "      <th></th>\n",
       "    </tr>\n",
       "  </thead>\n",
       "  <tbody>\n",
       "    <tr>\n",
       "      <th>958567</th>\n",
       "      <td>34</td>\n",
       "      <td>4736.124598</td>\n",
       "      <td>205.593678</td>\n",
       "      <td>0.0</td>\n",
       "      <td>0.040230</td>\n",
       "      <td>0.281609</td>\n",
       "      <td>0.000000</td>\n",
       "      <td>0.350575</td>\n",
       "      <td>0.293103</td>\n",
       "      <td>0.074713</td>\n",
       "      <td>...</td>\n",
       "      <td>1.08171</td>\n",
       "      <td>1.08171</td>\n",
       "      <td>-3.76242</td>\n",
       "      <td>5.85240</td>\n",
       "      <td>4232.008983</td>\n",
       "      <td>5015.982122</td>\n",
       "      <td>17.327454</td>\n",
       "      <td>-74.407257</td>\n",
       "      <td>92.714269</td>\n",
       "      <td>98493.08</td>\n",
       "    </tr>\n",
       "    <tr>\n",
       "      <th>1375564</th>\n",
       "      <td>4</td>\n",
       "      <td>2510.007683</td>\n",
       "      <td>71.145444</td>\n",
       "      <td>0.0</td>\n",
       "      <td>0.050193</td>\n",
       "      <td>0.100386</td>\n",
       "      <td>0.000000</td>\n",
       "      <td>0.428571</td>\n",
       "      <td>0.420849</td>\n",
       "      <td>0.061776</td>\n",
       "      <td>...</td>\n",
       "      <td>88.68608</td>\n",
       "      <td>88.68608</td>\n",
       "      <td>52.59644</td>\n",
       "      <td>118.75460</td>\n",
       "      <td>387.238618</td>\n",
       "      <td>434.980474</td>\n",
       "      <td>3.089790</td>\n",
       "      <td>1.077052</td>\n",
       "      <td>-25.237176</td>\n",
       "      <td>46430.80</td>\n",
       "    </tr>\n",
       "    <tr>\n",
       "      <th>1566392</th>\n",
       "      <td>22</td>\n",
       "      <td>31965.638605</td>\n",
       "      <td>256.383837</td>\n",
       "      <td>1.0</td>\n",
       "      <td>0.069767</td>\n",
       "      <td>0.069767</td>\n",
       "      <td>0.000000</td>\n",
       "      <td>0.267442</td>\n",
       "      <td>0.406977</td>\n",
       "      <td>0.023256</td>\n",
       "      <td>...</td>\n",
       "      <td>75.92473</td>\n",
       "      <td>75.92473</td>\n",
       "      <td>39.81994</td>\n",
       "      <td>106.87480</td>\n",
       "      <td>586.529064</td>\n",
       "      <td>603.204621</td>\n",
       "      <td>-56.868299</td>\n",
       "      <td>6.800156</td>\n",
       "      <td>-13.698173</td>\n",
       "      <td>76682.40</td>\n",
       "    </tr>\n",
       "    <tr>\n",
       "      <th>2484743</th>\n",
       "      <td>29</td>\n",
       "      <td>10137.490448</td>\n",
       "      <td>60.019776</td>\n",
       "      <td>1.0</td>\n",
       "      <td>0.052239</td>\n",
       "      <td>0.350746</td>\n",
       "      <td>0.097015</td>\n",
       "      <td>0.223881</td>\n",
       "      <td>0.276119</td>\n",
       "      <td>0.164179</td>\n",
       "      <td>...</td>\n",
       "      <td>83.23511</td>\n",
       "      <td>83.23511</td>\n",
       "      <td>57.49250</td>\n",
       "      <td>103.32668</td>\n",
       "      <td>3805.824809</td>\n",
       "      <td>4303.101188</td>\n",
       "      <td>-2.797769</td>\n",
       "      <td>-34.383113</td>\n",
       "      <td>-7.514613</td>\n",
       "      <td>12468.40</td>\n",
       "    </tr>\n",
       "    <tr>\n",
       "      <th>2615387</th>\n",
       "      <td>43</td>\n",
       "      <td>20212.127500</td>\n",
       "      <td>208.970000</td>\n",
       "      <td>0.0</td>\n",
       "      <td>0.250000</td>\n",
       "      <td>0.096154</td>\n",
       "      <td>0.000000</td>\n",
       "      <td>0.192308</td>\n",
       "      <td>0.211538</td>\n",
       "      <td>0.019231</td>\n",
       "      <td>...</td>\n",
       "      <td>75.68435</td>\n",
       "      <td>75.68435</td>\n",
       "      <td>39.50720</td>\n",
       "      <td>106.72310</td>\n",
       "      <td>204.452344</td>\n",
       "      <td>233.465621</td>\n",
       "      <td>-23.538861</td>\n",
       "      <td>7.171829</td>\n",
       "      <td>-13.569880</td>\n",
       "      <td>34550.36</td>\n",
       "    </tr>\n",
       "  </tbody>\n",
       "</table>\n",
       "<p>5 rows × 44 columns</p>\n",
       "</div>"
      ],
      "text/plain": [
       "         age           bal         amt  g_M     t_pay     t_pmt     t_phb  \\\n",
       "acc                                                                         \n",
       "958567    34   4736.124598  205.593678  0.0  0.040230  0.281609  0.000000   \n",
       "1375564    4   2510.007683   71.145444  0.0  0.050193  0.100386  0.000000   \n",
       "1566392   22  31965.638605  256.383837  1.0  0.069767  0.069767  0.000000   \n",
       "2484743   29  10137.490448   60.019776  1.0  0.052239  0.350746  0.097015   \n",
       "2615387   43  20212.127500  208.970000  0.0  0.250000  0.096154  0.000000   \n",
       "\n",
       "            t_pos   t_sales     m_NSW  ...  rot_45_x  rot_45_y  rot_30_x  \\\n",
       "acc                                    ...                                 \n",
       "958567   0.350575  0.293103  0.074713  ...   1.08171   1.08171  -3.76242   \n",
       "1375564  0.428571  0.420849  0.061776  ...  88.68608  88.68608  52.59644   \n",
       "1566392  0.267442  0.406977  0.023256  ...  75.92473  75.92473  39.81994   \n",
       "2484743  0.223881  0.276119  0.164179  ...  83.23511  83.23511  57.49250   \n",
       "2615387  0.192308  0.211538  0.019231  ...  75.68435  75.68435  39.50720   \n",
       "\n",
       "          rot_30_y       h_dist       m_dist      b_deg      pca_x      pca_y  \\\n",
       "acc                                                                             \n",
       "958567     5.85240  4232.008983  5015.982122  17.327454 -74.407257  92.714269   \n",
       "1375564  118.75460   387.238618   434.980474   3.089790   1.077052 -25.237176   \n",
       "1566392  106.87480   586.529064   603.204621 -56.868299   6.800156 -13.698173   \n",
       "2484743  103.32668  3805.824809  4303.101188  -2.797769 -34.383113  -7.514613   \n",
       "2615387  106.72310   204.452344   233.465621 -23.538861   7.171829 -13.569880   \n",
       "\n",
       "            a_sal  \n",
       "acc                \n",
       "958567   98493.08  \n",
       "1375564  46430.80  \n",
       "1566392  76682.40  \n",
       "2484743  12468.40  \n",
       "2615387  34550.36  \n",
       "\n",
       "[5 rows x 44 columns]"
      ]
     },
     "execution_count": 1256,
     "metadata": {},
     "output_type": "execute_result"
    }
   ],
   "source": [
    "df.head()"
   ]
  },
  {
   "cell_type": "markdown",
   "metadata": {},
   "source": [
    "### b) Further data cleaning"
   ]
  },
  {
   "cell_type": "code",
   "execution_count": 1278,
   "metadata": {},
   "outputs": [],
   "source": [
    "if '_NSW' not in df: \n",
    "    df['_NSW'] = df['c_NSW'] + df['m_NSW']\n",
    "    df.drop(columns=['c_NSW', 'm_NSW'], inplace=True)\n",
    "elif '_QLD' not in df:\n",
    "    df['_QLD'] = df['c_QLD'] + df['m_QLD']\n",
    "    df.drop(columns=['c_QLD', 'm_QLD'], inplace=True)\n",
    "elif '_SA' not in df:\n",
    "    df['_SA'] = df['c_SA'] + df['m_SA']\n",
    "    df.drop(columns=['c_SA', 'm_SA'], inplace=True)\n",
    "elif '_TAS' not in df:\n",
    "    df['_TAS'] = df['c_TAS'] + df['m_TAS']\n",
    "    df.drop(columns=['c_TAS', 'm_TAS'], inplace=True)\n",
    "elif '_VIC' not in df:\n",
    "    df['_VIC'] = df['c_VIC'] + df['m_VIC']\n",
    "    df.drop(columns=['c_VIC', 'm_VIC'], inplace=True)\n",
    "elif '_WA' not in df:\n",
    "    df['_WA'] = df['c_WA'] + df['m_WA']\n",
    "    df.drop(columns=['c_WA', 'm_WA'], inplace=True)\n",
    "else:\n",
    "    'All state columns merged...'"
   ]
  },
  {
   "cell_type": "code",
   "execution_count": 1270,
   "metadata": {},
   "outputs": [
    {
     "data": {
      "text/plain": [
       "Index(['age', 'bal', 'amt', 'g_M', 't_pay', 't_pmt', 't_phb', 't_pos',\n",
       "       't_sales', 'm_NT', 'm_VIC', 'm_WA', 'c_ER', 'c_SULTRA', 'c_VIC', 'c_WA',\n",
       "       'c_WC', 'cc_AQ', 'cc_AU', 'cc_ID', 'cc_NA', 'cc_ZA', 'r', 'phi',\n",
       "       'rot_x', 'rot_y', 'rot_45_x', 'rot_45_y', 'rot_30_x', 'rot_30_y',\n",
       "       'h_dist', 'm_dist', 'b_deg', 'pca_x', 'pca_y', 'a_sal', '_NSW', '_QLD',\n",
       "       '_SA', '_TAS'],\n",
       "      dtype='object')"
      ]
     },
     "execution_count": 1270,
     "metadata": {},
     "output_type": "execute_result"
    }
   ],
   "source": [
    "df.columns"
   ]
  },
  {
   "cell_type": "markdown",
   "metadata": {},
   "source": [
    "## Step 2: EDA"
   ]
  },
  {
   "cell_type": "code",
   "execution_count": 1294,
   "metadata": {},
   "outputs": [
    {
     "data": {
      "text/html": [
       "<div>\n",
       "<style scoped>\n",
       "    .dataframe tbody tr th:only-of-type {\n",
       "        vertical-align: middle;\n",
       "    }\n",
       "\n",
       "    .dataframe tbody tr th {\n",
       "        vertical-align: top;\n",
       "    }\n",
       "\n",
       "    .dataframe thead th {\n",
       "        text-align: right;\n",
       "    }\n",
       "</style>\n",
       "<table border=\"1\" class=\"dataframe\">\n",
       "  <thead>\n",
       "    <tr style=\"text-align: right;\">\n",
       "      <th></th>\n",
       "      <th>age</th>\n",
       "      <th>bal</th>\n",
       "      <th>amt</th>\n",
       "      <th>g_M</th>\n",
       "      <th>t_pay</th>\n",
       "      <th>t_pmt</th>\n",
       "      <th>t_phb</th>\n",
       "      <th>t_pos</th>\n",
       "      <th>t_sales</th>\n",
       "      <th>m_NT</th>\n",
       "      <th>...</th>\n",
       "      <th>b_deg</th>\n",
       "      <th>pca_x</th>\n",
       "      <th>pca_y</th>\n",
       "      <th>a_sal</th>\n",
       "      <th>_NSW</th>\n",
       "      <th>_QLD</th>\n",
       "      <th>_SA</th>\n",
       "      <th>_TAS</th>\n",
       "      <th>_VIC</th>\n",
       "      <th>_WA</th>\n",
       "    </tr>\n",
       "  </thead>\n",
       "  <tbody>\n",
       "    <tr>\n",
       "      <th>count</th>\n",
       "      <td>100.000000</td>\n",
       "      <td>100.000000</td>\n",
       "      <td>100.000000</td>\n",
       "      <td>100.000000</td>\n",
       "      <td>100.000000</td>\n",
       "      <td>100.000000</td>\n",
       "      <td>100.000000</td>\n",
       "      <td>100.000000</td>\n",
       "      <td>100.000000</td>\n",
       "      <td>100.000000</td>\n",
       "      <td>...</td>\n",
       "      <td>100.000000</td>\n",
       "      <td>100.000000</td>\n",
       "      <td>100.000000</td>\n",
       "      <td>100.000000</td>\n",
       "      <td>100.000000</td>\n",
       "      <td>100.000000</td>\n",
       "      <td>100.000000</td>\n",
       "      <td>100.000000</td>\n",
       "      <td>100.000000</td>\n",
       "      <td>100.000000</td>\n",
       "    </tr>\n",
       "    <tr>\n",
       "      <th>mean</th>\n",
       "      <td>27.360000</td>\n",
       "      <td>11297.004375</td>\n",
       "      <td>178.540553</td>\n",
       "      <td>0.560000</td>\n",
       "      <td>0.094944</td>\n",
       "      <td>0.248644</td>\n",
       "      <td>0.010218</td>\n",
       "      <td>0.283731</td>\n",
       "      <td>0.293591</td>\n",
       "      <td>0.013084</td>\n",
       "      <td>...</td>\n",
       "      <td>2.495377</td>\n",
       "      <td>0.162950</td>\n",
       "      <td>0.822367</td>\n",
       "      <td>46042.555200</td>\n",
       "      <td>0.344627</td>\n",
       "      <td>0.206924</td>\n",
       "      <td>0.105087</td>\n",
       "      <td>0.015562</td>\n",
       "      <td>0.547653</td>\n",
       "      <td>0.207054</td>\n",
       "    </tr>\n",
       "    <tr>\n",
       "      <th>std</th>\n",
       "      <td>15.220613</td>\n",
       "      <td>20898.005949</td>\n",
       "      <td>135.687430</td>\n",
       "      <td>0.498888</td>\n",
       "      <td>0.066505</td>\n",
       "      <td>0.159644</td>\n",
       "      <td>0.035562</td>\n",
       "      <td>0.101519</td>\n",
       "      <td>0.107645</td>\n",
       "      <td>0.084313</td>\n",
       "      <td>...</td>\n",
       "      <td>63.675489</td>\n",
       "      <td>57.999291</td>\n",
       "      <td>38.361108</td>\n",
       "      <td>37267.210968</td>\n",
       "      <td>0.516759</td>\n",
       "      <td>0.502226</td>\n",
       "      <td>0.322547</td>\n",
       "      <td>0.116942</td>\n",
       "      <td>0.697151</td>\n",
       "      <td>0.477177</td>\n",
       "    </tr>\n",
       "    <tr>\n",
       "      <th>min</th>\n",
       "      <td>2.000000</td>\n",
       "      <td>911.712805</td>\n",
       "      <td>21.284827</td>\n",
       "      <td>0.000000</td>\n",
       "      <td>0.008368</td>\n",
       "      <td>0.017241</td>\n",
       "      <td>0.000000</td>\n",
       "      <td>0.016667</td>\n",
       "      <td>0.000000</td>\n",
       "      <td>0.000000</td>\n",
       "      <td>...</td>\n",
       "      <td>-104.271455</td>\n",
       "      <td>-74.407257</td>\n",
       "      <td>-26.033951</td>\n",
       "      <td>600.000000</td>\n",
       "      <td>0.000000</td>\n",
       "      <td>0.000000</td>\n",
       "      <td>0.000000</td>\n",
       "      <td>0.000000</td>\n",
       "      <td>0.000000</td>\n",
       "      <td>0.000000</td>\n",
       "    </tr>\n",
       "    <tr>\n",
       "      <th>25%</th>\n",
       "      <td>19.000000</td>\n",
       "      <td>3611.222550</td>\n",
       "      <td>62.012350</td>\n",
       "      <td>0.000000</td>\n",
       "      <td>0.049485</td>\n",
       "      <td>0.127563</td>\n",
       "      <td>0.000000</td>\n",
       "      <td>0.215734</td>\n",
       "      <td>0.227860</td>\n",
       "      <td>0.000000</td>\n",
       "      <td>...</td>\n",
       "      <td>-53.337000</td>\n",
       "      <td>-10.970033</td>\n",
       "      <td>-20.767472</td>\n",
       "      <td>9150.720000</td>\n",
       "      <td>0.030888</td>\n",
       "      <td>0.000000</td>\n",
       "      <td>0.000000</td>\n",
       "      <td>0.000000</td>\n",
       "      <td>0.017080</td>\n",
       "      <td>0.000000</td>\n",
       "    </tr>\n",
       "    <tr>\n",
       "      <th>50%</th>\n",
       "      <td>26.000000</td>\n",
       "      <td>4729.864282</td>\n",
       "      <td>154.624111</td>\n",
       "      <td>1.000000</td>\n",
       "      <td>0.075000</td>\n",
       "      <td>0.212160</td>\n",
       "      <td>0.000000</td>\n",
       "      <td>0.299985</td>\n",
       "      <td>0.299878</td>\n",
       "      <td>0.000000</td>\n",
       "      <td>...</td>\n",
       "      <td>-3.997167</td>\n",
       "      <td>5.756018</td>\n",
       "      <td>-13.500609</td>\n",
       "      <td>44119.680000</td>\n",
       "      <td>0.093842</td>\n",
       "      <td>0.012862</td>\n",
       "      <td>0.012500</td>\n",
       "      <td>0.000000</td>\n",
       "      <td>0.032002</td>\n",
       "      <td>0.014806</td>\n",
       "    </tr>\n",
       "    <tr>\n",
       "      <th>75%</th>\n",
       "      <td>38.000000</td>\n",
       "      <td>8869.689363</td>\n",
       "      <td>256.139616</td>\n",
       "      <td>1.000000</td>\n",
       "      <td>0.118453</td>\n",
       "      <td>0.347302</td>\n",
       "      <td>0.000000</td>\n",
       "      <td>0.359231</td>\n",
       "      <td>0.369232</td>\n",
       "      <td>0.000000</td>\n",
       "      <td>...</td>\n",
       "      <td>57.547109</td>\n",
       "      <td>6.519173</td>\n",
       "      <td>-3.286728</td>\n",
       "      <td>69963.530000</td>\n",
       "      <td>0.383395</td>\n",
       "      <td>0.031024</td>\n",
       "      <td>0.030365</td>\n",
       "      <td>0.000000</td>\n",
       "      <td>1.372198</td>\n",
       "      <td>0.051994</td>\n",
       "    </tr>\n",
       "    <tr>\n",
       "      <th>max</th>\n",
       "      <td>78.000000</td>\n",
       "      <td>173721.982687</td>\n",
       "      <td>685.794194</td>\n",
       "      <td>1.000000</td>\n",
       "      <td>0.352941</td>\n",
       "      <td>0.773810</td>\n",
       "      <td>0.285714</td>\n",
       "      <td>0.508251</td>\n",
       "      <td>0.534483</td>\n",
       "      <td>0.674847</td>\n",
       "      <td>...</td>\n",
       "      <td>135.376143</td>\n",
       "      <td>534.986414</td>\n",
       "      <td>125.494767</td>\n",
       "      <td>141375.680000</td>\n",
       "      <td>1.749175</td>\n",
       "      <td>1.768166</td>\n",
       "      <td>1.326087</td>\n",
       "      <td>1.159091</td>\n",
       "      <td>1.695035</td>\n",
       "      <td>1.654110</td>\n",
       "    </tr>\n",
       "  </tbody>\n",
       "</table>\n",
       "<p>8 rows × 38 columns</p>\n",
       "</div>"
      ],
      "text/plain": [
       "              age            bal         amt         g_M       t_pay  \\\n",
       "count  100.000000     100.000000  100.000000  100.000000  100.000000   \n",
       "mean    27.360000   11297.004375  178.540553    0.560000    0.094944   \n",
       "std     15.220613   20898.005949  135.687430    0.498888    0.066505   \n",
       "min      2.000000     911.712805   21.284827    0.000000    0.008368   \n",
       "25%     19.000000    3611.222550   62.012350    0.000000    0.049485   \n",
       "50%     26.000000    4729.864282  154.624111    1.000000    0.075000   \n",
       "75%     38.000000    8869.689363  256.139616    1.000000    0.118453   \n",
       "max     78.000000  173721.982687  685.794194    1.000000    0.352941   \n",
       "\n",
       "            t_pmt       t_phb       t_pos     t_sales        m_NT  ...  \\\n",
       "count  100.000000  100.000000  100.000000  100.000000  100.000000  ...   \n",
       "mean     0.248644    0.010218    0.283731    0.293591    0.013084  ...   \n",
       "std      0.159644    0.035562    0.101519    0.107645    0.084313  ...   \n",
       "min      0.017241    0.000000    0.016667    0.000000    0.000000  ...   \n",
       "25%      0.127563    0.000000    0.215734    0.227860    0.000000  ...   \n",
       "50%      0.212160    0.000000    0.299985    0.299878    0.000000  ...   \n",
       "75%      0.347302    0.000000    0.359231    0.369232    0.000000  ...   \n",
       "max      0.773810    0.285714    0.508251    0.534483    0.674847  ...   \n",
       "\n",
       "            b_deg       pca_x       pca_y          a_sal        _NSW  \\\n",
       "count  100.000000  100.000000  100.000000     100.000000  100.000000   \n",
       "mean     2.495377    0.162950    0.822367   46042.555200    0.344627   \n",
       "std     63.675489   57.999291   38.361108   37267.210968    0.516759   \n",
       "min   -104.271455  -74.407257  -26.033951     600.000000    0.000000   \n",
       "25%    -53.337000  -10.970033  -20.767472    9150.720000    0.030888   \n",
       "50%     -3.997167    5.756018  -13.500609   44119.680000    0.093842   \n",
       "75%     57.547109    6.519173   -3.286728   69963.530000    0.383395   \n",
       "max    135.376143  534.986414  125.494767  141375.680000    1.749175   \n",
       "\n",
       "             _QLD         _SA        _TAS        _VIC         _WA  \n",
       "count  100.000000  100.000000  100.000000  100.000000  100.000000  \n",
       "mean     0.206924    0.105087    0.015562    0.547653    0.207054  \n",
       "std      0.502226    0.322547    0.116942    0.697151    0.477177  \n",
       "min      0.000000    0.000000    0.000000    0.000000    0.000000  \n",
       "25%      0.000000    0.000000    0.000000    0.017080    0.000000  \n",
       "50%      0.012862    0.012500    0.000000    0.032002    0.014806  \n",
       "75%      0.031024    0.030365    0.000000    1.372198    0.051994  \n",
       "max      1.768166    1.326087    1.159091    1.695035    1.654110  \n",
       "\n",
       "[8 rows x 38 columns]"
      ]
     },
     "execution_count": 1294,
     "metadata": {},
     "output_type": "execute_result"
    }
   ],
   "source": [
    "df.describe()"
   ]
  },
  {
   "cell_type": "code",
   "execution_count": 1297,
   "metadata": {},
   "outputs": [],
   "source": [
    "df_scaled = scaler.fit_transform(df)"
   ]
  },
  {
   "cell_type": "code",
   "execution_count": 1299,
   "metadata": {},
   "outputs": [
    {
     "data": {
      "text/plain": [
       "<AxesSubplot:>"
      ]
     },
     "execution_count": 1299,
     "metadata": {},
     "output_type": "execute_result"
    },
    {
     "data": {
      "image/png": "[encoded data removed]",
      "text/plain": [
       "<Figure size 432x288 with 1 Axes>"
      ]
     },
     "metadata": {},
     "output_type": "display_data"
    }
   ],
   "source": [
    "sns.boxplot(data=df_scaled, orient=\"h\", palette=\"cool_r\")"
   ]
  },
  {
   "cell_type": "code",
   "execution_count": 67,
   "metadata": {},
   "outputs": [
    {
     "data": {
      "application/vnd.jupyter.widget-view+json": {
       "model_id": "fcef54f55b3a4ccc8d483c2c13014171",
       "version_major": 2,
       "version_minor": 0
      },
      "text/plain": [
       "HBox(children=(HTML(value='Summarize dataset'), FloatProgress(value=0.0, max=26.0), HTML(value='')))"
      ]
     },
     "metadata": {},
     "output_type": "display_data"
    },
    {
     "name": "stdout",
     "output_type": "stream",
     "text": [
      "\n"
     ]
    },
    {
     "data": {
      "application/vnd.jupyter.widget-view+json": {
       "model_id": "9f66d07a0f5c4dd6961d76085f3b4de6",
       "version_major": 2,
       "version_minor": 0
      },
      "text/plain": [
       "HBox(children=(HTML(value='Generate report structure'), FloatProgress(value=0.0, max=1.0), HTML(value='')))"
      ]
     },
     "metadata": {},
     "output_type": "display_data"
    },
    {
     "name": "stdout",
     "output_type": "stream",
     "text": [
      "\n"
     ]
    },
    {
     "data": {
      "application/vnd.jupyter.widget-view+json": {
       "model_id": "7c73a82b45474bf6a46e882e47282cda",
       "version_major": 2,
       "version_minor": 0
      },
      "text/plain": [
       "HBox(children=(HTML(value='Render HTML'), FloatProgress(value=0.0, max=1.0), HTML(value='')))"
      ]
     },
     "metadata": {},
     "output_type": "display_data"
    },
    {
     "name": "stdout",
     "output_type": "stream",
     "text": [
      "\n"
     ]
    },
    {
     "data": {
      "application/vnd.jupyter.widget-view+json": {
       "model_id": "fb041776543f400db75db0454063caa5",
       "version_major": 2,
       "version_minor": 0
      },
      "text/plain": [
       "HBox(children=(HTML(value='Export report to file'), FloatProgress(value=0.0, max=1.0), HTML(value='')))"
      ]
     },
     "metadata": {},
     "output_type": "display_data"
    },
    {
     "name": "stdout",
     "output_type": "stream",
     "text": [
      "\n"
     ]
    }
   ],
   "source": [
    "from pandas_profiling import ProfileReport\n",
    "prof = ProfileReport(df_merged)\n",
    "prof.to_file(output_file='output.html')"
   ]
  },
  {
   "cell_type": "markdown",
   "metadata": {},
   "source": [
    "## Step 3: Build linear regression model to predict annual salary"
   ]
  },
  {
   "cell_type": "markdown",
   "metadata": {},
   "source": [
    "### a) Feature selection"
   ]
  },
  {
   "cell_type": "code",
   "execution_count": 68,
   "metadata": {},
   "outputs": [],
   "source": [
    "features = list(set(df_merged.columns) - set(df_merged[['annualized_sal']]))"
   ]
  },
  {
   "cell_type": "code",
   "execution_count": 69,
   "metadata": {},
   "outputs": [
    {
     "data": {
      "text/html": [
       "<div>\n",
       "<style scoped>\n",
       "    .dataframe tbody tr th:only-of-type {\n",
       "        vertical-align: middle;\n",
       "    }\n",
       "\n",
       "    .dataframe tbody tr th {\n",
       "        vertical-align: top;\n",
       "    }\n",
       "\n",
       "    .dataframe thead th {\n",
       "        text-align: right;\n",
       "    }\n",
       "</style>\n",
       "<table border=\"1\" class=\"dataframe\">\n",
       "  <thead>\n",
       "    <tr style=\"text-align: right;\">\n",
       "      <th></th>\n",
       "      <th>balance</th>\n",
       "      <th>Y</th>\n",
       "      <th>phone_bank</th>\n",
       "      <th>inter_bank</th>\n",
       "      <th>sales_pos</th>\n",
       "      <th>age</th>\n",
       "      <th>pos</th>\n",
       "      <th>payment</th>\n",
       "      <th>gender_M</th>\n",
       "      <th>X</th>\n",
       "    </tr>\n",
       "    <tr>\n",
       "      <th>account</th>\n",
       "      <th></th>\n",
       "      <th></th>\n",
       "      <th></th>\n",
       "      <th></th>\n",
       "      <th></th>\n",
       "      <th></th>\n",
       "      <th></th>\n",
       "      <th></th>\n",
       "      <th></th>\n",
       "      <th></th>\n",
       "    </tr>\n",
       "  </thead>\n",
       "  <tbody>\n",
       "    <tr>\n",
       "      <th>37709441</th>\n",
       "      <td>98107.03</td>\n",
       "      <td>153.41</td>\n",
       "      <td>252.0</td>\n",
       "      <td>1692.0</td>\n",
       "      <td>399.84</td>\n",
       "      <td>18</td>\n",
       "      <td>663.05</td>\n",
       "      <td>2088.0</td>\n",
       "      <td>1</td>\n",
       "      <td>-28.01</td>\n",
       "    </tr>\n",
       "    <tr>\n",
       "      <th>38923874</th>\n",
       "      <td>506145.72</td>\n",
       "      <td>151.27</td>\n",
       "      <td>517.5</td>\n",
       "      <td>827.0</td>\n",
       "      <td>734.41</td>\n",
       "      <td>38</td>\n",
       "      <td>1716.74</td>\n",
       "      <td>4671.0</td>\n",
       "      <td>1</td>\n",
       "      <td>-33.90</td>\n",
       "    </tr>\n",
       "    <tr>\n",
       "      <th>53508546</th>\n",
       "      <td>54704.11</td>\n",
       "      <td>150.62</td>\n",
       "      <td>517.5</td>\n",
       "      <td>734.5</td>\n",
       "      <td>1204.22</td>\n",
       "      <td>35</td>\n",
       "      <td>350.31</td>\n",
       "      <td>1180.0</td>\n",
       "      <td>0</td>\n",
       "      <td>-33.76</td>\n",
       "    </tr>\n",
       "    <tr>\n",
       "      <th>80388494</th>\n",
       "      <td>35050.32</td>\n",
       "      <td>144.97</td>\n",
       "      <td>517.5</td>\n",
       "      <td>270.0</td>\n",
       "      <td>3033.07</td>\n",
       "      <td>28</td>\n",
       "      <td>1356.47</td>\n",
       "      <td>852.0</td>\n",
       "      <td>1</td>\n",
       "      <td>-37.42</td>\n",
       "    </tr>\n",
       "    <tr>\n",
       "      <th>90814749</th>\n",
       "      <td>65301.33</td>\n",
       "      <td>151.68</td>\n",
       "      <td>1916.0</td>\n",
       "      <td>902.0</td>\n",
       "      <td>1472.62</td>\n",
       "      <td>35</td>\n",
       "      <td>1845.16</td>\n",
       "      <td>831.0</td>\n",
       "      <td>1</td>\n",
       "      <td>-32.98</td>\n",
       "    </tr>\n",
       "  </tbody>\n",
       "</table>\n",
       "</div>"
      ],
      "text/plain": [
       "            balance       Y  phone_bank  inter_bank  sales_pos  age      pos  \\\n",
       "account                                                                        \n",
       "37709441   98107.03  153.41       252.0      1692.0     399.84   18   663.05   \n",
       "38923874  506145.72  151.27       517.5       827.0     734.41   38  1716.74   \n",
       "53508546   54704.11  150.62       517.5       734.5    1204.22   35   350.31   \n",
       "80388494   35050.32  144.97       517.5       270.0    3033.07   28  1356.47   \n",
       "90814749   65301.33  151.68      1916.0       902.0    1472.62   35  1845.16   \n",
       "\n",
       "          payment  gender_M      X  \n",
       "account                             \n",
       "37709441   2088.0         1 -28.01  \n",
       "38923874   4671.0         1 -33.90  \n",
       "53508546   1180.0         0 -33.76  \n",
       "80388494    852.0         1 -37.42  \n",
       "90814749    831.0         1 -32.98  "
      ]
     },
     "execution_count": 69,
     "metadata": {},
     "output_type": "execute_result"
    }
   ],
   "source": [
    "X = df_merged[features]\n",
    "y = df_merged['annualized_sal']\n",
    "X.head()"
   ]
  },
  {
   "cell_type": "code",
   "execution_count": 70,
   "metadata": {},
   "outputs": [],
   "source": [
    "# Normalize X using a StandardScalar\n",
    "scaler = StandardScaler()\n",
    "X_scaled = scaler.fit_transform(X)"
   ]
  },
  {
   "cell_type": "code",
   "execution_count": 71,
   "metadata": {},
   "outputs": [
    {
     "data": {
      "text/html": [
       "<div>\n",
       "<style scoped>\n",
       "    .dataframe tbody tr th:only-of-type {\n",
       "        vertical-align: middle;\n",
       "    }\n",
       "\n",
       "    .dataframe tbody tr th {\n",
       "        vertical-align: top;\n",
       "    }\n",
       "\n",
       "    .dataframe thead th {\n",
       "        text-align: right;\n",
       "    }\n",
       "</style>\n",
       "<table border=\"1\" class=\"dataframe\">\n",
       "  <thead>\n",
       "    <tr style=\"text-align: right;\">\n",
       "      <th></th>\n",
       "      <th>balance</th>\n",
       "      <th>Y</th>\n",
       "      <th>phone_bank</th>\n",
       "      <th>inter_bank</th>\n",
       "      <th>sales_pos</th>\n",
       "      <th>age</th>\n",
       "      <th>pos</th>\n",
       "      <th>payment</th>\n",
       "      <th>gender_M</th>\n",
       "      <th>X</th>\n",
       "    </tr>\n",
       "  </thead>\n",
       "  <tbody>\n",
       "    <tr>\n",
       "      <th>0</th>\n",
       "      <td>-0.172917</td>\n",
       "      <td>0.610939</td>\n",
       "      <td>-1.536565</td>\n",
       "      <td>1.338119</td>\n",
       "      <td>-1.026027</td>\n",
       "      <td>-1.198810</td>\n",
       "      <td>-0.668345</td>\n",
       "      <td>0.056973</td>\n",
       "      <td>0.886405</td>\n",
       "      <td>0.196988</td>\n",
       "    </tr>\n",
       "    <tr>\n",
       "      <th>1</th>\n",
       "      <td>1.615013</td>\n",
       "      <td>0.478129</td>\n",
       "      <td>-0.129134</td>\n",
       "      <td>-0.084450</td>\n",
       "      <td>-0.736069</td>\n",
       "      <td>0.542381</td>\n",
       "      <td>0.134553</td>\n",
       "      <td>2.459192</td>\n",
       "      <td>0.886405</td>\n",
       "      <td>0.087915</td>\n",
       "    </tr>\n",
       "    <tr>\n",
       "      <th>2</th>\n",
       "      <td>-0.363099</td>\n",
       "      <td>0.437789</td>\n",
       "      <td>-0.129134</td>\n",
       "      <td>-0.236574</td>\n",
       "      <td>-0.328904</td>\n",
       "      <td>0.281202</td>\n",
       "      <td>-0.906649</td>\n",
       "      <td>-0.787478</td>\n",
       "      <td>-1.128152</td>\n",
       "      <td>0.090508</td>\n",
       "    </tr>\n",
       "    <tr>\n",
       "      <th>3</th>\n",
       "      <td>-0.449217</td>\n",
       "      <td>0.087146</td>\n",
       "      <td>-0.129134</td>\n",
       "      <td>-1.000485</td>\n",
       "      <td>1.256084</td>\n",
       "      <td>-0.328215</td>\n",
       "      <td>-0.139968</td>\n",
       "      <td>-1.092522</td>\n",
       "      <td>0.886405</td>\n",
       "      <td>0.022731</td>\n",
       "    </tr>\n",
       "    <tr>\n",
       "      <th>4</th>\n",
       "      <td>-0.316664</td>\n",
       "      <td>0.503574</td>\n",
       "      <td>7.284396</td>\n",
       "      <td>0.038894</td>\n",
       "      <td>-0.096293</td>\n",
       "      <td>0.281202</td>\n",
       "      <td>0.232408</td>\n",
       "      <td>-1.112052</td>\n",
       "      <td>0.886405</td>\n",
       "      <td>0.104952</td>\n",
       "    </tr>\n",
       "    <tr>\n",
       "      <th>...</th>\n",
       "      <td>...</td>\n",
       "      <td>...</td>\n",
       "      <td>...</td>\n",
       "      <td>...</td>\n",
       "      <td>...</td>\n",
       "      <td>...</td>\n",
       "      <td>...</td>\n",
       "      <td>...</td>\n",
       "      <td>...</td>\n",
       "      <td>...</td>\n",
       "    </tr>\n",
       "    <tr>\n",
       "      <th>95</th>\n",
       "      <td>-0.236044</td>\n",
       "      <td>-1.722547</td>\n",
       "      <td>-0.129134</td>\n",
       "      <td>0.201709</td>\n",
       "      <td>1.547611</td>\n",
       "      <td>-0.937632</td>\n",
       "      <td>-0.711535</td>\n",
       "      <td>1.795164</td>\n",
       "      <td>0.886405</td>\n",
       "      <td>0.126433</td>\n",
       "    </tr>\n",
       "    <tr>\n",
       "      <th>96</th>\n",
       "      <td>-0.190322</td>\n",
       "      <td>0.339113</td>\n",
       "      <td>-0.129134</td>\n",
       "      <td>-0.236574</td>\n",
       "      <td>-1.281943</td>\n",
       "      <td>-0.502334</td>\n",
       "      <td>-1.158524</td>\n",
       "      <td>0.386197</td>\n",
       "      <td>-1.128152</td>\n",
       "      <td>0.068101</td>\n",
       "    </tr>\n",
       "    <tr>\n",
       "      <th>97</th>\n",
       "      <td>-0.376591</td>\n",
       "      <td>0.116935</td>\n",
       "      <td>-0.129134</td>\n",
       "      <td>-0.342650</td>\n",
       "      <td>0.934684</td>\n",
       "      <td>-0.676453</td>\n",
       "      <td>1.621252</td>\n",
       "      <td>-0.039749</td>\n",
       "      <td>-1.128152</td>\n",
       "      <td>0.016805</td>\n",
       "    </tr>\n",
       "    <tr>\n",
       "      <th>98</th>\n",
       "      <td>-0.418764</td>\n",
       "      <td>0.103282</td>\n",
       "      <td>-0.129134</td>\n",
       "      <td>-0.236574</td>\n",
       "      <td>-1.170516</td>\n",
       "      <td>-1.024691</td>\n",
       "      <td>-0.130039</td>\n",
       "      <td>-0.784688</td>\n",
       "      <td>0.886405</td>\n",
       "      <td>0.014583</td>\n",
       "    </tr>\n",
       "    <tr>\n",
       "      <th>99</th>\n",
       "      <td>0.602356</td>\n",
       "      <td>0.087766</td>\n",
       "      <td>-0.200698</td>\n",
       "      <td>-0.236574</td>\n",
       "      <td>0.407912</td>\n",
       "      <td>0.890619</td>\n",
       "      <td>-1.079963</td>\n",
       "      <td>-0.547535</td>\n",
       "      <td>0.886405</td>\n",
       "      <td>0.014953</td>\n",
       "    </tr>\n",
       "  </tbody>\n",
       "</table>\n",
       "<p>100 rows × 10 columns</p>\n",
       "</div>"
      ],
      "text/plain": [
       "     balance         Y  phone_bank  inter_bank  sales_pos       age       pos  \\\n",
       "0  -0.172917  0.610939   -1.536565    1.338119  -1.026027 -1.198810 -0.668345   \n",
       "1   1.615013  0.478129   -0.129134   -0.084450  -0.736069  0.542381  0.134553   \n",
       "2  -0.363099  0.437789   -0.129134   -0.236574  -0.328904  0.281202 -0.906649   \n",
       "3  -0.449217  0.087146   -0.129134   -1.000485   1.256084 -0.328215 -0.139968   \n",
       "4  -0.316664  0.503574    7.284396    0.038894  -0.096293  0.281202  0.232408   \n",
       "..       ...       ...         ...         ...        ...       ...       ...   \n",
       "95 -0.236044 -1.722547   -0.129134    0.201709   1.547611 -0.937632 -0.711535   \n",
       "96 -0.190322  0.339113   -0.129134   -0.236574  -1.281943 -0.502334 -1.158524   \n",
       "97 -0.376591  0.116935   -0.129134   -0.342650   0.934684 -0.676453  1.621252   \n",
       "98 -0.418764  0.103282   -0.129134   -0.236574  -1.170516 -1.024691 -0.130039   \n",
       "99  0.602356  0.087766   -0.200698   -0.236574   0.407912  0.890619 -1.079963   \n",
       "\n",
       "     payment  gender_M         X  \n",
       "0   0.056973  0.886405  0.196988  \n",
       "1   2.459192  0.886405  0.087915  \n",
       "2  -0.787478 -1.128152  0.090508  \n",
       "3  -1.092522  0.886405  0.022731  \n",
       "4  -1.112052  0.886405  0.104952  \n",
       "..       ...       ...       ...  \n",
       "95  1.795164  0.886405  0.126433  \n",
       "96  0.386197 -1.128152  0.068101  \n",
       "97 -0.039749 -1.128152  0.016805  \n",
       "98 -0.784688  0.886405  0.014583  \n",
       "99 -0.547535  0.886405  0.014953  \n",
       "\n",
       "[100 rows x 10 columns]"
      ]
     },
     "execution_count": 71,
     "metadata": {},
     "output_type": "execute_result"
    }
   ],
   "source": [
    "X = pd.DataFrame(X_scaled, columns=X.columns)\n",
    "X"
   ]
  },
  {
   "cell_type": "markdown",
   "metadata": {},
   "source": [
    "### b) Linear Regression Model"
   ]
  },
  {
   "cell_type": "code",
   "execution_count": 72,
   "metadata": {},
   "outputs": [],
   "source": [
    "from sklearn.linear_model import Lasso, LassoCV\n",
    "from sklearn.metrics import mean_squared_error"
   ]
  },
  {
   "cell_type": "code",
   "execution_count": 73,
   "metadata": {},
   "outputs": [],
   "source": [
    "# split data again\n",
    "X_train, X_test, y_train, y_test = train_test_split(X, y, test_size = 0.3, random_state=42)"
   ]
  },
  {
   "cell_type": "code",
   "execution_count": 74,
   "metadata": {},
   "outputs": [],
   "source": [
    "reg = LinearRegression().fit(X_train, y_train)"
   ]
  },
  {
   "cell_type": "code",
   "execution_count": 81,
   "metadata": {},
   "outputs": [
    {
     "data": {
      "text/plain": [
       "0.4802307603404141"
      ]
     },
     "execution_count": 81,
     "metadata": {},
     "output_type": "execute_result"
    }
   ],
   "source": [
    "reg.score(X_train, y_train)"
   ]
  },
  {
   "cell_type": "code",
   "execution_count": null,
   "metadata": {},
   "outputs": [],
   "source": []
  },
  {
   "cell_type": "code",
   "execution_count": 82,
   "metadata": {},
   "outputs": [],
   "source": [
    "def view_coeff(X, model):\n",
    "    model_coefs = pd.DataFrame({'variable': X.columns,\n",
    "                                'coef': model.coef_,\n",
    "                                'abs_coef': np.abs(model.coef_)})\n",
    "    model_coefs.sort_values('abs_coef', inplace=True, ascending=False)\n",
    "    sns.barplot(x=\"variable\", y=\"coef\", data=model_coefs, )"
   ]
  },
  {
   "cell_type": "code",
   "execution_count": 83,
   "metadata": {},
   "outputs": [
    {
     "data": {
      "image/png": "[encoded data removed]",
      "text/plain": [
       "<Figure size 432x288 with 1 Axes>"
      ]
     },
     "metadata": {
      "needs_background": "light"
     },
     "output_type": "display_data"
    }
   ],
   "source": [
    "# Plot Coefficients\n",
    "view_coeff(X, reg)"
   ]
  },
  {
   "cell_type": "code",
   "execution_count": 84,
   "metadata": {},
   "outputs": [
    {
     "ename": "NameError",
     "evalue": "name 'lasso_alphas' is not defined",
     "output_type": "error",
     "traceback": [
      "\u001b[1;31m---------------------------------------------------------------------------\u001b[0m",
      "\u001b[1;31mNameError\u001b[0m                                 Traceback (most recent call last)",
      "\u001b[1;32m<ipython-input-84-cc5e6dcbecf3>\u001b[0m in \u001b[0;36m<module>\u001b[1;34m\u001b[0m\n\u001b[0;32m      1\u001b[0m \u001b[1;31m# Find Optimal Lasso Using LassoCV\u001b[0m\u001b[1;33m\u001b[0m\u001b[1;33m\u001b[0m\u001b[1;33m\u001b[0m\u001b[0m\n\u001b[1;32m----> 2\u001b[1;33m \u001b[0moptimal_lasso\u001b[0m \u001b[1;33m=\u001b[0m \u001b[0mLassoCV\u001b[0m\u001b[1;33m(\u001b[0m\u001b[0malphas\u001b[0m\u001b[1;33m=\u001b[0m\u001b[0mlasso_alphas\u001b[0m\u001b[1;33m,\u001b[0m \u001b[0mcv\u001b[0m\u001b[1;33m=\u001b[0m\u001b[1;36m10\u001b[0m\u001b[1;33m)\u001b[0m\u001b[1;33m\u001b[0m\u001b[1;33m\u001b[0m\u001b[0m\n\u001b[0m\u001b[0;32m      3\u001b[0m \u001b[0moptimal_lasso\u001b[0m\u001b[1;33m.\u001b[0m\u001b[0mfit\u001b[0m\u001b[1;33m(\u001b[0m\u001b[0mX\u001b[0m\u001b[1;33m,\u001b[0m \u001b[0my\u001b[0m\u001b[1;33m)\u001b[0m\u001b[1;33m\u001b[0m\u001b[1;33m\u001b[0m\u001b[0m\n\u001b[0;32m      4\u001b[0m \u001b[0mprint\u001b[0m\u001b[1;33m(\u001b[0m\u001b[1;34m'Alpha:'\u001b[0m\u001b[1;33m,\u001b[0m \u001b[0moptimal_lasso\u001b[0m\u001b[1;33m.\u001b[0m\u001b[0malpha_\u001b[0m\u001b[1;33m)\u001b[0m\u001b[1;33m\u001b[0m\u001b[1;33m\u001b[0m\u001b[0m\n\u001b[0;32m      5\u001b[0m \u001b[0mprint\u001b[0m\u001b[1;33m(\u001b[0m\u001b[1;34m'Score:'\u001b[0m\u001b[1;33m,\u001b[0m \u001b[0moptimal_lasso\u001b[0m\u001b[1;33m.\u001b[0m\u001b[0mscore\u001b[0m\u001b[1;33m(\u001b[0m\u001b[0mX\u001b[0m\u001b[1;33m,\u001b[0m \u001b[0my\u001b[0m\u001b[1;33m)\u001b[0m\u001b[1;33m)\u001b[0m\u001b[1;33m\u001b[0m\u001b[1;33m\u001b[0m\u001b[0m\n",
      "\u001b[1;31mNameError\u001b[0m: name 'lasso_alphas' is not defined"
     ]
    }
   ],
   "source": [
    "# Find Optimal Lasso Using LassoCV\n",
    "optimal_lasso = LassoCV(alphas=lasso_alphas, cv=10)\n",
    "optimal_lasso.fit(X, y)\n",
    "print('Alpha:', optimal_lasso.alpha_)\n",
    "print('Score:', optimal_lasso.score(X, y))"
   ]
  },
  {
   "cell_type": "code",
   "execution_count": 85,
   "metadata": {},
   "outputs": [
    {
     "ename": "NameError",
     "evalue": "name 'optimal_lasso' is not defined",
     "output_type": "error",
     "traceback": [
      "\u001b[1;31m---------------------------------------------------------------------------\u001b[0m",
      "\u001b[1;31mNameError\u001b[0m                                 Traceback (most recent call last)",
      "\u001b[1;32m<ipython-input-85-1251b25f7bcd>\u001b[0m in \u001b[0;36m<module>\u001b[1;34m\u001b[0m\n\u001b[0;32m      1\u001b[0m \u001b[1;31m# Plot Coefficient\u001b[0m\u001b[1;33m\u001b[0m\u001b[1;33m\u001b[0m\u001b[1;33m\u001b[0m\u001b[0m\n\u001b[1;32m----> 2\u001b[1;33m \u001b[0mview_coeff\u001b[0m\u001b[1;33m(\u001b[0m\u001b[0mX\u001b[0m\u001b[1;33m,\u001b[0m \u001b[0moptimal_lasso\u001b[0m\u001b[1;33m)\u001b[0m\u001b[1;33m\u001b[0m\u001b[1;33m\u001b[0m\u001b[0m\n\u001b[0m",
      "\u001b[1;31mNameError\u001b[0m: name 'optimal_lasso' is not defined"
     ]
    }
   ],
   "source": [
    "# Plot Coefficient\n",
    "view_coeff(X, optimal_lasso)"
   ]
  },
  {
   "cell_type": "code",
   "execution_count": null,
   "metadata": {},
   "outputs": [],
   "source": [
    "X"
   ]
  },
  {
   "cell_type": "code",
   "execution_count": null,
   "metadata": {},
   "outputs": [],
   "source": []
  }
 ],
 "metadata": {
  "kernelspec": {
   "display_name": "Python 3",
   "language": "python",
   "name": "python3"
  },
  "language_info": {
   "codemirror_mode": {
    "name": "ipython",
    "version": 3
   },
   "file_extension": ".py",
   "mimetype": "text/x-python",
   "name": "python",
   "nbconvert_exporter": "python",
   "pygments_lexer": "ipython3",
   "version": "3.8.5"
  }
 },
 "nbformat": 4,
 "nbformat_minor": 4
}
