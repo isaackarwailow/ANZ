{
 "cells": [
  {
   "cell_type": "markdown",
   "metadata": {},
   "source": [
    "# Predictive Analysis: ANZ Synthesized 3-month Transactional Dataset"
   ]
  },
  {
   "cell_type": "code",
   "execution_count": 71,
   "metadata": {},
   "outputs": [],
   "source": [
    "import pandas as pd\n",
    "import reverse_geocoder as rg\n",
    "import numpy as np\n",
    "import matplotlib.pyplot as plt\n",
    "import seaborn as sns\n",
    "from sklearn.preprocessing import StandardScaler\n",
    "from sklearn.model_selection import train_test_split\n",
    "from sklearn.linear_model import LinearRegression\n",
    "from sklearn.linear_model import LogisticRegression\n",
    "from sklearn.decomposition import PCA\n",
    "\n",
    "from sklearn.model_selection import GridSearchCV\n",
    "import sklearn.metrics as metrics\n",
    "from sklearn.metrics import roc_curve, auc\n",
    "from sklearn import svm, naive_bayes\n",
    "from sklearn.datasets import make_blobs\n",
    "from sklearn.model_selection import learning_curve\n",
    "\n",
    "%matplotlib inline"
   ]
  },
  {
   "cell_type": "markdown",
   "metadata": {},
   "source": [
    "## Background\n",
    "\n",
    "Source: https://www.theforage.com/modules/ZLJCsrpkHo9pZBJNY/BiJPfqmGY2QwgN6gA\n",
    "\n",
    "This task is based on a synthesised transaction dataset containing 3 months’ worth of transactions for 100 hypothetical customers. It contains purchases, recurring transactions, and salary transactions. The dataset is designed to simulate realistic transaction behaviours that are observed in ANZ’s real transaction data, so many of the insights gathered from the activities will be genuine."
   ]
  },
  {
   "cell_type": "markdown",
   "metadata": {},
   "source": [
    "## Step 0: Load the dataset and perform EDA"
   ]
  },
  {
   "cell_type": "markdown",
   "metadata": {},
   "source": [
    "### Overview\n",
    "The aim of this dataset is to try to understand the features of purchasing behaviour of customers (independent variables) for modelling expected values for annualized salary (dependent variable)"
   ]
  },
  {
   "cell_type": "code",
   "execution_count": 130,
   "metadata": {},
   "outputs": [],
   "source": [
    "# referencing the cleaned dataset\n",
    "file = 'DATA/ANZ-synthesized-transactions-cleaned.csv'\n",
    "# Read file and parse timestamp as the index\n",
    "df = pd.read_csv(file)"
   ]
  },
  {
   "cell_type": "code",
   "execution_count": 131,
   "metadata": {},
   "outputs": [
    {
     "output_type": "stream",
     "name": "stdout",
     "text": [
      "<class 'pandas.core.frame.DataFrame'>\nRangeIndex: 12043 entries, 0 to 12042\nData columns (total 21 columns):\n #   Column             Non-Null Count  Dtype  \n---  ------             --------------  -----  \n 0   timestamp          12043 non-null  object \n 1   status             12043 non-null  object \n 2   card_present_flag  6194 non-null   float64\n 3   account            12043 non-null  int64  \n 4   first_name         12043 non-null  object \n 5   age                12043 non-null  int64  \n 6   gender             12043 non-null  object \n 7   txn_description    12043 non-null  object \n 8   balance            12043 non-null  float64\n 9   amount             12043 non-null  float64\n 10  geometry           12043 non-null  object \n 11  X                  12043 non-null  float64\n 12  Y                  12043 non-null  float64\n 13  merch_suburb       7717 non-null   object \n 14  merch_state        7717 non-null   object \n 15  merch_geometry     7717 non-null   object \n 16  merch_X            7717 non-null   float64\n 17  merch_Y            7717 non-null   float64\n 18  distance           7709 non-null   float64\n 19  country            12043 non-null  object \n 20  card_present_bool  12043 non-null  bool   \ndtypes: bool(1), float64(8), int64(2), object(10)\nmemory usage: 1.8+ MB\n"
     ]
    }
   ],
   "source": [
    "df.info()"
   ]
  },
  {
   "cell_type": "code",
   "execution_count": 132,
   "metadata": {},
   "outputs": [
    {
     "output_type": "execute_result",
     "data": {
      "text/plain": [
       "timestamp               0\n",
       "status                  0\n",
       "card_present_flag    5849\n",
       "account                 0\n",
       "first_name              0\n",
       "age                     0\n",
       "gender                  0\n",
       "txn_description         0\n",
       "balance                 0\n",
       "amount                  0\n",
       "geometry                0\n",
       "X                       0\n",
       "Y                       0\n",
       "merch_suburb         4326\n",
       "merch_state          4326\n",
       "merch_geometry       4326\n",
       "merch_X              4326\n",
       "merch_Y              4326\n",
       "distance             4334\n",
       "country                 0\n",
       "card_present_bool       0\n",
       "dtype: int64"
      ]
     },
     "metadata": {},
     "execution_count": 132
    }
   ],
   "source": [
    "df.isnull().sum()"
   ]
  },
  {
   "cell_type": "code",
   "execution_count": 133,
   "metadata": {},
   "outputs": [
    {
     "output_type": "execute_result",
     "data": {
      "text/plain": [
       "timestamp             9231\n",
       "status                   2\n",
       "card_present_flag        1\n",
       "account                100\n",
       "first_name              80\n",
       "age                     33\n",
       "gender                   2\n",
       "txn_description          6\n",
       "balance              11920\n",
       "amount                3980\n",
       "geometry               100\n",
       "X                       85\n",
       "Y                       87\n",
       "merch_suburb          1609\n",
       "merch_state              8\n",
       "merch_geometry        2674\n",
       "merch_X                647\n",
       "merch_Y                690\n",
       "distance              3967\n",
       "country                  1\n",
       "card_present_bool        2\n",
       "dtype: int64"
      ]
     },
     "metadata": {},
     "execution_count": 133
    }
   ],
   "source": [
    "# Check the distinct values for each column\n",
    "df.nunique()"
   ]
  },
  {
   "cell_type": "code",
   "execution_count": 134,
   "metadata": {},
   "outputs": [
    {
     "output_type": "execute_result",
     "data": {
      "text/plain": [
       "           timestamp      status  card_present_flag    account first_name  \\\n",
       "0   218-8-1 1:1:15+:  authorized                1.0  159845171      Diana   \n",
       "1  218-8-1 1:13:45+:  authorized                NaN  159845171      Diana   \n",
       "2  218-8-1 1:26:15+:  authorized                1.0   12223524    Michael   \n",
       "3  218-8-1 1:38:45+:  authorized                1.0    1375564     Rhonda   \n",
       "4  218-8-1 1:51:15+:  authorized                1.0  159845171      Diana   \n",
       "\n",
       "   age gender txn_description  balance  amount  ...      X       Y  \\\n",
       "0   26      F             POS    35.39   16.25  ... -27.95  153.41   \n",
       "1   26      F       SALES-POS    21.20   14.19  ... -27.95  153.41   \n",
       "2   38      M             POS     5.71    6.42  ... -33.94  151.23   \n",
       "3    4      F       SALES-POS  2117.22    4.90  ... -27.66  153.10   \n",
       "4   26      F       SALES-POS    17.95    3.25  ... -27.95  153.41   \n",
       "\n",
       "    merch_suburb merch_state merch_geometry merch_X  merch_Y  distance  \\\n",
       "0        Ashmore         QLD  153.38 -27.99  -27.99   153.38      5.34   \n",
       "1         Sydney         NSW  151.21 -33.87  -33.87   151.21    691.63   \n",
       "2         Sydney         NSW  151.21 -33.87  -33.87   151.21      8.10   \n",
       "3        Buderim         QLD   153.5 -26.68  -26.68   153.50     19.20   \n",
       "4  Mermaid Beach         QLD   153.44 -28.6  -28.60   153.44     12.60   \n",
       "\n",
       "     country card_present_bool  \n",
       "0  Australia              True  \n",
       "1  Australia             False  \n",
       "2  Australia              True  \n",
       "3  Australia              True  \n",
       "4  Australia              True  \n",
       "\n",
       "[5 rows x 21 columns]"
      ],
      "text/html": "<div>\n<style scoped>\n    .dataframe tbody tr th:only-of-type {\n        vertical-align: middle;\n    }\n\n    .dataframe tbody tr th {\n        vertical-align: top;\n    }\n\n    .dataframe thead th {\n        text-align: right;\n    }\n</style>\n<table border=\"1\" class=\"dataframe\">\n  <thead>\n    <tr style=\"text-align: right;\">\n      <th></th>\n      <th>timestamp</th>\n      <th>status</th>\n      <th>card_present_flag</th>\n      <th>account</th>\n      <th>first_name</th>\n      <th>age</th>\n      <th>gender</th>\n      <th>txn_description</th>\n      <th>balance</th>\n      <th>amount</th>\n      <th>...</th>\n      <th>X</th>\n      <th>Y</th>\n      <th>merch_suburb</th>\n      <th>merch_state</th>\n      <th>merch_geometry</th>\n      <th>merch_X</th>\n      <th>merch_Y</th>\n      <th>distance</th>\n      <th>country</th>\n      <th>card_present_bool</th>\n    </tr>\n  </thead>\n  <tbody>\n    <tr>\n      <th>0</th>\n      <td>218-8-1 1:1:15+:</td>\n      <td>authorized</td>\n      <td>1.0</td>\n      <td>159845171</td>\n      <td>Diana</td>\n      <td>26</td>\n      <td>F</td>\n      <td>POS</td>\n      <td>35.39</td>\n      <td>16.25</td>\n      <td>...</td>\n      <td>-27.95</td>\n      <td>153.41</td>\n      <td>Ashmore</td>\n      <td>QLD</td>\n      <td>153.38 -27.99</td>\n      <td>-27.99</td>\n      <td>153.38</td>\n      <td>5.34</td>\n      <td>Australia</td>\n      <td>True</td>\n    </tr>\n    <tr>\n      <th>1</th>\n      <td>218-8-1 1:13:45+:</td>\n      <td>authorized</td>\n      <td>NaN</td>\n      <td>159845171</td>\n      <td>Diana</td>\n      <td>26</td>\n      <td>F</td>\n      <td>SALES-POS</td>\n      <td>21.20</td>\n      <td>14.19</td>\n      <td>...</td>\n      <td>-27.95</td>\n      <td>153.41</td>\n      <td>Sydney</td>\n      <td>NSW</td>\n      <td>151.21 -33.87</td>\n      <td>-33.87</td>\n      <td>151.21</td>\n      <td>691.63</td>\n      <td>Australia</td>\n      <td>False</td>\n    </tr>\n    <tr>\n      <th>2</th>\n      <td>218-8-1 1:26:15+:</td>\n      <td>authorized</td>\n      <td>1.0</td>\n      <td>12223524</td>\n      <td>Michael</td>\n      <td>38</td>\n      <td>M</td>\n      <td>POS</td>\n      <td>5.71</td>\n      <td>6.42</td>\n      <td>...</td>\n      <td>-33.94</td>\n      <td>151.23</td>\n      <td>Sydney</td>\n      <td>NSW</td>\n      <td>151.21 -33.87</td>\n      <td>-33.87</td>\n      <td>151.21</td>\n      <td>8.10</td>\n      <td>Australia</td>\n      <td>True</td>\n    </tr>\n    <tr>\n      <th>3</th>\n      <td>218-8-1 1:38:45+:</td>\n      <td>authorized</td>\n      <td>1.0</td>\n      <td>1375564</td>\n      <td>Rhonda</td>\n      <td>4</td>\n      <td>F</td>\n      <td>SALES-POS</td>\n      <td>2117.22</td>\n      <td>4.90</td>\n      <td>...</td>\n      <td>-27.66</td>\n      <td>153.10</td>\n      <td>Buderim</td>\n      <td>QLD</td>\n      <td>153.5 -26.68</td>\n      <td>-26.68</td>\n      <td>153.50</td>\n      <td>19.20</td>\n      <td>Australia</td>\n      <td>True</td>\n    </tr>\n    <tr>\n      <th>4</th>\n      <td>218-8-1 1:51:15+:</td>\n      <td>authorized</td>\n      <td>1.0</td>\n      <td>159845171</td>\n      <td>Diana</td>\n      <td>26</td>\n      <td>F</td>\n      <td>SALES-POS</td>\n      <td>17.95</td>\n      <td>3.25</td>\n      <td>...</td>\n      <td>-27.95</td>\n      <td>153.41</td>\n      <td>Mermaid Beach</td>\n      <td>QLD</td>\n      <td>153.44 -28.6</td>\n      <td>-28.60</td>\n      <td>153.44</td>\n      <td>12.60</td>\n      <td>Australia</td>\n      <td>True</td>\n    </tr>\n  </tbody>\n</table>\n<p>5 rows × 21 columns</p>\n</div>"
     },
     "metadata": {},
     "execution_count": 134
    }
   ],
   "source": [
    "df.head()"
   ]
  },
  {
   "cell_type": "code",
   "execution_count": 135,
   "metadata": {},
   "outputs": [
    {
     "output_type": "execute_result",
     "data": {
      "text/plain": [
       "SALES-POS     3934\n",
       "POS           3783\n",
       "PAYMENT       2600\n",
       "PAY/SALARY     883\n",
       "INTER BANK     742\n",
       "PHONE BANK     101\n",
       "Name: txn_description, dtype: int64"
      ]
     },
     "metadata": {},
     "execution_count": 135
    }
   ],
   "source": [
    "df.txn_description.value_counts()"
   ]
  },
  {
   "cell_type": "code",
   "execution_count": 136,
   "metadata": {},
   "outputs": [
    {
     "output_type": "execute_result",
     "data": {
      "text/plain": [
       "NSW    2169\n",
       "VIC    2131\n",
       "QLD    1556\n",
       "WA     1100\n",
       "SA      415\n",
       "NT      205\n",
       "ACT      73\n",
       "TAS      68\n",
       "Name: merch_state, dtype: int64"
      ]
     },
     "metadata": {},
     "execution_count": 136
    }
   ],
   "source": [
    "df.merch_state.value_counts()"
   ]
  },
  {
   "cell_type": "code",
   "execution_count": 137,
   "metadata": {},
   "outputs": [],
   "source": [
    "df_state_cat = df.groupby(['account', 'merch_state']).size().unstack(fill_value=0)"
   ]
  },
  {
   "cell_type": "code",
   "execution_count": 138,
   "metadata": {},
   "outputs": [],
   "source": [
    "assert np.sum(df_state_cat[['ACT', 'NSW', 'NT', 'QLD', 'SA', 'TAS', 'VIC', 'WA']].sum(axis=1) != 0) \\\n",
    "            == len(df.groupby('account')), 'If dataframe is indexed on customer accounts, \\\n",
    "            then there will be no missing values for merchant information'"
   ]
  },
  {
   "cell_type": "markdown",
   "metadata": {},
   "source": [
    "#### a) Drop irrelevant features"
   ]
  },
  {
   "cell_type": "code",
   "execution_count": 139,
   "metadata": {},
   "outputs": [],
   "source": [
    "df = df.drop(columns=['status', 'card_present_flag', 'first_name','country', \n",
    "                      'timestamp', 'geometry', 'merch_suburb', 'distance',\n",
    "                       'merch_geometry', 'card_present_bool'])"
   ]
  },
  {
   "cell_type": "markdown",
   "metadata": {},
   "source": [
    "#### b) Conduct Feature engineering"
   ]
  },
  {
   "cell_type": "code",
   "execution_count": 140,
   "metadata": {},
   "outputs": [],
   "source": [
    "def geocoder(data):\n",
    "    '''\n",
    "    input: dataframe containing Latitude(x) and Longitude(y) coordinates\n",
    "    output: JSON data containing info on available building or street names.\n",
    "    '''\n",
    "    coordinates = list(zip(data.X, data.Y))\n",
    "    results = rg.search(coordinates) # default mode = 2\n",
    "    return results\n",
    "\n",
    "list_1 = geocoder(df)"
   ]
  },
  {
   "cell_type": "code",
   "execution_count": 141,
   "metadata": {},
   "outputs": [],
   "source": [
    "df_geocodes = pd.DataFrame.from_dict(list_1)"
   ]
  },
  {
   "cell_type": "code",
   "execution_count": 142,
   "metadata": {},
   "outputs": [
    {
     "output_type": "execute_result",
     "data": {
      "text/plain": [
       "         lat        lon        name           admin1      admin2  cc\n",
       "0  -27.96724  153.39796   Southport       Queensland  Gold Coast  AU\n",
       "1  -27.96724  153.39796   Southport       Queensland  Gold Coast  AU\n",
       "2  -33.93333  151.23333  Daceyville  New South Wales    Randwick  AU\n",
       "3  -27.63917  153.10944  Logan City       Queensland       Logan  AU\n",
       "4  -27.96724  153.39796   Southport       Queensland  Gold Coast  AU"
      ],
      "text/html": "<div>\n<style scoped>\n    .dataframe tbody tr th:only-of-type {\n        vertical-align: middle;\n    }\n\n    .dataframe tbody tr th {\n        vertical-align: top;\n    }\n\n    .dataframe thead th {\n        text-align: right;\n    }\n</style>\n<table border=\"1\" class=\"dataframe\">\n  <thead>\n    <tr style=\"text-align: right;\">\n      <th></th>\n      <th>lat</th>\n      <th>lon</th>\n      <th>name</th>\n      <th>admin1</th>\n      <th>admin2</th>\n      <th>cc</th>\n    </tr>\n  </thead>\n  <tbody>\n    <tr>\n      <th>0</th>\n      <td>-27.96724</td>\n      <td>153.39796</td>\n      <td>Southport</td>\n      <td>Queensland</td>\n      <td>Gold Coast</td>\n      <td>AU</td>\n    </tr>\n    <tr>\n      <th>1</th>\n      <td>-27.96724</td>\n      <td>153.39796</td>\n      <td>Southport</td>\n      <td>Queensland</td>\n      <td>Gold Coast</td>\n      <td>AU</td>\n    </tr>\n    <tr>\n      <th>2</th>\n      <td>-33.93333</td>\n      <td>151.23333</td>\n      <td>Daceyville</td>\n      <td>New South Wales</td>\n      <td>Randwick</td>\n      <td>AU</td>\n    </tr>\n    <tr>\n      <th>3</th>\n      <td>-27.63917</td>\n      <td>153.10944</td>\n      <td>Logan City</td>\n      <td>Queensland</td>\n      <td>Logan</td>\n      <td>AU</td>\n    </tr>\n    <tr>\n      <th>4</th>\n      <td>-27.96724</td>\n      <td>153.39796</td>\n      <td>Southport</td>\n      <td>Queensland</td>\n      <td>Gold Coast</td>\n      <td>AU</td>\n    </tr>\n  </tbody>\n</table>\n</div>"
     },
     "metadata": {},
     "execution_count": 142
    }
   ],
   "source": [
    "df_geocodes.head()"
   ]
  },
  {
   "cell_type": "code",
   "execution_count": 143,
   "metadata": {},
   "outputs": [
    {
     "output_type": "execute_result",
     "data": {
      "text/plain": [
       "lat       83\n",
       "lon       85\n",
       "name      87\n",
       "admin1    11\n",
       "admin2    60\n",
       "cc         6\n",
       "dtype: int64"
      ]
     },
     "metadata": {},
     "execution_count": 143
    }
   ],
   "source": [
    "df_geocodes.nunique()"
   ]
  },
  {
   "cell_type": "code",
   "execution_count": 144,
   "metadata": {},
   "outputs": [
    {
     "output_type": "execute_result",
     "data": {
      "text/plain": [
       "AU    10513\n",
       "ZA      830\n",
       "AO      368\n",
       "ID      134\n",
       "AQ      123\n",
       "NA       75\n",
       "Name: cc, dtype: int64"
      ]
     },
     "metadata": {},
     "execution_count": 144
    }
   ],
   "source": [
    "df_geocodes.cc.value_counts()"
   ]
  },
  {
   "cell_type": "markdown",
   "metadata": {},
   "source": [
    "* AU = Australia\n",
    "* ZA = South Africa\n",
    "* AO = Angola\n",
    "* ID = Indonesia\n",
    "* AQ = Antartica\n",
    "* NA = Namibia"
   ]
  },
  {
   "cell_type": "code",
   "execution_count": 145,
   "metadata": {},
   "outputs": [
    {
     "output_type": "execute_result",
     "data": {
      "text/plain": [
       "Victoria             3716\n",
       "Queensland           2360\n",
       "New South Wales      1835\n",
       "Western Australia    1716\n",
       "Western Cape          830\n",
       "South Australia       798\n",
       "Benguela              368\n",
       "Sulawesi Tenggara     134\n",
       "                      123\n",
       "Tasmania               88\n",
       "Erongo                 75\n",
       "Name: admin1, dtype: int64"
      ]
     },
     "metadata": {},
     "execution_count": 145
    }
   ],
   "source": [
    "df_geocodes.admin1.value_counts()"
   ]
  },
  {
   "cell_type": "code",
   "execution_count": 146,
   "metadata": {},
   "outputs": [],
   "source": [
    "check_null = df_geocodes.isnull().sum()"
   ]
  },
  {
   "cell_type": "code",
   "execution_count": 147,
   "metadata": {},
   "outputs": [
    {
     "output_type": "execute_result",
     "data": {
      "text/plain": [
       "lat       0\n",
       "lon       0\n",
       "name      0\n",
       "admin1    0\n",
       "admin2    0\n",
       "cc        0\n",
       "dtype: int64"
      ]
     },
     "metadata": {},
     "execution_count": 147
    }
   ],
   "source": [
    "check_null"
   ]
  },
  {
   "cell_type": "code",
   "execution_count": 148,
   "metadata": {},
   "outputs": [
    {
     "output_type": "execute_result",
     "data": {
      "text/plain": [
       "123"
      ]
     },
     "metadata": {},
     "execution_count": 148
    }
   ],
   "source": [
    "df_geocodes[~df_geocodes.admin1.str.contains('\\w')].admin1.count()"
   ]
  },
  {
   "cell_type": "code",
   "execution_count": 149,
   "metadata": {},
   "outputs": [],
   "source": [
    "df_geocodes.replace(r'^\\s*$', np.nan, regex=True, inplace=True)"
   ]
  },
  {
   "cell_type": "code",
   "execution_count": 150,
   "metadata": {},
   "outputs": [
    {
     "output_type": "execute_result",
     "data": {
      "text/plain": [
       "lat         0\n",
       "lon         0\n",
       "name        0\n",
       "admin1    123\n",
       "admin2    973\n",
       "cc          0\n",
       "dtype: int64"
      ]
     },
     "metadata": {},
     "execution_count": 150
    }
   ],
   "source": [
    "df_geocodes.isnull().sum()"
   ]
  },
  {
   "cell_type": "code",
   "execution_count": 151,
   "metadata": {},
   "outputs": [],
   "source": [
    "df['cust_state'] = df_geocodes['admin1']\n",
    "df['cc'] = df_geocodes['cc']"
   ]
  },
  {
   "cell_type": "code",
   "execution_count": 152,
   "metadata": {},
   "outputs": [],
   "source": [
    "# get dummy variables\n",
    "df = pd.get_dummies(data=df, columns=['gender', 'txn_description', 'merch_state', 'cust_state', 'cc'], \n",
    "                    prefix=['g', 't', 'm', 'c', 'cc'], drop_first=True)"
   ]
  },
  {
   "cell_type": "code",
   "execution_count": 153,
   "metadata": {},
   "outputs": [],
   "source": [
    "# feature engineer from coordinates X and Y\n",
    "x = df.X\n",
    "y = df.Y"
   ]
  },
  {
   "cell_type": "markdown",
   "metadata": {},
   "source": [
    " **Source:** https://bmanikan.medium.com/feature-engineering-all-i-learned-about-geo-spatial-features-649871d16796"
   ]
  },
  {
   "cell_type": "code",
   "execution_count": 154,
   "metadata": {},
   "outputs": [],
   "source": [
    "# geospatial feature engineering trick 1: Add 4 new features of Polar coordinates to the dataset\n",
    "df['r'] = np.sqrt(x**2 + y**2)\n",
    "df['phi'] = np.arctan2(y, x)\n",
    "df['rot_x'] = np.cos(x) + np.sin(x)\n",
    "df['rot_y'] = np.sin(x) - np.sin(y)"
   ]
  },
  {
   "cell_type": "code",
   "execution_count": 155,
   "metadata": {},
   "outputs": [],
   "source": [
    "# geospatial feature engineering trick 2: Add 4 new features of rotational Cartesian coordinates\n",
    "\n",
    "df['rot_45_x'] = (0.707 * x) + (0.707 * y)\n",
    "df['rot_45_y'] = (0.707 * y) + (0.707 * x)\n",
    "df['rot_30_x'] = (0.866 * x) + (0.5 * y)\n",
    "df['rot_30_y'] = (0.866 * y) + (0.5 * x)"
   ]
  },
  {
   "cell_type": "code",
   "execution_count": 156,
   "metadata": {},
   "outputs": [
    {
     "output_type": "execute_result",
     "data": {
      "text/plain": [
       "pandas.core.series.Series"
      ]
     },
     "metadata": {},
     "execution_count": 156
    }
   ],
   "source": [
    "type(x_1)"
   ]
  },
  {
   "cell_type": "code",
   "execution_count": 157,
   "metadata": {},
   "outputs": [],
   "source": [
    "# geospatial feature engineering trick 3: Add new feature of Haversine distance to the dataset\n",
    "x_1 = df.merch_X\n",
    "y_1 = df.merch_Y\n",
    "\n",
    "def haversine_dist(lat1, lon1, lat2, lon2):\n",
    "   r = 6371\n",
    "   phi1 = np.radians(lat1)\n",
    "   phi2 = np.radians(lat2)\n",
    "   delta_phi = np.radians(lat2 - lat1)\n",
    "   delta_lambda = np.radians(lon2 - lon1)\n",
    "   a = np.sin(delta_phi / 2)**2 + np.cos(phi1) * np.cos(phi2) *   np.sin(delta_lambda / 2)**2\n",
    "   res = r * (2 * np.arctan2(np.sqrt(a), np.sqrt(1 - a)))\n",
    "   return np.round(res, 2)\n",
    "\n",
    "df['h_dist'] = haversine_dist(x, y, x_1, y_1)"
   ]
  },
  {
   "cell_type": "code",
   "execution_count": 158,
   "metadata": {},
   "outputs": [],
   "source": [
    "def manhattan_dist(lat1, lng1, lat2, lng2):\n",
    "    '''\n",
    "    calculating two haversine distances by,\n",
    "     - avoiding Latitude of one point \n",
    "     - avoiding Longitude of one point\n",
    "    and adding it together.\n",
    "    '''\n",
    "    a = haversine_dist(lat1, lng1, lat1, lng2)\n",
    "    b = haversine_dist(lat1, lng1, lat2, lng1)\n",
    "    return a + b\n",
    "\n",
    "df['m_dist'] = manhattan_dist(x, y, x_1, y_1)"
   ]
  },
  {
   "cell_type": "code",
   "execution_count": 159,
   "metadata": {},
   "outputs": [],
   "source": [
    "def bearing_degree(lat1, lng1, lat2, lng2):\n",
    "    '''\n",
    "    calculate angle between two points\n",
    "    '''\n",
    "    radius = 6371  # Mean radius of Earth\n",
    "    diff_lng = np.radians(lng2 - lng1)\n",
    "    lat1, lng1, lat2, lng2 = map(np.radians, (lat1, lng1, lat2, lng2))\n",
    "    y = np.sin(diff_lng) * np.cos(lat2)\n",
    "    x = np.cos(lat1) * np.sin(lat2) - np.sin(lat1) * np.cos(lat2) * np.cos(diff_lng)\n",
    "    return np.degrees(np.arctan2(y, x))\n",
    "\n",
    "df['b_deg'] = bearing_degree(x, y, x_1, y_1)"
   ]
  },
  {
   "cell_type": "code",
   "execution_count": 160,
   "metadata": {},
   "outputs": [],
   "source": [
    "def pca(data):\n",
    "    '''\n",
    "    input: dataframe containing Latitude(x) and Longitude(y)\n",
    "    '''\n",
    "    coordinates = data[['X','Y']].values\n",
    "    pca_obj = PCA().fit(coordinates)\n",
    "    pca_x = pca_obj.transform(data[['X', 'Y']])[:,0]\n",
    "    pca_y = pca_obj.transform(data[['X', 'Y']])[:,1]\n",
    "    return pca_x, pca_y\n",
    "\n",
    "df['pca_x'], df['pca_y'] = pca(df)"
   ]
  },
  {
   "cell_type": "code",
   "execution_count": 161,
   "metadata": {},
   "outputs": [],
   "source": [
    "df.drop(columns=['X', 'Y', 'merch_X', 'merch_Y'], inplace=True)"
   ]
  },
  {
   "cell_type": "code",
   "execution_count": 163,
   "metadata": {},
   "outputs": [],
   "source": [
    "df = df.rename(columns={'account': 'acc', 'balance': 'bal', 'amount': 'amt','t_PAY/SALARY': 't_pay', 't_PAYMENT': 't_pmt', \n",
    "                        't_PHONE BANK': 't_phb', 't_POS': 't_pos', 't_SALES-POS': 't_sales', 'c_Erongo': 'c_ER', \n",
    "                        'c_New South Wales': 'c_NSW', 'c_Queensland': 'c_QLD', 'c_South Australia': 'c_SA', \n",
    "                        'c_Sulawesi Tenggara': 'c_SULTRA', 'c_Tasmania': 'c_TAS', 'c_Victoria': 'c_VIC', \n",
    "                        'c_Western Australia': 'c_WA', 'c_Western Cape': 'c_WC'})"
   ]
  },
  {
   "cell_type": "code",
   "execution_count": 173,
   "metadata": {},
   "outputs": [],
   "source": [
    "if '_NSW' not in df: \n",
    "    df['_NSW'] = df['c_NSW'] + df['m_NSW']\n",
    "    df.drop(columns=['c_NSW', 'm_NSW'], inplace=True)\n",
    "if '_QLD' not in df:\n",
    "    df['_QLD'] = df['c_QLD'] + df['m_QLD']\n",
    "    df.drop(columns=['c_QLD', 'm_QLD'], inplace=True)\n",
    "if '_SA' not in df:\n",
    "    df['_SA'] = df['c_SA'] + df['m_SA']\n",
    "    df.drop(columns=['c_SA', 'm_SA'], inplace=True)\n",
    "if '_TAS' not in df:\n",
    "    df['_TAS'] = df['c_TAS'] + df['m_TAS']\n",
    "    df.drop(columns=['c_TAS', 'm_TAS'], inplace=True)\n",
    "if '_VIC' not in df:\n",
    "    df['_VIC'] = df['c_VIC'] + df['m_VIC']\n",
    "    df.drop(columns=['c_VIC', 'm_VIC'], inplace=True)\n",
    "if '_WA' not in df:\n",
    "    df['_WA'] = df['c_WA'] + df['m_WA']\n",
    "    df.drop(columns=['c_WA', 'm_WA'], inplace=True)"
   ]
  },
  {
   "cell_type": "code",
   "execution_count": 174,
   "metadata": {},
   "outputs": [
    {
     "output_type": "execute_result",
     "data": {
      "text/plain": [
       "Index(['acc', 'age', 'bal', 'amt', 'g_M', 't_pay', 't_pmt', 't_phb', 't_pos',\n",
       "       't_sales', 'm_NT', 'c_ER', 'c_SULTRA', 'c_WC', 'cc_AQ', 'cc_AU',\n",
       "       'cc_ID', 'cc_NA', 'cc_ZA', 'r', 'phi', 'rot_x', 'rot_y', 'rot_45_x',\n",
       "       'rot_45_y', 'rot_30_x', 'rot_30_y', 'h_dist', 'm_dist', 'b_deg',\n",
       "       'pca_x', 'pca_y', '_NSW', '_QLD', '_SA', '_TAS', '_VIC', '_WA'],\n",
       "      dtype='object')"
      ]
     },
     "metadata": {},
     "execution_count": 174
    }
   ],
   "source": [
    "df.columns"
   ]
  },
  {
   "cell_type": "markdown",
   "metadata": {},
   "source": [
    "## Step 1: Identify annual salary of each customer"
   ]
  },
  {
   "cell_type": "markdown",
   "metadata": {},
   "source": [
    "### a) Subset Pay/Salary transactions and group by account"
   ]
  },
  {
   "cell_type": "code",
   "execution_count": 175,
   "metadata": {},
   "outputs": [],
   "source": [
    "# display counts of payment types\n",
    "total_sal = df.amt[df.t_pay == 1].groupby(df.acc).sum()\n",
    "annual_sal = total_sal * 4\n",
    "annual_sal = annual_sal.sort_values()"
   ]
  },
  {
   "cell_type": "code",
   "execution_count": 176,
   "metadata": {},
   "outputs": [],
   "source": [
    "df = df.groupby('acc').mean()\n",
    "df['a_sal'] = annual_sal"
   ]
  },
  {
   "cell_type": "code",
   "execution_count": 177,
   "metadata": {},
   "outputs": [
    {
     "output_type": "execute_result",
     "data": {
      "text/plain": [
       "         age           bal         amt  g_M     t_pay     t_pmt     t_phb  \\\n",
       "acc                                                                         \n",
       "958567    34   4736.124598  205.593678  0.0  0.040230  0.281609  0.000000   \n",
       "1375564    4   2510.007683   71.145444  0.0  0.050193  0.100386  0.000000   \n",
       "1566392   22  31965.638605  256.383837  1.0  0.069767  0.069767  0.000000   \n",
       "2484743   29  10137.490448   60.019776  1.0  0.052239  0.350746  0.097015   \n",
       "2615387   43  20212.127500  208.970000  0.0  0.250000  0.096154  0.000000   \n",
       "\n",
       "            t_pos   t_sales      m_NT  ...      b_deg      pca_x      pca_y  \\\n",
       "acc                                    ...                                    \n",
       "958567   0.350575  0.293103  0.505747  ...  17.327454 -74.407257  92.714269   \n",
       "1375564  0.428571  0.420849  0.000000  ...   3.089790   1.077052 -25.237176   \n",
       "1566392  0.267442  0.406977  0.000000  ... -56.868299   6.800156 -13.698173   \n",
       "2484743  0.223881  0.276119  0.000000  ...  -2.797769 -34.383113  -7.514613   \n",
       "2615387  0.192308  0.211538  0.000000  ... -23.538861   7.171829 -13.569880   \n",
       "\n",
       "             _NSW      _QLD       _SA  _TAS      _VIC       _WA     a_sal  \n",
       "acc                                                                        \n",
       "958567   0.074713  0.017241  0.000000   0.0  0.028736  0.017241  98493.08  \n",
       "1375564  0.061776  1.714286  0.000000   0.0  0.046332  0.027027  46430.80  \n",
       "1566392  0.023256  0.000000  0.034884   0.0  1.616279  0.000000  76682.40  \n",
       "2484743  0.164179  0.082090  0.007463   0.0  0.007463  0.231343  12468.40  \n",
       "2615387  0.019231  0.019231  0.000000   0.0  1.365385  0.000000  34550.36  \n",
       "\n",
       "[5 rows x 38 columns]"
      ],
      "text/html": "<div>\n<style scoped>\n    .dataframe tbody tr th:only-of-type {\n        vertical-align: middle;\n    }\n\n    .dataframe tbody tr th {\n        vertical-align: top;\n    }\n\n    .dataframe thead th {\n        text-align: right;\n    }\n</style>\n<table border=\"1\" class=\"dataframe\">\n  <thead>\n    <tr style=\"text-align: right;\">\n      <th></th>\n      <th>age</th>\n      <th>bal</th>\n      <th>amt</th>\n      <th>g_M</th>\n      <th>t_pay</th>\n      <th>t_pmt</th>\n      <th>t_phb</th>\n      <th>t_pos</th>\n      <th>t_sales</th>\n      <th>m_NT</th>\n      <th>...</th>\n      <th>b_deg</th>\n      <th>pca_x</th>\n      <th>pca_y</th>\n      <th>_NSW</th>\n      <th>_QLD</th>\n      <th>_SA</th>\n      <th>_TAS</th>\n      <th>_VIC</th>\n      <th>_WA</th>\n      <th>a_sal</th>\n    </tr>\n    <tr>\n      <th>acc</th>\n      <th></th>\n      <th></th>\n      <th></th>\n      <th></th>\n      <th></th>\n      <th></th>\n      <th></th>\n      <th></th>\n      <th></th>\n      <th></th>\n      <th></th>\n      <th></th>\n      <th></th>\n      <th></th>\n      <th></th>\n      <th></th>\n      <th></th>\n      <th></th>\n      <th></th>\n      <th></th>\n      <th></th>\n    </tr>\n  </thead>\n  <tbody>\n    <tr>\n      <th>958567</th>\n      <td>34</td>\n      <td>4736.124598</td>\n      <td>205.593678</td>\n      <td>0.0</td>\n      <td>0.040230</td>\n      <td>0.281609</td>\n      <td>0.000000</td>\n      <td>0.350575</td>\n      <td>0.293103</td>\n      <td>0.505747</td>\n      <td>...</td>\n      <td>17.327454</td>\n      <td>-74.407257</td>\n      <td>92.714269</td>\n      <td>0.074713</td>\n      <td>0.017241</td>\n      <td>0.000000</td>\n      <td>0.0</td>\n      <td>0.028736</td>\n      <td>0.017241</td>\n      <td>98493.08</td>\n    </tr>\n    <tr>\n      <th>1375564</th>\n      <td>4</td>\n      <td>2510.007683</td>\n      <td>71.145444</td>\n      <td>0.0</td>\n      <td>0.050193</td>\n      <td>0.100386</td>\n      <td>0.000000</td>\n      <td>0.428571</td>\n      <td>0.420849</td>\n      <td>0.000000</td>\n      <td>...</td>\n      <td>3.089790</td>\n      <td>1.077052</td>\n      <td>-25.237176</td>\n      <td>0.061776</td>\n      <td>1.714286</td>\n      <td>0.000000</td>\n      <td>0.0</td>\n      <td>0.046332</td>\n      <td>0.027027</td>\n      <td>46430.80</td>\n    </tr>\n    <tr>\n      <th>1566392</th>\n      <td>22</td>\n      <td>31965.638605</td>\n      <td>256.383837</td>\n      <td>1.0</td>\n      <td>0.069767</td>\n      <td>0.069767</td>\n      <td>0.000000</td>\n      <td>0.267442</td>\n      <td>0.406977</td>\n      <td>0.000000</td>\n      <td>...</td>\n      <td>-56.868299</td>\n      <td>6.800156</td>\n      <td>-13.698173</td>\n      <td>0.023256</td>\n      <td>0.000000</td>\n      <td>0.034884</td>\n      <td>0.0</td>\n      <td>1.616279</td>\n      <td>0.000000</td>\n      <td>76682.40</td>\n    </tr>\n    <tr>\n      <th>2484743</th>\n      <td>29</td>\n      <td>10137.490448</td>\n      <td>60.019776</td>\n      <td>1.0</td>\n      <td>0.052239</td>\n      <td>0.350746</td>\n      <td>0.097015</td>\n      <td>0.223881</td>\n      <td>0.276119</td>\n      <td>0.000000</td>\n      <td>...</td>\n      <td>-2.797769</td>\n      <td>-34.383113</td>\n      <td>-7.514613</td>\n      <td>0.164179</td>\n      <td>0.082090</td>\n      <td>0.007463</td>\n      <td>0.0</td>\n      <td>0.007463</td>\n      <td>0.231343</td>\n      <td>12468.40</td>\n    </tr>\n    <tr>\n      <th>2615387</th>\n      <td>43</td>\n      <td>20212.127500</td>\n      <td>208.970000</td>\n      <td>0.0</td>\n      <td>0.250000</td>\n      <td>0.096154</td>\n      <td>0.000000</td>\n      <td>0.192308</td>\n      <td>0.211538</td>\n      <td>0.000000</td>\n      <td>...</td>\n      <td>-23.538861</td>\n      <td>7.171829</td>\n      <td>-13.569880</td>\n      <td>0.019231</td>\n      <td>0.019231</td>\n      <td>0.000000</td>\n      <td>0.0</td>\n      <td>1.365385</td>\n      <td>0.000000</td>\n      <td>34550.36</td>\n    </tr>\n  </tbody>\n</table>\n<p>5 rows × 38 columns</p>\n</div>"
     },
     "metadata": {},
     "execution_count": 177
    }
   ],
   "source": [
    "df.head()"
   ]
  },
  {
   "cell_type": "markdown",
   "metadata": {},
   "source": [
    "## Step 2: EDA"
   ]
  },
  {
   "cell_type": "code",
   "execution_count": 178,
   "metadata": {},
   "outputs": [
    {
     "output_type": "execute_result",
     "data": {
      "text/plain": [
       "              age            bal         amt         g_M       t_pay  \\\n",
       "count  100.000000     100.000000  100.000000  100.000000  100.000000   \n",
       "mean    27.360000   11297.004375  178.540553    0.560000    0.094944   \n",
       "std     15.220613   20898.005949  135.687430    0.498888    0.066505   \n",
       "min      2.000000     911.712805   21.284827    0.000000    0.008368   \n",
       "25%     19.000000    3611.222550   62.012350    0.000000    0.049485   \n",
       "50%     26.000000    4729.864282  154.624111    1.000000    0.075000   \n",
       "75%     38.000000    8869.689363  256.139616    1.000000    0.118453   \n",
       "max     78.000000  173721.982687  685.794194    1.000000    0.352941   \n",
       "\n",
       "            t_pmt       t_phb       t_pos     t_sales        m_NT  ...  \\\n",
       "count  100.000000  100.000000  100.000000  100.000000  100.000000  ...   \n",
       "mean     0.248644    0.010218    0.283731    0.293591    0.013084  ...   \n",
       "std      0.159644    0.035562    0.101519    0.107645    0.084313  ...   \n",
       "min      0.017241    0.000000    0.016667    0.000000    0.000000  ...   \n",
       "25%      0.127563    0.000000    0.215734    0.227860    0.000000  ...   \n",
       "50%      0.212160    0.000000    0.299985    0.299878    0.000000  ...   \n",
       "75%      0.347302    0.000000    0.359231    0.369232    0.000000  ...   \n",
       "max      0.773810    0.285714    0.508251    0.534483    0.674847  ...   \n",
       "\n",
       "            b_deg       pca_x       pca_y        _NSW        _QLD         _SA  \\\n",
       "count  100.000000  100.000000  100.000000  100.000000  100.000000  100.000000   \n",
       "mean     2.495377    0.162950    0.822367    0.344627    0.206924    0.105087   \n",
       "std     63.675489   57.999291   38.361108    0.516759    0.502226    0.322547   \n",
       "min   -104.271455  -74.407257  -26.033951    0.000000    0.000000    0.000000   \n",
       "25%    -53.337000  -10.970033  -20.767472    0.030888    0.000000    0.000000   \n",
       "50%     -3.997167    5.756018  -13.500609    0.093842    0.012862    0.012500   \n",
       "75%     57.547109    6.519173   -3.286728    0.383395    0.031024    0.030365   \n",
       "max    135.376143  534.986414  125.494767    1.749175    1.768166    1.326087   \n",
       "\n",
       "             _TAS        _VIC         _WA          a_sal  \n",
       "count  100.000000  100.000000  100.000000     100.000000  \n",
       "mean     0.015562    0.547653    0.207054   46042.555200  \n",
       "std      0.116942    0.697151    0.477177   37267.210968  \n",
       "min      0.000000    0.000000    0.000000     600.000000  \n",
       "25%      0.000000    0.017080    0.000000    9150.720000  \n",
       "50%      0.000000    0.032002    0.014806   44119.680000  \n",
       "75%      0.000000    1.372198    0.051994   69963.530000  \n",
       "max      1.159091    1.695035    1.654110  141375.680000  \n",
       "\n",
       "[8 rows x 38 columns]"
      ],
      "text/html": "<div>\n<style scoped>\n    .dataframe tbody tr th:only-of-type {\n        vertical-align: middle;\n    }\n\n    .dataframe tbody tr th {\n        vertical-align: top;\n    }\n\n    .dataframe thead th {\n        text-align: right;\n    }\n</style>\n<table border=\"1\" class=\"dataframe\">\n  <thead>\n    <tr style=\"text-align: right;\">\n      <th></th>\n      <th>age</th>\n      <th>bal</th>\n      <th>amt</th>\n      <th>g_M</th>\n      <th>t_pay</th>\n      <th>t_pmt</th>\n      <th>t_phb</th>\n      <th>t_pos</th>\n      <th>t_sales</th>\n      <th>m_NT</th>\n      <th>...</th>\n      <th>b_deg</th>\n      <th>pca_x</th>\n      <th>pca_y</th>\n      <th>_NSW</th>\n      <th>_QLD</th>\n      <th>_SA</th>\n      <th>_TAS</th>\n      <th>_VIC</th>\n      <th>_WA</th>\n      <th>a_sal</th>\n    </tr>\n  </thead>\n  <tbody>\n    <tr>\n      <th>count</th>\n      <td>100.000000</td>\n      <td>100.000000</td>\n      <td>100.000000</td>\n      <td>100.000000</td>\n      <td>100.000000</td>\n      <td>100.000000</td>\n      <td>100.000000</td>\n      <td>100.000000</td>\n      <td>100.000000</td>\n      <td>100.000000</td>\n      <td>...</td>\n      <td>100.000000</td>\n      <td>100.000000</td>\n      <td>100.000000</td>\n      <td>100.000000</td>\n      <td>100.000000</td>\n      <td>100.000000</td>\n      <td>100.000000</td>\n      <td>100.000000</td>\n      <td>100.000000</td>\n      <td>100.000000</td>\n    </tr>\n    <tr>\n      <th>mean</th>\n      <td>27.360000</td>\n      <td>11297.004375</td>\n      <td>178.540553</td>\n      <td>0.560000</td>\n      <td>0.094944</td>\n      <td>0.248644</td>\n      <td>0.010218</td>\n      <td>0.283731</td>\n      <td>0.293591</td>\n      <td>0.013084</td>\n      <td>...</td>\n      <td>2.495377</td>\n      <td>0.162950</td>\n      <td>0.822367</td>\n      <td>0.344627</td>\n      <td>0.206924</td>\n      <td>0.105087</td>\n      <td>0.015562</td>\n      <td>0.547653</td>\n      <td>0.207054</td>\n      <td>46042.555200</td>\n    </tr>\n    <tr>\n      <th>std</th>\n      <td>15.220613</td>\n      <td>20898.005949</td>\n      <td>135.687430</td>\n      <td>0.498888</td>\n      <td>0.066505</td>\n      <td>0.159644</td>\n      <td>0.035562</td>\n      <td>0.101519</td>\n      <td>0.107645</td>\n      <td>0.084313</td>\n      <td>...</td>\n      <td>63.675489</td>\n      <td>57.999291</td>\n      <td>38.361108</td>\n      <td>0.516759</td>\n      <td>0.502226</td>\n      <td>0.322547</td>\n      <td>0.116942</td>\n      <td>0.697151</td>\n      <td>0.477177</td>\n      <td>37267.210968</td>\n    </tr>\n    <tr>\n      <th>min</th>\n      <td>2.000000</td>\n      <td>911.712805</td>\n      <td>21.284827</td>\n      <td>0.000000</td>\n      <td>0.008368</td>\n      <td>0.017241</td>\n      <td>0.000000</td>\n      <td>0.016667</td>\n      <td>0.000000</td>\n      <td>0.000000</td>\n      <td>...</td>\n      <td>-104.271455</td>\n      <td>-74.407257</td>\n      <td>-26.033951</td>\n      <td>0.000000</td>\n      <td>0.000000</td>\n      <td>0.000000</td>\n      <td>0.000000</td>\n      <td>0.000000</td>\n      <td>0.000000</td>\n      <td>600.000000</td>\n    </tr>\n    <tr>\n      <th>25%</th>\n      <td>19.000000</td>\n      <td>3611.222550</td>\n      <td>62.012350</td>\n      <td>0.000000</td>\n      <td>0.049485</td>\n      <td>0.127563</td>\n      <td>0.000000</td>\n      <td>0.215734</td>\n      <td>0.227860</td>\n      <td>0.000000</td>\n      <td>...</td>\n      <td>-53.337000</td>\n      <td>-10.970033</td>\n      <td>-20.767472</td>\n      <td>0.030888</td>\n      <td>0.000000</td>\n      <td>0.000000</td>\n      <td>0.000000</td>\n      <td>0.017080</td>\n      <td>0.000000</td>\n      <td>9150.720000</td>\n    </tr>\n    <tr>\n      <th>50%</th>\n      <td>26.000000</td>\n      <td>4729.864282</td>\n      <td>154.624111</td>\n      <td>1.000000</td>\n      <td>0.075000</td>\n      <td>0.212160</td>\n      <td>0.000000</td>\n      <td>0.299985</td>\n      <td>0.299878</td>\n      <td>0.000000</td>\n      <td>...</td>\n      <td>-3.997167</td>\n      <td>5.756018</td>\n      <td>-13.500609</td>\n      <td>0.093842</td>\n      <td>0.012862</td>\n      <td>0.012500</td>\n      <td>0.000000</td>\n      <td>0.032002</td>\n      <td>0.014806</td>\n      <td>44119.680000</td>\n    </tr>\n    <tr>\n      <th>75%</th>\n      <td>38.000000</td>\n      <td>8869.689363</td>\n      <td>256.139616</td>\n      <td>1.000000</td>\n      <td>0.118453</td>\n      <td>0.347302</td>\n      <td>0.000000</td>\n      <td>0.359231</td>\n      <td>0.369232</td>\n      <td>0.000000</td>\n      <td>...</td>\n      <td>57.547109</td>\n      <td>6.519173</td>\n      <td>-3.286728</td>\n      <td>0.383395</td>\n      <td>0.031024</td>\n      <td>0.030365</td>\n      <td>0.000000</td>\n      <td>1.372198</td>\n      <td>0.051994</td>\n      <td>69963.530000</td>\n    </tr>\n    <tr>\n      <th>max</th>\n      <td>78.000000</td>\n      <td>173721.982687</td>\n      <td>685.794194</td>\n      <td>1.000000</td>\n      <td>0.352941</td>\n      <td>0.773810</td>\n      <td>0.285714</td>\n      <td>0.508251</td>\n      <td>0.534483</td>\n      <td>0.674847</td>\n      <td>...</td>\n      <td>135.376143</td>\n      <td>534.986414</td>\n      <td>125.494767</td>\n      <td>1.749175</td>\n      <td>1.768166</td>\n      <td>1.326087</td>\n      <td>1.159091</td>\n      <td>1.695035</td>\n      <td>1.654110</td>\n      <td>141375.680000</td>\n    </tr>\n  </tbody>\n</table>\n<p>8 rows × 38 columns</p>\n</div>"
     },
     "metadata": {},
     "execution_count": 178
    }
   ],
   "source": [
    "df.describe()"
   ]
  },
  {
   "cell_type": "code",
   "execution_count": 183,
   "metadata": {},
   "outputs": [],
   "source": [
    "scaler = StandardScaler()\n",
    "df_scaled = scaler.fit_transform(df)"
   ]
  },
  {
   "cell_type": "code",
   "execution_count": 193,
   "metadata": {},
   "outputs": [],
   "source": [
    "df_scaled = pd.DataFrame(df_scaled, columns=df.columns)"
   ]
  },
  {
   "cell_type": "code",
   "execution_count": 195,
   "metadata": {},
   "outputs": [
    {
     "output_type": "execute_result",
     "data": {
      "text/plain": [
       "        age       bal       amt       g_M     t_pay     t_pmt     t_phb  \\\n",
       "0  0.438448 -0.315529  0.200383 -1.128152 -0.826863  0.207533 -0.288791   \n",
       "1 -1.542493 -0.422589 -0.795476 -1.128152 -0.676296 -0.933358 -0.288791   \n",
       "2 -0.353928  0.994007  0.576586  0.886405 -0.380482 -1.126118 -0.288791   \n",
       "3  0.108291 -0.055764 -0.877884  0.886405 -0.645380  0.642786  2.453031   \n",
       "4  1.032730  0.428751  0.225391 -1.128152  2.343249 -0.960002 -0.288791   \n",
       "\n",
       "      t_pos   t_sales      m_NT  ...     b_deg     pca_x     pca_y      _NSW  \\\n",
       "0  0.661753 -0.004555  5.872709  ...  0.234106 -1.292186  2.407512 -0.524953   \n",
       "1  1.433919  1.188161 -0.155969  ...  0.009382  0.015840 -0.682744 -0.550113   \n",
       "2 -0.161261  1.058637 -0.155969  ... -0.936981  0.115012 -0.380429 -0.625031   \n",
       "3 -0.592517 -0.163128 -0.155969  ... -0.083546 -0.598630 -0.218424 -0.350951   \n",
       "4 -0.905089 -0.766096 -0.155969  ... -0.410918  0.121453 -0.377068 -0.632859   \n",
       "\n",
       "       _QLD       _SA      _TAS      _VIC       _WA     a_sal  \n",
       "0 -0.379587 -0.327445 -0.133746 -0.748090 -0.399787  1.414508  \n",
       "1  3.016478 -0.327445 -0.133746 -0.722722 -0.379176  0.010470  \n",
       "2 -0.414090 -0.218750 -0.133746  1.540568 -0.436101  0.826308  \n",
       "3 -0.249815 -0.304192 -0.133746 -0.778758  0.051159 -0.905442  \n",
       "4 -0.375606 -0.327445 -0.133746  1.178870 -0.436101 -0.309926  \n",
       "\n",
       "[5 rows x 38 columns]"
      ],
      "text/html": "<div>\n<style scoped>\n    .dataframe tbody tr th:only-of-type {\n        vertical-align: middle;\n    }\n\n    .dataframe tbody tr th {\n        vertical-align: top;\n    }\n\n    .dataframe thead th {\n        text-align: right;\n    }\n</style>\n<table border=\"1\" class=\"dataframe\">\n  <thead>\n    <tr style=\"text-align: right;\">\n      <th></th>\n      <th>age</th>\n      <th>bal</th>\n      <th>amt</th>\n      <th>g_M</th>\n      <th>t_pay</th>\n      <th>t_pmt</th>\n      <th>t_phb</th>\n      <th>t_pos</th>\n      <th>t_sales</th>\n      <th>m_NT</th>\n      <th>...</th>\n      <th>b_deg</th>\n      <th>pca_x</th>\n      <th>pca_y</th>\n      <th>_NSW</th>\n      <th>_QLD</th>\n      <th>_SA</th>\n      <th>_TAS</th>\n      <th>_VIC</th>\n      <th>_WA</th>\n      <th>a_sal</th>\n    </tr>\n  </thead>\n  <tbody>\n    <tr>\n      <th>0</th>\n      <td>0.438448</td>\n      <td>-0.315529</td>\n      <td>0.200383</td>\n      <td>-1.128152</td>\n      <td>-0.826863</td>\n      <td>0.207533</td>\n      <td>-0.288791</td>\n      <td>0.661753</td>\n      <td>-0.004555</td>\n      <td>5.872709</td>\n      <td>...</td>\n      <td>0.234106</td>\n      <td>-1.292186</td>\n      <td>2.407512</td>\n      <td>-0.524953</td>\n      <td>-0.379587</td>\n      <td>-0.327445</td>\n      <td>-0.133746</td>\n      <td>-0.748090</td>\n      <td>-0.399787</td>\n      <td>1.414508</td>\n    </tr>\n    <tr>\n      <th>1</th>\n      <td>-1.542493</td>\n      <td>-0.422589</td>\n      <td>-0.795476</td>\n      <td>-1.128152</td>\n      <td>-0.676296</td>\n      <td>-0.933358</td>\n      <td>-0.288791</td>\n      <td>1.433919</td>\n      <td>1.188161</td>\n      <td>-0.155969</td>\n      <td>...</td>\n      <td>0.009382</td>\n      <td>0.015840</td>\n      <td>-0.682744</td>\n      <td>-0.550113</td>\n      <td>3.016478</td>\n      <td>-0.327445</td>\n      <td>-0.133746</td>\n      <td>-0.722722</td>\n      <td>-0.379176</td>\n      <td>0.010470</td>\n    </tr>\n    <tr>\n      <th>2</th>\n      <td>-0.353928</td>\n      <td>0.994007</td>\n      <td>0.576586</td>\n      <td>0.886405</td>\n      <td>-0.380482</td>\n      <td>-1.126118</td>\n      <td>-0.288791</td>\n      <td>-0.161261</td>\n      <td>1.058637</td>\n      <td>-0.155969</td>\n      <td>...</td>\n      <td>-0.936981</td>\n      <td>0.115012</td>\n      <td>-0.380429</td>\n      <td>-0.625031</td>\n      <td>-0.414090</td>\n      <td>-0.218750</td>\n      <td>-0.133746</td>\n      <td>1.540568</td>\n      <td>-0.436101</td>\n      <td>0.826308</td>\n    </tr>\n    <tr>\n      <th>3</th>\n      <td>0.108291</td>\n      <td>-0.055764</td>\n      <td>-0.877884</td>\n      <td>0.886405</td>\n      <td>-0.645380</td>\n      <td>0.642786</td>\n      <td>2.453031</td>\n      <td>-0.592517</td>\n      <td>-0.163128</td>\n      <td>-0.155969</td>\n      <td>...</td>\n      <td>-0.083546</td>\n      <td>-0.598630</td>\n      <td>-0.218424</td>\n      <td>-0.350951</td>\n      <td>-0.249815</td>\n      <td>-0.304192</td>\n      <td>-0.133746</td>\n      <td>-0.778758</td>\n      <td>0.051159</td>\n      <td>-0.905442</td>\n    </tr>\n    <tr>\n      <th>4</th>\n      <td>1.032730</td>\n      <td>0.428751</td>\n      <td>0.225391</td>\n      <td>-1.128152</td>\n      <td>2.343249</td>\n      <td>-0.960002</td>\n      <td>-0.288791</td>\n      <td>-0.905089</td>\n      <td>-0.766096</td>\n      <td>-0.155969</td>\n      <td>...</td>\n      <td>-0.410918</td>\n      <td>0.121453</td>\n      <td>-0.377068</td>\n      <td>-0.632859</td>\n      <td>-0.375606</td>\n      <td>-0.327445</td>\n      <td>-0.133746</td>\n      <td>1.178870</td>\n      <td>-0.436101</td>\n      <td>-0.309926</td>\n    </tr>\n  </tbody>\n</table>\n<p>5 rows × 38 columns</p>\n</div>"
     },
     "metadata": {},
     "execution_count": 195
    }
   ],
   "source": [
    "df_scaled.head()"
   ]
  },
  {
   "cell_type": "code",
   "execution_count": 196,
   "metadata": {},
   "outputs": [
    {
     "output_type": "execute_result",
     "data": {
      "text/plain": [
       "            age           bal         amt  g_M     t_pay     t_pmt     t_phb  \\\n",
       "acc                                                                            \n",
       "958567       34   4736.124598  205.593678  0.0  0.040230  0.281609  0.000000   \n",
       "1375564       4   2510.007683   71.145444  0.0  0.050193  0.100386  0.000000   \n",
       "1566392      22  31965.638605  256.383837  1.0  0.069767  0.069767  0.000000   \n",
       "2484743      29  10137.490448   60.019776  1.0  0.052239  0.350746  0.097015   \n",
       "2615387      43  20212.127500  208.970000  0.0  0.250000  0.096154  0.000000   \n",
       "...         ...           ...         ...  ...       ...       ...       ...   \n",
       "3827517394   28  28946.555394   65.340485  1.0  0.036364  0.503030  0.000000   \n",
       "3954677887   47   3709.747545  190.124182  0.0  0.118182  0.354545  0.000000   \n",
       "4163822186   26   4471.280167   50.813833  0.0  0.200000  0.733333  0.000000   \n",
       "4274272854    2   4817.138333   51.927500  1.0  0.083333  0.430556  0.000000   \n",
       "4281711154   42  25963.587551  299.749388  1.0  0.142857  0.387755  0.285714   \n",
       "\n",
       "               t_pos   t_sales      m_NT  ...      b_deg      pca_x  \\\n",
       "acc                                       ...                         \n",
       "958567      0.350575  0.293103  0.505747  ...  17.327454 -74.407257   \n",
       "1375564     0.428571  0.420849  0.000000  ...   3.089790   1.077052   \n",
       "1566392     0.267442  0.406977  0.000000  ... -56.868299   6.800156   \n",
       "2484743     0.223881  0.276119  0.000000  ...  -2.797769 -34.383113   \n",
       "2615387     0.192308  0.211538  0.000000  ... -23.538861   7.171829   \n",
       "...              ...       ...       ...  ...        ...        ...   \n",
       "3827517394  0.151515  0.224242  0.000000  ... -20.196708   5.780977   \n",
       "3954677887  0.236364  0.236364  0.000000  ...  64.813547 -11.373774   \n",
       "4163822186  0.016667  0.050000  0.000000  ... -70.033899   5.940977   \n",
       "4274272854  0.263889  0.222222  0.000000  ... -16.019096   6.724281   \n",
       "4281711154  0.081633  0.102041  0.000000  ...  46.332187   6.595399   \n",
       "\n",
       "                pca_y      _NSW      _QLD       _SA      _TAS      _VIC  \\\n",
       "acc                                                                       \n",
       "958567      92.714269  0.074713  0.017241  0.000000  0.000000  0.028736   \n",
       "1375564    -25.237176  0.061776  1.714286  0.000000  0.000000  0.046332   \n",
       "1566392    -13.698173  0.023256  0.000000  0.034884  0.000000  1.616279   \n",
       "2484743     -7.514613  0.164179  0.082090  0.007463  0.000000  0.007463   \n",
       "2615387    -13.569880  0.019231  0.019231  0.000000  0.000000  1.365385   \n",
       "...               ...       ...       ...       ...       ...       ...   \n",
       "3827517394 -20.697750  1.327273  0.006061  0.018182  0.000000  0.012121   \n",
       "3954677887  10.309776  0.100000  0.000000  0.036364  0.000000  0.018182   \n",
       "4163822186 -18.587489  1.000000  0.016667  0.050000  0.000000  0.000000   \n",
       "4274272854 -13.657638  0.041667  0.000000  0.000000  0.013889  1.430556   \n",
       "4281711154 -13.442488  0.000000  0.000000  0.000000  0.000000  1.183673   \n",
       "\n",
       "                 _WA     a_sal  \n",
       "acc                             \n",
       "958567      0.017241  98493.08  \n",
       "1375564     0.027027  46430.80  \n",
       "1566392     0.000000  76682.40  \n",
       "2484743     0.231343  12468.40  \n",
       "2615387     0.000000  34550.36  \n",
       "...              ...       ...  \n",
       "3827517394  0.012121  10914.48  \n",
       "3954677887  1.318182  66168.44  \n",
       "4163822186  0.000000   4450.08  \n",
       "4274272854  0.000000   3955.92  \n",
       "4281711154  0.000000  49218.96  \n",
       "\n",
       "[100 rows x 38 columns]"
      ],
      "text/html": "<div>\n<style scoped>\n    .dataframe tbody tr th:only-of-type {\n        vertical-align: middle;\n    }\n\n    .dataframe tbody tr th {\n        vertical-align: top;\n    }\n\n    .dataframe thead th {\n        text-align: right;\n    }\n</style>\n<table border=\"1\" class=\"dataframe\">\n  <thead>\n    <tr style=\"text-align: right;\">\n      <th></th>\n      <th>age</th>\n      <th>bal</th>\n      <th>amt</th>\n      <th>g_M</th>\n      <th>t_pay</th>\n      <th>t_pmt</th>\n      <th>t_phb</th>\n      <th>t_pos</th>\n      <th>t_sales</th>\n      <th>m_NT</th>\n      <th>...</th>\n      <th>b_deg</th>\n      <th>pca_x</th>\n      <th>pca_y</th>\n      <th>_NSW</th>\n      <th>_QLD</th>\n      <th>_SA</th>\n      <th>_TAS</th>\n      <th>_VIC</th>\n      <th>_WA</th>\n      <th>a_sal</th>\n    </tr>\n    <tr>\n      <th>acc</th>\n      <th></th>\n      <th></th>\n      <th></th>\n      <th></th>\n      <th></th>\n      <th></th>\n      <th></th>\n      <th></th>\n      <th></th>\n      <th></th>\n      <th></th>\n      <th></th>\n      <th></th>\n      <th></th>\n      <th></th>\n      <th></th>\n      <th></th>\n      <th></th>\n      <th></th>\n      <th></th>\n      <th></th>\n    </tr>\n  </thead>\n  <tbody>\n    <tr>\n      <th>958567</th>\n      <td>34</td>\n      <td>4736.124598</td>\n      <td>205.593678</td>\n      <td>0.0</td>\n      <td>0.040230</td>\n      <td>0.281609</td>\n      <td>0.000000</td>\n      <td>0.350575</td>\n      <td>0.293103</td>\n      <td>0.505747</td>\n      <td>...</td>\n      <td>17.327454</td>\n      <td>-74.407257</td>\n      <td>92.714269</td>\n      <td>0.074713</td>\n      <td>0.017241</td>\n      <td>0.000000</td>\n      <td>0.000000</td>\n      <td>0.028736</td>\n      <td>0.017241</td>\n      <td>98493.08</td>\n    </tr>\n    <tr>\n      <th>1375564</th>\n      <td>4</td>\n      <td>2510.007683</td>\n      <td>71.145444</td>\n      <td>0.0</td>\n      <td>0.050193</td>\n      <td>0.100386</td>\n      <td>0.000000</td>\n      <td>0.428571</td>\n      <td>0.420849</td>\n      <td>0.000000</td>\n      <td>...</td>\n      <td>3.089790</td>\n      <td>1.077052</td>\n      <td>-25.237176</td>\n      <td>0.061776</td>\n      <td>1.714286</td>\n      <td>0.000000</td>\n      <td>0.000000</td>\n      <td>0.046332</td>\n      <td>0.027027</td>\n      <td>46430.80</td>\n    </tr>\n    <tr>\n      <th>1566392</th>\n      <td>22</td>\n      <td>31965.638605</td>\n      <td>256.383837</td>\n      <td>1.0</td>\n      <td>0.069767</td>\n      <td>0.069767</td>\n      <td>0.000000</td>\n      <td>0.267442</td>\n      <td>0.406977</td>\n      <td>0.000000</td>\n      <td>...</td>\n      <td>-56.868299</td>\n      <td>6.800156</td>\n      <td>-13.698173</td>\n      <td>0.023256</td>\n      <td>0.000000</td>\n      <td>0.034884</td>\n      <td>0.000000</td>\n      <td>1.616279</td>\n      <td>0.000000</td>\n      <td>76682.40</td>\n    </tr>\n    <tr>\n      <th>2484743</th>\n      <td>29</td>\n      <td>10137.490448</td>\n      <td>60.019776</td>\n      <td>1.0</td>\n      <td>0.052239</td>\n      <td>0.350746</td>\n      <td>0.097015</td>\n      <td>0.223881</td>\n      <td>0.276119</td>\n      <td>0.000000</td>\n      <td>...</td>\n      <td>-2.797769</td>\n      <td>-34.383113</td>\n      <td>-7.514613</td>\n      <td>0.164179</td>\n      <td>0.082090</td>\n      <td>0.007463</td>\n      <td>0.000000</td>\n      <td>0.007463</td>\n      <td>0.231343</td>\n      <td>12468.40</td>\n    </tr>\n    <tr>\n      <th>2615387</th>\n      <td>43</td>\n      <td>20212.127500</td>\n      <td>208.970000</td>\n      <td>0.0</td>\n      <td>0.250000</td>\n      <td>0.096154</td>\n      <td>0.000000</td>\n      <td>0.192308</td>\n      <td>0.211538</td>\n      <td>0.000000</td>\n      <td>...</td>\n      <td>-23.538861</td>\n      <td>7.171829</td>\n      <td>-13.569880</td>\n      <td>0.019231</td>\n      <td>0.019231</td>\n      <td>0.000000</td>\n      <td>0.000000</td>\n      <td>1.365385</td>\n      <td>0.000000</td>\n      <td>34550.36</td>\n    </tr>\n    <tr>\n      <th>...</th>\n      <td>...</td>\n      <td>...</td>\n      <td>...</td>\n      <td>...</td>\n      <td>...</td>\n      <td>...</td>\n      <td>...</td>\n      <td>...</td>\n      <td>...</td>\n      <td>...</td>\n      <td>...</td>\n      <td>...</td>\n      <td>...</td>\n      <td>...</td>\n      <td>...</td>\n      <td>...</td>\n      <td>...</td>\n      <td>...</td>\n      <td>...</td>\n      <td>...</td>\n      <td>...</td>\n    </tr>\n    <tr>\n      <th>3827517394</th>\n      <td>28</td>\n      <td>28946.555394</td>\n      <td>65.340485</td>\n      <td>1.0</td>\n      <td>0.036364</td>\n      <td>0.503030</td>\n      <td>0.000000</td>\n      <td>0.151515</td>\n      <td>0.224242</td>\n      <td>0.000000</td>\n      <td>...</td>\n      <td>-20.196708</td>\n      <td>5.780977</td>\n      <td>-20.697750</td>\n      <td>1.327273</td>\n      <td>0.006061</td>\n      <td>0.018182</td>\n      <td>0.000000</td>\n      <td>0.012121</td>\n      <td>0.012121</td>\n      <td>10914.48</td>\n    </tr>\n    <tr>\n      <th>3954677887</th>\n      <td>47</td>\n      <td>3709.747545</td>\n      <td>190.124182</td>\n      <td>0.0</td>\n      <td>0.118182</td>\n      <td>0.354545</td>\n      <td>0.000000</td>\n      <td>0.236364</td>\n      <td>0.236364</td>\n      <td>0.000000</td>\n      <td>...</td>\n      <td>64.813547</td>\n      <td>-11.373774</td>\n      <td>10.309776</td>\n      <td>0.100000</td>\n      <td>0.000000</td>\n      <td>0.036364</td>\n      <td>0.000000</td>\n      <td>0.018182</td>\n      <td>1.318182</td>\n      <td>66168.44</td>\n    </tr>\n    <tr>\n      <th>4163822186</th>\n      <td>26</td>\n      <td>4471.280167</td>\n      <td>50.813833</td>\n      <td>0.0</td>\n      <td>0.200000</td>\n      <td>0.733333</td>\n      <td>0.000000</td>\n      <td>0.016667</td>\n      <td>0.050000</td>\n      <td>0.000000</td>\n      <td>...</td>\n      <td>-70.033899</td>\n      <td>5.940977</td>\n      <td>-18.587489</td>\n      <td>1.000000</td>\n      <td>0.016667</td>\n      <td>0.050000</td>\n      <td>0.000000</td>\n      <td>0.000000</td>\n      <td>0.000000</td>\n      <td>4450.08</td>\n    </tr>\n    <tr>\n      <th>4274272854</th>\n      <td>2</td>\n      <td>4817.138333</td>\n      <td>51.927500</td>\n      <td>1.0</td>\n      <td>0.083333</td>\n      <td>0.430556</td>\n      <td>0.000000</td>\n      <td>0.263889</td>\n      <td>0.222222</td>\n      <td>0.000000</td>\n      <td>...</td>\n      <td>-16.019096</td>\n      <td>6.724281</td>\n      <td>-13.657638</td>\n      <td>0.041667</td>\n      <td>0.000000</td>\n      <td>0.000000</td>\n      <td>0.013889</td>\n      <td>1.430556</td>\n      <td>0.000000</td>\n      <td>3955.92</td>\n    </tr>\n    <tr>\n      <th>4281711154</th>\n      <td>42</td>\n      <td>25963.587551</td>\n      <td>299.749388</td>\n      <td>1.0</td>\n      <td>0.142857</td>\n      <td>0.387755</td>\n      <td>0.285714</td>\n      <td>0.081633</td>\n      <td>0.102041</td>\n      <td>0.000000</td>\n      <td>...</td>\n      <td>46.332187</td>\n      <td>6.595399</td>\n      <td>-13.442488</td>\n      <td>0.000000</td>\n      <td>0.000000</td>\n      <td>0.000000</td>\n      <td>0.000000</td>\n      <td>1.183673</td>\n      <td>0.000000</td>\n      <td>49218.96</td>\n    </tr>\n  </tbody>\n</table>\n<p>100 rows × 38 columns</p>\n</div>"
     },
     "metadata": {},
     "execution_count": 196
    }
   ],
   "source": [
    "df"
   ]
  },
  {
   "cell_type": "code",
   "execution_count": 194,
   "metadata": {},
   "outputs": [
    {
     "output_type": "execute_result",
     "data": {
      "text/plain": [
       "<AxesSubplot:xlabel='g_M', ylabel='amt'>"
      ]
     },
     "metadata": {},
     "execution_count": 194
    },
    {
     "output_type": "display_data",
     "data": {
      "text/plain": "<Figure size 1152x576 with 1 Axes>",
      "image/svg+xml": "<?xml version=\"1.0\" encoding=\"utf-8\" standalone=\"no\"?>\r\n<!DOCTYPE svg PUBLIC \"-//W3C//DTD SVG 1.1//EN\"\r\n  \"http://www.w3.org/Graphics/SVG/1.1/DTD/svg11.dtd\">\r\n<!-- Created with matplotlib (https://matplotlib.org/) -->\r\n<svg height=\"483.167769pt\" version=\"1.1\" viewBox=\"0 0 942.620312 483.167769\" width=\"942.620312pt\" xmlns=\"http://www.w3.org/2000/svg\" xmlns:xlink=\"http://www.w3.org/1999/xlink\">\r\n <metadata>\r\n  <rdf:RDF xmlns:cc=\"http://creativecommons.org/ns#\" xmlns:dc=\"http://purl.org/dc/elements/1.1/\" xmlns:rdf=\"http://www.w3.org/1999/02/22-rdf-syntax-ns#\">\r\n   <cc:Work>\r\n    <dc:type rdf:resource=\"http://purl.org/dc/dcmitype/StillImage\"/>\r\n    <dc:date>2021-06-03T19:47:15.635736</dc:date>\r\n    <dc:format>image/svg+xml</dc:format>\r\n    <dc:creator>\r\n     <cc:Agent>\r\n      <dc:title>Matplotlib v3.3.4, https://matplotlib.org/</dc:title>\r\n     </cc:Agent>\r\n    </dc:creator>\r\n   </cc:Work>\r\n  </rdf:RDF>\r\n </metadata>\r\n <defs>\r\n  <style type=\"text/css\">*{stroke-linecap:butt;stroke-linejoin:round;}</style>\r\n </defs>\r\n <g id=\"figure_1\">\r\n  <g id=\"patch_1\">\r\n   <path d=\"M 0 483.167769 \r\nL 942.620312 483.167769 \r\nL 942.620312 0 \r\nL 0 0 \r\nz\r\n\" style=\"fill:none;\"/>\r\n  </g>\r\n  <g id=\"axes_1\">\r\n   <g id=\"patch_2\">\r\n    <path d=\"M 42.620312 445.611519 \r\nL 935.420312 445.611519 \r\nL 935.420312 10.731519 \r\nL 42.620312 10.731519 \r\nz\r\n\" style=\"fill:#ffffff;\"/>\r\n   </g>\r\n   <g id=\"patch_3\">\r\n    <path clip-path=\"url(#p61b2eeee05)\" d=\"M 87.260312 401.613676 \r\nL 444.380313 401.613676 \r\nL 444.380313 312.223836 \r\nL 87.260312 312.223836 \r\nL 87.260312 401.613676 \r\nz\r\n\" style=\"fill:#aa6aea;stroke:#666666;stroke-linejoin:miter;stroke-width:1.5;\"/>\r\n   </g>\r\n   <g id=\"patch_4\">\r\n    <path clip-path=\"url(#p61b2eeee05)\" d=\"M 533.660312 401.646923 \r\nL 890.780312 401.646923 \r\nL 890.780312 272.493386 \r\nL 533.660312 272.493386 \r\nL 533.660312 401.646923 \r\nz\r\n\" style=\"fill:#6aaaea;stroke:#666666;stroke-linejoin:miter;stroke-width:1.5;\"/>\r\n   </g>\r\n   <g id=\"matplotlib.axis_1\">\r\n    <g id=\"xtick_1\">\r\n     <g id=\"line2d_1\">\r\n      <defs>\r\n       <path d=\"M 0 0 \r\nL 0 3.5 \r\n\" id=\"m5d52b5cf21\" style=\"stroke:#000000;stroke-width:0.8;\"/>\r\n      </defs>\r\n      <g>\r\n       <use style=\"stroke:#000000;stroke-width:0.8;\" x=\"265.820312\" xlink:href=\"#m5d52b5cf21\" y=\"445.611519\"/>\r\n      </g>\r\n     </g>\r\n     <g id=\"text_1\">\r\n      <!-- -1.1281521496355325 -->\r\n      <g transform=\"translate(208.346094 460.209957)scale(0.1 -0.1)\">\r\n       <defs>\r\n        <path d=\"M 4.890625 31.390625 \r\nL 31.203125 31.390625 \r\nL 31.203125 23.390625 \r\nL 4.890625 23.390625 \r\nz\r\n\" id=\"DejaVuSans-45\"/>\r\n        <path d=\"M 12.40625 8.296875 \r\nL 28.515625 8.296875 \r\nL 28.515625 63.921875 \r\nL 10.984375 60.40625 \r\nL 10.984375 69.390625 \r\nL 28.421875 72.90625 \r\nL 38.28125 72.90625 \r\nL 38.28125 8.296875 \r\nL 54.390625 8.296875 \r\nL 54.390625 0 \r\nL 12.40625 0 \r\nz\r\n\" id=\"DejaVuSans-49\"/>\r\n        <path d=\"M 10.6875 12.40625 \r\nL 21 12.40625 \r\nL 21 0 \r\nL 10.6875 0 \r\nz\r\n\" id=\"DejaVuSans-46\"/>\r\n        <path d=\"M 19.1875 8.296875 \r\nL 53.609375 8.296875 \r\nL 53.609375 0 \r\nL 7.328125 0 \r\nL 7.328125 8.296875 \r\nQ 12.9375 14.109375 22.625 23.890625 \r\nQ 32.328125 33.6875 34.8125 36.53125 \r\nQ 39.546875 41.84375 41.421875 45.53125 \r\nQ 43.3125 49.21875 43.3125 52.78125 \r\nQ 43.3125 58.59375 39.234375 62.25 \r\nQ 35.15625 65.921875 28.609375 65.921875 \r\nQ 23.96875 65.921875 18.8125 64.3125 \r\nQ 13.671875 62.703125 7.8125 59.421875 \r\nL 7.8125 69.390625 \r\nQ 13.765625 71.78125 18.9375 73 \r\nQ 24.125 74.21875 28.421875 74.21875 \r\nQ 39.75 74.21875 46.484375 68.546875 \r\nQ 53.21875 62.890625 53.21875 53.421875 \r\nQ 53.21875 48.921875 51.53125 44.890625 \r\nQ 49.859375 40.875 45.40625 35.40625 \r\nQ 44.1875 33.984375 37.640625 27.21875 \r\nQ 31.109375 20.453125 19.1875 8.296875 \r\nz\r\n\" id=\"DejaVuSans-50\"/>\r\n        <path d=\"M 31.78125 34.625 \r\nQ 24.75 34.625 20.71875 30.859375 \r\nQ 16.703125 27.09375 16.703125 20.515625 \r\nQ 16.703125 13.921875 20.71875 10.15625 \r\nQ 24.75 6.390625 31.78125 6.390625 \r\nQ 38.8125 6.390625 42.859375 10.171875 \r\nQ 46.921875 13.96875 46.921875 20.515625 \r\nQ 46.921875 27.09375 42.890625 30.859375 \r\nQ 38.875 34.625 31.78125 34.625 \r\nz\r\nM 21.921875 38.8125 \r\nQ 15.578125 40.375 12.03125 44.71875 \r\nQ 8.5 49.078125 8.5 55.328125 \r\nQ 8.5 64.0625 14.71875 69.140625 \r\nQ 20.953125 74.21875 31.78125 74.21875 \r\nQ 42.671875 74.21875 48.875 69.140625 \r\nQ 55.078125 64.0625 55.078125 55.328125 \r\nQ 55.078125 49.078125 51.53125 44.71875 \r\nQ 48 40.375 41.703125 38.8125 \r\nQ 48.828125 37.15625 52.796875 32.3125 \r\nQ 56.78125 27.484375 56.78125 20.515625 \r\nQ 56.78125 9.90625 50.3125 4.234375 \r\nQ 43.84375 -1.421875 31.78125 -1.421875 \r\nQ 19.734375 -1.421875 13.25 4.234375 \r\nQ 6.78125 9.90625 6.78125 20.515625 \r\nQ 6.78125 27.484375 10.78125 32.3125 \r\nQ 14.796875 37.15625 21.921875 38.8125 \r\nz\r\nM 18.3125 54.390625 \r\nQ 18.3125 48.734375 21.84375 45.5625 \r\nQ 25.390625 42.390625 31.78125 42.390625 \r\nQ 38.140625 42.390625 41.71875 45.5625 \r\nQ 45.3125 48.734375 45.3125 54.390625 \r\nQ 45.3125 60.0625 41.71875 63.234375 \r\nQ 38.140625 66.40625 31.78125 66.40625 \r\nQ 25.390625 66.40625 21.84375 63.234375 \r\nQ 18.3125 60.0625 18.3125 54.390625 \r\nz\r\n\" id=\"DejaVuSans-56\"/>\r\n        <path d=\"M 10.796875 72.90625 \r\nL 49.515625 72.90625 \r\nL 49.515625 64.59375 \r\nL 19.828125 64.59375 \r\nL 19.828125 46.734375 \r\nQ 21.96875 47.46875 24.109375 47.828125 \r\nQ 26.265625 48.1875 28.421875 48.1875 \r\nQ 40.625 48.1875 47.75 41.5 \r\nQ 54.890625 34.8125 54.890625 23.390625 \r\nQ 54.890625 11.625 47.5625 5.09375 \r\nQ 40.234375 -1.421875 26.90625 -1.421875 \r\nQ 22.3125 -1.421875 17.546875 -0.640625 \r\nQ 12.796875 0.140625 7.71875 1.703125 \r\nL 7.71875 11.625 \r\nQ 12.109375 9.234375 16.796875 8.0625 \r\nQ 21.484375 6.890625 26.703125 6.890625 \r\nQ 35.15625 6.890625 40.078125 11.328125 \r\nQ 45.015625 15.765625 45.015625 23.390625 \r\nQ 45.015625 31 40.078125 35.4375 \r\nQ 35.15625 39.890625 26.703125 39.890625 \r\nQ 22.75 39.890625 18.8125 39.015625 \r\nQ 14.890625 38.140625 10.796875 36.28125 \r\nz\r\n\" id=\"DejaVuSans-53\"/>\r\n        <path d=\"M 37.796875 64.3125 \r\nL 12.890625 25.390625 \r\nL 37.796875 25.390625 \r\nz\r\nM 35.203125 72.90625 \r\nL 47.609375 72.90625 \r\nL 47.609375 25.390625 \r\nL 58.015625 25.390625 \r\nL 58.015625 17.1875 \r\nL 47.609375 17.1875 \r\nL 47.609375 0 \r\nL 37.796875 0 \r\nL 37.796875 17.1875 \r\nL 4.890625 17.1875 \r\nL 4.890625 26.703125 \r\nz\r\n\" id=\"DejaVuSans-52\"/>\r\n        <path d=\"M 10.984375 1.515625 \r\nL 10.984375 10.5 \r\nQ 14.703125 8.734375 18.5 7.8125 \r\nQ 22.3125 6.890625 25.984375 6.890625 \r\nQ 35.75 6.890625 40.890625 13.453125 \r\nQ 46.046875 20.015625 46.78125 33.40625 \r\nQ 43.953125 29.203125 39.59375 26.953125 \r\nQ 35.25 24.703125 29.984375 24.703125 \r\nQ 19.046875 24.703125 12.671875 31.3125 \r\nQ 6.296875 37.9375 6.296875 49.421875 \r\nQ 6.296875 60.640625 12.9375 67.421875 \r\nQ 19.578125 74.21875 30.609375 74.21875 \r\nQ 43.265625 74.21875 49.921875 64.515625 \r\nQ 56.59375 54.828125 56.59375 36.375 \r\nQ 56.59375 19.140625 48.40625 8.859375 \r\nQ 40.234375 -1.421875 26.421875 -1.421875 \r\nQ 22.703125 -1.421875 18.890625 -0.6875 \r\nQ 15.09375 0.046875 10.984375 1.515625 \r\nz\r\nM 30.609375 32.421875 \r\nQ 37.25 32.421875 41.125 36.953125 \r\nQ 45.015625 41.5 45.015625 49.421875 \r\nQ 45.015625 57.28125 41.125 61.84375 \r\nQ 37.25 66.40625 30.609375 66.40625 \r\nQ 23.96875 66.40625 20.09375 61.84375 \r\nQ 16.21875 57.28125 16.21875 49.421875 \r\nQ 16.21875 41.5 20.09375 36.953125 \r\nQ 23.96875 32.421875 30.609375 32.421875 \r\nz\r\n\" id=\"DejaVuSans-57\"/>\r\n        <path d=\"M 33.015625 40.375 \r\nQ 26.375 40.375 22.484375 35.828125 \r\nQ 18.609375 31.296875 18.609375 23.390625 \r\nQ 18.609375 15.53125 22.484375 10.953125 \r\nQ 26.375 6.390625 33.015625 6.390625 \r\nQ 39.65625 6.390625 43.53125 10.953125 \r\nQ 47.40625 15.53125 47.40625 23.390625 \r\nQ 47.40625 31.296875 43.53125 35.828125 \r\nQ 39.65625 40.375 33.015625 40.375 \r\nz\r\nM 52.59375 71.296875 \r\nL 52.59375 62.3125 \r\nQ 48.875 64.0625 45.09375 64.984375 \r\nQ 41.3125 65.921875 37.59375 65.921875 \r\nQ 27.828125 65.921875 22.671875 59.328125 \r\nQ 17.53125 52.734375 16.796875 39.40625 \r\nQ 19.671875 43.65625 24.015625 45.921875 \r\nQ 28.375 48.1875 33.59375 48.1875 \r\nQ 44.578125 48.1875 50.953125 41.515625 \r\nQ 57.328125 34.859375 57.328125 23.390625 \r\nQ 57.328125 12.15625 50.6875 5.359375 \r\nQ 44.046875 -1.421875 33.015625 -1.421875 \r\nQ 20.359375 -1.421875 13.671875 8.265625 \r\nQ 6.984375 17.96875 6.984375 36.375 \r\nQ 6.984375 53.65625 15.1875 63.9375 \r\nQ 23.390625 74.21875 37.203125 74.21875 \r\nQ 40.921875 74.21875 44.703125 73.484375 \r\nQ 48.484375 72.75 52.59375 71.296875 \r\nz\r\n\" id=\"DejaVuSans-54\"/>\r\n        <path d=\"M 40.578125 39.3125 \r\nQ 47.65625 37.796875 51.625 33 \r\nQ 55.609375 28.21875 55.609375 21.1875 \r\nQ 55.609375 10.40625 48.1875 4.484375 \r\nQ 40.765625 -1.421875 27.09375 -1.421875 \r\nQ 22.515625 -1.421875 17.65625 -0.515625 \r\nQ 12.796875 0.390625 7.625 2.203125 \r\nL 7.625 11.71875 \r\nQ 11.71875 9.328125 16.59375 8.109375 \r\nQ 21.484375 6.890625 26.8125 6.890625 \r\nQ 36.078125 6.890625 40.9375 10.546875 \r\nQ 45.796875 14.203125 45.796875 21.1875 \r\nQ 45.796875 27.640625 41.28125 31.265625 \r\nQ 36.765625 34.90625 28.71875 34.90625 \r\nL 20.21875 34.90625 \r\nL 20.21875 43.015625 \r\nL 29.109375 43.015625 \r\nQ 36.375 43.015625 40.234375 45.921875 \r\nQ 44.09375 48.828125 44.09375 54.296875 \r\nQ 44.09375 59.90625 40.109375 62.90625 \r\nQ 36.140625 65.921875 28.71875 65.921875 \r\nQ 24.65625 65.921875 20.015625 65.03125 \r\nQ 15.375 64.15625 9.8125 62.3125 \r\nL 9.8125 71.09375 \r\nQ 15.4375 72.65625 20.34375 73.4375 \r\nQ 25.25 74.21875 29.59375 74.21875 \r\nQ 40.828125 74.21875 47.359375 69.109375 \r\nQ 53.90625 64.015625 53.90625 55.328125 \r\nQ 53.90625 49.265625 50.4375 45.09375 \r\nQ 46.96875 40.921875 40.578125 39.3125 \r\nz\r\n\" id=\"DejaVuSans-51\"/>\r\n       </defs>\r\n       <use xlink:href=\"#DejaVuSans-45\"/>\r\n       <use x=\"36.083984\" xlink:href=\"#DejaVuSans-49\"/>\r\n       <use x=\"99.707031\" xlink:href=\"#DejaVuSans-46\"/>\r\n       <use x=\"131.494141\" xlink:href=\"#DejaVuSans-49\"/>\r\n       <use x=\"195.117188\" xlink:href=\"#DejaVuSans-50\"/>\r\n       <use x=\"258.740234\" xlink:href=\"#DejaVuSans-56\"/>\r\n       <use x=\"322.363281\" xlink:href=\"#DejaVuSans-49\"/>\r\n       <use x=\"385.986328\" xlink:href=\"#DejaVuSans-53\"/>\r\n       <use x=\"449.609375\" xlink:href=\"#DejaVuSans-50\"/>\r\n       <use x=\"513.232422\" xlink:href=\"#DejaVuSans-49\"/>\r\n       <use x=\"576.855469\" xlink:href=\"#DejaVuSans-52\"/>\r\n       <use x=\"640.478516\" xlink:href=\"#DejaVuSans-57\"/>\r\n       <use x=\"704.101562\" xlink:href=\"#DejaVuSans-54\"/>\r\n       <use x=\"767.724609\" xlink:href=\"#DejaVuSans-51\"/>\r\n       <use x=\"831.347656\" xlink:href=\"#DejaVuSans-53\"/>\r\n       <use x=\"894.970703\" xlink:href=\"#DejaVuSans-53\"/>\r\n       <use x=\"958.59375\" xlink:href=\"#DejaVuSans-51\"/>\r\n       <use x=\"1022.216797\" xlink:href=\"#DejaVuSans-50\"/>\r\n       <use x=\"1085.839844\" xlink:href=\"#DejaVuSans-53\"/>\r\n      </g>\r\n     </g>\r\n    </g>\r\n    <g id=\"xtick_2\">\r\n     <g id=\"line2d_2\">\r\n      <g>\r\n       <use style=\"stroke:#000000;stroke-width:0.8;\" x=\"712.220312\" xlink:href=\"#m5d52b5cf21\" y=\"445.611519\"/>\r\n      </g>\r\n     </g>\r\n     <g id=\"text_2\">\r\n      <!-- 0.8864052604279182 -->\r\n      <g transform=\"translate(656.55 460.209957)scale(0.1 -0.1)\">\r\n       <defs>\r\n        <path d=\"M 31.78125 66.40625 \r\nQ 24.171875 66.40625 20.328125 58.90625 \r\nQ 16.5 51.421875 16.5 36.375 \r\nQ 16.5 21.390625 20.328125 13.890625 \r\nQ 24.171875 6.390625 31.78125 6.390625 \r\nQ 39.453125 6.390625 43.28125 13.890625 \r\nQ 47.125 21.390625 47.125 36.375 \r\nQ 47.125 51.421875 43.28125 58.90625 \r\nQ 39.453125 66.40625 31.78125 66.40625 \r\nz\r\nM 31.78125 74.21875 \r\nQ 44.046875 74.21875 50.515625 64.515625 \r\nQ 56.984375 54.828125 56.984375 36.375 \r\nQ 56.984375 17.96875 50.515625 8.265625 \r\nQ 44.046875 -1.421875 31.78125 -1.421875 \r\nQ 19.53125 -1.421875 13.0625 8.265625 \r\nQ 6.59375 17.96875 6.59375 36.375 \r\nQ 6.59375 54.828125 13.0625 64.515625 \r\nQ 19.53125 74.21875 31.78125 74.21875 \r\nz\r\n\" id=\"DejaVuSans-48\"/>\r\n        <path d=\"M 8.203125 72.90625 \r\nL 55.078125 72.90625 \r\nL 55.078125 68.703125 \r\nL 28.609375 0 \r\nL 18.3125 0 \r\nL 43.21875 64.59375 \r\nL 8.203125 64.59375 \r\nz\r\n\" id=\"DejaVuSans-55\"/>\r\n       </defs>\r\n       <use xlink:href=\"#DejaVuSans-48\"/>\r\n       <use x=\"63.623047\" xlink:href=\"#DejaVuSans-46\"/>\r\n       <use x=\"95.410156\" xlink:href=\"#DejaVuSans-56\"/>\r\n       <use x=\"159.033203\" xlink:href=\"#DejaVuSans-56\"/>\r\n       <use x=\"222.65625\" xlink:href=\"#DejaVuSans-54\"/>\r\n       <use x=\"286.279297\" xlink:href=\"#DejaVuSans-52\"/>\r\n       <use x=\"349.902344\" xlink:href=\"#DejaVuSans-48\"/>\r\n       <use x=\"413.525391\" xlink:href=\"#DejaVuSans-53\"/>\r\n       <use x=\"477.148438\" xlink:href=\"#DejaVuSans-50\"/>\r\n       <use x=\"540.771484\" xlink:href=\"#DejaVuSans-54\"/>\r\n       <use x=\"604.394531\" xlink:href=\"#DejaVuSans-48\"/>\r\n       <use x=\"668.017578\" xlink:href=\"#DejaVuSans-52\"/>\r\n       <use x=\"731.640625\" xlink:href=\"#DejaVuSans-50\"/>\r\n       <use x=\"795.263672\" xlink:href=\"#DejaVuSans-55\"/>\r\n       <use x=\"858.886719\" xlink:href=\"#DejaVuSans-57\"/>\r\n       <use x=\"922.509766\" xlink:href=\"#DejaVuSans-49\"/>\r\n       <use x=\"986.132812\" xlink:href=\"#DejaVuSans-56\"/>\r\n       <use x=\"1049.755859\" xlink:href=\"#DejaVuSans-50\"/>\r\n      </g>\r\n     </g>\r\n    </g>\r\n    <g id=\"text_3\">\r\n     <!-- g_M -->\r\n     <g transform=\"translate(479.032031 473.609957)scale(0.1 -0.1)\">\r\n      <defs>\r\n       <path d=\"M 45.40625 27.984375 \r\nQ 45.40625 37.75 41.375 43.109375 \r\nQ 37.359375 48.484375 30.078125 48.484375 \r\nQ 22.859375 48.484375 18.828125 43.109375 \r\nQ 14.796875 37.75 14.796875 27.984375 \r\nQ 14.796875 18.265625 18.828125 12.890625 \r\nQ 22.859375 7.515625 30.078125 7.515625 \r\nQ 37.359375 7.515625 41.375 12.890625 \r\nQ 45.40625 18.265625 45.40625 27.984375 \r\nz\r\nM 54.390625 6.78125 \r\nQ 54.390625 -7.171875 48.1875 -13.984375 \r\nQ 42 -20.796875 29.203125 -20.796875 \r\nQ 24.46875 -20.796875 20.265625 -20.09375 \r\nQ 16.0625 -19.390625 12.109375 -17.921875 \r\nL 12.109375 -9.1875 \r\nQ 16.0625 -11.328125 19.921875 -12.34375 \r\nQ 23.78125 -13.375 27.78125 -13.375 \r\nQ 36.625 -13.375 41.015625 -8.765625 \r\nQ 45.40625 -4.15625 45.40625 5.171875 \r\nL 45.40625 9.625 \r\nQ 42.625 4.78125 38.28125 2.390625 \r\nQ 33.9375 0 27.875 0 \r\nQ 17.828125 0 11.671875 7.65625 \r\nQ 5.515625 15.328125 5.515625 27.984375 \r\nQ 5.515625 40.671875 11.671875 48.328125 \r\nQ 17.828125 56 27.875 56 \r\nQ 33.9375 56 38.28125 53.609375 \r\nQ 42.625 51.21875 45.40625 46.390625 \r\nL 45.40625 54.6875 \r\nL 54.390625 54.6875 \r\nz\r\n\" id=\"DejaVuSans-103\"/>\r\n       <path d=\"M 50.984375 -16.609375 \r\nL 50.984375 -23.578125 \r\nL -0.984375 -23.578125 \r\nL -0.984375 -16.609375 \r\nz\r\n\" id=\"DejaVuSans-95\"/>\r\n       <path d=\"M 9.8125 72.90625 \r\nL 24.515625 72.90625 \r\nL 43.109375 23.296875 \r\nL 61.8125 72.90625 \r\nL 76.515625 72.90625 \r\nL 76.515625 0 \r\nL 66.890625 0 \r\nL 66.890625 64.015625 \r\nL 48.09375 14.015625 \r\nL 38.1875 14.015625 \r\nL 19.390625 64.015625 \r\nL 19.390625 0 \r\nL 9.8125 0 \r\nz\r\n\" id=\"DejaVuSans-77\"/>\r\n      </defs>\r\n      <use xlink:href=\"#DejaVuSans-103\"/>\r\n      <use x=\"63.476562\" xlink:href=\"#DejaVuSans-95\"/>\r\n      <use x=\"113.476562\" xlink:href=\"#DejaVuSans-77\"/>\r\n     </g>\r\n    </g>\r\n   </g>\r\n   <g id=\"matplotlib.axis_2\">\r\n    <g id=\"ytick_1\">\r\n     <g id=\"line2d_3\">\r\n      <defs>\r\n       <path d=\"M 0 0 \r\nL -3.5 0 \r\n\" id=\"m3965798c4e\" style=\"stroke:#000000;stroke-width:0.8;\"/>\r\n      </defs>\r\n      <g>\r\n       <use style=\"stroke:#000000;stroke-width:0.8;\" x=\"42.620312\" xlink:href=\"#m3965798c4e\" y=\"412.607686\"/>\r\n      </g>\r\n     </g>\r\n     <g id=\"text_4\">\r\n      <!-- −1 -->\r\n      <g transform=\"translate(20.878125 416.406904)scale(0.1 -0.1)\">\r\n       <defs>\r\n        <path d=\"M 10.59375 35.5 \r\nL 73.1875 35.5 \r\nL 73.1875 27.203125 \r\nL 10.59375 27.203125 \r\nz\r\n\" id=\"DejaVuSans-8722\"/>\r\n       </defs>\r\n       <use xlink:href=\"#DejaVuSans-8722\"/>\r\n       <use x=\"83.789062\" xlink:href=\"#DejaVuSans-49\"/>\r\n      </g>\r\n     </g>\r\n    </g>\r\n    <g id=\"ytick_2\">\r\n     <g id=\"line2d_4\">\r\n      <g>\r\n       <use style=\"stroke:#000000;stroke-width:0.8;\" x=\"42.620312\" xlink:href=\"#m3965798c4e\" y=\"332.285992\"/>\r\n      </g>\r\n     </g>\r\n     <g id=\"text_5\">\r\n      <!-- 0 -->\r\n      <g transform=\"translate(29.257812 336.085211)scale(0.1 -0.1)\">\r\n       <use xlink:href=\"#DejaVuSans-48\"/>\r\n      </g>\r\n     </g>\r\n    </g>\r\n    <g id=\"ytick_3\">\r\n     <g id=\"line2d_5\">\r\n      <g>\r\n       <use style=\"stroke:#000000;stroke-width:0.8;\" x=\"42.620312\" xlink:href=\"#m3965798c4e\" y=\"251.964299\"/>\r\n      </g>\r\n     </g>\r\n     <g id=\"text_6\">\r\n      <!-- 1 -->\r\n      <g transform=\"translate(29.257812 255.763518)scale(0.1 -0.1)\">\r\n       <use xlink:href=\"#DejaVuSans-49\"/>\r\n      </g>\r\n     </g>\r\n    </g>\r\n    <g id=\"ytick_4\">\r\n     <g id=\"line2d_6\">\r\n      <g>\r\n       <use style=\"stroke:#000000;stroke-width:0.8;\" x=\"42.620312\" xlink:href=\"#m3965798c4e\" y=\"171.642605\"/>\r\n      </g>\r\n     </g>\r\n     <g id=\"text_7\">\r\n      <!-- 2 -->\r\n      <g transform=\"translate(29.257812 175.441824)scale(0.1 -0.1)\">\r\n       <use xlink:href=\"#DejaVuSans-50\"/>\r\n      </g>\r\n     </g>\r\n    </g>\r\n    <g id=\"ytick_5\">\r\n     <g id=\"line2d_7\">\r\n      <g>\r\n       <use style=\"stroke:#000000;stroke-width:0.8;\" x=\"42.620312\" xlink:href=\"#m3965798c4e\" y=\"91.320912\"/>\r\n      </g>\r\n     </g>\r\n     <g id=\"text_8\">\r\n      <!-- 3 -->\r\n      <g transform=\"translate(29.257812 95.120131)scale(0.1 -0.1)\">\r\n       <use xlink:href=\"#DejaVuSans-51\"/>\r\n      </g>\r\n     </g>\r\n    </g>\r\n    <g id=\"ytick_6\">\r\n     <g id=\"line2d_8\">\r\n      <g>\r\n       <use style=\"stroke:#000000;stroke-width:0.8;\" x=\"42.620312\" xlink:href=\"#m3965798c4e\" y=\"10.999219\"/>\r\n      </g>\r\n     </g>\r\n     <g id=\"text_9\">\r\n      <!-- 4 -->\r\n      <g transform=\"translate(29.257812 14.798437)scale(0.1 -0.1)\">\r\n       <use xlink:href=\"#DejaVuSans-52\"/>\r\n      </g>\r\n     </g>\r\n    </g>\r\n    <g id=\"text_10\">\r\n     <!-- amt -->\r\n     <g transform=\"translate(14.798437 238.066051)rotate(-90)scale(0.1 -0.1)\">\r\n      <defs>\r\n       <path d=\"M 34.28125 27.484375 \r\nQ 23.390625 27.484375 19.1875 25 \r\nQ 14.984375 22.515625 14.984375 16.5 \r\nQ 14.984375 11.71875 18.140625 8.90625 \r\nQ 21.296875 6.109375 26.703125 6.109375 \r\nQ 34.1875 6.109375 38.703125 11.40625 \r\nQ 43.21875 16.703125 43.21875 25.484375 \r\nL 43.21875 27.484375 \r\nz\r\nM 52.203125 31.203125 \r\nL 52.203125 0 \r\nL 43.21875 0 \r\nL 43.21875 8.296875 \r\nQ 40.140625 3.328125 35.546875 0.953125 \r\nQ 30.953125 -1.421875 24.3125 -1.421875 \r\nQ 15.921875 -1.421875 10.953125 3.296875 \r\nQ 6 8.015625 6 15.921875 \r\nQ 6 25.140625 12.171875 29.828125 \r\nQ 18.359375 34.515625 30.609375 34.515625 \r\nL 43.21875 34.515625 \r\nL 43.21875 35.40625 \r\nQ 43.21875 41.609375 39.140625 45 \r\nQ 35.0625 48.390625 27.6875 48.390625 \r\nQ 23 48.390625 18.546875 47.265625 \r\nQ 14.109375 46.140625 10.015625 43.890625 \r\nL 10.015625 52.203125 \r\nQ 14.9375 54.109375 19.578125 55.046875 \r\nQ 24.21875 56 28.609375 56 \r\nQ 40.484375 56 46.34375 49.84375 \r\nQ 52.203125 43.703125 52.203125 31.203125 \r\nz\r\n\" id=\"DejaVuSans-97\"/>\r\n       <path d=\"M 52 44.1875 \r\nQ 55.375 50.25 60.0625 53.125 \r\nQ 64.75 56 71.09375 56 \r\nQ 79.640625 56 84.28125 50.015625 \r\nQ 88.921875 44.046875 88.921875 33.015625 \r\nL 88.921875 0 \r\nL 79.890625 0 \r\nL 79.890625 32.71875 \r\nQ 79.890625 40.578125 77.09375 44.375 \r\nQ 74.3125 48.1875 68.609375 48.1875 \r\nQ 61.625 48.1875 57.5625 43.546875 \r\nQ 53.515625 38.921875 53.515625 30.90625 \r\nL 53.515625 0 \r\nL 44.484375 0 \r\nL 44.484375 32.71875 \r\nQ 44.484375 40.625 41.703125 44.40625 \r\nQ 38.921875 48.1875 33.109375 48.1875 \r\nQ 26.21875 48.1875 22.15625 43.53125 \r\nQ 18.109375 38.875 18.109375 30.90625 \r\nL 18.109375 0 \r\nL 9.078125 0 \r\nL 9.078125 54.6875 \r\nL 18.109375 54.6875 \r\nL 18.109375 46.1875 \r\nQ 21.1875 51.21875 25.484375 53.609375 \r\nQ 29.78125 56 35.6875 56 \r\nQ 41.65625 56 45.828125 52.96875 \r\nQ 50 49.953125 52 44.1875 \r\nz\r\n\" id=\"DejaVuSans-109\"/>\r\n       <path d=\"M 18.3125 70.21875 \r\nL 18.3125 54.6875 \r\nL 36.8125 54.6875 \r\nL 36.8125 47.703125 \r\nL 18.3125 47.703125 \r\nL 18.3125 18.015625 \r\nQ 18.3125 11.328125 20.140625 9.421875 \r\nQ 21.96875 7.515625 27.59375 7.515625 \r\nL 36.8125 7.515625 \r\nL 36.8125 0 \r\nL 27.59375 0 \r\nQ 17.1875 0 13.234375 3.875 \r\nQ 9.28125 7.765625 9.28125 18.015625 \r\nL 9.28125 47.703125 \r\nL 2.6875 47.703125 \r\nL 2.6875 54.6875 \r\nL 9.28125 54.6875 \r\nL 9.28125 70.21875 \r\nz\r\n\" id=\"DejaVuSans-116\"/>\r\n      </defs>\r\n      <use xlink:href=\"#DejaVuSans-97\"/>\r\n      <use x=\"61.279297\" xlink:href=\"#DejaVuSans-109\"/>\r\n      <use x=\"158.691406\" xlink:href=\"#DejaVuSans-116\"/>\r\n     </g>\r\n    </g>\r\n   </g>\r\n   <g id=\"line2d_9\">\r\n    <path clip-path=\"url(#p61b2eeee05)\" d=\"M 265.820312 401.613676 \r\nL 265.820312 425.844247 \r\n\" style=\"fill:none;stroke:#666666;stroke-linecap:square;stroke-width:1.5;\"/>\r\n   </g>\r\n   <g id=\"line2d_10\">\r\n    <path clip-path=\"url(#p61b2eeee05)\" d=\"M 265.820312 312.223836 \r\nL 265.820312 187.541354 \r\n\" style=\"fill:none;stroke:#666666;stroke-linecap:square;stroke-width:1.5;\"/>\r\n   </g>\r\n   <g id=\"line2d_11\">\r\n    <path clip-path=\"url(#p61b2eeee05)\" d=\"M 176.540312 425.844247 \r\nL 355.100312 425.844247 \r\n\" style=\"fill:none;stroke:#666666;stroke-linecap:square;stroke-width:1.5;\"/>\r\n   </g>\r\n   <g id=\"line2d_12\">\r\n    <path clip-path=\"url(#p61b2eeee05)\" d=\"M 176.540312 187.541354 \r\nL 355.100312 187.541354 \r\n\" style=\"fill:none;stroke:#666666;stroke-linecap:square;stroke-width:1.5;\"/>\r\n   </g>\r\n   <g id=\"line2d_13\">\r\n    <defs>\r\n     <path d=\"M 0 3.535534 \r\nL 2.12132 0 \r\nL 0 -3.535534 \r\nL -2.12132 0 \r\nz\r\n\" id=\"m157af76010\" style=\"stroke:#666666;stroke-linejoin:miter;\"/>\r\n    </defs>\r\n    <g clip-path=\"url(#p61b2eeee05)\">\r\n     <use style=\"fill:#666666;stroke:#666666;stroke-linejoin:miter;\" x=\"265.820312\" xlink:href=\"#m157af76010\" y=\"142.387593\"/>\r\n     <use style=\"fill:#666666;stroke:#666666;stroke-linejoin:miter;\" x=\"265.820312\" xlink:href=\"#m157af76010\" y=\"150.901847\"/>\r\n    </g>\r\n   </g>\r\n   <g id=\"line2d_14\">\r\n    <path clip-path=\"url(#p61b2eeee05)\" d=\"M 712.220312 401.646923 \r\nL 712.220312 421.377799 \r\n\" style=\"fill:none;stroke:#666666;stroke-linecap:square;stroke-width:1.5;\"/>\r\n   </g>\r\n   <g id=\"line2d_15\">\r\n    <path clip-path=\"url(#p61b2eeee05)\" d=\"M 712.220312 272.493386 \r\nL 712.220312 103.521069 \r\n\" style=\"fill:none;stroke:#666666;stroke-linecap:square;stroke-width:1.5;\"/>\r\n   </g>\r\n   <g id=\"line2d_16\">\r\n    <path clip-path=\"url(#p61b2eeee05)\" d=\"M 622.940313 421.377799 \r\nL 801.500312 421.377799 \r\n\" style=\"fill:none;stroke:#666666;stroke-linecap:square;stroke-width:1.5;\"/>\r\n   </g>\r\n   <g id=\"line2d_17\">\r\n    <path clip-path=\"url(#p61b2eeee05)\" d=\"M 622.940313 103.521069 \r\nL 801.500312 103.521069 \r\n\" style=\"fill:none;stroke:#666666;stroke-linecap:square;stroke-width:1.5;\"/>\r\n   </g>\r\n   <g id=\"line2d_18\">\r\n    <g clip-path=\"url(#p61b2eeee05)\">\r\n     <use style=\"fill:#666666;stroke:#666666;stroke-linejoin:miter;\" x=\"712.220312\" xlink:href=\"#m157af76010\" y=\"30.498792\"/>\r\n    </g>\r\n   </g>\r\n   <g id=\"line2d_19\">\r\n    <path clip-path=\"url(#p61b2eeee05)\" d=\"M 87.260312 352.085973 \r\nL 444.380313 352.085973 \r\n\" style=\"fill:none;stroke:#666666;stroke-linecap:square;stroke-width:1.5;\"/>\r\n   </g>\r\n   <g id=\"line2d_20\">\r\n    <path clip-path=\"url(#p61b2eeee05)\" d=\"M 533.660312 341.449106 \r\nL 890.780312 341.449106 \r\n\" style=\"fill:none;stroke:#666666;stroke-linecap:square;stroke-width:1.5;\"/>\r\n   </g>\r\n   <g id=\"patch_5\">\r\n    <path d=\"M 42.620312 445.611519 \r\nL 42.620312 10.731519 \r\n\" style=\"fill:none;stroke:#000000;stroke-linecap:square;stroke-linejoin:miter;stroke-width:0.8;\"/>\r\n   </g>\r\n   <g id=\"patch_6\">\r\n    <path d=\"M 935.420312 445.611519 \r\nL 935.420312 10.731519 \r\n\" style=\"fill:none;stroke:#000000;stroke-linecap:square;stroke-linejoin:miter;stroke-width:0.8;\"/>\r\n   </g>\r\n   <g id=\"patch_7\">\r\n    <path d=\"M 42.620313 445.611519 \r\nL 935.420312 445.611519 \r\n\" style=\"fill:none;stroke:#000000;stroke-linecap:square;stroke-linejoin:miter;stroke-width:0.8;\"/>\r\n   </g>\r\n   <g id=\"patch_8\">\r\n    <path d=\"M 42.620313 10.731519 \r\nL 935.420312 10.731519 \r\n\" style=\"fill:none;stroke:#000000;stroke-linecap:square;stroke-linejoin:miter;stroke-width:0.8;\"/>\r\n   </g>\r\n  </g>\r\n </g>\r\n <defs>\r\n  <clipPath id=\"p61b2eeee05\">\r\n   <rect height=\"434.88\" width=\"892.8\" x=\"42.620312\" y=\"10.731519\"/>\r\n  </clipPath>\r\n </defs>\r\n</svg>\r\n",
      "image/png": "[encoded data removed]"
     },
     "metadata": {
      "needs_background": "light"
     }
    }
   ],
   "source": [
    "fig, ax = plt.subplots(figsize=(16, 8))\n",
    "sns.boxplot(x='g_M', y='amt', data=df_scaled, palette=\"cool_r\")"
   ]
  },
  {
   "cell_type": "code",
   "execution_count": 67,
   "metadata": {},
   "outputs": [
    {
     "data": {
      "application/vnd.jupyter.widget-view+json": {
       "model_id": "fcef54f55b3a4ccc8d483c2c13014171",
       "version_major": 2,
       "version_minor": 0
      },
      "text/plain": [
       "HBox(children=(HTML(value='Summarize dataset'), FloatProgress(value=0.0, max=26.0), HTML(value='')))"
      ]
     },
     "metadata": {},
     "output_type": "display_data"
    },
    {
     "name": "stdout",
     "output_type": "stream",
     "text": [
      "\n"
     ]
    },
    {
     "data": {
      "application/vnd.jupyter.widget-view+json": {
       "model_id": "9f66d07a0f5c4dd6961d76085f3b4de6",
       "version_major": 2,
       "version_minor": 0
      },
      "text/plain": [
       "HBox(children=(HTML(value='Generate report structure'), FloatProgress(value=0.0, max=1.0), HTML(value='')))"
      ]
     },
     "metadata": {},
     "output_type": "display_data"
    },
    {
     "name": "stdout",
     "output_type": "stream",
     "text": [
      "\n"
     ]
    },
    {
     "data": {
      "application/vnd.jupyter.widget-view+json": {
       "model_id": "7c73a82b45474bf6a46e882e47282cda",
       "version_major": 2,
       "version_minor": 0
      },
      "text/plain": [
       "HBox(children=(HTML(value='Render HTML'), FloatProgress(value=0.0, max=1.0), HTML(value='')))"
      ]
     },
     "metadata": {},
     "output_type": "display_data"
    },
    {
     "name": "stdout",
     "output_type": "stream",
     "text": [
      "\n"
     ]
    },
    {
     "data": {
      "application/vnd.jupyter.widget-view+json": {
       "model_id": "fb041776543f400db75db0454063caa5",
       "version_major": 2,
       "version_minor": 0
      },
      "text/plain": [
       "HBox(children=(HTML(value='Export report to file'), FloatProgress(value=0.0, max=1.0), HTML(value='')))"
      ]
     },
     "metadata": {},
     "output_type": "display_data"
    },
    {
     "name": "stdout",
     "output_type": "stream",
     "text": [
      "\n"
     ]
    }
   ],
   "source": [
    "from pandas_profiling import ProfileReport\n",
    "prof = ProfileReport(df_merged)\n",
    "prof.to_file(output_file='output.html')"
   ]
  },
  {
   "cell_type": "markdown",
   "metadata": {},
   "source": [
    "## Step 3: Build linear regression model to predict annual salary"
   ]
  },
  {
   "cell_type": "markdown",
   "metadata": {},
   "source": [
    "### a) Feature selection"
   ]
  },
  {
   "cell_type": "code",
   "execution_count": 68,
   "metadata": {},
   "outputs": [],
   "source": [
    "features = list(set(df_merged.columns) - set(df_merged[['annualized_sal']]))"
   ]
  },
  {
   "cell_type": "code",
   "execution_count": 69,
   "metadata": {},
   "outputs": [
    {
     "data": {
      "text/html": [
       "<div>\n",
       "<style scoped>\n",
       "    .dataframe tbody tr th:only-of-type {\n",
       "        vertical-align: middle;\n",
       "    }\n",
       "\n",
       "    .dataframe tbody tr th {\n",
       "        vertical-align: top;\n",
       "    }\n",
       "\n",
       "    .dataframe thead th {\n",
       "        text-align: right;\n",
       "    }\n",
       "</style>\n",
       "<table border=\"1\" class=\"dataframe\">\n",
       "  <thead>\n",
       "    <tr style=\"text-align: right;\">\n",
       "      <th></th>\n",
       "      <th>balance</th>\n",
       "      <th>Y</th>\n",
       "      <th>phone_bank</th>\n",
       "      <th>inter_bank</th>\n",
       "      <th>sales_pos</th>\n",
       "      <th>age</th>\n",
       "      <th>pos</th>\n",
       "      <th>payment</th>\n",
       "      <th>gender_M</th>\n",
       "      <th>X</th>\n",
       "    </tr>\n",
       "    <tr>\n",
       "      <th>account</th>\n",
       "      <th></th>\n",
       "      <th></th>\n",
       "      <th></th>\n",
       "      <th></th>\n",
       "      <th></th>\n",
       "      <th></th>\n",
       "      <th></th>\n",
       "      <th></th>\n",
       "      <th></th>\n",
       "      <th></th>\n",
       "    </tr>\n",
       "  </thead>\n",
       "  <tbody>\n",
       "    <tr>\n",
       "      <th>37709441</th>\n",
       "      <td>98107.03</td>\n",
       "      <td>153.41</td>\n",
       "      <td>252.0</td>\n",
       "      <td>1692.0</td>\n",
       "      <td>399.84</td>\n",
       "      <td>18</td>\n",
       "      <td>663.05</td>\n",
       "      <td>2088.0</td>\n",
       "      <td>1</td>\n",
       "      <td>-28.01</td>\n",
       "    </tr>\n",
       "    <tr>\n",
       "      <th>38923874</th>\n",
       "      <td>506145.72</td>\n",
       "      <td>151.27</td>\n",
       "      <td>517.5</td>\n",
       "      <td>827.0</td>\n",
       "      <td>734.41</td>\n",
       "      <td>38</td>\n",
       "      <td>1716.74</td>\n",
       "      <td>4671.0</td>\n",
       "      <td>1</td>\n",
       "      <td>-33.90</td>\n",
       "    </tr>\n",
       "    <tr>\n",
       "      <th>53508546</th>\n",
       "      <td>54704.11</td>\n",
       "      <td>150.62</td>\n",
       "      <td>517.5</td>\n",
       "      <td>734.5</td>\n",
       "      <td>1204.22</td>\n",
       "      <td>35</td>\n",
       "      <td>350.31</td>\n",
       "      <td>1180.0</td>\n",
       "      <td>0</td>\n",
       "      <td>-33.76</td>\n",
       "    </tr>\n",
       "    <tr>\n",
       "      <th>80388494</th>\n",
       "      <td>35050.32</td>\n",
       "      <td>144.97</td>\n",
       "      <td>517.5</td>\n",
       "      <td>270.0</td>\n",
       "      <td>3033.07</td>\n",
       "      <td>28</td>\n",
       "      <td>1356.47</td>\n",
       "      <td>852.0</td>\n",
       "      <td>1</td>\n",
       "      <td>-37.42</td>\n",
       "    </tr>\n",
       "    <tr>\n",
       "      <th>90814749</th>\n",
       "      <td>65301.33</td>\n",
       "      <td>151.68</td>\n",
       "      <td>1916.0</td>\n",
       "      <td>902.0</td>\n",
       "      <td>1472.62</td>\n",
       "      <td>35</td>\n",
       "      <td>1845.16</td>\n",
       "      <td>831.0</td>\n",
       "      <td>1</td>\n",
       "      <td>-32.98</td>\n",
       "    </tr>\n",
       "  </tbody>\n",
       "</table>\n",
       "</div>"
      ],
      "text/plain": [
       "            balance       Y  phone_bank  inter_bank  sales_pos  age      pos  \\\n",
       "account                                                                        \n",
       "37709441   98107.03  153.41       252.0      1692.0     399.84   18   663.05   \n",
       "38923874  506145.72  151.27       517.5       827.0     734.41   38  1716.74   \n",
       "53508546   54704.11  150.62       517.5       734.5    1204.22   35   350.31   \n",
       "80388494   35050.32  144.97       517.5       270.0    3033.07   28  1356.47   \n",
       "90814749   65301.33  151.68      1916.0       902.0    1472.62   35  1845.16   \n",
       "\n",
       "          payment  gender_M      X  \n",
       "account                             \n",
       "37709441   2088.0         1 -28.01  \n",
       "38923874   4671.0         1 -33.90  \n",
       "53508546   1180.0         0 -33.76  \n",
       "80388494    852.0         1 -37.42  \n",
       "90814749    831.0         1 -32.98  "
      ]
     },
     "execution_count": 69,
     "metadata": {},
     "output_type": "execute_result"
    }
   ],
   "source": [
    "X = df_merged[features]\n",
    "y = df_merged['annualized_sal']\n",
    "X.head()"
   ]
  },
  {
   "cell_type": "code",
   "execution_count": 70,
   "metadata": {},
   "outputs": [],
   "source": [
    "# Normalize X using a StandardScalar\n",
    "scaler = StandardScaler()\n",
    "X_scaled = scaler.fit_transform(X)"
   ]
  },
  {
   "cell_type": "code",
   "execution_count": 71,
   "metadata": {},
   "outputs": [
    {
     "data": {
      "text/html": [
       "<div>\n",
       "<style scoped>\n",
       "    .dataframe tbody tr th:only-of-type {\n",
       "        vertical-align: middle;\n",
       "    }\n",
       "\n",
       "    .dataframe tbody tr th {\n",
       "        vertical-align: top;\n",
       "    }\n",
       "\n",
       "    .dataframe thead th {\n",
       "        text-align: right;\n",
       "    }\n",
       "</style>\n",
       "<table border=\"1\" class=\"dataframe\">\n",
       "  <thead>\n",
       "    <tr style=\"text-align: right;\">\n",
       "      <th></th>\n",
       "      <th>balance</th>\n",
       "      <th>Y</th>\n",
       "      <th>phone_bank</th>\n",
       "      <th>inter_bank</th>\n",
       "      <th>sales_pos</th>\n",
       "      <th>age</th>\n",
       "      <th>pos</th>\n",
       "      <th>payment</th>\n",
       "      <th>gender_M</th>\n",
       "      <th>X</th>\n",
       "    </tr>\n",
       "  </thead>\n",
       "  <tbody>\n",
       "    <tr>\n",
       "      <th>0</th>\n",
       "      <td>-0.172917</td>\n",
       "      <td>0.610939</td>\n",
       "      <td>-1.536565</td>\n",
       "      <td>1.338119</td>\n",
       "      <td>-1.026027</td>\n",
       "      <td>-1.198810</td>\n",
       "      <td>-0.668345</td>\n",
       "      <td>0.056973</td>\n",
       "      <td>0.886405</td>\n",
       "      <td>0.196988</td>\n",
       "    </tr>\n",
       "    <tr>\n",
       "      <th>1</th>\n",
       "      <td>1.615013</td>\n",
       "      <td>0.478129</td>\n",
       "      <td>-0.129134</td>\n",
       "      <td>-0.084450</td>\n",
       "      <td>-0.736069</td>\n",
       "      <td>0.542381</td>\n",
       "      <td>0.134553</td>\n",
       "      <td>2.459192</td>\n",
       "      <td>0.886405</td>\n",
       "      <td>0.087915</td>\n",
       "    </tr>\n",
       "    <tr>\n",
       "      <th>2</th>\n",
       "      <td>-0.363099</td>\n",
       "      <td>0.437789</td>\n",
       "      <td>-0.129134</td>\n",
       "      <td>-0.236574</td>\n",
       "      <td>-0.328904</td>\n",
       "      <td>0.281202</td>\n",
       "      <td>-0.906649</td>\n",
       "      <td>-0.787478</td>\n",
       "      <td>-1.128152</td>\n",
       "      <td>0.090508</td>\n",
       "    </tr>\n",
       "    <tr>\n",
       "      <th>3</th>\n",
       "      <td>-0.449217</td>\n",
       "      <td>0.087146</td>\n",
       "      <td>-0.129134</td>\n",
       "      <td>-1.000485</td>\n",
       "      <td>1.256084</td>\n",
       "      <td>-0.328215</td>\n",
       "      <td>-0.139968</td>\n",
       "      <td>-1.092522</td>\n",
       "      <td>0.886405</td>\n",
       "      <td>0.022731</td>\n",
       "    </tr>\n",
       "    <tr>\n",
       "      <th>4</th>\n",
       "      <td>-0.316664</td>\n",
       "      <td>0.503574</td>\n",
       "      <td>7.284396</td>\n",
       "      <td>0.038894</td>\n",
       "      <td>-0.096293</td>\n",
       "      <td>0.281202</td>\n",
       "      <td>0.232408</td>\n",
       "      <td>-1.112052</td>\n",
       "      <td>0.886405</td>\n",
       "      <td>0.104952</td>\n",
       "    </tr>\n",
       "    <tr>\n",
       "      <th>...</th>\n",
       "      <td>...</td>\n",
       "      <td>...</td>\n",
       "      <td>...</td>\n",
       "      <td>...</td>\n",
       "      <td>...</td>\n",
       "      <td>...</td>\n",
       "      <td>...</td>\n",
       "      <td>...</td>\n",
       "      <td>...</td>\n",
       "      <td>...</td>\n",
       "    </tr>\n",
       "    <tr>\n",
       "      <th>95</th>\n",
       "      <td>-0.236044</td>\n",
       "      <td>-1.722547</td>\n",
       "      <td>-0.129134</td>\n",
       "      <td>0.201709</td>\n",
       "      <td>1.547611</td>\n",
       "      <td>-0.937632</td>\n",
       "      <td>-0.711535</td>\n",
       "      <td>1.795164</td>\n",
       "      <td>0.886405</td>\n",
       "      <td>0.126433</td>\n",
       "    </tr>\n",
       "    <tr>\n",
       "      <th>96</th>\n",
       "      <td>-0.190322</td>\n",
       "      <td>0.339113</td>\n",
       "      <td>-0.129134</td>\n",
       "      <td>-0.236574</td>\n",
       "      <td>-1.281943</td>\n",
       "      <td>-0.502334</td>\n",
       "      <td>-1.158524</td>\n",
       "      <td>0.386197</td>\n",
       "      <td>-1.128152</td>\n",
       "      <td>0.068101</td>\n",
       "    </tr>\n",
       "    <tr>\n",
       "      <th>97</th>\n",
       "      <td>-0.376591</td>\n",
       "      <td>0.116935</td>\n",
       "      <td>-0.129134</td>\n",
       "      <td>-0.342650</td>\n",
       "      <td>0.934684</td>\n",
       "      <td>-0.676453</td>\n",
       "      <td>1.621252</td>\n",
       "      <td>-0.039749</td>\n",
       "      <td>-1.128152</td>\n",
       "      <td>0.016805</td>\n",
       "    </tr>\n",
       "    <tr>\n",
       "      <th>98</th>\n",
       "      <td>-0.418764</td>\n",
       "      <td>0.103282</td>\n",
       "      <td>-0.129134</td>\n",
       "      <td>-0.236574</td>\n",
       "      <td>-1.170516</td>\n",
       "      <td>-1.024691</td>\n",
       "      <td>-0.130039</td>\n",
       "      <td>-0.784688</td>\n",
       "      <td>0.886405</td>\n",
       "      <td>0.014583</td>\n",
       "    </tr>\n",
       "    <tr>\n",
       "      <th>99</th>\n",
       "      <td>0.602356</td>\n",
       "      <td>0.087766</td>\n",
       "      <td>-0.200698</td>\n",
       "      <td>-0.236574</td>\n",
       "      <td>0.407912</td>\n",
       "      <td>0.890619</td>\n",
       "      <td>-1.079963</td>\n",
       "      <td>-0.547535</td>\n",
       "      <td>0.886405</td>\n",
       "      <td>0.014953</td>\n",
       "    </tr>\n",
       "  </tbody>\n",
       "</table>\n",
       "<p>100 rows × 10 columns</p>\n",
       "</div>"
      ],
      "text/plain": [
       "     balance         Y  phone_bank  inter_bank  sales_pos       age       pos  \\\n",
       "0  -0.172917  0.610939   -1.536565    1.338119  -1.026027 -1.198810 -0.668345   \n",
       "1   1.615013  0.478129   -0.129134   -0.084450  -0.736069  0.542381  0.134553   \n",
       "2  -0.363099  0.437789   -0.129134   -0.236574  -0.328904  0.281202 -0.906649   \n",
       "3  -0.449217  0.087146   -0.129134   -1.000485   1.256084 -0.328215 -0.139968   \n",
       "4  -0.316664  0.503574    7.284396    0.038894  -0.096293  0.281202  0.232408   \n",
       "..       ...       ...         ...         ...        ...       ...       ...   \n",
       "95 -0.236044 -1.722547   -0.129134    0.201709   1.547611 -0.937632 -0.711535   \n",
       "96 -0.190322  0.339113   -0.129134   -0.236574  -1.281943 -0.502334 -1.158524   \n",
       "97 -0.376591  0.116935   -0.129134   -0.342650   0.934684 -0.676453  1.621252   \n",
       "98 -0.418764  0.103282   -0.129134   -0.236574  -1.170516 -1.024691 -0.130039   \n",
       "99  0.602356  0.087766   -0.200698   -0.236574   0.407912  0.890619 -1.079963   \n",
       "\n",
       "     payment  gender_M         X  \n",
       "0   0.056973  0.886405  0.196988  \n",
       "1   2.459192  0.886405  0.087915  \n",
       "2  -0.787478 -1.128152  0.090508  \n",
       "3  -1.092522  0.886405  0.022731  \n",
       "4  -1.112052  0.886405  0.104952  \n",
       "..       ...       ...       ...  \n",
       "95  1.795164  0.886405  0.126433  \n",
       "96  0.386197 -1.128152  0.068101  \n",
       "97 -0.039749 -1.128152  0.016805  \n",
       "98 -0.784688  0.886405  0.014583  \n",
       "99 -0.547535  0.886405  0.014953  \n",
       "\n",
       "[100 rows x 10 columns]"
      ]
     },
     "execution_count": 71,
     "metadata": {},
     "output_type": "execute_result"
    }
   ],
   "source": [
    "X = pd.DataFrame(X_scaled, columns=X.columns)\n",
    "X"
   ]
  },
  {
   "cell_type": "markdown",
   "metadata": {},
   "source": [
    "### b) Linear Regression Model"
   ]
  },
  {
   "cell_type": "code",
   "execution_count": 72,
   "metadata": {},
   "outputs": [],
   "source": [
    "from sklearn.linear_model import Lasso, LassoCV\n",
    "from sklearn.metrics import mean_squared_error"
   ]
  },
  {
   "cell_type": "code",
   "execution_count": 73,
   "metadata": {},
   "outputs": [],
   "source": [
    "# split data again\n",
    "X_train, X_test, y_train, y_test = train_test_split(X, y, test_size = 0.3, random_state=42)"
   ]
  },
  {
   "cell_type": "code",
   "execution_count": 74,
   "metadata": {},
   "outputs": [],
   "source": [
    "reg = LinearRegression().fit(X_train, y_train)"
   ]
  },
  {
   "cell_type": "code",
   "execution_count": 81,
   "metadata": {},
   "outputs": [
    {
     "data": {
      "text/plain": [
       "0.4802307603404141"
      ]
     },
     "execution_count": 81,
     "metadata": {},
     "output_type": "execute_result"
    }
   ],
   "source": [
    "reg.score(X_train, y_train)"
   ]
  },
  {
   "cell_type": "code",
   "execution_count": null,
   "metadata": {},
   "outputs": [],
   "source": []
  },
  {
   "cell_type": "code",
   "execution_count": 82,
   "metadata": {},
   "outputs": [],
   "source": [
    "def view_coeff(X, model):\n",
    "    model_coefs = pd.DataFrame({'variable': X.columns,\n",
    "                                'coef': model.coef_,\n",
    "                                'abs_coef': np.abs(model.coef_)})\n",
    "    model_coefs.sort_values('abs_coef', inplace=True, ascending=False)\n",
    "    sns.barplot(x=\"variable\", y=\"coef\", data=model_coefs, )"
   ]
  },
  {
   "cell_type": "code",
   "execution_count": 83,
   "metadata": {},
   "outputs": [
    {
     "data": {
      "image/png": "[encoded data removed]",
      "text/plain": [
       "<Figure size 432x288 with 1 Axes>"
      ]
     },
     "metadata": {
      "needs_background": "light"
     },
     "output_type": "display_data"
    }
   ],
   "source": [
    "# Plot Coefficients\n",
    "view_coeff(X, reg)"
   ]
  },
  {
   "cell_type": "code",
   "execution_count": 84,
   "metadata": {},
   "outputs": [
    {
     "ename": "NameError",
     "evalue": "name 'lasso_alphas' is not defined",
     "output_type": "error",
     "traceback": [
      "\u001b[1;31m---------------------------------------------------------------------------\u001b[0m",
      "\u001b[1;31mNameError\u001b[0m                                 Traceback (most recent call last)",
      "\u001b[1;32m<ipython-input-84-cc5e6dcbecf3>\u001b[0m in \u001b[0;36m<module>\u001b[1;34m\u001b[0m\n\u001b[0;32m      1\u001b[0m \u001b[1;31m# Find Optimal Lasso Using LassoCV\u001b[0m\u001b[1;33m\u001b[0m\u001b[1;33m\u001b[0m\u001b[1;33m\u001b[0m\u001b[0m\n\u001b[1;32m----> 2\u001b[1;33m \u001b[0moptimal_lasso\u001b[0m \u001b[1;33m=\u001b[0m \u001b[0mLassoCV\u001b[0m\u001b[1;33m(\u001b[0m\u001b[0malphas\u001b[0m\u001b[1;33m=\u001b[0m\u001b[0mlasso_alphas\u001b[0m\u001b[1;33m,\u001b[0m \u001b[0mcv\u001b[0m\u001b[1;33m=\u001b[0m\u001b[1;36m10\u001b[0m\u001b[1;33m)\u001b[0m\u001b[1;33m\u001b[0m\u001b[1;33m\u001b[0m\u001b[0m\n\u001b[0m\u001b[0;32m      3\u001b[0m \u001b[0moptimal_lasso\u001b[0m\u001b[1;33m.\u001b[0m\u001b[0mfit\u001b[0m\u001b[1;33m(\u001b[0m\u001b[0mX\u001b[0m\u001b[1;33m,\u001b[0m \u001b[0my\u001b[0m\u001b[1;33m)\u001b[0m\u001b[1;33m\u001b[0m\u001b[1;33m\u001b[0m\u001b[0m\n\u001b[0;32m      4\u001b[0m \u001b[0mprint\u001b[0m\u001b[1;33m(\u001b[0m\u001b[1;34m'Alpha:'\u001b[0m\u001b[1;33m,\u001b[0m \u001b[0moptimal_lasso\u001b[0m\u001b[1;33m.\u001b[0m\u001b[0malpha_\u001b[0m\u001b[1;33m)\u001b[0m\u001b[1;33m\u001b[0m\u001b[1;33m\u001b[0m\u001b[0m\n\u001b[0;32m      5\u001b[0m \u001b[0mprint\u001b[0m\u001b[1;33m(\u001b[0m\u001b[1;34m'Score:'\u001b[0m\u001b[1;33m,\u001b[0m \u001b[0moptimal_lasso\u001b[0m\u001b[1;33m.\u001b[0m\u001b[0mscore\u001b[0m\u001b[1;33m(\u001b[0m\u001b[0mX\u001b[0m\u001b[1;33m,\u001b[0m \u001b[0my\u001b[0m\u001b[1;33m)\u001b[0m\u001b[1;33m)\u001b[0m\u001b[1;33m\u001b[0m\u001b[1;33m\u001b[0m\u001b[0m\n",
      "\u001b[1;31mNameError\u001b[0m: name 'lasso_alphas' is not defined"
     ]
    }
   ],
   "source": [
    "# Find Optimal Lasso Using LassoCV\n",
    "optimal_lasso = LassoCV(alphas=lasso_alphas, cv=10)\n",
    "optimal_lasso.fit(X, y)\n",
    "print('Alpha:', optimal_lasso.alpha_)\n",
    "print('Score:', optimal_lasso.score(X, y))"
   ]
  },
  {
   "cell_type": "code",
   "execution_count": 85,
   "metadata": {},
   "outputs": [
    {
     "ename": "NameError",
     "evalue": "name 'optimal_lasso' is not defined",
     "output_type": "error",
     "traceback": [
      "\u001b[1;31m---------------------------------------------------------------------------\u001b[0m",
      "\u001b[1;31mNameError\u001b[0m                                 Traceback (most recent call last)",
      "\u001b[1;32m<ipython-input-85-1251b25f7bcd>\u001b[0m in \u001b[0;36m<module>\u001b[1;34m\u001b[0m\n\u001b[0;32m      1\u001b[0m \u001b[1;31m# Plot Coefficient\u001b[0m\u001b[1;33m\u001b[0m\u001b[1;33m\u001b[0m\u001b[1;33m\u001b[0m\u001b[0m\n\u001b[1;32m----> 2\u001b[1;33m \u001b[0mview_coeff\u001b[0m\u001b[1;33m(\u001b[0m\u001b[0mX\u001b[0m\u001b[1;33m,\u001b[0m \u001b[0moptimal_lasso\u001b[0m\u001b[1;33m)\u001b[0m\u001b[1;33m\u001b[0m\u001b[1;33m\u001b[0m\u001b[0m\n\u001b[0m",
      "\u001b[1;31mNameError\u001b[0m: name 'optimal_lasso' is not defined"
     ]
    }
   ],
   "source": [
    "# Plot Coefficient\n",
    "view_coeff(X, optimal_lasso)"
   ]
  },
  {
   "cell_type": "code",
   "execution_count": null,
   "metadata": {},
   "outputs": [],
   "source": [
    "X"
   ]
  },
  {
   "cell_type": "code",
   "execution_count": null,
   "metadata": {},
   "outputs": [],
   "source": []
  }
 ],
 "metadata": {
  "kernelspec": {
   "name": "python385jvsc74a57bd0bc35b5ffc8f6562ab4deb4370e811664ba3c75a97eef4ba2623a917286552588",
   "display_name": "Python 3.8.5 64-bit ('base': conda)"
  },
  "language_info": {
   "codemirror_mode": {
    "name": "ipython",
    "version": 3
   },
   "file_extension": ".py",
   "mimetype": "text/x-python",
   "name": "python",
   "nbconvert_exporter": "python",
   "pygments_lexer": "ipython3",
   "version": "3.8.5"
  }
 },
 "nbformat": 4,
 "nbformat_minor": 4
}