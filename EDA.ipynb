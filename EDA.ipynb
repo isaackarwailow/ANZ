{
 "cells": [
  {
   "cell_type": "markdown",
   "metadata": {},
   "source": [
    "# ANZ task: Explore the data and tell a visual story"
   ]
  },
  {
   "cell_type": "markdown",
   "metadata": {},
   "source": [
    "Before running the analysis, the table data has been split up into 4 different tables:\n",
    "- original data\n",
    "    - this is where overview will be carried out on the most important big picture view to tell the data story\n",
    "- authorized transactions\n",
    "    - these transactions would be reviewed, most importantly trying to understand the security aspect of it to help the cybersecurity team to understand potential security risks that can be garnered from the data.\n",
    "- posted transactions\n",
    "    - These transactions have missing fields, making it hard to track\n",
    "- corporate transactions"
   ]
  },
  {
   "cell_type": "code",
   "execution_count": 107,
   "metadata": {},
   "outputs": [],
   "source": [
    "# These are necessary libraries that is enabled in Python to perform the analysis\n",
    "import pandas as pd\n",
    "import numpy as np\n",
    "import matplotlib.pyplot as plt\n",
    "import seaborn as sns\n",
    "import datetime"
   ]
  },
  {
   "cell_type": "code",
   "execution_count": 53,
   "metadata": {},
   "outputs": [],
   "source": [
    "file = 'DATA/original-data.xlsx'"
   ]
  },
  {
   "cell_type": "code",
   "execution_count": 54,
   "metadata": {},
   "outputs": [],
   "source": [
    "df = pd.read_excel(file)"
   ]
  },
  {
   "cell_type": "code",
   "execution_count": 55,
   "metadata": {},
   "outputs": [
    {
     "data": {
      "text/plain": [
       "Index(['timestamps', 'date', 'status', 'age', 'gender', 'txn_description',\n",
       "       'balance', 'amount', 'card_present_flag', 'long', 'lat', 'geometry',\n",
       "       'merchant_suburb', 'merchant_state', 'merchant_long_lat', 'merch_long',\n",
       "       'merch_lat'],\n",
       "      dtype='object')"
      ]
     },
     "execution_count": 55,
     "metadata": {},
     "output_type": "execute_result"
    }
   ],
   "source": [
    "df.columns\n"
   ]
  },
  {
   "cell_type": "code",
   "execution_count": 56,
   "metadata": {},
   "outputs": [
    {
     "data": {
      "text/plain": [
       "timestamps                   object\n",
       "date                 datetime64[ns]\n",
       "status                       object\n",
       "age                           int64\n",
       "gender                       object\n",
       "txn_description              object\n",
       "balance                     float64\n",
       "amount                      float64\n",
       "card_present_flag           float64\n",
       "long                        float64\n",
       "lat                         float64\n",
       "geometry                     object\n",
       "merchant_suburb              object\n",
       "merchant_state               object\n",
       "merchant_long_lat            object\n",
       "merch_long                  float64\n",
       "merch_lat                   float64\n",
       "dtype: object"
      ]
     },
     "execution_count": 56,
     "metadata": {},
     "output_type": "execute_result"
    }
   ],
   "source": [
    "df.dtypes"
   ]
  },
  {
   "cell_type": "code",
   "execution_count": 91,
   "metadata": {},
   "outputs": [
    {
     "data": {
      "text/plain": [
       "timestamps              0\n",
       "date                    0\n",
       "status                  0\n",
       "age                     0\n",
       "gender                  0\n",
       "txn_description         0\n",
       "balance                 0\n",
       "amount                  0\n",
       "card_present_flag    4326\n",
       "long                    0\n",
       "lat                     0\n",
       "geometry                0\n",
       "merchant_suburb      4326\n",
       "merchant_state       4326\n",
       "merchant_long_lat    4326\n",
       "merch_long              0\n",
       "merch_lat               0\n",
       "time                    0\n",
       "dtype: int64"
      ]
     },
     "execution_count": 91,
     "metadata": {},
     "output_type": "execute_result"
    }
   ],
   "source": [
    "df.isna().sum()"
   ]
  },
  {
   "cell_type": "code",
   "execution_count": 92,
   "metadata": {},
   "outputs": [],
   "source": [
    "df.fillna(0, inplace=True)"
   ]
  },
  {
   "cell_type": "code",
   "execution_count": 93,
   "metadata": {},
   "outputs": [
    {
     "data": {
      "text/plain": [
       "timestamps           0\n",
       "date                 0\n",
       "status               0\n",
       "age                  0\n",
       "gender               0\n",
       "txn_description      0\n",
       "balance              0\n",
       "amount               0\n",
       "card_present_flag    0\n",
       "long                 0\n",
       "lat                  0\n",
       "geometry             0\n",
       "merchant_suburb      0\n",
       "merchant_state       0\n",
       "merchant_long_lat    0\n",
       "merch_long           0\n",
       "merch_lat            0\n",
       "time                 0\n",
       "dtype: int64"
      ]
     },
     "execution_count": 93,
     "metadata": {},
     "output_type": "execute_result"
    }
   ],
   "source": [
    "df.isna().sum()"
   ]
  },
  {
   "cell_type": "code",
   "execution_count": 57,
   "metadata": {},
   "outputs": [],
   "source": [
    "df['timestamps'] = pd.to_datetime(df['timestamps'], format='%Y-%m-%d %H:%M:%S')"
   ]
  },
  {
   "cell_type": "markdown",
   "metadata": {},
   "source": [
    "Insight: EFTPOS transactions top the list when it comes to most transactions conducted."
   ]
  },
  {
   "cell_type": "code",
   "execution_count": 23,
   "metadata": {},
   "outputs": [
    {
     "data": {
      "text/plain": [
       "<AxesSubplot:>"
      ]
     },
     "execution_count": 23,
     "metadata": {},
     "output_type": "execute_result"
    },
    {
     "data": {
      "image/png": "[encoded data removed]",
      "text/plain": [
       "<Figure size 432x288 with 1 Axes>"
      ]
     },
     "metadata": {
      "needs_background": "light"
     },
     "output_type": "display_data"
    }
   ],
   "source": [
    "df.txn_description.hist()"
   ]
  },
  {
   "cell_type": "markdown",
   "metadata": {},
   "source": [
    "Insight: Majority of the transactions are conducted by ages 30 and below"
   ]
  },
  {
   "cell_type": "code",
   "execution_count": 16,
   "metadata": {},
   "outputs": [
    {
     "data": {
      "text/plain": [
       "<AxesSubplot:>"
      ]
     },
     "execution_count": 16,
     "metadata": {},
     "output_type": "execute_result"
    },
    {
     "data": {
      "image/png": "[encoded data removed]",
      "text/plain": [
       "<Figure size 432x288 with 1 Axes>"
      ]
     },
     "metadata": {
      "needs_background": "light"
     },
     "output_type": "display_data"
    }
   ],
   "source": [
    "df.age.hist()"
   ]
  },
  {
   "cell_type": "code",
   "execution_count": 69,
   "metadata": {},
   "outputs": [],
   "source": [
    "time_group = df.groupby('time').sum()"
   ]
  },
  {
   "cell_type": "markdown",
   "metadata": {},
   "source": [
    "Q: What time of day is the most active for transaction activity? Around 11:06 AM till 16:40 PM"
   ]
  },
  {
   "cell_type": "code",
   "execution_count": 70,
   "metadata": {},
   "outputs": [
    {
     "data": {
      "text/plain": [
       "<AxesSubplot:xlabel='time'>"
      ]
     },
     "execution_count": 70,
     "metadata": {},
     "output_type": "execute_result"
    },
    {
     "data": {
      "image/png": "[encoded data removed]",
      "text/plain": [
       "<Figure size 432x288 with 1 Axes>"
      ]
     },
     "metadata": {
      "needs_background": "light"
     },
     "output_type": "display_data"
    }
   ],
   "source": [
    "time_group['amount'].plot()"
   ]
  },
  {
   "cell_type": "markdown",
   "metadata": {},
   "source": [
    "Plot for balance versus time"
   ]
  },
  {
   "cell_type": "code",
   "execution_count": 73,
   "metadata": {},
   "outputs": [
    {
     "data": {
      "text/plain": [
       "<AxesSubplot:xlabel='time', ylabel='balance'>"
      ]
     },
     "execution_count": 73,
     "metadata": {},
     "output_type": "execute_result"
    },
    {
     "data": {
      "image/png": "[encoded data removed]",
      "text/plain": [
       "<Figure size 432x288 with 1 Axes>"
      ]
     },
     "metadata": {
      "needs_background": "light"
     },
     "output_type": "display_data"
    }
   ],
   "source": [
    "time_group['balance'].plot(ylabel= 'balance')"
   ]
  },
  {
   "cell_type": "markdown",
   "metadata": {},
   "source": [
    "The plot below shows that overall, people approximating the age of 40 have a higher balance kept in the bank than most other age groups"
   ]
  },
  {
   "cell_type": "code",
   "execution_count": 32,
   "metadata": {},
   "outputs": [
    {
     "data": {
      "text/plain": [
       "<AxesSubplot:xlabel='age', ylabel='balance'>"
      ]
     },
     "execution_count": 32,
     "metadata": {},
     "output_type": "execute_result"
    },
    {
     "data": {
      "image/png": "[encoded data removed]",
      "text/plain": [
       "<Figure size 432x288 with 1 Axes>"
      ]
     },
     "metadata": {
      "needs_background": "light"
     },
     "output_type": "display_data"
    }
   ],
   "source": [
    "age_group = df.groupby('age').sum()\n",
    "age_group['balance'].plot(ylabel='balance')\n"
   ]
  },
  {
   "cell_type": "markdown",
   "metadata": {},
   "source": [
    "Transactional amounts peak up in ages 20 and 40 years old"
   ]
  },
  {
   "cell_type": "code",
   "execution_count": 73,
   "metadata": {},
   "outputs": [
    {
     "data": {
      "text/plain": [
       "<AxesSubplot:xlabel='age', ylabel='amount'>"
      ]
     },
     "execution_count": 73,
     "metadata": {},
     "output_type": "execute_result"
    },
    {
     "data": {
      "image/png": "[encoded data removed]",
      "text/plain": [
       "<Figure size 432x288 with 1 Axes>"
      ]
     },
     "metadata": {
      "needs_background": "light"
     },
     "output_type": "display_data"
    }
   ],
   "source": [
    "age_group['amount'].plot(ylabel='amount')"
   ]
  },
  {
   "cell_type": "code",
   "execution_count": 84,
   "metadata": {},
   "outputs": [],
   "source": [
    "# this code sorts the table into authorized vs posted transactions as these columns shows\n",
    "# high functional dependencies among the columns, which is a violation of 2NF\n",
    "mask_authorized = df.status == 'authorized'\n",
    "trans_authorized = df[mask_authorized]\n",
    "mask_posted = df.status == 'posted'\n",
    "trans_posted = df[mask_posted]"
   ]
  },
  {
   "cell_type": "code",
   "execution_count": 89,
   "metadata": {},
   "outputs": [
    {
     "data": {
      "text/html": [
       "<div>\n",
       "<style scoped>\n",
       "    .dataframe tbody tr th:only-of-type {\n",
       "        vertical-align: middle;\n",
       "    }\n",
       "\n",
       "    .dataframe tbody tr th {\n",
       "        vertical-align: top;\n",
       "    }\n",
       "\n",
       "    .dataframe thead th {\n",
       "        text-align: right;\n",
       "    }\n",
       "</style>\n",
       "<table border=\"1\" class=\"dataframe\">\n",
       "  <thead>\n",
       "    <tr style=\"text-align: right;\">\n",
       "      <th></th>\n",
       "      <th>timestamps</th>\n",
       "      <th>date</th>\n",
       "      <th>status</th>\n",
       "      <th>age</th>\n",
       "      <th>gender</th>\n",
       "      <th>txn_description</th>\n",
       "      <th>balance</th>\n",
       "      <th>amount</th>\n",
       "      <th>card_present_flag</th>\n",
       "      <th>long</th>\n",
       "      <th>lat</th>\n",
       "      <th>geometry</th>\n",
       "      <th>merchant_suburb</th>\n",
       "      <th>merchant_state</th>\n",
       "      <th>merchant_long_lat</th>\n",
       "      <th>merch_long</th>\n",
       "      <th>merch_lat</th>\n",
       "      <th>time</th>\n",
       "    </tr>\n",
       "  </thead>\n",
       "  <tbody>\n",
       "    <tr>\n",
       "      <th>0</th>\n",
       "      <td>2018-08-01 01:01:15+00:00</td>\n",
       "      <td>2018-08-01</td>\n",
       "      <td>authorized</td>\n",
       "      <td>26</td>\n",
       "      <td>F</td>\n",
       "      <td>POS</td>\n",
       "      <td>35.39</td>\n",
       "      <td>16.25</td>\n",
       "      <td>1.0</td>\n",
       "      <td>153.41</td>\n",
       "      <td>-27.95</td>\n",
       "      <td>153.41 -27.95</td>\n",
       "      <td>Ashmore</td>\n",
       "      <td>QLD</td>\n",
       "      <td>153.38 -27.99</td>\n",
       "      <td>153.38</td>\n",
       "      <td>-27.99</td>\n",
       "      <td>01:01:15</td>\n",
       "    </tr>\n",
       "    <tr>\n",
       "      <th>1</th>\n",
       "      <td>2018-08-01 01:13:45+00:00</td>\n",
       "      <td>2018-08-01</td>\n",
       "      <td>authorized</td>\n",
       "      <td>26</td>\n",
       "      <td>F</td>\n",
       "      <td>SALES-POS</td>\n",
       "      <td>21.20</td>\n",
       "      <td>14.19</td>\n",
       "      <td>0.0</td>\n",
       "      <td>153.41</td>\n",
       "      <td>-27.95</td>\n",
       "      <td>153.41 -27.95</td>\n",
       "      <td>Sydney</td>\n",
       "      <td>NSW</td>\n",
       "      <td>151.21 -33.87</td>\n",
       "      <td>151.21</td>\n",
       "      <td>-33.87</td>\n",
       "      <td>01:13:45</td>\n",
       "    </tr>\n",
       "    <tr>\n",
       "      <th>2</th>\n",
       "      <td>2018-08-01 01:26:15+00:00</td>\n",
       "      <td>2018-08-01</td>\n",
       "      <td>authorized</td>\n",
       "      <td>38</td>\n",
       "      <td>M</td>\n",
       "      <td>POS</td>\n",
       "      <td>5.71</td>\n",
       "      <td>6.42</td>\n",
       "      <td>1.0</td>\n",
       "      <td>151.23</td>\n",
       "      <td>-33.94</td>\n",
       "      <td>151.23 -33.94</td>\n",
       "      <td>Sydney</td>\n",
       "      <td>NSW</td>\n",
       "      <td>151.21 -33.87</td>\n",
       "      <td>151.21</td>\n",
       "      <td>-33.87</td>\n",
       "      <td>01:26:15</td>\n",
       "    </tr>\n",
       "    <tr>\n",
       "      <th>3</th>\n",
       "      <td>2018-08-01 01:38:45+00:00</td>\n",
       "      <td>2018-08-01</td>\n",
       "      <td>authorized</td>\n",
       "      <td>40</td>\n",
       "      <td>F</td>\n",
       "      <td>SALES-POS</td>\n",
       "      <td>2117.22</td>\n",
       "      <td>40.90</td>\n",
       "      <td>1.0</td>\n",
       "      <td>153.10</td>\n",
       "      <td>-27.66</td>\n",
       "      <td>153.10 -27.66</td>\n",
       "      <td>Buderim</td>\n",
       "      <td>QLD</td>\n",
       "      <td>153.05 -26.68</td>\n",
       "      <td>153.05</td>\n",
       "      <td>-26.68</td>\n",
       "      <td>01:38:45</td>\n",
       "    </tr>\n",
       "    <tr>\n",
       "      <th>4</th>\n",
       "      <td>2018-08-01 01:51:15+00:00</td>\n",
       "      <td>2018-08-01</td>\n",
       "      <td>authorized</td>\n",
       "      <td>26</td>\n",
       "      <td>F</td>\n",
       "      <td>SALES-POS</td>\n",
       "      <td>17.95</td>\n",
       "      <td>3.25</td>\n",
       "      <td>1.0</td>\n",
       "      <td>153.41</td>\n",
       "      <td>-27.95</td>\n",
       "      <td>153.41 -27.95</td>\n",
       "      <td>Mermaid Beach</td>\n",
       "      <td>QLD</td>\n",
       "      <td>153.44 -28.06</td>\n",
       "      <td>153.44</td>\n",
       "      <td>-28.06</td>\n",
       "      <td>01:51:15</td>\n",
       "    </tr>\n",
       "    <tr>\n",
       "      <th>...</th>\n",
       "      <td>...</td>\n",
       "      <td>...</td>\n",
       "      <td>...</td>\n",
       "      <td>...</td>\n",
       "      <td>...</td>\n",
       "      <td>...</td>\n",
       "      <td>...</td>\n",
       "      <td>...</td>\n",
       "      <td>...</td>\n",
       "      <td>...</td>\n",
       "      <td>...</td>\n",
       "      <td>...</td>\n",
       "      <td>...</td>\n",
       "      <td>...</td>\n",
       "      <td>...</td>\n",
       "      <td>...</td>\n",
       "      <td>...</td>\n",
       "      <td>...</td>\n",
       "    </tr>\n",
       "    <tr>\n",
       "      <th>12038</th>\n",
       "      <td>2018-10-31 23:09:06+00:00</td>\n",
       "      <td>2018-10-31</td>\n",
       "      <td>authorized</td>\n",
       "      <td>30</td>\n",
       "      <td>F</td>\n",
       "      <td>POS</td>\n",
       "      <td>14054.14</td>\n",
       "      <td>9.79</td>\n",
       "      <td>0.0</td>\n",
       "      <td>149.83</td>\n",
       "      <td>-29.47</td>\n",
       "      <td>149.83 -29.47</td>\n",
       "      <td>Ringwood</td>\n",
       "      <td>VIC</td>\n",
       "      <td>145.23 -37.81</td>\n",
       "      <td>145.23</td>\n",
       "      <td>-37.81</td>\n",
       "      <td>23:09:06</td>\n",
       "    </tr>\n",
       "    <tr>\n",
       "      <th>12039</th>\n",
       "      <td>2018-10-31 23:21:46+00:00</td>\n",
       "      <td>2018-10-31</td>\n",
       "      <td>authorized</td>\n",
       "      <td>20</td>\n",
       "      <td>M</td>\n",
       "      <td>SALES-POS</td>\n",
       "      <td>9137.79</td>\n",
       "      <td>63.87</td>\n",
       "      <td>1.0</td>\n",
       "      <td>151.22</td>\n",
       "      <td>-33.87</td>\n",
       "      <td>151.22 -33.87</td>\n",
       "      <td>Casula</td>\n",
       "      <td>NSW</td>\n",
       "      <td>150.88 -33.96</td>\n",
       "      <td>150.88</td>\n",
       "      <td>-33.96</td>\n",
       "      <td>23:21:46</td>\n",
       "    </tr>\n",
       "    <tr>\n",
       "      <th>12040</th>\n",
       "      <td>2018-10-31 23:34:25+00:00</td>\n",
       "      <td>2018-10-31</td>\n",
       "      <td>authorized</td>\n",
       "      <td>28</td>\n",
       "      <td>M</td>\n",
       "      <td>POS</td>\n",
       "      <td>45394.57</td>\n",
       "      <td>43.96</td>\n",
       "      <td>1.0</td>\n",
       "      <td>151.12</td>\n",
       "      <td>-33.89</td>\n",
       "      <td>151.12 -33.89</td>\n",
       "      <td>Kings Park</td>\n",
       "      <td>NSW</td>\n",
       "      <td>150.92 -33.74</td>\n",
       "      <td>150.92</td>\n",
       "      <td>-33.74</td>\n",
       "      <td>23:34:25</td>\n",
       "    </tr>\n",
       "    <tr>\n",
       "      <th>12041</th>\n",
       "      <td>2018-10-31 23:47:05+00:00</td>\n",
       "      <td>2018-10-31</td>\n",
       "      <td>authorized</td>\n",
       "      <td>69</td>\n",
       "      <td>M</td>\n",
       "      <td>SALES-POS</td>\n",
       "      <td>11350.67</td>\n",
       "      <td>30.77</td>\n",
       "      <td>1.0</td>\n",
       "      <td>144.96</td>\n",
       "      <td>-37.76</td>\n",
       "      <td>144.96 -37.76</td>\n",
       "      <td>Oakleigh</td>\n",
       "      <td>VIC</td>\n",
       "      <td>145.09 -37.91</td>\n",
       "      <td>145.09</td>\n",
       "      <td>-37.91</td>\n",
       "      <td>23:47:05</td>\n",
       "    </tr>\n",
       "    <tr>\n",
       "      <th>12042</th>\n",
       "      <td>2018-10-31 23:59:44+00:00</td>\n",
       "      <td>2018-10-31</td>\n",
       "      <td>authorized</td>\n",
       "      <td>31</td>\n",
       "      <td>M</td>\n",
       "      <td>SALES-POS</td>\n",
       "      <td>5517.91</td>\n",
       "      <td>22.36</td>\n",
       "      <td>1.0</td>\n",
       "      <td>150.92</td>\n",
       "      <td>-33.77</td>\n",
       "      <td>150.92 -33.77</td>\n",
       "      <td>Mascot</td>\n",
       "      <td>NSW</td>\n",
       "      <td>151.19 -33.93</td>\n",
       "      <td>151.19</td>\n",
       "      <td>-33.93</td>\n",
       "      <td>23:59:44</td>\n",
       "    </tr>\n",
       "  </tbody>\n",
       "</table>\n",
       "<p>7717 rows × 18 columns</p>\n",
       "</div>"
      ],
      "text/plain": [
       "                     timestamps       date      status  age gender  \\\n",
       "0     2018-08-01 01:01:15+00:00 2018-08-01  authorized   26      F   \n",
       "1     2018-08-01 01:13:45+00:00 2018-08-01  authorized   26      F   \n",
       "2     2018-08-01 01:26:15+00:00 2018-08-01  authorized   38      M   \n",
       "3     2018-08-01 01:38:45+00:00 2018-08-01  authorized   40      F   \n",
       "4     2018-08-01 01:51:15+00:00 2018-08-01  authorized   26      F   \n",
       "...                         ...        ...         ...  ...    ...   \n",
       "12038 2018-10-31 23:09:06+00:00 2018-10-31  authorized   30      F   \n",
       "12039 2018-10-31 23:21:46+00:00 2018-10-31  authorized   20      M   \n",
       "12040 2018-10-31 23:34:25+00:00 2018-10-31  authorized   28      M   \n",
       "12041 2018-10-31 23:47:05+00:00 2018-10-31  authorized   69      M   \n",
       "12042 2018-10-31 23:59:44+00:00 2018-10-31  authorized   31      M   \n",
       "\n",
       "      txn_description   balance  amount  card_present_flag    long    lat  \\\n",
       "0                 POS     35.39   16.25                1.0  153.41 -27.95   \n",
       "1           SALES-POS     21.20   14.19                0.0  153.41 -27.95   \n",
       "2                 POS      5.71    6.42                1.0  151.23 -33.94   \n",
       "3           SALES-POS   2117.22   40.90                1.0  153.10 -27.66   \n",
       "4           SALES-POS     17.95    3.25                1.0  153.41 -27.95   \n",
       "...               ...       ...     ...                ...     ...    ...   \n",
       "12038             POS  14054.14    9.79                0.0  149.83 -29.47   \n",
       "12039       SALES-POS   9137.79   63.87                1.0  151.22 -33.87   \n",
       "12040             POS  45394.57   43.96                1.0  151.12 -33.89   \n",
       "12041       SALES-POS  11350.67   30.77                1.0  144.96 -37.76   \n",
       "12042       SALES-POS   5517.91   22.36                1.0  150.92 -33.77   \n",
       "\n",
       "            geometry merchant_suburb merchant_state merchant_long_lat  \\\n",
       "0      153.41 -27.95         Ashmore            QLD     153.38 -27.99   \n",
       "1      153.41 -27.95          Sydney            NSW     151.21 -33.87   \n",
       "2      151.23 -33.94          Sydney            NSW     151.21 -33.87   \n",
       "3      153.10 -27.66         Buderim            QLD     153.05 -26.68   \n",
       "4      153.41 -27.95   Mermaid Beach            QLD     153.44 -28.06   \n",
       "...              ...             ...            ...               ...   \n",
       "12038  149.83 -29.47        Ringwood            VIC     145.23 -37.81   \n",
       "12039  151.22 -33.87          Casula            NSW     150.88 -33.96   \n",
       "12040  151.12 -33.89      Kings Park            NSW     150.92 -33.74   \n",
       "12041  144.96 -37.76        Oakleigh            VIC     145.09 -37.91   \n",
       "12042  150.92 -33.77          Mascot            NSW     151.19 -33.93   \n",
       "\n",
       "       merch_long  merch_lat      time  \n",
       "0          153.38     -27.99  01:01:15  \n",
       "1          151.21     -33.87  01:13:45  \n",
       "2          151.21     -33.87  01:26:15  \n",
       "3          153.05     -26.68  01:38:45  \n",
       "4          153.44     -28.06  01:51:15  \n",
       "...           ...        ...       ...  \n",
       "12038      145.23     -37.81  23:09:06  \n",
       "12039      150.88     -33.96  23:21:46  \n",
       "12040      150.92     -33.74  23:34:25  \n",
       "12041      145.09     -37.91  23:47:05  \n",
       "12042      151.19     -33.93  23:59:44  \n",
       "\n",
       "[7717 rows x 18 columns]"
      ]
     },
     "execution_count": 89,
     "metadata": {},
     "output_type": "execute_result"
    }
   ],
   "source": [
    "trans_authorized"
   ]
  },
  {
   "cell_type": "code",
   "execution_count": 105,
   "metadata": {},
   "outputs": [],
   "source": [
    "df.card_present_flag = df.card_present_flag.astype('int')"
   ]
  },
  {
   "cell_type": "code",
   "execution_count": 106,
   "metadata": {},
   "outputs": [
    {
     "ename": "KeyError",
     "evalue": "\"None of [Int64Index([1, 0, 1, 1, 1, 0, 1, 1, 1, 0,\\n            ...\\n            1, 1, 0, 0, 0, 0, 1, 1, 1, 1],\\n           dtype='int64', length=12043)] are in the [columns]\"",
     "output_type": "error",
     "traceback": [
      "\u001b[1;31m---------------------------------------------------------------------------\u001b[0m",
      "\u001b[1;31mKeyError\u001b[0m                                  Traceback (most recent call last)",
      "\u001b[1;32m<ipython-input-106-e0429bed633e>\u001b[0m in \u001b[0;36m<module>\u001b[1;34m\u001b[0m\n\u001b[1;32m----> 1\u001b[1;33m \u001b[0mtrans_authorized\u001b[0m\u001b[1;33m.\u001b[0m\u001b[0mplot\u001b[0m\u001b[1;33m.\u001b[0m\u001b[0mbar\u001b[0m\u001b[1;33m(\u001b[0m\u001b[0mx\u001b[0m\u001b[1;33m=\u001b[0m\u001b[0mdf\u001b[0m\u001b[1;33m.\u001b[0m\u001b[0mcard_present_flag\u001b[0m\u001b[1;33m,\u001b[0m \u001b[0my\u001b[0m\u001b[1;33m=\u001b[0m\u001b[0mdf\u001b[0m\u001b[1;33m.\u001b[0m\u001b[0mindex\u001b[0m\u001b[1;33m)\u001b[0m\u001b[1;33m\u001b[0m\u001b[1;33m\u001b[0m\u001b[0m\n\u001b[0m",
      "\u001b[1;32m~\\anaconda3\\lib\\site-packages\\pandas\\plotting\\_core.py\u001b[0m in \u001b[0;36mbar\u001b[1;34m(self, x, y, **kwargs)\u001b[0m\n\u001b[0;32m   1105\u001b[0m         \u001b[0mother\u001b[0m \u001b[0maxis\u001b[0m \u001b[0mrepresents\u001b[0m \u001b[0ma\u001b[0m \u001b[0mmeasured\u001b[0m \u001b[0mvalue\u001b[0m\u001b[1;33m.\u001b[0m\u001b[1;33m\u001b[0m\u001b[1;33m\u001b[0m\u001b[0m\n\u001b[0;32m   1106\u001b[0m         \"\"\"\n\u001b[1;32m-> 1107\u001b[1;33m         \u001b[1;32mreturn\u001b[0m \u001b[0mself\u001b[0m\u001b[1;33m(\u001b[0m\u001b[0mkind\u001b[0m\u001b[1;33m=\u001b[0m\u001b[1;34m\"bar\"\u001b[0m\u001b[1;33m,\u001b[0m \u001b[0mx\u001b[0m\u001b[1;33m=\u001b[0m\u001b[0mx\u001b[0m\u001b[1;33m,\u001b[0m \u001b[0my\u001b[0m\u001b[1;33m=\u001b[0m\u001b[0my\u001b[0m\u001b[1;33m,\u001b[0m \u001b[1;33m**\u001b[0m\u001b[0mkwargs\u001b[0m\u001b[1;33m)\u001b[0m\u001b[1;33m\u001b[0m\u001b[1;33m\u001b[0m\u001b[0m\n\u001b[0m\u001b[0;32m   1108\u001b[0m \u001b[1;33m\u001b[0m\u001b[0m\n\u001b[0;32m   1109\u001b[0m     @Appender(\n",
      "\u001b[1;32m~\\anaconda3\\lib\\site-packages\\pandas\\plotting\\_core.py\u001b[0m in \u001b[0;36m__call__\u001b[1;34m(self, *args, **kwargs)\u001b[0m\n\u001b[0;32m    912\u001b[0m                 \u001b[1;32mif\u001b[0m \u001b[0mis_integer\u001b[0m\u001b[1;33m(\u001b[0m\u001b[0mx\u001b[0m\u001b[1;33m)\u001b[0m \u001b[1;32mand\u001b[0m \u001b[1;32mnot\u001b[0m \u001b[0mdata\u001b[0m\u001b[1;33m.\u001b[0m\u001b[0mcolumns\u001b[0m\u001b[1;33m.\u001b[0m\u001b[0mholds_integer\u001b[0m\u001b[1;33m(\u001b[0m\u001b[1;33m)\u001b[0m\u001b[1;33m:\u001b[0m\u001b[1;33m\u001b[0m\u001b[1;33m\u001b[0m\u001b[0m\n\u001b[0;32m    913\u001b[0m                     \u001b[0mx\u001b[0m \u001b[1;33m=\u001b[0m \u001b[0mdata_cols\u001b[0m\u001b[1;33m[\u001b[0m\u001b[0mx\u001b[0m\u001b[1;33m]\u001b[0m\u001b[1;33m\u001b[0m\u001b[1;33m\u001b[0m\u001b[0m\n\u001b[1;32m--> 914\u001b[1;33m                 \u001b[1;32melif\u001b[0m \u001b[1;32mnot\u001b[0m \u001b[0misinstance\u001b[0m\u001b[1;33m(\u001b[0m\u001b[0mdata\u001b[0m\u001b[1;33m[\u001b[0m\u001b[0mx\u001b[0m\u001b[1;33m]\u001b[0m\u001b[1;33m,\u001b[0m \u001b[0mABCSeries\u001b[0m\u001b[1;33m)\u001b[0m\u001b[1;33m:\u001b[0m\u001b[1;33m\u001b[0m\u001b[1;33m\u001b[0m\u001b[0m\n\u001b[0m\u001b[0;32m    915\u001b[0m                     \u001b[1;32mraise\u001b[0m \u001b[0mValueError\u001b[0m\u001b[1;33m(\u001b[0m\u001b[1;34m\"x must be a label or position\"\u001b[0m\u001b[1;33m)\u001b[0m\u001b[1;33m\u001b[0m\u001b[1;33m\u001b[0m\u001b[0m\n\u001b[0;32m    916\u001b[0m                 \u001b[0mdata\u001b[0m \u001b[1;33m=\u001b[0m \u001b[0mdata\u001b[0m\u001b[1;33m.\u001b[0m\u001b[0mset_index\u001b[0m\u001b[1;33m(\u001b[0m\u001b[0mx\u001b[0m\u001b[1;33m)\u001b[0m\u001b[1;33m\u001b[0m\u001b[1;33m\u001b[0m\u001b[0m\n",
      "\u001b[1;32m~\\anaconda3\\lib\\site-packages\\pandas\\core\\frame.py\u001b[0m in \u001b[0;36m__getitem__\u001b[1;34m(self, key)\u001b[0m\n\u001b[0;32m   2906\u001b[0m             \u001b[1;32mif\u001b[0m \u001b[0mis_iterator\u001b[0m\u001b[1;33m(\u001b[0m\u001b[0mkey\u001b[0m\u001b[1;33m)\u001b[0m\u001b[1;33m:\u001b[0m\u001b[1;33m\u001b[0m\u001b[1;33m\u001b[0m\u001b[0m\n\u001b[0;32m   2907\u001b[0m                 \u001b[0mkey\u001b[0m \u001b[1;33m=\u001b[0m \u001b[0mlist\u001b[0m\u001b[1;33m(\u001b[0m\u001b[0mkey\u001b[0m\u001b[1;33m)\u001b[0m\u001b[1;33m\u001b[0m\u001b[1;33m\u001b[0m\u001b[0m\n\u001b[1;32m-> 2908\u001b[1;33m             \u001b[0mindexer\u001b[0m \u001b[1;33m=\u001b[0m \u001b[0mself\u001b[0m\u001b[1;33m.\u001b[0m\u001b[0mloc\u001b[0m\u001b[1;33m.\u001b[0m\u001b[0m_get_listlike_indexer\u001b[0m\u001b[1;33m(\u001b[0m\u001b[0mkey\u001b[0m\u001b[1;33m,\u001b[0m \u001b[0maxis\u001b[0m\u001b[1;33m=\u001b[0m\u001b[1;36m1\u001b[0m\u001b[1;33m,\u001b[0m \u001b[0mraise_missing\u001b[0m\u001b[1;33m=\u001b[0m\u001b[1;32mTrue\u001b[0m\u001b[1;33m)\u001b[0m\u001b[1;33m[\u001b[0m\u001b[1;36m1\u001b[0m\u001b[1;33m]\u001b[0m\u001b[1;33m\u001b[0m\u001b[1;33m\u001b[0m\u001b[0m\n\u001b[0m\u001b[0;32m   2909\u001b[0m \u001b[1;33m\u001b[0m\u001b[0m\n\u001b[0;32m   2910\u001b[0m         \u001b[1;31m# take() does not accept boolean indexers\u001b[0m\u001b[1;33m\u001b[0m\u001b[1;33m\u001b[0m\u001b[1;33m\u001b[0m\u001b[0m\n",
      "\u001b[1;32m~\\anaconda3\\lib\\site-packages\\pandas\\core\\indexing.py\u001b[0m in \u001b[0;36m_get_listlike_indexer\u001b[1;34m(self, key, axis, raise_missing)\u001b[0m\n\u001b[0;32m   1252\u001b[0m             \u001b[0mkeyarr\u001b[0m\u001b[1;33m,\u001b[0m \u001b[0mindexer\u001b[0m\u001b[1;33m,\u001b[0m \u001b[0mnew_indexer\u001b[0m \u001b[1;33m=\u001b[0m \u001b[0max\u001b[0m\u001b[1;33m.\u001b[0m\u001b[0m_reindex_non_unique\u001b[0m\u001b[1;33m(\u001b[0m\u001b[0mkeyarr\u001b[0m\u001b[1;33m)\u001b[0m\u001b[1;33m\u001b[0m\u001b[1;33m\u001b[0m\u001b[0m\n\u001b[0;32m   1253\u001b[0m \u001b[1;33m\u001b[0m\u001b[0m\n\u001b[1;32m-> 1254\u001b[1;33m         \u001b[0mself\u001b[0m\u001b[1;33m.\u001b[0m\u001b[0m_validate_read_indexer\u001b[0m\u001b[1;33m(\u001b[0m\u001b[0mkeyarr\u001b[0m\u001b[1;33m,\u001b[0m \u001b[0mindexer\u001b[0m\u001b[1;33m,\u001b[0m \u001b[0maxis\u001b[0m\u001b[1;33m,\u001b[0m \u001b[0mraise_missing\u001b[0m\u001b[1;33m=\u001b[0m\u001b[0mraise_missing\u001b[0m\u001b[1;33m)\u001b[0m\u001b[1;33m\u001b[0m\u001b[1;33m\u001b[0m\u001b[0m\n\u001b[0m\u001b[0;32m   1255\u001b[0m         \u001b[1;32mreturn\u001b[0m \u001b[0mkeyarr\u001b[0m\u001b[1;33m,\u001b[0m \u001b[0mindexer\u001b[0m\u001b[1;33m\u001b[0m\u001b[1;33m\u001b[0m\u001b[0m\n\u001b[0;32m   1256\u001b[0m \u001b[1;33m\u001b[0m\u001b[0m\n",
      "\u001b[1;32m~\\anaconda3\\lib\\site-packages\\pandas\\core\\indexing.py\u001b[0m in \u001b[0;36m_validate_read_indexer\u001b[1;34m(self, key, indexer, axis, raise_missing)\u001b[0m\n\u001b[0;32m   1296\u001b[0m             \u001b[1;32mif\u001b[0m \u001b[0mmissing\u001b[0m \u001b[1;33m==\u001b[0m \u001b[0mlen\u001b[0m\u001b[1;33m(\u001b[0m\u001b[0mindexer\u001b[0m\u001b[1;33m)\u001b[0m\u001b[1;33m:\u001b[0m\u001b[1;33m\u001b[0m\u001b[1;33m\u001b[0m\u001b[0m\n\u001b[0;32m   1297\u001b[0m                 \u001b[0maxis_name\u001b[0m \u001b[1;33m=\u001b[0m \u001b[0mself\u001b[0m\u001b[1;33m.\u001b[0m\u001b[0mobj\u001b[0m\u001b[1;33m.\u001b[0m\u001b[0m_get_axis_name\u001b[0m\u001b[1;33m(\u001b[0m\u001b[0maxis\u001b[0m\u001b[1;33m)\u001b[0m\u001b[1;33m\u001b[0m\u001b[1;33m\u001b[0m\u001b[0m\n\u001b[1;32m-> 1298\u001b[1;33m                 \u001b[1;32mraise\u001b[0m \u001b[0mKeyError\u001b[0m\u001b[1;33m(\u001b[0m\u001b[1;34mf\"None of [{key}] are in the [{axis_name}]\"\u001b[0m\u001b[1;33m)\u001b[0m\u001b[1;33m\u001b[0m\u001b[1;33m\u001b[0m\u001b[0m\n\u001b[0m\u001b[0;32m   1299\u001b[0m \u001b[1;33m\u001b[0m\u001b[0m\n\u001b[0;32m   1300\u001b[0m             \u001b[1;31m# We (temporarily) allow for some missing keys with .loc, except in\u001b[0m\u001b[1;33m\u001b[0m\u001b[1;33m\u001b[0m\u001b[1;33m\u001b[0m\u001b[0m\n",
      "\u001b[1;31mKeyError\u001b[0m: \"None of [Int64Index([1, 0, 1, 1, 1, 0, 1, 1, 1, 0,\\n            ...\\n            1, 1, 0, 0, 0, 0, 1, 1, 1, 1],\\n           dtype='int64', length=12043)] are in the [columns]\""
     ]
    }
   ],
   "source": []
  },
  {
   "cell_type": "code",
   "execution_count": null,
   "metadata": {},
   "outputs": [],
   "source": []
  }
 ],
 "metadata": {
  "kernelspec": {
   "display_name": "Python 3",
   "language": "python",
   "name": "python3"
  },
  "language_info": {
   "codemirror_mode": {
    "name": "ipython",
    "version": 3
   },
   "file_extension": ".py",
   "mimetype": "text/x-python",
   "name": "python",
   "nbconvert_exporter": "python",
   "pygments_lexer": "ipython3",
   "version": "3.8.5"
  }
 },
 "nbformat": 4,
 "nbformat_minor": 4
}
