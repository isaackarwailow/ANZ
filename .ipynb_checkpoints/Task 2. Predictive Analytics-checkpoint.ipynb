{
 "cells": [
  {
   "cell_type": "markdown",
   "metadata": {},
   "source": [
    "# Predictive Analysis: ANZ Synthesized 3-month Transactional Dataset"
   ]
  },
  {
   "cell_type": "code",
   "execution_count": 249,
   "metadata": {},
   "outputs": [],
   "source": [
    "import pandas as pd\n",
    "import numpy as np\n",
    "import matplotlib.pyplot as plt\n",
    "import seaborn as sns\n",
    "\n",
    "%matplotlib inline"
   ]
  },
  {
   "cell_type": "markdown",
   "metadata": {},
   "source": [
    "## Background\n",
    "\n",
    "Source: https://www.theforage.com/modules/ZLJCsrpkHo9pZBJNY/BiJPfqmGY2QwgN6gA\n",
    "\n",
    "This task is based on a synthesised transaction dataset containing 3 months’ worth of transactions for 100 hypothetical customers. It contains purchases, recurring transactions, and salary transactions. The dataset is designed to simulate realistic transaction behaviours that are observed in ANZ’s real transaction data, so many of the insights gathered from the activities will be genuine.\n",
    "\n",
    "*NOTE*: Data preprocessing for this dataset was already done in the notebook for Task 1. If reference for data preprocessing is required, please refer to Steps 0 and 1 in the notebook file 'Task 1. Exploratory Data Analysis.ipynb'. The dataset to be loaded here should be the cleaned file named 'DATA/ANZ-synthesized-transactions-cleaned.csv'"
   ]
  },
  {
   "cell_type": "markdown",
   "metadata": {},
   "source": [
    "## Step 0: Load the dataset and perform EDA"
   ]
  },
  {
   "cell_type": "markdown",
   "metadata": {},
   "source": [
    "### Overview\n",
    "The aim of this dataset is to try to understand the features of purchasing behaviour of customers as a predictor metric for modelling expected values for annual pay/ salary\n",
    "\n",
    "The plan of execution is to configure the best model for predicting customer's annual salary. According to the principle of Occam's Razor, simpler models will be preferred to more complex models, and the generation of models will stop when it can accurately predict new data."
   ]
  },
  {
   "cell_type": "code",
   "execution_count": 250,
   "metadata": {},
   "outputs": [],
   "source": [
    "# referencing the cleaned dataset\n",
    "file = 'DATA/ANZ-synthesized-transactions-cleaned.csv'\n",
    "# Read file and parse timestamp as the index\n",
    "df = pd.read_csv(file)"
   ]
  },
  {
   "cell_type": "code",
   "execution_count": 251,
   "metadata": {},
   "outputs": [
    {
     "data": {
      "text/html": [
       "<div>\n",
       "<style scoped>\n",
       "    .dataframe tbody tr th:only-of-type {\n",
       "        vertical-align: middle;\n",
       "    }\n",
       "\n",
       "    .dataframe tbody tr th {\n",
       "        vertical-align: top;\n",
       "    }\n",
       "\n",
       "    .dataframe thead th {\n",
       "        text-align: right;\n",
       "    }\n",
       "</style>\n",
       "<table border=\"1\" class=\"dataframe\">\n",
       "  <thead>\n",
       "    <tr style=\"text-align: right;\">\n",
       "      <th></th>\n",
       "      <th>timestamp</th>\n",
       "      <th>status</th>\n",
       "      <th>card_present_flag</th>\n",
       "      <th>account</th>\n",
       "      <th>first_name</th>\n",
       "      <th>age</th>\n",
       "      <th>gender</th>\n",
       "      <th>txn_description</th>\n",
       "      <th>balance</th>\n",
       "      <th>amount</th>\n",
       "      <th>...</th>\n",
       "      <th>X</th>\n",
       "      <th>Y</th>\n",
       "      <th>merch_suburb</th>\n",
       "      <th>merch_state</th>\n",
       "      <th>merch_geometry</th>\n",
       "      <th>merch_X</th>\n",
       "      <th>merch_Y</th>\n",
       "      <th>distance</th>\n",
       "      <th>country</th>\n",
       "      <th>card_present_bool</th>\n",
       "    </tr>\n",
       "  </thead>\n",
       "  <tbody>\n",
       "    <tr>\n",
       "      <th>0</th>\n",
       "      <td>2018-08-01 01:01:15+00:00</td>\n",
       "      <td>authorized</td>\n",
       "      <td>1</td>\n",
       "      <td>1598451071</td>\n",
       "      <td>Diana</td>\n",
       "      <td>26</td>\n",
       "      <td>F</td>\n",
       "      <td>POS</td>\n",
       "      <td>35.39</td>\n",
       "      <td>16.25</td>\n",
       "      <td>...</td>\n",
       "      <td>-27.95</td>\n",
       "      <td>153.41</td>\n",
       "      <td>Ashmore</td>\n",
       "      <td>QLD</td>\n",
       "      <td>153.38 -27.99</td>\n",
       "      <td>-27.99</td>\n",
       "      <td>153.38</td>\n",
       "      <td>5.34</td>\n",
       "      <td>Australia</td>\n",
       "      <td>True</td>\n",
       "    </tr>\n",
       "    <tr>\n",
       "      <th>1</th>\n",
       "      <td>2018-08-01 01:13:45+00:00</td>\n",
       "      <td>authorized</td>\n",
       "      <td>0</td>\n",
       "      <td>1598451071</td>\n",
       "      <td>Diana</td>\n",
       "      <td>26</td>\n",
       "      <td>F</td>\n",
       "      <td>SALES-POS</td>\n",
       "      <td>21.20</td>\n",
       "      <td>14.19</td>\n",
       "      <td>...</td>\n",
       "      <td>-27.95</td>\n",
       "      <td>153.41</td>\n",
       "      <td>Sydney</td>\n",
       "      <td>NSW</td>\n",
       "      <td>151.21 -33.87</td>\n",
       "      <td>-33.87</td>\n",
       "      <td>151.21</td>\n",
       "      <td>691.63</td>\n",
       "      <td>Australia</td>\n",
       "      <td>False</td>\n",
       "    </tr>\n",
       "    <tr>\n",
       "      <th>2</th>\n",
       "      <td>2018-08-01 01:26:15+00:00</td>\n",
       "      <td>authorized</td>\n",
       "      <td>1</td>\n",
       "      <td>1222300524</td>\n",
       "      <td>Michael</td>\n",
       "      <td>38</td>\n",
       "      <td>M</td>\n",
       "      <td>POS</td>\n",
       "      <td>5.71</td>\n",
       "      <td>6.42</td>\n",
       "      <td>...</td>\n",
       "      <td>-33.94</td>\n",
       "      <td>151.23</td>\n",
       "      <td>Sydney</td>\n",
       "      <td>NSW</td>\n",
       "      <td>151.21 -33.87</td>\n",
       "      <td>-33.87</td>\n",
       "      <td>151.21</td>\n",
       "      <td>8.01</td>\n",
       "      <td>Australia</td>\n",
       "      <td>True</td>\n",
       "    </tr>\n",
       "    <tr>\n",
       "      <th>3</th>\n",
       "      <td>2018-08-01 01:38:45+00:00</td>\n",
       "      <td>authorized</td>\n",
       "      <td>1</td>\n",
       "      <td>1037050564</td>\n",
       "      <td>Rhonda</td>\n",
       "      <td>40</td>\n",
       "      <td>F</td>\n",
       "      <td>SALES-POS</td>\n",
       "      <td>2117.22</td>\n",
       "      <td>40.90</td>\n",
       "      <td>...</td>\n",
       "      <td>-27.66</td>\n",
       "      <td>153.10</td>\n",
       "      <td>Buderim</td>\n",
       "      <td>QLD</td>\n",
       "      <td>153.05 -26.68</td>\n",
       "      <td>-26.68</td>\n",
       "      <td>153.05</td>\n",
       "      <td>109.20</td>\n",
       "      <td>Australia</td>\n",
       "      <td>True</td>\n",
       "    </tr>\n",
       "    <tr>\n",
       "      <th>4</th>\n",
       "      <td>2018-08-01 01:51:15+00:00</td>\n",
       "      <td>authorized</td>\n",
       "      <td>1</td>\n",
       "      <td>1598451071</td>\n",
       "      <td>Diana</td>\n",
       "      <td>26</td>\n",
       "      <td>F</td>\n",
       "      <td>SALES-POS</td>\n",
       "      <td>17.95</td>\n",
       "      <td>3.25</td>\n",
       "      <td>...</td>\n",
       "      <td>-27.95</td>\n",
       "      <td>153.41</td>\n",
       "      <td>Mermaid Beach</td>\n",
       "      <td>QLD</td>\n",
       "      <td>153.44 -28.06</td>\n",
       "      <td>-28.06</td>\n",
       "      <td>153.44</td>\n",
       "      <td>12.60</td>\n",
       "      <td>Australia</td>\n",
       "      <td>True</td>\n",
       "    </tr>\n",
       "  </tbody>\n",
       "</table>\n",
       "<p>5 rows × 21 columns</p>\n",
       "</div>"
      ],
      "text/plain": [
       "                   timestamp      status  card_present_flag     account  \\\n",
       "0  2018-08-01 01:01:15+00:00  authorized                  1  1598451071   \n",
       "1  2018-08-01 01:13:45+00:00  authorized                  0  1598451071   \n",
       "2  2018-08-01 01:26:15+00:00  authorized                  1  1222300524   \n",
       "3  2018-08-01 01:38:45+00:00  authorized                  1  1037050564   \n",
       "4  2018-08-01 01:51:15+00:00  authorized                  1  1598451071   \n",
       "\n",
       "  first_name  age gender txn_description  balance  amount  ...      X       Y  \\\n",
       "0      Diana   26      F             POS    35.39   16.25  ... -27.95  153.41   \n",
       "1      Diana   26      F       SALES-POS    21.20   14.19  ... -27.95  153.41   \n",
       "2    Michael   38      M             POS     5.71    6.42  ... -33.94  151.23   \n",
       "3     Rhonda   40      F       SALES-POS  2117.22   40.90  ... -27.66  153.10   \n",
       "4      Diana   26      F       SALES-POS    17.95    3.25  ... -27.95  153.41   \n",
       "\n",
       "    merch_suburb merch_state merch_geometry merch_X  merch_Y  distance  \\\n",
       "0        Ashmore         QLD  153.38 -27.99  -27.99   153.38      5.34   \n",
       "1         Sydney         NSW  151.21 -33.87  -33.87   151.21    691.63   \n",
       "2         Sydney         NSW  151.21 -33.87  -33.87   151.21      8.01   \n",
       "3        Buderim         QLD  153.05 -26.68  -26.68   153.05    109.20   \n",
       "4  Mermaid Beach         QLD  153.44 -28.06  -28.06   153.44     12.60   \n",
       "\n",
       "     country card_present_bool  \n",
       "0  Australia              True  \n",
       "1  Australia             False  \n",
       "2  Australia              True  \n",
       "3  Australia              True  \n",
       "4  Australia              True  \n",
       "\n",
       "[5 rows x 21 columns]"
      ]
     },
     "execution_count": 251,
     "metadata": {},
     "output_type": "execute_result"
    }
   ],
   "source": [
    "# To display the first 5 rows of the data\n",
    "df.head()"
   ]
  },
  {
   "cell_type": "code",
   "execution_count": 252,
   "metadata": {},
   "outputs": [
    {
     "data": {
      "text/plain": [
       "(12043, 21)"
      ]
     },
     "execution_count": 252,
     "metadata": {},
     "output_type": "execute_result"
    }
   ],
   "source": [
    "# check the shape of the DataFrame\n",
    "df.shape"
   ]
  },
  {
   "cell_type": "markdown",
   "metadata": {},
   "source": [
    "* Rows in dataset: 12043\n",
    "* Columns in dataset: 21"
   ]
  },
  {
   "cell_type": "code",
   "execution_count": 253,
   "metadata": {},
   "outputs": [
    {
     "data": {
      "text/plain": [
       "timestamp            0\n",
       "status               0\n",
       "card_present_flag    0\n",
       "account              0\n",
       "first_name           0\n",
       "age                  0\n",
       "gender               0\n",
       "txn_description      0\n",
       "balance              0\n",
       "amount               0\n",
       "geometry             0\n",
       "X                    0\n",
       "Y                    0\n",
       "merch_suburb         0\n",
       "merch_state          0\n",
       "merch_geometry       0\n",
       "merch_X              0\n",
       "merch_Y              0\n",
       "distance             0\n",
       "country              0\n",
       "card_present_bool    0\n",
       "dtype: int64"
      ]
     },
     "execution_count": 253,
     "metadata": {},
     "output_type": "execute_result"
    }
   ],
   "source": [
    "# display all missing values\n",
    "df.isna().sum()"
   ]
  },
  {
   "cell_type": "markdown",
   "metadata": {},
   "source": [
    "## Step 1: Identify annual salary of each customer"
   ]
  },
  {
   "cell_type": "markdown",
   "metadata": {},
   "source": [
    "### a) Drop irrelevant features and create dummies"
   ]
  },
  {
   "cell_type": "code",
   "execution_count": 254,
   "metadata": {},
   "outputs": [
    {
     "data": {
      "text/plain": [
       "timestamp             object\n",
       "status                object\n",
       "card_present_flag      int64\n",
       "account                int64\n",
       "first_name            object\n",
       "age                    int64\n",
       "gender                object\n",
       "txn_description       object\n",
       "balance              float64\n",
       "amount               float64\n",
       "geometry              object\n",
       "X                    float64\n",
       "Y                    float64\n",
       "merch_suburb          object\n",
       "merch_state           object\n",
       "merch_geometry        object\n",
       "merch_X              float64\n",
       "merch_Y              float64\n",
       "distance             float64\n",
       "country               object\n",
       "card_present_bool       bool\n",
       "dtype: object"
      ]
     },
     "execution_count": 254,
     "metadata": {},
     "output_type": "execute_result"
    }
   ],
   "source": [
    "# confirmation of data types prior to conversion\n",
    "df.dtypes"
   ]
  },
  {
   "cell_type": "markdown",
   "metadata": {},
   "source": [
    "* drop all features that are unrelated to purchasing behaviour, as well as any feature that cannot be converted into a helpful categorical/ numerical dummy vairable:\n",
    "    - timestamp\n",
    "    - country\n",
    "    - card_present_bool\n",
    "    - merch_suburb (use coords)\n",
    "    - merch_state (use coords)\n",
    "    - geometry (use X, Y)\n",
    "    - merch_geometry\n",
    "    - merch_X\n",
    "    - merch_Y\n",
    "    - distance\n",
    "* Since we want to group data into an annual salary aggregate table of customer indexes, these dummy variables will need to be merged later on as predictors"
   ]
  },
  {
   "cell_type": "code",
   "execution_count": 255,
   "metadata": {},
   "outputs": [],
   "source": [
    "df = df.drop(columns=['country', 'timestamp', 'geometry', 'merch_suburb', 'merch_state', \n",
    "                       'merch_geometry', 'merch_X', 'merch_Y', 'distance', 'card_present_bool'])"
   ]
  },
  {
   "cell_type": "code",
   "execution_count": 256,
   "metadata": {},
   "outputs": [],
   "source": [
    "# get dummy variables\n",
    "df = pd.get_dummies(data=df, columns=['status', 'gender'], prefix=['status', 'gender'], drop_first=True)"
   ]
  },
  {
   "cell_type": "code",
   "execution_count": 257,
   "metadata": {},
   "outputs": [
    {
     "data": {
      "text/html": [
       "<div>\n",
       "<style scoped>\n",
       "    .dataframe tbody tr th:only-of-type {\n",
       "        vertical-align: middle;\n",
       "    }\n",
       "\n",
       "    .dataframe tbody tr th {\n",
       "        vertical-align: top;\n",
       "    }\n",
       "\n",
       "    .dataframe thead th {\n",
       "        text-align: right;\n",
       "    }\n",
       "</style>\n",
       "<table border=\"1\" class=\"dataframe\">\n",
       "  <thead>\n",
       "    <tr style=\"text-align: right;\">\n",
       "      <th></th>\n",
       "      <th>card_present_flag</th>\n",
       "      <th>account</th>\n",
       "      <th>first_name</th>\n",
       "      <th>age</th>\n",
       "      <th>txn_description</th>\n",
       "      <th>balance</th>\n",
       "      <th>amount</th>\n",
       "      <th>X</th>\n",
       "      <th>Y</th>\n",
       "      <th>status_posted</th>\n",
       "      <th>gender_M</th>\n",
       "    </tr>\n",
       "  </thead>\n",
       "  <tbody>\n",
       "    <tr>\n",
       "      <th>0</th>\n",
       "      <td>1</td>\n",
       "      <td>1598451071</td>\n",
       "      <td>Diana</td>\n",
       "      <td>26</td>\n",
       "      <td>POS</td>\n",
       "      <td>35.39</td>\n",
       "      <td>16.25</td>\n",
       "      <td>-27.95</td>\n",
       "      <td>153.41</td>\n",
       "      <td>0</td>\n",
       "      <td>0</td>\n",
       "    </tr>\n",
       "    <tr>\n",
       "      <th>1</th>\n",
       "      <td>0</td>\n",
       "      <td>1598451071</td>\n",
       "      <td>Diana</td>\n",
       "      <td>26</td>\n",
       "      <td>SALES-POS</td>\n",
       "      <td>21.20</td>\n",
       "      <td>14.19</td>\n",
       "      <td>-27.95</td>\n",
       "      <td>153.41</td>\n",
       "      <td>0</td>\n",
       "      <td>0</td>\n",
       "    </tr>\n",
       "    <tr>\n",
       "      <th>2</th>\n",
       "      <td>1</td>\n",
       "      <td>1222300524</td>\n",
       "      <td>Michael</td>\n",
       "      <td>38</td>\n",
       "      <td>POS</td>\n",
       "      <td>5.71</td>\n",
       "      <td>6.42</td>\n",
       "      <td>-33.94</td>\n",
       "      <td>151.23</td>\n",
       "      <td>0</td>\n",
       "      <td>1</td>\n",
       "    </tr>\n",
       "    <tr>\n",
       "      <th>3</th>\n",
       "      <td>1</td>\n",
       "      <td>1037050564</td>\n",
       "      <td>Rhonda</td>\n",
       "      <td>40</td>\n",
       "      <td>SALES-POS</td>\n",
       "      <td>2117.22</td>\n",
       "      <td>40.90</td>\n",
       "      <td>-27.66</td>\n",
       "      <td>153.10</td>\n",
       "      <td>0</td>\n",
       "      <td>0</td>\n",
       "    </tr>\n",
       "    <tr>\n",
       "      <th>4</th>\n",
       "      <td>1</td>\n",
       "      <td>1598451071</td>\n",
       "      <td>Diana</td>\n",
       "      <td>26</td>\n",
       "      <td>SALES-POS</td>\n",
       "      <td>17.95</td>\n",
       "      <td>3.25</td>\n",
       "      <td>-27.95</td>\n",
       "      <td>153.41</td>\n",
       "      <td>0</td>\n",
       "      <td>0</td>\n",
       "    </tr>\n",
       "  </tbody>\n",
       "</table>\n",
       "</div>"
      ],
      "text/plain": [
       "   card_present_flag     account first_name  age txn_description  balance  \\\n",
       "0                  1  1598451071      Diana   26             POS    35.39   \n",
       "1                  0  1598451071      Diana   26       SALES-POS    21.20   \n",
       "2                  1  1222300524    Michael   38             POS     5.71   \n",
       "3                  1  1037050564     Rhonda   40       SALES-POS  2117.22   \n",
       "4                  1  1598451071      Diana   26       SALES-POS    17.95   \n",
       "\n",
       "   amount      X       Y  status_posted  gender_M  \n",
       "0   16.25 -27.95  153.41              0         0  \n",
       "1   14.19 -27.95  153.41              0         0  \n",
       "2    6.42 -33.94  151.23              0         1  \n",
       "3   40.90 -27.66  153.10              0         0  \n",
       "4    3.25 -27.95  153.41              0         0  "
      ]
     },
     "execution_count": 257,
     "metadata": {},
     "output_type": "execute_result"
    }
   ],
   "source": [
    "df.head()"
   ]
  },
  {
   "cell_type": "markdown",
   "metadata": {},
   "source": [
    "### b) Subset Pay/Salary transactions and group by account"
   ]
  },
  {
   "cell_type": "code",
   "execution_count": 258,
   "metadata": {},
   "outputs": [
    {
     "data": {
      "text/plain": [
       "SALES-POS     3934\n",
       "POS           3783\n",
       "PAYMENT       2600\n",
       "PAY/SALARY     883\n",
       "INTER BANK     742\n",
       "PHONE BANK     101\n",
       "Name: txn_description, dtype: int64"
      ]
     },
     "execution_count": 258,
     "metadata": {},
     "output_type": "execute_result"
    }
   ],
   "source": [
    "# display counts of payment types\n",
    "df.txn_description.value_counts()"
   ]
  },
  {
   "cell_type": "code",
   "execution_count": 259,
   "metadata": {},
   "outputs": [
    {
     "data": {
      "text/plain": [
       "card_present_flag        2\n",
       "account                100\n",
       "first_name              80\n",
       "age                     33\n",
       "txn_description          6\n",
       "balance              12006\n",
       "amount                4457\n",
       "X                       85\n",
       "Y                       87\n",
       "status_posted            2\n",
       "gender_M                 2\n",
       "dtype: int64"
      ]
     },
     "execution_count": 259,
     "metadata": {},
     "output_type": "execute_result"
    }
   ],
   "source": [
    "# Check the distinct values for each column\n",
    "df.nunique()"
   ]
  },
  {
   "cell_type": "markdown",
   "metadata": {},
   "source": [
    "- *NOTE*: First name and account column number of unique values do not match up:\n",
    "     - First name has 80 unique values\n",
    "     - Account has 100 unique values\n",
    "- It would be helpful for us to index these by account as it has better unique identification of customers.\n",
    "- In order to get a good target feature for annual salary, the index should be a sum of all the pay/ salary type descriptions grouped by each account."
   ]
  },
  {
   "cell_type": "code",
   "execution_count": 260,
   "metadata": {},
   "outputs": [],
   "source": [
    "df_annual_pay = df[df.txn_description == 'PAY/SALARY']"
   ]
  },
  {
   "cell_type": "code",
   "execution_count": 261,
   "metadata": {},
   "outputs": [],
   "source": [
    "df_annual_pay = df_annual_pay.groupby('account').sum()"
   ]
  },
  {
   "cell_type": "code",
   "execution_count": 263,
   "metadata": {},
   "outputs": [
    {
     "data": {
      "text/html": [
       "<div>\n",
       "<style scoped>\n",
       "    .dataframe tbody tr th:only-of-type {\n",
       "        vertical-align: middle;\n",
       "    }\n",
       "\n",
       "    .dataframe tbody tr th {\n",
       "        vertical-align: top;\n",
       "    }\n",
       "\n",
       "    .dataframe thead th {\n",
       "        text-align: right;\n",
       "    }\n",
       "</style>\n",
       "<table border=\"1\" class=\"dataframe\">\n",
       "  <thead>\n",
       "    <tr style=\"text-align: right;\">\n",
       "      <th></th>\n",
       "      <th>card_present_flag</th>\n",
       "      <th>age</th>\n",
       "      <th>balance</th>\n",
       "      <th>amount</th>\n",
       "      <th>X</th>\n",
       "      <th>Y</th>\n",
       "      <th>status_posted</th>\n",
       "      <th>gender_M</th>\n",
       "    </tr>\n",
       "    <tr>\n",
       "      <th>account</th>\n",
       "      <th></th>\n",
       "      <th></th>\n",
       "      <th></th>\n",
       "      <th></th>\n",
       "      <th></th>\n",
       "      <th></th>\n",
       "      <th></th>\n",
       "      <th></th>\n",
       "    </tr>\n",
       "  </thead>\n",
       "  <tbody>\n",
       "    <tr>\n",
       "      <th>37709441</th>\n",
       "      <td>0</td>\n",
       "      <td>126</td>\n",
       "      <td>98107.03</td>\n",
       "      <td>28925.61</td>\n",
       "      <td>-196.07</td>\n",
       "      <td>1073.87</td>\n",
       "      <td>7</td>\n",
       "      <td>7</td>\n",
       "    </tr>\n",
       "    <tr>\n",
       "      <th>38923874</th>\n",
       "      <td>0</td>\n",
       "      <td>494</td>\n",
       "      <td>506145.72</td>\n",
       "      <td>24452.35</td>\n",
       "      <td>-440.70</td>\n",
       "      <td>1966.51</td>\n",
       "      <td>13</td>\n",
       "      <td>13</td>\n",
       "    </tr>\n",
       "    <tr>\n",
       "      <th>53508546</th>\n",
       "      <td>0</td>\n",
       "      <td>420</td>\n",
       "      <td>54704.11</td>\n",
       "      <td>8703.84</td>\n",
       "      <td>-405.12</td>\n",
       "      <td>1807.44</td>\n",
       "      <td>12</td>\n",
       "      <td>0</td>\n",
       "    </tr>\n",
       "    <tr>\n",
       "      <th>80388494</th>\n",
       "      <td>0</td>\n",
       "      <td>168</td>\n",
       "      <td>35050.32</td>\n",
       "      <td>11499.06</td>\n",
       "      <td>-224.52</td>\n",
       "      <td>869.82</td>\n",
       "      <td>6</td>\n",
       "      <td>6</td>\n",
       "    </tr>\n",
       "    <tr>\n",
       "      <th>90814749</th>\n",
       "      <td>0</td>\n",
       "      <td>210</td>\n",
       "      <td>65301.33</td>\n",
       "      <td>13852.02</td>\n",
       "      <td>-197.88</td>\n",
       "      <td>910.08</td>\n",
       "      <td>6</td>\n",
       "      <td>6</td>\n",
       "    </tr>\n",
       "  </tbody>\n",
       "</table>\n",
       "</div>"
      ],
      "text/plain": [
       "          card_present_flag  age    balance    amount       X        Y  \\\n",
       "account                                                                  \n",
       "37709441                  0  126   98107.03  28925.61 -196.07  1073.87   \n",
       "38923874                  0  494  506145.72  24452.35 -440.70  1966.51   \n",
       "53508546                  0  420   54704.11   8703.84 -405.12  1807.44   \n",
       "80388494                  0  168   35050.32  11499.06 -224.52   869.82   \n",
       "90814749                  0  210   65301.33  13852.02 -197.88   910.08   \n",
       "\n",
       "          status_posted  gender_M  \n",
       "account                            \n",
       "37709441              7         7  \n",
       "38923874             13        13  \n",
       "53508546             12         0  \n",
       "80388494              6         6  \n",
       "90814749              6         6  "
      ]
     },
     "execution_count": 263,
     "metadata": {},
     "output_type": "execute_result"
    }
   ],
   "source": [
    "df_annual_pay.head()"
   ]
  },
  {
   "cell_type": "code",
   "execution_count": 264,
   "metadata": {},
   "outputs": [
    {
     "data": {
      "text/plain": [
       "card_present_flag           0.00\n",
       "age                     28814.00\n",
       "balance              14342444.54\n",
       "amount                1676576.85\n",
       "X                      -33333.37\n",
       "Y                      126692.77\n",
       "status_posted             883.00\n",
       "gender_M                  464.00\n",
       "dtype: float64"
      ]
     },
     "execution_count": 264,
     "metadata": {},
     "output_type": "execute_result"
    }
   ],
   "source": [
    "# sum of distance shows that the subset of pay/salary has no distance metric\n",
    "df_annual_pay.sum()"
   ]
  },
  {
   "cell_type": "markdown",
   "metadata": {},
   "source": [
    "* As evident above, card_present_flag is useless for our prediction model\n",
    "* Age, balance, X and Y are good as cumulative measures even though their range should be scaled/ normalized by a scaler, mean or std dev\n",
    "* However, since we are able to use a unique age, X and Y for each customer key in the table we dont have to keep this measures in our annual salary DataFrame.\n",
    "* status_posted is not useful in this case because all Pay/ Salary transaction types are functionally dependent on the status of posted. Hence, this column can be dropped\n",
    "* gender_M is relevant but should be dropped in this aggregation as its better to be merged with the original dataset on the index key"
   ]
  },
  {
   "cell_type": "code",
   "execution_count": 265,
   "metadata": {},
   "outputs": [],
   "source": [
    "df_annual_pay = df_annual_pay.drop(columns=['card_present_flag', 'age', 'X', 'Y', 'status_posted', 'gender_M'])"
   ]
  },
  {
   "cell_type": "markdown",
   "metadata": {},
   "source": [
    "* Basically, all customer unique fields (fully dependent features) have been dropped.\n",
    "* Only balance is a valid cumulative measure because it is not uniquely identified by the key."
   ]
  },
  {
   "cell_type": "code",
   "execution_count": 266,
   "metadata": {},
   "outputs": [
    {
     "data": {
      "text/plain": [
       "(100, 2)"
      ]
     },
     "execution_count": 266,
     "metadata": {},
     "output_type": "execute_result"
    }
   ],
   "source": [
    "# this confirms we have all 100 accounts in new dataset group\n",
    "df_annual_pay.shape"
   ]
  },
  {
   "cell_type": "code",
   "execution_count": 267,
   "metadata": {},
   "outputs": [
    {
     "data": {
      "text/plain": [
       "count      100.000000\n",
       "mean     16765.768500\n",
       "std       6741.543716\n",
       "min       7155.960000\n",
       "25%      11591.332500\n",
       "50%      14813.485000\n",
       "75%      21332.515000\n",
       "max      35343.920000\n",
       "Name: amount, dtype: float64"
      ]
     },
     "execution_count": 267,
     "metadata": {},
     "output_type": "execute_result"
    }
   ],
   "source": [
    "df_annual_pay.amount.describe()"
   ]
  },
  {
   "cell_type": "markdown",
   "metadata": {},
   "source": [
    "* The max salary is **\\$35343.92** and the min salary is **\\$7155.96**\n",
    "* This range of salary amounts is not an accurate measure of the entire year\n",
    "* Imputing values for an entire year is unrealistic. Perhaps the annual salary can be inferred from a model"
   ]
  },
  {
   "cell_type": "markdown",
   "metadata": {},
   "source": [
    "### c) Merge a customer table with pay/salary table"
   ]
  },
  {
   "cell_type": "markdown",
   "metadata": {},
   "source": [
    "* Here, a customer table is extracted from the original data, dropping everything that is not fully dependent on the primary key, satisfying 3NF.\n",
    "* The reason why the cleaning is done for 3NF here is because most of the cleaning has already met 1NF and 2NF rules, even though we are not making relational tables."
   ]
  },
  {
   "cell_type": "code",
   "execution_count": 268,
   "metadata": {},
   "outputs": [
    {
     "data": {
      "text/html": [
       "<div>\n",
       "<style scoped>\n",
       "    .dataframe tbody tr th:only-of-type {\n",
       "        vertical-align: middle;\n",
       "    }\n",
       "\n",
       "    .dataframe tbody tr th {\n",
       "        vertical-align: top;\n",
       "    }\n",
       "\n",
       "    .dataframe thead th {\n",
       "        text-align: right;\n",
       "    }\n",
       "</style>\n",
       "<table border=\"1\" class=\"dataframe\">\n",
       "  <thead>\n",
       "    <tr style=\"text-align: right;\">\n",
       "      <th></th>\n",
       "      <th>card_present_flag</th>\n",
       "      <th>account</th>\n",
       "      <th>first_name</th>\n",
       "      <th>age</th>\n",
       "      <th>txn_description</th>\n",
       "      <th>balance</th>\n",
       "      <th>amount</th>\n",
       "      <th>X</th>\n",
       "      <th>Y</th>\n",
       "      <th>status_posted</th>\n",
       "      <th>gender_M</th>\n",
       "    </tr>\n",
       "  </thead>\n",
       "  <tbody>\n",
       "    <tr>\n",
       "      <th>0</th>\n",
       "      <td>1</td>\n",
       "      <td>1598451071</td>\n",
       "      <td>Diana</td>\n",
       "      <td>26</td>\n",
       "      <td>POS</td>\n",
       "      <td>35.39</td>\n",
       "      <td>16.25</td>\n",
       "      <td>-27.95</td>\n",
       "      <td>153.41</td>\n",
       "      <td>0</td>\n",
       "      <td>0</td>\n",
       "    </tr>\n",
       "    <tr>\n",
       "      <th>1</th>\n",
       "      <td>0</td>\n",
       "      <td>1598451071</td>\n",
       "      <td>Diana</td>\n",
       "      <td>26</td>\n",
       "      <td>SALES-POS</td>\n",
       "      <td>21.20</td>\n",
       "      <td>14.19</td>\n",
       "      <td>-27.95</td>\n",
       "      <td>153.41</td>\n",
       "      <td>0</td>\n",
       "      <td>0</td>\n",
       "    </tr>\n",
       "    <tr>\n",
       "      <th>2</th>\n",
       "      <td>1</td>\n",
       "      <td>1222300524</td>\n",
       "      <td>Michael</td>\n",
       "      <td>38</td>\n",
       "      <td>POS</td>\n",
       "      <td>5.71</td>\n",
       "      <td>6.42</td>\n",
       "      <td>-33.94</td>\n",
       "      <td>151.23</td>\n",
       "      <td>0</td>\n",
       "      <td>1</td>\n",
       "    </tr>\n",
       "    <tr>\n",
       "      <th>3</th>\n",
       "      <td>1</td>\n",
       "      <td>1037050564</td>\n",
       "      <td>Rhonda</td>\n",
       "      <td>40</td>\n",
       "      <td>SALES-POS</td>\n",
       "      <td>2117.22</td>\n",
       "      <td>40.90</td>\n",
       "      <td>-27.66</td>\n",
       "      <td>153.10</td>\n",
       "      <td>0</td>\n",
       "      <td>0</td>\n",
       "    </tr>\n",
       "    <tr>\n",
       "      <th>4</th>\n",
       "      <td>1</td>\n",
       "      <td>1598451071</td>\n",
       "      <td>Diana</td>\n",
       "      <td>26</td>\n",
       "      <td>SALES-POS</td>\n",
       "      <td>17.95</td>\n",
       "      <td>3.25</td>\n",
       "      <td>-27.95</td>\n",
       "      <td>153.41</td>\n",
       "      <td>0</td>\n",
       "      <td>0</td>\n",
       "    </tr>\n",
       "  </tbody>\n",
       "</table>\n",
       "</div>"
      ],
      "text/plain": [
       "   card_present_flag     account first_name  age txn_description  balance  \\\n",
       "0                  1  1598451071      Diana   26             POS    35.39   \n",
       "1                  0  1598451071      Diana   26       SALES-POS    21.20   \n",
       "2                  1  1222300524    Michael   38             POS     5.71   \n",
       "3                  1  1037050564     Rhonda   40       SALES-POS  2117.22   \n",
       "4                  1  1598451071      Diana   26       SALES-POS    17.95   \n",
       "\n",
       "   amount      X       Y  status_posted  gender_M  \n",
       "0   16.25 -27.95  153.41              0         0  \n",
       "1   14.19 -27.95  153.41              0         0  \n",
       "2    6.42 -33.94  151.23              0         1  \n",
       "3   40.90 -27.66  153.10              0         0  \n",
       "4    3.25 -27.95  153.41              0         0  "
      ]
     },
     "execution_count": 268,
     "metadata": {},
     "output_type": "execute_result"
    }
   ],
   "source": [
    "df.head()"
   ]
  },
  {
   "cell_type": "markdown",
   "metadata": {},
   "source": [
    "* To avoid the inclusion of duplicate values, customer table should be in 3NF"
   ]
  },
  {
   "cell_type": "code",
   "execution_count": 269,
   "metadata": {},
   "outputs": [],
   "source": [
    "df_cust = df[['account', 'first_name', 'age', 'X', 'Y', 'gender_M']]"
   ]
  },
  {
   "cell_type": "markdown",
   "metadata": {},
   "source": [
    "*NOTE*: The reason why X and Y is considered to be fully dependent on the customer account number is because they represent the location of the customer"
   ]
  },
  {
   "cell_type": "code",
   "execution_count": 270,
   "metadata": {},
   "outputs": [],
   "source": [
    "df_cust = df_cust.drop_duplicates()"
   ]
  },
  {
   "cell_type": "code",
   "execution_count": 271,
   "metadata": {},
   "outputs": [],
   "source": [
    "df_cust.set_index('account', inplace=True)"
   ]
  },
  {
   "cell_type": "code",
   "execution_count": 276,
   "metadata": {},
   "outputs": [
    {
     "data": {
      "text/html": [
       "<div>\n",
       "<style scoped>\n",
       "    .dataframe tbody tr th:only-of-type {\n",
       "        vertical-align: middle;\n",
       "    }\n",
       "\n",
       "    .dataframe tbody tr th {\n",
       "        vertical-align: top;\n",
       "    }\n",
       "\n",
       "    .dataframe thead th {\n",
       "        text-align: right;\n",
       "    }\n",
       "</style>\n",
       "<table border=\"1\" class=\"dataframe\">\n",
       "  <thead>\n",
       "    <tr style=\"text-align: right;\">\n",
       "      <th></th>\n",
       "      <th>first_name</th>\n",
       "      <th>age</th>\n",
       "      <th>X</th>\n",
       "      <th>Y</th>\n",
       "      <th>gender_M</th>\n",
       "    </tr>\n",
       "    <tr>\n",
       "      <th>account</th>\n",
       "      <th></th>\n",
       "      <th></th>\n",
       "      <th></th>\n",
       "      <th></th>\n",
       "      <th></th>\n",
       "    </tr>\n",
       "  </thead>\n",
       "  <tbody>\n",
       "    <tr>\n",
       "      <th>37709441</th>\n",
       "      <td>Charles</td>\n",
       "      <td>18</td>\n",
       "      <td>-28.01</td>\n",
       "      <td>153.41</td>\n",
       "      <td>1</td>\n",
       "    </tr>\n",
       "    <tr>\n",
       "      <th>38923874</th>\n",
       "      <td>Ryan</td>\n",
       "      <td>38</td>\n",
       "      <td>-33.90</td>\n",
       "      <td>151.27</td>\n",
       "      <td>1</td>\n",
       "    </tr>\n",
       "    <tr>\n",
       "      <th>53508546</th>\n",
       "      <td>Kimberly</td>\n",
       "      <td>35</td>\n",
       "      <td>-33.76</td>\n",
       "      <td>150.62</td>\n",
       "      <td>0</td>\n",
       "    </tr>\n",
       "    <tr>\n",
       "      <th>80388494</th>\n",
       "      <td>Dustin</td>\n",
       "      <td>28</td>\n",
       "      <td>-37.42</td>\n",
       "      <td>144.97</td>\n",
       "      <td>1</td>\n",
       "    </tr>\n",
       "    <tr>\n",
       "      <th>90814749</th>\n",
       "      <td>Christopher</td>\n",
       "      <td>35</td>\n",
       "      <td>-32.98</td>\n",
       "      <td>151.68</td>\n",
       "      <td>1</td>\n",
       "    </tr>\n",
       "  </tbody>\n",
       "</table>\n",
       "</div>"
      ],
      "text/plain": [
       "           first_name  age      X       Y  gender_M\n",
       "account                                            \n",
       "37709441      Charles   18 -28.01  153.41         1\n",
       "38923874         Ryan   38 -33.90  151.27         1\n",
       "53508546     Kimberly   35 -33.76  150.62         0\n",
       "80388494       Dustin   28 -37.42  144.97         1\n",
       "90814749  Christopher   35 -32.98  151.68         1"
      ]
     },
     "execution_count": 276,
     "metadata": {},
     "output_type": "execute_result"
    }
   ],
   "source": [
    "df_cust.sort_index().head()"
   ]
  },
  {
   "cell_type": "code",
   "execution_count": 277,
   "metadata": {},
   "outputs": [
    {
     "data": {
      "text/html": [
       "<div>\n",
       "<style scoped>\n",
       "    .dataframe tbody tr th:only-of-type {\n",
       "        vertical-align: middle;\n",
       "    }\n",
       "\n",
       "    .dataframe tbody tr th {\n",
       "        vertical-align: top;\n",
       "    }\n",
       "\n",
       "    .dataframe thead th {\n",
       "        text-align: right;\n",
       "    }\n",
       "</style>\n",
       "<table border=\"1\" class=\"dataframe\">\n",
       "  <thead>\n",
       "    <tr style=\"text-align: right;\">\n",
       "      <th></th>\n",
       "      <th>balance</th>\n",
       "      <th>amount</th>\n",
       "    </tr>\n",
       "    <tr>\n",
       "      <th>account</th>\n",
       "      <th></th>\n",
       "      <th></th>\n",
       "    </tr>\n",
       "  </thead>\n",
       "  <tbody>\n",
       "    <tr>\n",
       "      <th>37709441</th>\n",
       "      <td>98107.03</td>\n",
       "      <td>28925.61</td>\n",
       "    </tr>\n",
       "    <tr>\n",
       "      <th>38923874</th>\n",
       "      <td>506145.72</td>\n",
       "      <td>24452.35</td>\n",
       "    </tr>\n",
       "    <tr>\n",
       "      <th>53508546</th>\n",
       "      <td>54704.11</td>\n",
       "      <td>8703.84</td>\n",
       "    </tr>\n",
       "    <tr>\n",
       "      <th>80388494</th>\n",
       "      <td>35050.32</td>\n",
       "      <td>11499.06</td>\n",
       "    </tr>\n",
       "    <tr>\n",
       "      <th>90814749</th>\n",
       "      <td>65301.33</td>\n",
       "      <td>13852.02</td>\n",
       "    </tr>\n",
       "  </tbody>\n",
       "</table>\n",
       "</div>"
      ],
      "text/plain": [
       "            balance    amount\n",
       "account                      \n",
       "37709441   98107.03  28925.61\n",
       "38923874  506145.72  24452.35\n",
       "53508546   54704.11   8703.84\n",
       "80388494   35050.32  11499.06\n",
       "90814749   65301.33  13852.02"
      ]
     },
     "execution_count": 277,
     "metadata": {},
     "output_type": "execute_result"
    }
   ],
   "source": [
    "df_annual_pay.sort_index().head()"
   ]
  },
  {
   "cell_type": "code",
   "execution_count": 281,
   "metadata": {},
   "outputs": [],
   "source": [
    "df_merged = df_cust.merge(df_annual_pay, how='inner', on='account').sort_index()"
   ]
  },
  {
   "cell_type": "code",
   "execution_count": 282,
   "metadata": {},
   "outputs": [
    {
     "data": {
      "text/plain": [
       "(100, 7)"
      ]
     },
     "execution_count": 282,
     "metadata": {},
     "output_type": "execute_result"
    }
   ],
   "source": [
    "df_merged.shape"
   ]
  },
  {
   "cell_type": "code",
   "execution_count": 283,
   "metadata": {},
   "outputs": [
    {
     "data": {
      "text/html": [
       "<div>\n",
       "<style scoped>\n",
       "    .dataframe tbody tr th:only-of-type {\n",
       "        vertical-align: middle;\n",
       "    }\n",
       "\n",
       "    .dataframe tbody tr th {\n",
       "        vertical-align: top;\n",
       "    }\n",
       "\n",
       "    .dataframe thead th {\n",
       "        text-align: right;\n",
       "    }\n",
       "</style>\n",
       "<table border=\"1\" class=\"dataframe\">\n",
       "  <thead>\n",
       "    <tr style=\"text-align: right;\">\n",
       "      <th></th>\n",
       "      <th>first_name</th>\n",
       "      <th>age</th>\n",
       "      <th>X</th>\n",
       "      <th>Y</th>\n",
       "      <th>gender_M</th>\n",
       "      <th>balance</th>\n",
       "      <th>amount</th>\n",
       "    </tr>\n",
       "    <tr>\n",
       "      <th>account</th>\n",
       "      <th></th>\n",
       "      <th></th>\n",
       "      <th></th>\n",
       "      <th></th>\n",
       "      <th></th>\n",
       "      <th></th>\n",
       "      <th></th>\n",
       "    </tr>\n",
       "  </thead>\n",
       "  <tbody>\n",
       "    <tr>\n",
       "      <th>37709441</th>\n",
       "      <td>Charles</td>\n",
       "      <td>18</td>\n",
       "      <td>-28.01</td>\n",
       "      <td>153.41</td>\n",
       "      <td>1</td>\n",
       "      <td>98107.03</td>\n",
       "      <td>28925.61</td>\n",
       "    </tr>\n",
       "    <tr>\n",
       "      <th>38923874</th>\n",
       "      <td>Ryan</td>\n",
       "      <td>38</td>\n",
       "      <td>-33.90</td>\n",
       "      <td>151.27</td>\n",
       "      <td>1</td>\n",
       "      <td>506145.72</td>\n",
       "      <td>24452.35</td>\n",
       "    </tr>\n",
       "    <tr>\n",
       "      <th>53508546</th>\n",
       "      <td>Kimberly</td>\n",
       "      <td>35</td>\n",
       "      <td>-33.76</td>\n",
       "      <td>150.62</td>\n",
       "      <td>0</td>\n",
       "      <td>54704.11</td>\n",
       "      <td>8703.84</td>\n",
       "    </tr>\n",
       "    <tr>\n",
       "      <th>80388494</th>\n",
       "      <td>Dustin</td>\n",
       "      <td>28</td>\n",
       "      <td>-37.42</td>\n",
       "      <td>144.97</td>\n",
       "      <td>1</td>\n",
       "      <td>35050.32</td>\n",
       "      <td>11499.06</td>\n",
       "    </tr>\n",
       "    <tr>\n",
       "      <th>90814749</th>\n",
       "      <td>Christopher</td>\n",
       "      <td>35</td>\n",
       "      <td>-32.98</td>\n",
       "      <td>151.68</td>\n",
       "      <td>1</td>\n",
       "      <td>65301.33</td>\n",
       "      <td>13852.02</td>\n",
       "    </tr>\n",
       "  </tbody>\n",
       "</table>\n",
       "</div>"
      ],
      "text/plain": [
       "           first_name  age      X       Y  gender_M    balance    amount\n",
       "account                                                                 \n",
       "37709441      Charles   18 -28.01  153.41         1   98107.03  28925.61\n",
       "38923874         Ryan   38 -33.90  151.27         1  506145.72  24452.35\n",
       "53508546     Kimberly   35 -33.76  150.62         0   54704.11   8703.84\n",
       "80388494       Dustin   28 -37.42  144.97         1   35050.32  11499.06\n",
       "90814749  Christopher   35 -32.98  151.68         1   65301.33  13852.02"
      ]
     },
     "execution_count": 283,
     "metadata": {},
     "output_type": "execute_result"
    }
   ],
   "source": [
    "df_merged.head()"
   ]
  },
  {
   "cell_type": "code",
   "execution_count": 284,
   "metadata": {},
   "outputs": [],
   "source": [
    "features = list(set(df_merged.columns) - set(df_merged[['first_name', 'amount']]))"
   ]
  },
  {
   "cell_type": "markdown",
   "metadata": {},
   "source": [
    "## Step 2: Explore correlations between annual salary and various customer attributes"
   ]
  },
  {
   "cell_type": "code",
   "execution_count": 285,
   "metadata": {},
   "outputs": [],
   "source": [
    "X = df_merged[features]"
   ]
  },
  {
   "cell_type": "code",
   "execution_count": 287,
   "metadata": {},
   "outputs": [
    {
     "data": {
      "text/html": [
       "<div>\n",
       "<style scoped>\n",
       "    .dataframe tbody tr th:only-of-type {\n",
       "        vertical-align: middle;\n",
       "    }\n",
       "\n",
       "    .dataframe tbody tr th {\n",
       "        vertical-align: top;\n",
       "    }\n",
       "\n",
       "    .dataframe thead th {\n",
       "        text-align: right;\n",
       "    }\n",
       "</style>\n",
       "<table border=\"1\" class=\"dataframe\">\n",
       "  <thead>\n",
       "    <tr style=\"text-align: right;\">\n",
       "      <th></th>\n",
       "      <th>gender_M</th>\n",
       "      <th>age</th>\n",
       "      <th>X</th>\n",
       "      <th>balance</th>\n",
       "      <th>Y</th>\n",
       "    </tr>\n",
       "  </thead>\n",
       "  <tbody>\n",
       "    <tr>\n",
       "      <th>gender_M</th>\n",
       "      <td>1.000000</td>\n",
       "      <td>0.012067</td>\n",
       "      <td>-0.087341</td>\n",
       "      <td>0.120298</td>\n",
       "      <td>0.096176</td>\n",
       "    </tr>\n",
       "    <tr>\n",
       "      <th>age</th>\n",
       "      <td>0.012067</td>\n",
       "      <td>1.000000</td>\n",
       "      <td>0.070489</td>\n",
       "      <td>0.289224</td>\n",
       "      <td>0.008673</td>\n",
       "    </tr>\n",
       "    <tr>\n",
       "      <th>X</th>\n",
       "      <td>-0.087341</td>\n",
       "      <td>0.070489</td>\n",
       "      <td>1.000000</td>\n",
       "      <td>0.027556</td>\n",
       "      <td>-0.702603</td>\n",
       "    </tr>\n",
       "    <tr>\n",
       "      <th>balance</th>\n",
       "      <td>0.120298</td>\n",
       "      <td>0.289224</td>\n",
       "      <td>0.027556</td>\n",
       "      <td>1.000000</td>\n",
       "      <td>-0.015205</td>\n",
       "    </tr>\n",
       "    <tr>\n",
       "      <th>Y</th>\n",
       "      <td>0.096176</td>\n",
       "      <td>0.008673</td>\n",
       "      <td>-0.702603</td>\n",
       "      <td>-0.015205</td>\n",
       "      <td>1.000000</td>\n",
       "    </tr>\n",
       "  </tbody>\n",
       "</table>\n",
       "</div>"
      ],
      "text/plain": [
       "          gender_M       age         X   balance         Y\n",
       "gender_M  1.000000  0.012067 -0.087341  0.120298  0.096176\n",
       "age       0.012067  1.000000  0.070489  0.289224  0.008673\n",
       "X        -0.087341  0.070489  1.000000  0.027556 -0.702603\n",
       "balance   0.120298  0.289224  0.027556  1.000000 -0.015205\n",
       "Y         0.096176  0.008673 -0.702603 -0.015205  1.000000"
      ]
     },
     "execution_count": 287,
     "metadata": {},
     "output_type": "execute_result"
    }
   ],
   "source": [
    "X."
   ]
  },
  {
   "cell_type": "code",
   "execution_count": null,
   "metadata": {},
   "outputs": [],
   "source": []
  }
 ],
 "metadata": {
  "kernelspec": {
   "display_name": "Python 3",
   "language": "python",
   "name": "python3"
  },
  "language_info": {
   "codemirror_mode": {
    "name": "ipython",
    "version": 3
   },
   "file_extension": ".py",
   "mimetype": "text/x-python",
   "name": "python",
   "nbconvert_exporter": "python",
   "pygments_lexer": "ipython3",
   "version": "3.8.5"
  }
 },
 "nbformat": 4,
 "nbformat_minor": 4
}
