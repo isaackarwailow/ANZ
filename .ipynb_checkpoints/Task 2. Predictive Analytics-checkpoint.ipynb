{
 "cells": [
  {
   "cell_type": "markdown",
   "metadata": {},
   "source": [
    "# Predictive Analysis: ANZ Synthesized 3-month Transactional Dataset"
   ]
  },
  {
   "cell_type": "code",
   "execution_count": 1,
   "metadata": {},
   "outputs": [],
   "source": [
    "import pandas as pd\n",
    "import numpy as np\n",
    "import matplotlib.pyplot as plt\n",
    "import seaborn as sns\n",
    "from sklearn.preprocessing import StandardScaler\n",
    "from sklearn.model_selection import train_test_split\n",
    "from sklearn.linear_model import LinearRegression\n",
    "from sklearn.linear_model import LogisticRegression\n",
    "\n",
    "%matplotlib inline"
   ]
  },
  {
   "cell_type": "markdown",
   "metadata": {},
   "source": [
    "## Background\n",
    "\n",
    "Source: https://www.theforage.com/modules/ZLJCsrpkHo9pZBJNY/BiJPfqmGY2QwgN6gA\n",
    "\n",
    "This task is based on a synthesised transaction dataset containing 3 months’ worth of transactions for 100 hypothetical customers. It contains purchases, recurring transactions, and salary transactions. The dataset is designed to simulate realistic transaction behaviours that are observed in ANZ’s real transaction data, so many of the insights gathered from the activities will be genuine.\n",
    "\n",
    "*NOTE*: Data preprocessing for this dataset was already done in the notebook for Task 1. If reference for data preprocessing is required, please refer to Steps 0 and 1 in the notebook file 'Task 1. Exploratory Data Analysis.ipynb'. The dataset to be loaded here should be the cleaned file named 'DATA/ANZ-synthesized-transactions-cleaned.csv'"
   ]
  },
  {
   "cell_type": "markdown",
   "metadata": {},
   "source": [
    "## Step 0: Load the dataset and perform EDA"
   ]
  },
  {
   "cell_type": "markdown",
   "metadata": {},
   "source": [
    "### Overview\n",
    "The aim of this dataset is to try to understand the features of purchasing behaviour of customers as a predictor metric for modelling expected values for annual pay/ salary\n",
    "\n",
    "The plan of execution is to configure the best model for predicting customer's annual salary. According to the principle of Occam's Razor, simpler models will be preferred to more complex models, and the generation of models will stop when it can accurately predict new data."
   ]
  },
  {
   "cell_type": "code",
   "execution_count": 182,
   "metadata": {},
   "outputs": [],
   "source": [
    "# referencing the cleaned dataset\n",
    "file = 'DATA/ANZ-synthesized-transactions-cleaned.csv'\n",
    "# Read file and parse timestamp as the index\n",
    "df = pd.read_csv(file)"
   ]
  },
  {
   "cell_type": "code",
   "execution_count": 183,
   "metadata": {},
   "outputs": [
    {
     "data": {
      "text/html": [
       "<div>\n",
       "<style scoped>\n",
       "    .dataframe tbody tr th:only-of-type {\n",
       "        vertical-align: middle;\n",
       "    }\n",
       "\n",
       "    .dataframe tbody tr th {\n",
       "        vertical-align: top;\n",
       "    }\n",
       "\n",
       "    .dataframe thead th {\n",
       "        text-align: right;\n",
       "    }\n",
       "</style>\n",
       "<table border=\"1\" class=\"dataframe\">\n",
       "  <thead>\n",
       "    <tr style=\"text-align: right;\">\n",
       "      <th></th>\n",
       "      <th>timestamp</th>\n",
       "      <th>status</th>\n",
       "      <th>card_present_flag</th>\n",
       "      <th>account</th>\n",
       "      <th>first_name</th>\n",
       "      <th>age</th>\n",
       "      <th>gender</th>\n",
       "      <th>txn_description</th>\n",
       "      <th>balance</th>\n",
       "      <th>amount</th>\n",
       "      <th>...</th>\n",
       "      <th>X</th>\n",
       "      <th>Y</th>\n",
       "      <th>merch_suburb</th>\n",
       "      <th>merch_state</th>\n",
       "      <th>merch_geometry</th>\n",
       "      <th>merch_X</th>\n",
       "      <th>merch_Y</th>\n",
       "      <th>distance</th>\n",
       "      <th>country</th>\n",
       "      <th>card_present_bool</th>\n",
       "    </tr>\n",
       "  </thead>\n",
       "  <tbody>\n",
       "    <tr>\n",
       "      <th>0</th>\n",
       "      <td>2018-08-01 01:01:15+00:00</td>\n",
       "      <td>authorized</td>\n",
       "      <td>1</td>\n",
       "      <td>1598451071</td>\n",
       "      <td>Diana</td>\n",
       "      <td>26</td>\n",
       "      <td>F</td>\n",
       "      <td>POS</td>\n",
       "      <td>35.39</td>\n",
       "      <td>16.25</td>\n",
       "      <td>...</td>\n",
       "      <td>-27.95</td>\n",
       "      <td>153.41</td>\n",
       "      <td>Ashmore</td>\n",
       "      <td>QLD</td>\n",
       "      <td>153.38 -27.99</td>\n",
       "      <td>-27.99</td>\n",
       "      <td>153.38</td>\n",
       "      <td>5.34</td>\n",
       "      <td>Australia</td>\n",
       "      <td>True</td>\n",
       "    </tr>\n",
       "    <tr>\n",
       "      <th>1</th>\n",
       "      <td>2018-08-01 01:13:45+00:00</td>\n",
       "      <td>authorized</td>\n",
       "      <td>0</td>\n",
       "      <td>1598451071</td>\n",
       "      <td>Diana</td>\n",
       "      <td>26</td>\n",
       "      <td>F</td>\n",
       "      <td>SALES-POS</td>\n",
       "      <td>21.20</td>\n",
       "      <td>14.19</td>\n",
       "      <td>...</td>\n",
       "      <td>-27.95</td>\n",
       "      <td>153.41</td>\n",
       "      <td>Sydney</td>\n",
       "      <td>NSW</td>\n",
       "      <td>151.21 -33.87</td>\n",
       "      <td>-33.87</td>\n",
       "      <td>151.21</td>\n",
       "      <td>691.63</td>\n",
       "      <td>Australia</td>\n",
       "      <td>False</td>\n",
       "    </tr>\n",
       "    <tr>\n",
       "      <th>2</th>\n",
       "      <td>2018-08-01 01:26:15+00:00</td>\n",
       "      <td>authorized</td>\n",
       "      <td>1</td>\n",
       "      <td>1222300524</td>\n",
       "      <td>Michael</td>\n",
       "      <td>38</td>\n",
       "      <td>M</td>\n",
       "      <td>POS</td>\n",
       "      <td>5.71</td>\n",
       "      <td>6.42</td>\n",
       "      <td>...</td>\n",
       "      <td>-33.94</td>\n",
       "      <td>151.23</td>\n",
       "      <td>Sydney</td>\n",
       "      <td>NSW</td>\n",
       "      <td>151.21 -33.87</td>\n",
       "      <td>-33.87</td>\n",
       "      <td>151.21</td>\n",
       "      <td>8.01</td>\n",
       "      <td>Australia</td>\n",
       "      <td>True</td>\n",
       "    </tr>\n",
       "    <tr>\n",
       "      <th>3</th>\n",
       "      <td>2018-08-01 01:38:45+00:00</td>\n",
       "      <td>authorized</td>\n",
       "      <td>1</td>\n",
       "      <td>1037050564</td>\n",
       "      <td>Rhonda</td>\n",
       "      <td>40</td>\n",
       "      <td>F</td>\n",
       "      <td>SALES-POS</td>\n",
       "      <td>2117.22</td>\n",
       "      <td>40.90</td>\n",
       "      <td>...</td>\n",
       "      <td>-27.66</td>\n",
       "      <td>153.10</td>\n",
       "      <td>Buderim</td>\n",
       "      <td>QLD</td>\n",
       "      <td>153.05 -26.68</td>\n",
       "      <td>-26.68</td>\n",
       "      <td>153.05</td>\n",
       "      <td>109.20</td>\n",
       "      <td>Australia</td>\n",
       "      <td>True</td>\n",
       "    </tr>\n",
       "    <tr>\n",
       "      <th>4</th>\n",
       "      <td>2018-08-01 01:51:15+00:00</td>\n",
       "      <td>authorized</td>\n",
       "      <td>1</td>\n",
       "      <td>1598451071</td>\n",
       "      <td>Diana</td>\n",
       "      <td>26</td>\n",
       "      <td>F</td>\n",
       "      <td>SALES-POS</td>\n",
       "      <td>17.95</td>\n",
       "      <td>3.25</td>\n",
       "      <td>...</td>\n",
       "      <td>-27.95</td>\n",
       "      <td>153.41</td>\n",
       "      <td>Mermaid Beach</td>\n",
       "      <td>QLD</td>\n",
       "      <td>153.44 -28.06</td>\n",
       "      <td>-28.06</td>\n",
       "      <td>153.44</td>\n",
       "      <td>12.60</td>\n",
       "      <td>Australia</td>\n",
       "      <td>True</td>\n",
       "    </tr>\n",
       "  </tbody>\n",
       "</table>\n",
       "<p>5 rows × 21 columns</p>\n",
       "</div>"
      ],
      "text/plain": [
       "                   timestamp      status  card_present_flag     account  \\\n",
       "0  2018-08-01 01:01:15+00:00  authorized                  1  1598451071   \n",
       "1  2018-08-01 01:13:45+00:00  authorized                  0  1598451071   \n",
       "2  2018-08-01 01:26:15+00:00  authorized                  1  1222300524   \n",
       "3  2018-08-01 01:38:45+00:00  authorized                  1  1037050564   \n",
       "4  2018-08-01 01:51:15+00:00  authorized                  1  1598451071   \n",
       "\n",
       "  first_name  age gender txn_description  balance  amount  ...      X       Y  \\\n",
       "0      Diana   26      F             POS    35.39   16.25  ... -27.95  153.41   \n",
       "1      Diana   26      F       SALES-POS    21.20   14.19  ... -27.95  153.41   \n",
       "2    Michael   38      M             POS     5.71    6.42  ... -33.94  151.23   \n",
       "3     Rhonda   40      F       SALES-POS  2117.22   40.90  ... -27.66  153.10   \n",
       "4      Diana   26      F       SALES-POS    17.95    3.25  ... -27.95  153.41   \n",
       "\n",
       "    merch_suburb merch_state merch_geometry merch_X  merch_Y  distance  \\\n",
       "0        Ashmore         QLD  153.38 -27.99  -27.99   153.38      5.34   \n",
       "1         Sydney         NSW  151.21 -33.87  -33.87   151.21    691.63   \n",
       "2         Sydney         NSW  151.21 -33.87  -33.87   151.21      8.01   \n",
       "3        Buderim         QLD  153.05 -26.68  -26.68   153.05    109.20   \n",
       "4  Mermaid Beach         QLD  153.44 -28.06  -28.06   153.44     12.60   \n",
       "\n",
       "     country card_present_bool  \n",
       "0  Australia              True  \n",
       "1  Australia             False  \n",
       "2  Australia              True  \n",
       "3  Australia              True  \n",
       "4  Australia              True  \n",
       "\n",
       "[5 rows x 21 columns]"
      ]
     },
     "execution_count": 183,
     "metadata": {},
     "output_type": "execute_result"
    }
   ],
   "source": [
    "# To display the first 5 rows of the data\n",
    "df.head()"
   ]
  },
  {
   "cell_type": "code",
   "execution_count": 184,
   "metadata": {},
   "outputs": [
    {
     "data": {
      "text/plain": [
       "(12043, 21)"
      ]
     },
     "execution_count": 184,
     "metadata": {},
     "output_type": "execute_result"
    }
   ],
   "source": [
    "# check the shape of the DataFrame\n",
    "df.shape"
   ]
  },
  {
   "cell_type": "code",
   "execution_count": 185,
   "metadata": {},
   "outputs": [
    {
     "data": {
      "text/plain": [
       "timestamp            0\n",
       "status               0\n",
       "card_present_flag    0\n",
       "account              0\n",
       "first_name           0\n",
       "age                  0\n",
       "gender               0\n",
       "txn_description      0\n",
       "balance              0\n",
       "amount               0\n",
       "geometry             0\n",
       "X                    0\n",
       "Y                    0\n",
       "merch_suburb         0\n",
       "merch_state          0\n",
       "merch_geometry       0\n",
       "merch_X              0\n",
       "merch_Y              0\n",
       "distance             0\n",
       "country              0\n",
       "card_present_bool    0\n",
       "dtype: int64"
      ]
     },
     "execution_count": 185,
     "metadata": {},
     "output_type": "execute_result"
    }
   ],
   "source": [
    "# display all missing values\n",
    "df.isna().sum()"
   ]
  },
  {
   "cell_type": "markdown",
   "metadata": {},
   "source": [
    "## Step 1: Identify annual salary of each customer"
   ]
  },
  {
   "cell_type": "markdown",
   "metadata": {},
   "source": [
    "### a) Drop irrelevant features and create dummies"
   ]
  },
  {
   "cell_type": "code",
   "execution_count": 186,
   "metadata": {},
   "outputs": [
    {
     "data": {
      "text/plain": [
       "timestamp             object\n",
       "status                object\n",
       "card_present_flag      int64\n",
       "account                int64\n",
       "first_name            object\n",
       "age                    int64\n",
       "gender                object\n",
       "txn_description       object\n",
       "balance              float64\n",
       "amount               float64\n",
       "geometry              object\n",
       "X                    float64\n",
       "Y                    float64\n",
       "merch_suburb          object\n",
       "merch_state           object\n",
       "merch_geometry        object\n",
       "merch_X              float64\n",
       "merch_Y              float64\n",
       "distance             float64\n",
       "country               object\n",
       "card_present_bool       bool\n",
       "dtype: object"
      ]
     },
     "execution_count": 186,
     "metadata": {},
     "output_type": "execute_result"
    }
   ],
   "source": [
    "# confirmation of data types prior to conversion\n",
    "df.dtypes"
   ]
  },
  {
   "cell_type": "markdown",
   "metadata": {},
   "source": [
    "* drop all features that are unrelated to purchasing behaviour, as well as any feature that cannot be converted into a helpful categorical/ numerical dummy vairable:\n",
    "    - timestamp\n",
    "    - country\n",
    "    - card_present_bool\n",
    "    - merch_suburb (use coords)\n",
    "    - merch_state (use coords)\n",
    "    - geometry (use X, Y)\n",
    "    - merch_geometry\n",
    "    - merch_X\n",
    "    - merch_Y\n",
    "    - distance\n",
    "* Since we want to group data into an annual salary aggregate table of customer indexes, these dummy variables will need to be merged later on as predictors"
   ]
  },
  {
   "cell_type": "code",
   "execution_count": 187,
   "metadata": {},
   "outputs": [],
   "source": [
    "df = df.drop(columns=['country', 'timestamp', 'geometry', 'merch_suburb', 'merch_state', \n",
    "                       'merch_geometry', 'merch_X', 'merch_Y', 'distance', 'card_present_bool'])"
   ]
  },
  {
   "cell_type": "code",
   "execution_count": 188,
   "metadata": {},
   "outputs": [],
   "source": [
    "# get dummy variables\n",
    "df = pd.get_dummies(data=df, columns=['gender'], prefix=['gender'], drop_first=True)"
   ]
  },
  {
   "cell_type": "code",
   "execution_count": 189,
   "metadata": {},
   "outputs": [
    {
     "data": {
      "text/html": [
       "<div>\n",
       "<style scoped>\n",
       "    .dataframe tbody tr th:only-of-type {\n",
       "        vertical-align: middle;\n",
       "    }\n",
       "\n",
       "    .dataframe tbody tr th {\n",
       "        vertical-align: top;\n",
       "    }\n",
       "\n",
       "    .dataframe thead th {\n",
       "        text-align: right;\n",
       "    }\n",
       "</style>\n",
       "<table border=\"1\" class=\"dataframe\">\n",
       "  <thead>\n",
       "    <tr style=\"text-align: right;\">\n",
       "      <th></th>\n",
       "      <th>status</th>\n",
       "      <th>card_present_flag</th>\n",
       "      <th>account</th>\n",
       "      <th>first_name</th>\n",
       "      <th>age</th>\n",
       "      <th>txn_description</th>\n",
       "      <th>balance</th>\n",
       "      <th>amount</th>\n",
       "      <th>X</th>\n",
       "      <th>Y</th>\n",
       "      <th>gender_M</th>\n",
       "    </tr>\n",
       "  </thead>\n",
       "  <tbody>\n",
       "    <tr>\n",
       "      <th>0</th>\n",
       "      <td>authorized</td>\n",
       "      <td>1</td>\n",
       "      <td>1598451071</td>\n",
       "      <td>Diana</td>\n",
       "      <td>26</td>\n",
       "      <td>POS</td>\n",
       "      <td>35.39</td>\n",
       "      <td>16.25</td>\n",
       "      <td>-27.95</td>\n",
       "      <td>153.41</td>\n",
       "      <td>0</td>\n",
       "    </tr>\n",
       "    <tr>\n",
       "      <th>1</th>\n",
       "      <td>authorized</td>\n",
       "      <td>0</td>\n",
       "      <td>1598451071</td>\n",
       "      <td>Diana</td>\n",
       "      <td>26</td>\n",
       "      <td>SALES-POS</td>\n",
       "      <td>21.20</td>\n",
       "      <td>14.19</td>\n",
       "      <td>-27.95</td>\n",
       "      <td>153.41</td>\n",
       "      <td>0</td>\n",
       "    </tr>\n",
       "    <tr>\n",
       "      <th>2</th>\n",
       "      <td>authorized</td>\n",
       "      <td>1</td>\n",
       "      <td>1222300524</td>\n",
       "      <td>Michael</td>\n",
       "      <td>38</td>\n",
       "      <td>POS</td>\n",
       "      <td>5.71</td>\n",
       "      <td>6.42</td>\n",
       "      <td>-33.94</td>\n",
       "      <td>151.23</td>\n",
       "      <td>1</td>\n",
       "    </tr>\n",
       "    <tr>\n",
       "      <th>3</th>\n",
       "      <td>authorized</td>\n",
       "      <td>1</td>\n",
       "      <td>1037050564</td>\n",
       "      <td>Rhonda</td>\n",
       "      <td>40</td>\n",
       "      <td>SALES-POS</td>\n",
       "      <td>2117.22</td>\n",
       "      <td>40.90</td>\n",
       "      <td>-27.66</td>\n",
       "      <td>153.10</td>\n",
       "      <td>0</td>\n",
       "    </tr>\n",
       "    <tr>\n",
       "      <th>4</th>\n",
       "      <td>authorized</td>\n",
       "      <td>1</td>\n",
       "      <td>1598451071</td>\n",
       "      <td>Diana</td>\n",
       "      <td>26</td>\n",
       "      <td>SALES-POS</td>\n",
       "      <td>17.95</td>\n",
       "      <td>3.25</td>\n",
       "      <td>-27.95</td>\n",
       "      <td>153.41</td>\n",
       "      <td>0</td>\n",
       "    </tr>\n",
       "  </tbody>\n",
       "</table>\n",
       "</div>"
      ],
      "text/plain": [
       "       status  card_present_flag     account first_name  age txn_description  \\\n",
       "0  authorized                  1  1598451071      Diana   26             POS   \n",
       "1  authorized                  0  1598451071      Diana   26       SALES-POS   \n",
       "2  authorized                  1  1222300524    Michael   38             POS   \n",
       "3  authorized                  1  1037050564     Rhonda   40       SALES-POS   \n",
       "4  authorized                  1  1598451071      Diana   26       SALES-POS   \n",
       "\n",
       "   balance  amount      X       Y  gender_M  \n",
       "0    35.39   16.25 -27.95  153.41         0  \n",
       "1    21.20   14.19 -27.95  153.41         0  \n",
       "2     5.71    6.42 -33.94  151.23         1  \n",
       "3  2117.22   40.90 -27.66  153.10         0  \n",
       "4    17.95    3.25 -27.95  153.41         0  "
      ]
     },
     "execution_count": 189,
     "metadata": {},
     "output_type": "execute_result"
    }
   ],
   "source": [
    "df.head()"
   ]
  },
  {
   "cell_type": "code",
   "execution_count": 190,
   "metadata": {},
   "outputs": [],
   "source": [
    "df.set_index('account', inplace=True)"
   ]
  },
  {
   "cell_type": "markdown",
   "metadata": {},
   "source": [
    "### b) Subset Pay/Salary transactions and group by account"
   ]
  },
  {
   "cell_type": "code",
   "execution_count": 191,
   "metadata": {},
   "outputs": [
    {
     "data": {
      "text/plain": [
       "SALES-POS     3934\n",
       "POS           3783\n",
       "PAYMENT       2600\n",
       "PAY/SALARY     883\n",
       "INTER BANK     742\n",
       "PHONE BANK     101\n",
       "Name: txn_description, dtype: int64"
      ]
     },
     "execution_count": 191,
     "metadata": {},
     "output_type": "execute_result"
    }
   ],
   "source": [
    "# display counts of payment types\n",
    "df.txn_description.value_counts()"
   ]
  },
  {
   "cell_type": "code",
   "execution_count": 192,
   "metadata": {},
   "outputs": [
    {
     "data": {
      "text/plain": [
       "status                   2\n",
       "card_present_flag        2\n",
       "first_name              80\n",
       "age                     33\n",
       "txn_description          6\n",
       "balance              12006\n",
       "amount                4457\n",
       "X                       85\n",
       "Y                       87\n",
       "gender_M                 2\n",
       "dtype: int64"
      ]
     },
     "execution_count": 192,
     "metadata": {},
     "output_type": "execute_result"
    }
   ],
   "source": [
    "# Check the distinct values for each column\n",
    "df.nunique()"
   ]
  },
  {
   "cell_type": "markdown",
   "metadata": {},
   "source": [
    "- *NOTE*: First name and account column number of unique values do not match up:\n",
    "     - First name has 80 unique values\n",
    "     - Account has 100 unique values\n",
    "- It would be helpful for us to index these by account as it has better unique identification of customers.\n",
    "- In order to get a good target feature for annual salary, the index should be a sum of all the pay/ salary type descriptions grouped by each account."
   ]
  },
  {
   "cell_type": "code",
   "execution_count": 193,
   "metadata": {},
   "outputs": [],
   "source": [
    "#### i) Make Payment transaction Table"
   ]
  },
  {
   "cell_type": "code",
   "execution_count": 194,
   "metadata": {},
   "outputs": [],
   "source": [
    "df_pay = df[df.txn_description == 'PAY/SALARY']"
   ]
  },
  {
   "cell_type": "markdown",
   "metadata": {},
   "source": [
    "* Card_present_flag is useless for our prediction model\n",
    "* Status_posted is not useful in this case because all Pay/ Salary transaction types are functionally dependent on the status of posted. Hence, this column can be dropped\n",
    "* Basically, all customer unique fields (fully dependent features) have been dropped.\n",
    "* Only balance is a valid cumulative measure because it is not uniquely identified by the key."
   ]
  },
  {
   "cell_type": "code",
   "execution_count": 195,
   "metadata": {},
   "outputs": [],
   "source": [
    "df_pay = df_pay.drop(columns=['card_present_flag', 'age', 'X', 'Y', 'gender_M'])"
   ]
  },
  {
   "cell_type": "code",
   "execution_count": 196,
   "metadata": {},
   "outputs": [
    {
     "data": {
      "text/plain": [
       "(883, 5)"
      ]
     },
     "execution_count": 196,
     "metadata": {},
     "output_type": "execute_result"
    }
   ],
   "source": [
    "df_pay.shape"
   ]
  },
  {
   "cell_type": "markdown",
   "metadata": {},
   "source": [
    "* The code shows that there were 883 payment transactions conducted in August, September and October"
   ]
  },
  {
   "cell_type": "code",
   "execution_count": 197,
   "metadata": {},
   "outputs": [],
   "source": [
    "# Group all payment transactions by accounts and sum\n",
    "df_pay_sum = df_pay.groupby('account').sum()"
   ]
  },
  {
   "cell_type": "code",
   "execution_count": 198,
   "metadata": {},
   "outputs": [
    {
     "name": "stdout",
     "output_type": "stream",
     "text": [
      "1598451071    14\n",
      "2920611728    14\n",
      "1973887809    14\n",
      "819621312     14\n",
      "3326339947    14\n",
      "              ..\n",
      "2153562714     3\n",
      "1217063613     2\n",
      "3100725361     2\n",
      "211792489      2\n",
      "2673069055     2\n",
      "Name: account, Length: 100, dtype: int64\n"
     ]
    }
   ],
   "source": [
    "# However, payment counts differ for each account\n",
    "salary_counts = df_pay.index.value_counts()\n",
    "print(salary_counts)"
   ]
  },
  {
   "cell_type": "code",
   "execution_count": 199,
   "metadata": {},
   "outputs": [
    {
     "data": {
      "image/png": "[encoded data removed]",
      "text/plain": [
       "<Figure size 432x288 with 1 Axes>"
      ]
     },
     "metadata": {
      "needs_background": "light"
     },
     "output_type": "display_data"
    }
   ],
   "source": [
    "_ = plt.hist(salary_counts)\n",
    "_ = plt.xlabel('Number of salary transactions')\n",
    "_ = plt.ylabel('Frequency')\n",
    "_ = plt.title('Histogram of number of salaries in 3 months (92 days)')"
   ]
  },
  {
   "cell_type": "markdown",
   "metadata": {},
   "source": [
    "* The above payment counts by individual accounts shows that:\n",
    "    - (35 + 5) = 40 of payment transactions were conducted weekly: 92 / 14 = 6.5714, or 92 / 12 = 7.6 (~7 days)\n",
    "    - (24 + 27) = 51 of payment transactions were conducted biweekly: 92 / 6 = 15.3333 or 92 / 8 = 11.5 (~14 days)\n",
    "    - (5 + 2 + 1) = 8 transactions were conducted 92 / 2 = 26, or 92 / 4 = 23, or 92 / 5 = 18.4 (~30 days)\n",
    "* *NOTE*: The above are just generalizations not exact measures"
   ]
  },
  {
   "cell_type": "markdown",
   "metadata": {},
   "source": [
    "* Therefore, the payment mean for each account would be a fairly inaccurate scale to be accounting for annual salary.\n",
    "* Dividing payment sums with the mean of payment counts should give us better scaled features for our data"
   ]
  },
  {
   "cell_type": "code",
   "execution_count": 200,
   "metadata": {},
   "outputs": [],
   "source": [
    "scaler = salary_counts.mean()"
   ]
  },
  {
   "cell_type": "code",
   "execution_count": 201,
   "metadata": {},
   "outputs": [],
   "source": [
    "df_pay_standardized = df_pay_sum / scaler"
   ]
  },
  {
   "cell_type": "markdown",
   "metadata": {},
   "source": [
    "* However, this is not good enough as we want the annual salary\n",
    "    - Since 365/30 = 12.166667, and 30/8.83 = 3.3975085\n",
    "    - annual salary = sum_amounts/ 8.83 * 3.3975085 * 12.166667"
   ]
  },
  {
   "cell_type": "code",
   "execution_count": 202,
   "metadata": {},
   "outputs": [],
   "source": [
    "df_pay_sum['annualized_sal'] = df_pay_sum['amount']/3.3975085 * 12.166667"
   ]
  },
  {
   "cell_type": "code",
   "execution_count": 203,
   "metadata": {},
   "outputs": [
    {
     "data": {
      "text/html": [
       "<div>\n",
       "<style scoped>\n",
       "    .dataframe tbody tr th:only-of-type {\n",
       "        vertical-align: middle;\n",
       "    }\n",
       "\n",
       "    .dataframe tbody tr th {\n",
       "        vertical-align: top;\n",
       "    }\n",
       "\n",
       "    .dataframe thead th {\n",
       "        text-align: right;\n",
       "    }\n",
       "</style>\n",
       "<table border=\"1\" class=\"dataframe\">\n",
       "  <thead>\n",
       "    <tr style=\"text-align: right;\">\n",
       "      <th></th>\n",
       "      <th>balance</th>\n",
       "      <th>amount</th>\n",
       "      <th>annualized_sal</th>\n",
       "    </tr>\n",
       "    <tr>\n",
       "      <th>account</th>\n",
       "      <th></th>\n",
       "      <th></th>\n",
       "      <th></th>\n",
       "    </tr>\n",
       "  </thead>\n",
       "  <tbody>\n",
       "    <tr>\n",
       "      <th>1523339231</th>\n",
       "      <td>295834.60</td>\n",
       "      <td>35343.92</td>\n",
       "      <td>126568.544307</td>\n",
       "    </tr>\n",
       "    <tr>\n",
       "      <th>1496451953</th>\n",
       "      <td>183287.54</td>\n",
       "      <td>33644.13</td>\n",
       "      <td>120481.501728</td>\n",
       "    </tr>\n",
       "    <tr>\n",
       "      <th>3317636250</th>\n",
       "      <td>164255.24</td>\n",
       "      <td>33081.88</td>\n",
       "      <td>118468.053191</td>\n",
       "    </tr>\n",
       "    <tr>\n",
       "      <th>2231965366</th>\n",
       "      <td>204657.85</td>\n",
       "      <td>31762.12</td>\n",
       "      <td>113741.919190</td>\n",
       "    </tr>\n",
       "    <tr>\n",
       "      <th>240804743</th>\n",
       "      <td>106299.10</td>\n",
       "      <td>30837.10</td>\n",
       "      <td>110429.371095</td>\n",
       "    </tr>\n",
       "    <tr>\n",
       "      <th>...</th>\n",
       "      <td>...</td>\n",
       "      <td>...</td>\n",
       "      <td>...</td>\n",
       "    </tr>\n",
       "    <tr>\n",
       "      <th>53508546</th>\n",
       "      <td>54704.11</td>\n",
       "      <td>8703.84</td>\n",
       "      <td>31168.935383</td>\n",
       "    </tr>\n",
       "    <tr>\n",
       "      <th>2615038700</th>\n",
       "      <td>409793.72</td>\n",
       "      <td>8637.59</td>\n",
       "      <td>30931.690447</td>\n",
       "    </tr>\n",
       "    <tr>\n",
       "      <th>2970114956</th>\n",
       "      <td>58334.28</td>\n",
       "      <td>8603.88</td>\n",
       "      <td>30810.973061</td>\n",
       "    </tr>\n",
       "    <tr>\n",
       "      <th>559365433</th>\n",
       "      <td>36491.38</td>\n",
       "      <td>7488.00</td>\n",
       "      <td>26814.944685</td>\n",
       "    </tr>\n",
       "    <tr>\n",
       "      <th>2988263882</th>\n",
       "      <td>63183.45</td>\n",
       "      <td>7155.96</td>\n",
       "      <td>25625.890968</td>\n",
       "    </tr>\n",
       "  </tbody>\n",
       "</table>\n",
       "<p>100 rows × 3 columns</p>\n",
       "</div>"
      ],
      "text/plain": [
       "              balance    amount  annualized_sal\n",
       "account                                        \n",
       "1523339231  295834.60  35343.92   126568.544307\n",
       "1496451953  183287.54  33644.13   120481.501728\n",
       "3317636250  164255.24  33081.88   118468.053191\n",
       "2231965366  204657.85  31762.12   113741.919190\n",
       "240804743   106299.10  30837.10   110429.371095\n",
       "...               ...       ...             ...\n",
       "53508546     54704.11   8703.84    31168.935383\n",
       "2615038700  409793.72   8637.59    30931.690447\n",
       "2970114956   58334.28   8603.88    30810.973061\n",
       "559365433    36491.38   7488.00    26814.944685\n",
       "2988263882   63183.45   7155.96    25625.890968\n",
       "\n",
       "[100 rows x 3 columns]"
      ]
     },
     "execution_count": 203,
     "metadata": {},
     "output_type": "execute_result"
    }
   ],
   "source": [
    "df_pay_sum.sort_values('annualized_sal', ascending=False)"
   ]
  },
  {
   "cell_type": "code",
   "execution_count": 204,
   "metadata": {},
   "outputs": [],
   "source": [
    "df_pay_sum.drop(columns='amount', inplace=True)"
   ]
  },
  {
   "cell_type": "code",
   "execution_count": 205,
   "metadata": {},
   "outputs": [
    {
     "data": {
      "text/plain": [
       "(100, 2)"
      ]
     },
     "execution_count": 205,
     "metadata": {},
     "output_type": "execute_result"
    }
   ],
   "source": [
    "# this confirms we have all 100 accounts in new dataset group\n",
    "df_pay_sum.shape"
   ]
  },
  {
   "cell_type": "code",
   "execution_count": 206,
   "metadata": {},
   "outputs": [
    {
     "data": {
      "text/plain": [
       "count       100.000000\n",
       "mean      60039.149965\n",
       "std       24141.843194\n",
       "min       25625.890968\n",
       "25%       41509.206707\n",
       "50%       53047.914113\n",
       "75%       76392.923308\n",
       "max      126568.544307\n",
       "Name: annualized_sal, dtype: float64"
      ]
     },
     "execution_count": 206,
     "metadata": {},
     "output_type": "execute_result"
    }
   ],
   "source": [
    "df_pay_sum.annualized_sal.describe()"
   ]
  },
  {
   "cell_type": "markdown",
   "metadata": {},
   "source": [
    "* The max annual salary is **\\$126, 568.54** and the min annual salary is **\\$25, 625.89**\n",
    "* This range of salary amounts is not an accurate measure of the entire year, it is a projected annuity based on three months. Therefore, it is useful to keep that in mind when making the predictions."
   ]
  },
  {
   "cell_type": "markdown",
   "metadata": {},
   "source": [
    "#### ii) Make other transactiont type tables to add new features to merge"
   ]
  },
  {
   "cell_type": "code",
   "execution_count": 207,
   "metadata": {},
   "outputs": [],
   "source": [
    "df_sales_pos = df[df.txn_description == 'SALES-POS']"
   ]
  },
  {
   "cell_type": "code",
   "execution_count": 208,
   "metadata": {},
   "outputs": [],
   "source": [
    "drop_columns = [c for c in df_sales_pos.columns if (c != 'amount' and c != 'account')]\n",
    "df_sales_pos = df_sales_pos.drop(columns = drop_columns)\n"
   ]
  },
  {
   "cell_type": "code",
   "execution_count": 209,
   "metadata": {},
   "outputs": [],
   "source": [
    "df_sales_pos_sum = df_sales_pos.groupby('account').sum()\n",
    "sales_pos_counts = df_sales_pos.index.value_counts()"
   ]
  },
  {
   "cell_type": "code",
   "execution_count": 210,
   "metadata": {},
   "outputs": [],
   "source": [
    "df_sales_pos_sum.rename({'amount': 'sales_pos'}, axis=1, inplace=True)"
   ]
  },
  {
   "cell_type": "markdown",
   "metadata": {},
   "source": [
    "* One customer missing for sales-pos transaction data"
   ]
  },
  {
   "cell_type": "code",
   "execution_count": 211,
   "metadata": {},
   "outputs": [
    {
     "data": {
      "image/png": "[encoded data removed]",
      "text/plain": [
       "<Figure size 432x288 with 1 Axes>"
      ]
     },
     "metadata": {
      "needs_background": "light"
     },
     "output_type": "display_data"
    }
   ],
   "source": [
    "_ = plt.hist(sales_pos_counts)\n",
    "_ = plt.xlabel('Number of Sales-Pos')\n",
    "_ = plt.ylabel('Frequency')\n",
    "_ = plt.title('Histogram of number of sales-pos in 3 months (92 days)')"
   ]
  },
  {
   "cell_type": "code",
   "execution_count": 212,
   "metadata": {},
   "outputs": [
    {
     "data": {
      "text/plain": [
       "SALES-POS     3934\n",
       "POS           3783\n",
       "PAYMENT       2600\n",
       "PAY/SALARY     883\n",
       "INTER BANK     742\n",
       "PHONE BANK     101\n",
       "Name: txn_description, dtype: int64"
      ]
     },
     "execution_count": 212,
     "metadata": {},
     "output_type": "execute_result"
    }
   ],
   "source": [
    "df.txn_description.value_counts()"
   ]
  },
  {
   "cell_type": "code",
   "execution_count": 213,
   "metadata": {},
   "outputs": [],
   "source": [
    "df_pos = df[df.txn_description == 'POS']"
   ]
  },
  {
   "cell_type": "code",
   "execution_count": 214,
   "metadata": {},
   "outputs": [],
   "source": [
    "drop_columns = [c for c in df_pos.columns if (c != 'amount' and c != 'account')]\n",
    "df_pos = df_pos.drop(columns = drop_columns)"
   ]
  },
  {
   "cell_type": "code",
   "execution_count": 215,
   "metadata": {},
   "outputs": [],
   "source": [
    "df_pos_sum = df_pos.groupby('account').sum()\n",
    "pos_counts = df_pos.index.value_counts()"
   ]
  },
  {
   "cell_type": "code",
   "execution_count": 216,
   "metadata": {},
   "outputs": [],
   "source": [
    "df_pos_sum.rename({'amount': 'pos'}, axis=1, inplace=True)"
   ]
  },
  {
   "cell_type": "code",
   "execution_count": 217,
   "metadata": {},
   "outputs": [
    {
     "data": {
      "image/png": "[encoded data removed]",
      "text/plain": [
       "<Figure size 432x288 with 1 Axes>"
      ]
     },
     "metadata": {
      "needs_background": "light"
     },
     "output_type": "display_data"
    }
   ],
   "source": [
    "_ = plt.hist(pos_counts)\n",
    "_ = plt.xlabel('Number of pos transactions')\n",
    "_ = plt.ylabel('Frequency')\n",
    "_ = plt.title('Histogram of number of pos in 3 months (92 days)')"
   ]
  },
  {
   "cell_type": "code",
   "execution_count": 218,
   "metadata": {},
   "outputs": [],
   "source": [
    "df_payment = df[df.txn_description == 'PAYMENT']"
   ]
  },
  {
   "cell_type": "code",
   "execution_count": 219,
   "metadata": {},
   "outputs": [],
   "source": [
    "drop_columns = [c for c in df_payment.columns if (c != 'amount' and c != 'account')]\n",
    "df_payment = df_payment.drop(columns = drop_columns)"
   ]
  },
  {
   "cell_type": "code",
   "execution_count": 220,
   "metadata": {},
   "outputs": [],
   "source": [
    "df_payment_sum = df_payment.groupby('account').sum()\n",
    "payment_counts = df_payment.index.value_counts()"
   ]
  },
  {
   "cell_type": "code",
   "execution_count": 221,
   "metadata": {},
   "outputs": [],
   "source": [
    "df_payment_sum.rename({'amount': 'payment'}, axis=1, inplace=True)"
   ]
  },
  {
   "cell_type": "code",
   "execution_count": 222,
   "metadata": {},
   "outputs": [
    {
     "data": {
      "image/png": "[encoded data removed]",
      "text/plain": [
       "<Figure size 432x288 with 1 Axes>"
      ]
     },
     "metadata": {
      "needs_background": "light"
     },
     "output_type": "display_data"
    }
   ],
   "source": [
    "_ = plt.hist(payment_counts)\n",
    "_ = plt.xlabel('Number of payment transactions')\n",
    "_ = plt.ylabel('Frequency')\n",
    "_ = plt.title('Histogram of number of payment transactions in 3 months (92 days)')"
   ]
  },
  {
   "cell_type": "code",
   "execution_count": 223,
   "metadata": {},
   "outputs": [],
   "source": [
    "df_interbank = df[df.txn_description == 'INTER BANK']"
   ]
  },
  {
   "cell_type": "code",
   "execution_count": 224,
   "metadata": {},
   "outputs": [],
   "source": [
    "drop_columns = [c for c in df_interbank.columns if (c != 'amount' and c != 'account')]\n",
    "df_interbank = df_interbank.drop(columns = drop_columns)"
   ]
  },
  {
   "cell_type": "code",
   "execution_count": 225,
   "metadata": {},
   "outputs": [],
   "source": [
    "df_interbank_sum = df_interbank.groupby('account').sum()\n",
    "interbank_counts = df_interbank.index.value_counts()"
   ]
  },
  {
   "cell_type": "code",
   "execution_count": 226,
   "metadata": {},
   "outputs": [],
   "source": [
    "df_interbank_sum.rename({'amount': 'inter_bank'}, axis=1, inplace=True)"
   ]
  },
  {
   "cell_type": "code",
   "execution_count": 227,
   "metadata": {},
   "outputs": [
    {
     "data": {
      "image/png": "[encoded data removed]",
      "text/plain": [
       "<Figure size 432x288 with 1 Axes>"
      ]
     },
     "metadata": {
      "needs_background": "light"
     },
     "output_type": "display_data"
    }
   ],
   "source": [
    "_ = plt.hist(interbank_counts)\n",
    "_ = plt.xlabel('Number of interbank transactions')\n",
    "_ = plt.ylabel('Frequency')\n",
    "_ = plt.title('Histogram of number of interbank transactions in 3 months (92 days)')"
   ]
  },
  {
   "cell_type": "code",
   "execution_count": 228,
   "metadata": {},
   "outputs": [],
   "source": [
    "df_phonebank = df[df.txn_description == 'PHONE BANK']"
   ]
  },
  {
   "cell_type": "code",
   "execution_count": 229,
   "metadata": {},
   "outputs": [],
   "source": [
    "drop_columns = [c for c in df_phonebank.columns if (c != 'amount' and c != 'account')]\n",
    "df_phonebank = df_phonebank.drop(columns = drop_columns)"
   ]
  },
  {
   "cell_type": "code",
   "execution_count": 230,
   "metadata": {},
   "outputs": [],
   "source": [
    "df_phonebank_sum = df_phonebank.groupby('account').sum()\n",
    "phonebank_counts = df_phonebank.index.value_counts()"
   ]
  },
  {
   "cell_type": "code",
   "execution_count": 231,
   "metadata": {},
   "outputs": [],
   "source": [
    "df_phonebank_sum.rename({'amount': 'phone_bank'}, axis=1, inplace=True)"
   ]
  },
  {
   "cell_type": "code",
   "execution_count": 232,
   "metadata": {},
   "outputs": [
    {
     "data": {
      "image/png": "[encoded data removed]",
      "text/plain": [
       "<Figure size 432x288 with 1 Axes>"
      ]
     },
     "metadata": {
      "needs_background": "light"
     },
     "output_type": "display_data"
    }
   ],
   "source": [
    "_ = plt.hist(phonebank_counts)\n",
    "_ = plt.xlabel('Number of phonebank transactions')\n",
    "_ = plt.ylabel('Frequency')\n",
    "_ = plt.title('Histogram of number of phonebank transactions in 3 months (92 days)')"
   ]
  },
  {
   "cell_type": "code",
   "execution_count": 333,
   "metadata": {},
   "outputs": [],
   "source": [
    "dfs = [df_pay_sum, df_sales_pos_sum, df_pos_sum, df_payment_sum, df_interbank_sum, df_phonebank_sum] # list of dataframes\n",
    "\n",
    "# merge two tables on inner join and one on outer join\n",
    "dfm = dfs[0].merge(dfs[1], how='inner', on='account') \\\n",
    "            .merge(dfs[2], how='inner', on='account') \\\n",
    "            .merge(dfs[3], how='inner', on='account') \\\n",
    "            .merge(dfs[4], how='outer', on='account') \\\n",
    "            .merge(dfs[5], how='outer', on='account') \n"
   ]
  },
  {
   "cell_type": "code",
   "execution_count": 334,
   "metadata": {},
   "outputs": [
    {
     "data": {
      "text/html": [
       "<div>\n",
       "<style scoped>\n",
       "    .dataframe tbody tr th:only-of-type {\n",
       "        vertical-align: middle;\n",
       "    }\n",
       "\n",
       "    .dataframe tbody tr th {\n",
       "        vertical-align: top;\n",
       "    }\n",
       "\n",
       "    .dataframe thead th {\n",
       "        text-align: right;\n",
       "    }\n",
       "</style>\n",
       "<table border=\"1\" class=\"dataframe\">\n",
       "  <thead>\n",
       "    <tr style=\"text-align: right;\">\n",
       "      <th></th>\n",
       "      <th>balance</th>\n",
       "      <th>annualized_sal</th>\n",
       "      <th>sales_pos</th>\n",
       "      <th>pos</th>\n",
       "      <th>payment</th>\n",
       "      <th>inter_bank</th>\n",
       "      <th>phone_bank</th>\n",
       "    </tr>\n",
       "    <tr>\n",
       "      <th>account</th>\n",
       "      <th></th>\n",
       "      <th></th>\n",
       "      <th></th>\n",
       "      <th></th>\n",
       "      <th></th>\n",
       "      <th></th>\n",
       "      <th></th>\n",
       "    </tr>\n",
       "  </thead>\n",
       "  <tbody>\n",
       "    <tr>\n",
       "      <th>37709441</th>\n",
       "      <td>98107.03</td>\n",
       "      <td>103584.219036</td>\n",
       "      <td>399.84</td>\n",
       "      <td>663.05</td>\n",
       "      <td>2088.0</td>\n",
       "      <td>1692.0</td>\n",
       "      <td>252.0</td>\n",
       "    </tr>\n",
       "    <tr>\n",
       "      <th>38923874</th>\n",
       "      <td>506145.72</td>\n",
       "      <td>87565.226052</td>\n",
       "      <td>734.41</td>\n",
       "      <td>1716.74</td>\n",
       "      <td>4671.0</td>\n",
       "      <td>827.0</td>\n",
       "      <td>NaN</td>\n",
       "    </tr>\n",
       "    <tr>\n",
       "      <th>53508546</th>\n",
       "      <td>54704.11</td>\n",
       "      <td>31168.935383</td>\n",
       "      <td>1204.22</td>\n",
       "      <td>350.31</td>\n",
       "      <td>1180.0</td>\n",
       "      <td>NaN</td>\n",
       "      <td>NaN</td>\n",
       "    </tr>\n",
       "    <tr>\n",
       "      <th>80388494</th>\n",
       "      <td>35050.32</td>\n",
       "      <td>41178.773749</td>\n",
       "      <td>3033.07</td>\n",
       "      <td>1356.47</td>\n",
       "      <td>852.0</td>\n",
       "      <td>270.0</td>\n",
       "      <td>NaN</td>\n",
       "    </tr>\n",
       "    <tr>\n",
       "      <th>90814749</th>\n",
       "      <td>65301.33</td>\n",
       "      <td>49604.854445</td>\n",
       "      <td>1472.62</td>\n",
       "      <td>1845.16</td>\n",
       "      <td>831.0</td>\n",
       "      <td>902.0</td>\n",
       "      <td>1916.0</td>\n",
       "    </tr>\n",
       "    <tr>\n",
       "      <th>...</th>\n",
       "      <td>...</td>\n",
       "      <td>...</td>\n",
       "      <td>...</td>\n",
       "      <td>...</td>\n",
       "      <td>...</td>\n",
       "      <td>...</td>\n",
       "      <td>...</td>\n",
       "    </tr>\n",
       "    <tr>\n",
       "      <th>4163822186</th>\n",
       "      <td>94134.87</td>\n",
       "      <td>39565.364938</td>\n",
       "      <td>104.55</td>\n",
       "      <td>19.76</td>\n",
       "      <td>2442.0</td>\n",
       "      <td>NaN</td>\n",
       "      <td>NaN</td>\n",
       "    </tr>\n",
       "    <tr>\n",
       "      <th>4258502723</th>\n",
       "      <td>51624.95</td>\n",
       "      <td>49339.498221</td>\n",
       "      <td>2662.22</td>\n",
       "      <td>3667.82</td>\n",
       "      <td>1984.0</td>\n",
       "      <td>670.0</td>\n",
       "      <td>NaN</td>\n",
       "    </tr>\n",
       "    <tr>\n",
       "      <th>4274272854</th>\n",
       "      <td>42000.30</td>\n",
       "      <td>35255.421225</td>\n",
       "      <td>233.12</td>\n",
       "      <td>1369.50</td>\n",
       "      <td>1183.0</td>\n",
       "      <td>NaN</td>\n",
       "      <td>NaN</td>\n",
       "    </tr>\n",
       "    <tr>\n",
       "      <th>4281711154</th>\n",
       "      <td>275038.66</td>\n",
       "      <td>44063.958663</td>\n",
       "      <td>2054.40</td>\n",
       "      <td>122.86</td>\n",
       "      <td>1438.0</td>\n",
       "      <td>NaN</td>\n",
       "      <td>504.0</td>\n",
       "    </tr>\n",
       "    <tr>\n",
       "      <th>721712940</th>\n",
       "      <td>NaN</td>\n",
       "      <td>NaN</td>\n",
       "      <td>NaN</td>\n",
       "      <td>NaN</td>\n",
       "      <td>NaN</td>\n",
       "      <td>NaN</td>\n",
       "      <td>450.0</td>\n",
       "    </tr>\n",
       "  </tbody>\n",
       "</table>\n",
       "<p>100 rows × 7 columns</p>\n",
       "</div>"
      ],
      "text/plain": [
       "              balance  annualized_sal  sales_pos      pos  payment  \\\n",
       "account                                                              \n",
       "37709441     98107.03   103584.219036     399.84   663.05   2088.0   \n",
       "38923874    506145.72    87565.226052     734.41  1716.74   4671.0   \n",
       "53508546     54704.11    31168.935383    1204.22   350.31   1180.0   \n",
       "80388494     35050.32    41178.773749    3033.07  1356.47    852.0   \n",
       "90814749     65301.33    49604.854445    1472.62  1845.16    831.0   \n",
       "...               ...             ...        ...      ...      ...   \n",
       "4163822186   94134.87    39565.364938     104.55    19.76   2442.0   \n",
       "4258502723   51624.95    49339.498221    2662.22  3667.82   1984.0   \n",
       "4274272854   42000.30    35255.421225     233.12  1369.50   1183.0   \n",
       "4281711154  275038.66    44063.958663    2054.40   122.86   1438.0   \n",
       "721712940         NaN             NaN        NaN      NaN      NaN   \n",
       "\n",
       "            inter_bank  phone_bank  \n",
       "account                             \n",
       "37709441        1692.0       252.0  \n",
       "38923874         827.0         NaN  \n",
       "53508546           NaN         NaN  \n",
       "80388494         270.0         NaN  \n",
       "90814749         902.0      1916.0  \n",
       "...                ...         ...  \n",
       "4163822186         NaN         NaN  \n",
       "4258502723       670.0         NaN  \n",
       "4274272854         NaN         NaN  \n",
       "4281711154         NaN       504.0  \n",
       "721712940          NaN       450.0  \n",
       "\n",
       "[100 rows x 7 columns]"
      ]
     },
     "execution_count": 334,
     "metadata": {},
     "output_type": "execute_result"
    }
   ],
   "source": [
    "dfm"
   ]
  },
  {
   "cell_type": "code",
   "execution_count": 335,
   "metadata": {},
   "outputs": [
    {
     "data": {
      "text/html": [
       "<div>\n",
       "<style scoped>\n",
       "    .dataframe tbody tr th:only-of-type {\n",
       "        vertical-align: middle;\n",
       "    }\n",
       "\n",
       "    .dataframe tbody tr th {\n",
       "        vertical-align: top;\n",
       "    }\n",
       "\n",
       "    .dataframe thead th {\n",
       "        text-align: right;\n",
       "    }\n",
       "</style>\n",
       "<table border=\"1\" class=\"dataframe\">\n",
       "  <thead>\n",
       "    <tr style=\"text-align: right;\">\n",
       "      <th></th>\n",
       "      <th>balance</th>\n",
       "      <th>annualized_sal</th>\n",
       "      <th>sales_pos</th>\n",
       "      <th>pos</th>\n",
       "      <th>payment</th>\n",
       "      <th>inter_bank</th>\n",
       "      <th>phone_bank</th>\n",
       "    </tr>\n",
       "    <tr>\n",
       "      <th>account</th>\n",
       "      <th></th>\n",
       "      <th></th>\n",
       "      <th></th>\n",
       "      <th></th>\n",
       "      <th></th>\n",
       "      <th></th>\n",
       "      <th></th>\n",
       "    </tr>\n",
       "  </thead>\n",
       "  <tbody>\n",
       "    <tr>\n",
       "      <th>37709441</th>\n",
       "      <td>98107.03</td>\n",
       "      <td>103584.219036</td>\n",
       "      <td>399.84</td>\n",
       "      <td>663.05</td>\n",
       "      <td>2088.0</td>\n",
       "      <td>1692.0</td>\n",
       "      <td>252.0</td>\n",
       "    </tr>\n",
       "    <tr>\n",
       "      <th>38923874</th>\n",
       "      <td>506145.72</td>\n",
       "      <td>87565.226052</td>\n",
       "      <td>734.41</td>\n",
       "      <td>1716.74</td>\n",
       "      <td>4671.0</td>\n",
       "      <td>827.0</td>\n",
       "      <td>517.5</td>\n",
       "    </tr>\n",
       "    <tr>\n",
       "      <th>53508546</th>\n",
       "      <td>54704.11</td>\n",
       "      <td>31168.935383</td>\n",
       "      <td>1204.22</td>\n",
       "      <td>350.31</td>\n",
       "      <td>1180.0</td>\n",
       "      <td>734.5</td>\n",
       "      <td>517.5</td>\n",
       "    </tr>\n",
       "    <tr>\n",
       "      <th>80388494</th>\n",
       "      <td>35050.32</td>\n",
       "      <td>41178.773749</td>\n",
       "      <td>3033.07</td>\n",
       "      <td>1356.47</td>\n",
       "      <td>852.0</td>\n",
       "      <td>270.0</td>\n",
       "      <td>517.5</td>\n",
       "    </tr>\n",
       "    <tr>\n",
       "      <th>90814749</th>\n",
       "      <td>65301.33</td>\n",
       "      <td>49604.854445</td>\n",
       "      <td>1472.62</td>\n",
       "      <td>1845.16</td>\n",
       "      <td>831.0</td>\n",
       "      <td>902.0</td>\n",
       "      <td>1916.0</td>\n",
       "    </tr>\n",
       "    <tr>\n",
       "      <th>...</th>\n",
       "      <td>...</td>\n",
       "      <td>...</td>\n",
       "      <td>...</td>\n",
       "      <td>...</td>\n",
       "      <td>...</td>\n",
       "      <td>...</td>\n",
       "      <td>...</td>\n",
       "    </tr>\n",
       "    <tr>\n",
       "      <th>4163822186</th>\n",
       "      <td>94134.87</td>\n",
       "      <td>39565.364938</td>\n",
       "      <td>104.55</td>\n",
       "      <td>19.76</td>\n",
       "      <td>2442.0</td>\n",
       "      <td>734.5</td>\n",
       "      <td>517.5</td>\n",
       "    </tr>\n",
       "    <tr>\n",
       "      <th>4258502723</th>\n",
       "      <td>51624.95</td>\n",
       "      <td>49339.498221</td>\n",
       "      <td>2662.22</td>\n",
       "      <td>3667.82</td>\n",
       "      <td>1984.0</td>\n",
       "      <td>670.0</td>\n",
       "      <td>517.5</td>\n",
       "    </tr>\n",
       "    <tr>\n",
       "      <th>4274272854</th>\n",
       "      <td>42000.30</td>\n",
       "      <td>35255.421225</td>\n",
       "      <td>233.12</td>\n",
       "      <td>1369.50</td>\n",
       "      <td>1183.0</td>\n",
       "      <td>734.5</td>\n",
       "      <td>517.5</td>\n",
       "    </tr>\n",
       "    <tr>\n",
       "      <th>4281711154</th>\n",
       "      <td>275038.66</td>\n",
       "      <td>44063.958663</td>\n",
       "      <td>2054.40</td>\n",
       "      <td>122.86</td>\n",
       "      <td>1438.0</td>\n",
       "      <td>734.5</td>\n",
       "      <td>504.0</td>\n",
       "    </tr>\n",
       "    <tr>\n",
       "      <th>721712940</th>\n",
       "      <td>72025.43</td>\n",
       "      <td>53080.913540</td>\n",
       "      <td>1367.72</td>\n",
       "      <td>1225.75</td>\n",
       "      <td>1815.0</td>\n",
       "      <td>734.5</td>\n",
       "      <td>450.0</td>\n",
       "    </tr>\n",
       "  </tbody>\n",
       "</table>\n",
       "<p>100 rows × 7 columns</p>\n",
       "</div>"
      ],
      "text/plain": [
       "              balance  annualized_sal  sales_pos      pos  payment  \\\n",
       "account                                                              \n",
       "37709441     98107.03   103584.219036     399.84   663.05   2088.0   \n",
       "38923874    506145.72    87565.226052     734.41  1716.74   4671.0   \n",
       "53508546     54704.11    31168.935383    1204.22   350.31   1180.0   \n",
       "80388494     35050.32    41178.773749    3033.07  1356.47    852.0   \n",
       "90814749     65301.33    49604.854445    1472.62  1845.16    831.0   \n",
       "...               ...             ...        ...      ...      ...   \n",
       "4163822186   94134.87    39565.364938     104.55    19.76   2442.0   \n",
       "4258502723   51624.95    49339.498221    2662.22  3667.82   1984.0   \n",
       "4274272854   42000.30    35255.421225     233.12  1369.50   1183.0   \n",
       "4281711154  275038.66    44063.958663    2054.40   122.86   1438.0   \n",
       "721712940    72025.43    53080.913540    1367.72  1225.75   1815.0   \n",
       "\n",
       "            inter_bank  phone_bank  \n",
       "account                             \n",
       "37709441        1692.0       252.0  \n",
       "38923874         827.0       517.5  \n",
       "53508546         734.5       517.5  \n",
       "80388494         270.0       517.5  \n",
       "90814749         902.0      1916.0  \n",
       "...                ...         ...  \n",
       "4163822186       734.5       517.5  \n",
       "4258502723       670.0       517.5  \n",
       "4274272854       734.5       517.5  \n",
       "4281711154       734.5       504.0  \n",
       "721712940        734.5       450.0  \n",
       "\n",
       "[100 rows x 7 columns]"
      ]
     },
     "execution_count": 335,
     "metadata": {},
     "output_type": "execute_result"
    }
   ],
   "source": [
    "dfm = dfm.apply(lambda x:x.fillna(x.median()))\n",
    "dfm"
   ]
  },
  {
   "cell_type": "code",
   "execution_count": 336,
   "metadata": {},
   "outputs": [
    {
     "data": {
      "text/plain": [
       "(100, 7)"
      ]
     },
     "execution_count": 336,
     "metadata": {},
     "output_type": "execute_result"
    }
   ],
   "source": [
    "dfm.shape"
   ]
  },
  {
   "cell_type": "markdown",
   "metadata": {},
   "source": [
    "### c) Merge a customer table with pay/salary table"
   ]
  },
  {
   "cell_type": "markdown",
   "metadata": {},
   "source": [
    "* Here, a customer table is extracted from the original data, dropping everything that is not fully dependent on the primary key, satisfying 3NF.\n",
    "* The reason why the cleaning is done for 3NF here is because most of the cleaning has already met 1NF and 2NF rules, even though we are not making relational tables."
   ]
  },
  {
   "cell_type": "code",
   "execution_count": 337,
   "metadata": {},
   "outputs": [
    {
     "data": {
      "text/html": [
       "<div>\n",
       "<style scoped>\n",
       "    .dataframe tbody tr th:only-of-type {\n",
       "        vertical-align: middle;\n",
       "    }\n",
       "\n",
       "    .dataframe tbody tr th {\n",
       "        vertical-align: top;\n",
       "    }\n",
       "\n",
       "    .dataframe thead th {\n",
       "        text-align: right;\n",
       "    }\n",
       "</style>\n",
       "<table border=\"1\" class=\"dataframe\">\n",
       "  <thead>\n",
       "    <tr style=\"text-align: right;\">\n",
       "      <th></th>\n",
       "      <th>status</th>\n",
       "      <th>card_present_flag</th>\n",
       "      <th>first_name</th>\n",
       "      <th>age</th>\n",
       "      <th>txn_description</th>\n",
       "      <th>balance</th>\n",
       "      <th>amount</th>\n",
       "      <th>X</th>\n",
       "      <th>Y</th>\n",
       "      <th>gender_M</th>\n",
       "    </tr>\n",
       "    <tr>\n",
       "      <th>account</th>\n",
       "      <th></th>\n",
       "      <th></th>\n",
       "      <th></th>\n",
       "      <th></th>\n",
       "      <th></th>\n",
       "      <th></th>\n",
       "      <th></th>\n",
       "      <th></th>\n",
       "      <th></th>\n",
       "      <th></th>\n",
       "    </tr>\n",
       "  </thead>\n",
       "  <tbody>\n",
       "    <tr>\n",
       "      <th>1598451071</th>\n",
       "      <td>authorized</td>\n",
       "      <td>1</td>\n",
       "      <td>Diana</td>\n",
       "      <td>26</td>\n",
       "      <td>POS</td>\n",
       "      <td>35.39</td>\n",
       "      <td>16.25</td>\n",
       "      <td>-27.95</td>\n",
       "      <td>153.41</td>\n",
       "      <td>0</td>\n",
       "    </tr>\n",
       "    <tr>\n",
       "      <th>1598451071</th>\n",
       "      <td>authorized</td>\n",
       "      <td>0</td>\n",
       "      <td>Diana</td>\n",
       "      <td>26</td>\n",
       "      <td>SALES-POS</td>\n",
       "      <td>21.20</td>\n",
       "      <td>14.19</td>\n",
       "      <td>-27.95</td>\n",
       "      <td>153.41</td>\n",
       "      <td>0</td>\n",
       "    </tr>\n",
       "    <tr>\n",
       "      <th>1222300524</th>\n",
       "      <td>authorized</td>\n",
       "      <td>1</td>\n",
       "      <td>Michael</td>\n",
       "      <td>38</td>\n",
       "      <td>POS</td>\n",
       "      <td>5.71</td>\n",
       "      <td>6.42</td>\n",
       "      <td>-33.94</td>\n",
       "      <td>151.23</td>\n",
       "      <td>1</td>\n",
       "    </tr>\n",
       "    <tr>\n",
       "      <th>1037050564</th>\n",
       "      <td>authorized</td>\n",
       "      <td>1</td>\n",
       "      <td>Rhonda</td>\n",
       "      <td>40</td>\n",
       "      <td>SALES-POS</td>\n",
       "      <td>2117.22</td>\n",
       "      <td>40.90</td>\n",
       "      <td>-27.66</td>\n",
       "      <td>153.10</td>\n",
       "      <td>0</td>\n",
       "    </tr>\n",
       "    <tr>\n",
       "      <th>1598451071</th>\n",
       "      <td>authorized</td>\n",
       "      <td>1</td>\n",
       "      <td>Diana</td>\n",
       "      <td>26</td>\n",
       "      <td>SALES-POS</td>\n",
       "      <td>17.95</td>\n",
       "      <td>3.25</td>\n",
       "      <td>-27.95</td>\n",
       "      <td>153.41</td>\n",
       "      <td>0</td>\n",
       "    </tr>\n",
       "  </tbody>\n",
       "</table>\n",
       "</div>"
      ],
      "text/plain": [
       "                status  card_present_flag first_name  age txn_description  \\\n",
       "account                                                                     \n",
       "1598451071  authorized                  1      Diana   26             POS   \n",
       "1598451071  authorized                  0      Diana   26       SALES-POS   \n",
       "1222300524  authorized                  1    Michael   38             POS   \n",
       "1037050564  authorized                  1     Rhonda   40       SALES-POS   \n",
       "1598451071  authorized                  1      Diana   26       SALES-POS   \n",
       "\n",
       "            balance  amount      X       Y  gender_M  \n",
       "account                                               \n",
       "1598451071    35.39   16.25 -27.95  153.41         0  \n",
       "1598451071    21.20   14.19 -27.95  153.41         0  \n",
       "1222300524     5.71    6.42 -33.94  151.23         1  \n",
       "1037050564  2117.22   40.90 -27.66  153.10         0  \n",
       "1598451071    17.95    3.25 -27.95  153.41         0  "
      ]
     },
     "execution_count": 337,
     "metadata": {},
     "output_type": "execute_result"
    }
   ],
   "source": [
    "df.head()"
   ]
  },
  {
   "cell_type": "markdown",
   "metadata": {},
   "source": [
    "* To avoid the inclusion of duplicate values, customer table should be in 3NF"
   ]
  },
  {
   "cell_type": "code",
   "execution_count": 338,
   "metadata": {},
   "outputs": [],
   "source": [
    "df_cust = df[['age', 'X', 'Y', 'gender_M']]"
   ]
  },
  {
   "cell_type": "markdown",
   "metadata": {},
   "source": [
    "*NOTE*: The reason why X and Y is considered to be fully dependent on the customer account number is because they represent the location of the customer"
   ]
  },
  {
   "cell_type": "code",
   "execution_count": 339,
   "metadata": {},
   "outputs": [],
   "source": [
    "df_cust = df_cust.drop_duplicates()"
   ]
  },
  {
   "cell_type": "code",
   "execution_count": 340,
   "metadata": {},
   "outputs": [
    {
     "data": {
      "text/html": [
       "<div>\n",
       "<style scoped>\n",
       "    .dataframe tbody tr th:only-of-type {\n",
       "        vertical-align: middle;\n",
       "    }\n",
       "\n",
       "    .dataframe tbody tr th {\n",
       "        vertical-align: top;\n",
       "    }\n",
       "\n",
       "    .dataframe thead th {\n",
       "        text-align: right;\n",
       "    }\n",
       "</style>\n",
       "<table border=\"1\" class=\"dataframe\">\n",
       "  <thead>\n",
       "    <tr style=\"text-align: right;\">\n",
       "      <th></th>\n",
       "      <th>age</th>\n",
       "      <th>X</th>\n",
       "      <th>Y</th>\n",
       "      <th>gender_M</th>\n",
       "    </tr>\n",
       "    <tr>\n",
       "      <th>account</th>\n",
       "      <th></th>\n",
       "      <th></th>\n",
       "      <th></th>\n",
       "      <th></th>\n",
       "    </tr>\n",
       "  </thead>\n",
       "  <tbody>\n",
       "    <tr>\n",
       "      <th>37709441</th>\n",
       "      <td>18</td>\n",
       "      <td>-28.01</td>\n",
       "      <td>153.41</td>\n",
       "      <td>1</td>\n",
       "    </tr>\n",
       "    <tr>\n",
       "      <th>38923874</th>\n",
       "      <td>38</td>\n",
       "      <td>-33.90</td>\n",
       "      <td>151.27</td>\n",
       "      <td>1</td>\n",
       "    </tr>\n",
       "    <tr>\n",
       "      <th>53508546</th>\n",
       "      <td>35</td>\n",
       "      <td>-33.76</td>\n",
       "      <td>150.62</td>\n",
       "      <td>0</td>\n",
       "    </tr>\n",
       "    <tr>\n",
       "      <th>80388494</th>\n",
       "      <td>28</td>\n",
       "      <td>-37.42</td>\n",
       "      <td>144.97</td>\n",
       "      <td>1</td>\n",
       "    </tr>\n",
       "    <tr>\n",
       "      <th>90814749</th>\n",
       "      <td>35</td>\n",
       "      <td>-32.98</td>\n",
       "      <td>151.68</td>\n",
       "      <td>1</td>\n",
       "    </tr>\n",
       "  </tbody>\n",
       "</table>\n",
       "</div>"
      ],
      "text/plain": [
       "          age      X       Y  gender_M\n",
       "account                               \n",
       "37709441   18 -28.01  153.41         1\n",
       "38923874   38 -33.90  151.27         1\n",
       "53508546   35 -33.76  150.62         0\n",
       "80388494   28 -37.42  144.97         1\n",
       "90814749   35 -32.98  151.68         1"
      ]
     },
     "execution_count": 340,
     "metadata": {},
     "output_type": "execute_result"
    }
   ],
   "source": [
    "df_cust.sort_index().head()"
   ]
  },
  {
   "cell_type": "code",
   "execution_count": 341,
   "metadata": {},
   "outputs": [
    {
     "data": {
      "text/html": [
       "<div>\n",
       "<style scoped>\n",
       "    .dataframe tbody tr th:only-of-type {\n",
       "        vertical-align: middle;\n",
       "    }\n",
       "\n",
       "    .dataframe tbody tr th {\n",
       "        vertical-align: top;\n",
       "    }\n",
       "\n",
       "    .dataframe thead th {\n",
       "        text-align: right;\n",
       "    }\n",
       "</style>\n",
       "<table border=\"1\" class=\"dataframe\">\n",
       "  <thead>\n",
       "    <tr style=\"text-align: right;\">\n",
       "      <th></th>\n",
       "      <th>balance</th>\n",
       "      <th>annualized_sal</th>\n",
       "      <th>sales_pos</th>\n",
       "      <th>pos</th>\n",
       "      <th>payment</th>\n",
       "      <th>inter_bank</th>\n",
       "      <th>phone_bank</th>\n",
       "    </tr>\n",
       "    <tr>\n",
       "      <th>account</th>\n",
       "      <th></th>\n",
       "      <th></th>\n",
       "      <th></th>\n",
       "      <th></th>\n",
       "      <th></th>\n",
       "      <th></th>\n",
       "      <th></th>\n",
       "    </tr>\n",
       "  </thead>\n",
       "  <tbody>\n",
       "    <tr>\n",
       "      <th>37709441</th>\n",
       "      <td>98107.03</td>\n",
       "      <td>103584.219036</td>\n",
       "      <td>399.84</td>\n",
       "      <td>663.05</td>\n",
       "      <td>2088.0</td>\n",
       "      <td>1692.0</td>\n",
       "      <td>252.0</td>\n",
       "    </tr>\n",
       "    <tr>\n",
       "      <th>38923874</th>\n",
       "      <td>506145.72</td>\n",
       "      <td>87565.226052</td>\n",
       "      <td>734.41</td>\n",
       "      <td>1716.74</td>\n",
       "      <td>4671.0</td>\n",
       "      <td>827.0</td>\n",
       "      <td>517.5</td>\n",
       "    </tr>\n",
       "    <tr>\n",
       "      <th>53508546</th>\n",
       "      <td>54704.11</td>\n",
       "      <td>31168.935383</td>\n",
       "      <td>1204.22</td>\n",
       "      <td>350.31</td>\n",
       "      <td>1180.0</td>\n",
       "      <td>734.5</td>\n",
       "      <td>517.5</td>\n",
       "    </tr>\n",
       "    <tr>\n",
       "      <th>80388494</th>\n",
       "      <td>35050.32</td>\n",
       "      <td>41178.773749</td>\n",
       "      <td>3033.07</td>\n",
       "      <td>1356.47</td>\n",
       "      <td>852.0</td>\n",
       "      <td>270.0</td>\n",
       "      <td>517.5</td>\n",
       "    </tr>\n",
       "    <tr>\n",
       "      <th>90814749</th>\n",
       "      <td>65301.33</td>\n",
       "      <td>49604.854445</td>\n",
       "      <td>1472.62</td>\n",
       "      <td>1845.16</td>\n",
       "      <td>831.0</td>\n",
       "      <td>902.0</td>\n",
       "      <td>1916.0</td>\n",
       "    </tr>\n",
       "  </tbody>\n",
       "</table>\n",
       "</div>"
      ],
      "text/plain": [
       "            balance  annualized_sal  sales_pos      pos  payment  inter_bank  \\\n",
       "account                                                                        \n",
       "37709441   98107.03   103584.219036     399.84   663.05   2088.0      1692.0   \n",
       "38923874  506145.72    87565.226052     734.41  1716.74   4671.0       827.0   \n",
       "53508546   54704.11    31168.935383    1204.22   350.31   1180.0       734.5   \n",
       "80388494   35050.32    41178.773749    3033.07  1356.47    852.0       270.0   \n",
       "90814749   65301.33    49604.854445    1472.62  1845.16    831.0       902.0   \n",
       "\n",
       "          phone_bank  \n",
       "account               \n",
       "37709441       252.0  \n",
       "38923874       517.5  \n",
       "53508546       517.5  \n",
       "80388494       517.5  \n",
       "90814749      1916.0  "
      ]
     },
     "execution_count": 341,
     "metadata": {},
     "output_type": "execute_result"
    }
   ],
   "source": [
    "dfm.sort_index().head()"
   ]
  },
  {
   "cell_type": "code",
   "execution_count": 342,
   "metadata": {},
   "outputs": [],
   "source": [
    "df_merged = df_cust.merge(dfm, how='inner', on='account').sort_index()"
   ]
  },
  {
   "cell_type": "code",
   "execution_count": 343,
   "metadata": {},
   "outputs": [
    {
     "data": {
      "text/plain": [
       "(100, 11)"
      ]
     },
     "execution_count": 343,
     "metadata": {},
     "output_type": "execute_result"
    }
   ],
   "source": [
    "df_merged.shape"
   ]
  },
  {
   "cell_type": "code",
   "execution_count": 344,
   "metadata": {},
   "outputs": [
    {
     "data": {
      "text/html": [
       "<div>\n",
       "<style scoped>\n",
       "    .dataframe tbody tr th:only-of-type {\n",
       "        vertical-align: middle;\n",
       "    }\n",
       "\n",
       "    .dataframe tbody tr th {\n",
       "        vertical-align: top;\n",
       "    }\n",
       "\n",
       "    .dataframe thead th {\n",
       "        text-align: right;\n",
       "    }\n",
       "</style>\n",
       "<table border=\"1\" class=\"dataframe\">\n",
       "  <thead>\n",
       "    <tr style=\"text-align: right;\">\n",
       "      <th></th>\n",
       "      <th>age</th>\n",
       "      <th>X</th>\n",
       "      <th>Y</th>\n",
       "      <th>gender_M</th>\n",
       "      <th>balance</th>\n",
       "      <th>annualized_sal</th>\n",
       "      <th>sales_pos</th>\n",
       "      <th>pos</th>\n",
       "      <th>payment</th>\n",
       "      <th>inter_bank</th>\n",
       "      <th>phone_bank</th>\n",
       "    </tr>\n",
       "    <tr>\n",
       "      <th>account</th>\n",
       "      <th></th>\n",
       "      <th></th>\n",
       "      <th></th>\n",
       "      <th></th>\n",
       "      <th></th>\n",
       "      <th></th>\n",
       "      <th></th>\n",
       "      <th></th>\n",
       "      <th></th>\n",
       "      <th></th>\n",
       "      <th></th>\n",
       "    </tr>\n",
       "  </thead>\n",
       "  <tbody>\n",
       "    <tr>\n",
       "      <th>37709441</th>\n",
       "      <td>18</td>\n",
       "      <td>-28.01</td>\n",
       "      <td>153.41</td>\n",
       "      <td>1</td>\n",
       "      <td>98107.03</td>\n",
       "      <td>103584.219036</td>\n",
       "      <td>399.84</td>\n",
       "      <td>663.05</td>\n",
       "      <td>2088.0</td>\n",
       "      <td>1692.0</td>\n",
       "      <td>252.0</td>\n",
       "    </tr>\n",
       "    <tr>\n",
       "      <th>38923874</th>\n",
       "      <td>38</td>\n",
       "      <td>-33.90</td>\n",
       "      <td>151.27</td>\n",
       "      <td>1</td>\n",
       "      <td>506145.72</td>\n",
       "      <td>87565.226052</td>\n",
       "      <td>734.41</td>\n",
       "      <td>1716.74</td>\n",
       "      <td>4671.0</td>\n",
       "      <td>827.0</td>\n",
       "      <td>517.5</td>\n",
       "    </tr>\n",
       "    <tr>\n",
       "      <th>53508546</th>\n",
       "      <td>35</td>\n",
       "      <td>-33.76</td>\n",
       "      <td>150.62</td>\n",
       "      <td>0</td>\n",
       "      <td>54704.11</td>\n",
       "      <td>31168.935383</td>\n",
       "      <td>1204.22</td>\n",
       "      <td>350.31</td>\n",
       "      <td>1180.0</td>\n",
       "      <td>734.5</td>\n",
       "      <td>517.5</td>\n",
       "    </tr>\n",
       "    <tr>\n",
       "      <th>80388494</th>\n",
       "      <td>28</td>\n",
       "      <td>-37.42</td>\n",
       "      <td>144.97</td>\n",
       "      <td>1</td>\n",
       "      <td>35050.32</td>\n",
       "      <td>41178.773749</td>\n",
       "      <td>3033.07</td>\n",
       "      <td>1356.47</td>\n",
       "      <td>852.0</td>\n",
       "      <td>270.0</td>\n",
       "      <td>517.5</td>\n",
       "    </tr>\n",
       "    <tr>\n",
       "      <th>90814749</th>\n",
       "      <td>35</td>\n",
       "      <td>-32.98</td>\n",
       "      <td>151.68</td>\n",
       "      <td>1</td>\n",
       "      <td>65301.33</td>\n",
       "      <td>49604.854445</td>\n",
       "      <td>1472.62</td>\n",
       "      <td>1845.16</td>\n",
       "      <td>831.0</td>\n",
       "      <td>902.0</td>\n",
       "      <td>1916.0</td>\n",
       "    </tr>\n",
       "  </tbody>\n",
       "</table>\n",
       "</div>"
      ],
      "text/plain": [
       "          age      X       Y  gender_M    balance  annualized_sal  sales_pos  \\\n",
       "account                                                                        \n",
       "37709441   18 -28.01  153.41         1   98107.03   103584.219036     399.84   \n",
       "38923874   38 -33.90  151.27         1  506145.72    87565.226052     734.41   \n",
       "53508546   35 -33.76  150.62         0   54704.11    31168.935383    1204.22   \n",
       "80388494   28 -37.42  144.97         1   35050.32    41178.773749    3033.07   \n",
       "90814749   35 -32.98  151.68         1   65301.33    49604.854445    1472.62   \n",
       "\n",
       "              pos  payment  inter_bank  phone_bank  \n",
       "account                                             \n",
       "37709441   663.05   2088.0      1692.0       252.0  \n",
       "38923874  1716.74   4671.0       827.0       517.5  \n",
       "53508546   350.31   1180.0       734.5       517.5  \n",
       "80388494  1356.47    852.0       270.0       517.5  \n",
       "90814749  1845.16    831.0       902.0      1916.0  "
      ]
     },
     "execution_count": 344,
     "metadata": {},
     "output_type": "execute_result"
    }
   ],
   "source": [
    "df_merged.head()"
   ]
  },
  {
   "cell_type": "markdown",
   "metadata": {},
   "source": [
    "## Step 2: Explore correlations between annual salary and various customer attributes"
   ]
  },
  {
   "cell_type": "code",
   "execution_count": 345,
   "metadata": {},
   "outputs": [
    {
     "data": {
      "text/plain": [
       "age              -0.003923\n",
       "X                -0.086810\n",
       "Y                -0.033981\n",
       "gender_M          0.110031\n",
       "balance           0.250442\n",
       "annualized_sal    1.000000\n",
       "sales_pos         0.112819\n",
       "pos              -0.081798\n",
       "payment           0.626740\n",
       "inter_bank        0.168485\n",
       "phone_bank       -0.090172\n",
       "Name: annualized_sal, dtype: float64"
      ]
     },
     "execution_count": 345,
     "metadata": {},
     "output_type": "execute_result"
    }
   ],
   "source": [
    "df_merged.corr()['annualized_sal']"
   ]
  },
  {
   "cell_type": "code",
   "execution_count": 346,
   "metadata": {},
   "outputs": [
    {
     "data": {
      "text/plain": [
       "<seaborn.axisgrid.PairGrid at 0x1234f357040>"
      ]
     },
     "execution_count": 346,
     "metadata": {},
     "output_type": "execute_result"
    },
    {
     "data": {
      "image/png": "[encoded data removed]",
      "text/plain": [
       "<Figure size 1980x1980 with 132 Axes>"
      ]
     },
     "metadata": {
      "needs_background": "light"
     },
     "output_type": "display_data"
    }
   ],
   "source": [
    "sns.pairplot(df_merged)"
   ]
  },
  {
   "cell_type": "markdown",
   "metadata": {},
   "source": [
    "* Drop features that don't have a strong correlation with annualized amount"
   ]
  },
  {
   "cell_type": "code",
   "execution_count": 154,
   "metadata": {},
   "outputs": [
    {
     "data": {
      "application/vnd.jupyter.widget-view+json": {
       "model_id": "0dd29f4a88f44472a9ed60cb990eb629",
       "version_major": 2,
       "version_minor": 0
      },
      "text/plain": [
       "HBox(children=(HTML(value='Summarize dataset'), FloatProgress(value=0.0, max=27.0), HTML(value='')))"
      ]
     },
     "metadata": {},
     "output_type": "display_data"
    },
    {
     "name": "stdout",
     "output_type": "stream",
     "text": [
      "\n"
     ]
    },
    {
     "data": {
      "application/vnd.jupyter.widget-view+json": {
       "model_id": "f97d348a86ba47a0833970a611a3efc2",
       "version_major": 2,
       "version_minor": 0
      },
      "text/plain": [
       "HBox(children=(HTML(value='Generate report structure'), FloatProgress(value=0.0, max=1.0), HTML(value='')))"
      ]
     },
     "metadata": {},
     "output_type": "display_data"
    },
    {
     "name": "stdout",
     "output_type": "stream",
     "text": [
      "\n"
     ]
    },
    {
     "data": {
      "application/vnd.jupyter.widget-view+json": {
       "model_id": "2666c36d00984769b23b2814948e6690",
       "version_major": 2,
       "version_minor": 0
      },
      "text/plain": [
       "HBox(children=(HTML(value='Render HTML'), FloatProgress(value=0.0, max=1.0), HTML(value='')))"
      ]
     },
     "metadata": {},
     "output_type": "display_data"
    },
    {
     "name": "stdout",
     "output_type": "stream",
     "text": [
      "\n"
     ]
    },
    {
     "data": {
      "application/vnd.jupyter.widget-view+json": {
       "model_id": "69a807a33fc347c3a2477da834e7581d",
       "version_major": 2,
       "version_minor": 0
      },
      "text/plain": [
       "HBox(children=(HTML(value='Export report to file'), FloatProgress(value=0.0, max=1.0), HTML(value='')))"
      ]
     },
     "metadata": {},
     "output_type": "display_data"
    },
    {
     "name": "stdout",
     "output_type": "stream",
     "text": [
      "\n"
     ]
    }
   ],
   "source": [
    "from pandas_profiling import ProfileReport\n",
    "prof = ProfileReport(df_merged)\n",
    "prof.to_file(output_file='output.html')"
   ]
  },
  {
   "cell_type": "markdown",
   "metadata": {},
   "source": [
    "## Step 3: Build linear regression model to predict annual salary"
   ]
  },
  {
   "cell_type": "markdown",
   "metadata": {},
   "source": [
    "### a) Feature selection"
   ]
  },
  {
   "cell_type": "code",
   "execution_count": 347,
   "metadata": {},
   "outputs": [],
   "source": [
    "features = list(set(df_merged.columns) - set(df_merged[['annualized_sal']]))"
   ]
  },
  {
   "cell_type": "code",
   "execution_count": 348,
   "metadata": {},
   "outputs": [
    {
     "data": {
      "text/html": [
       "<div>\n",
       "<style scoped>\n",
       "    .dataframe tbody tr th:only-of-type {\n",
       "        vertical-align: middle;\n",
       "    }\n",
       "\n",
       "    .dataframe tbody tr th {\n",
       "        vertical-align: top;\n",
       "    }\n",
       "\n",
       "    .dataframe thead th {\n",
       "        text-align: right;\n",
       "    }\n",
       "</style>\n",
       "<table border=\"1\" class=\"dataframe\">\n",
       "  <thead>\n",
       "    <tr style=\"text-align: right;\">\n",
       "      <th></th>\n",
       "      <th>age</th>\n",
       "      <th>pos</th>\n",
       "      <th>payment</th>\n",
       "      <th>Y</th>\n",
       "      <th>phone_bank</th>\n",
       "      <th>balance</th>\n",
       "      <th>inter_bank</th>\n",
       "      <th>sales_pos</th>\n",
       "      <th>X</th>\n",
       "      <th>gender_M</th>\n",
       "    </tr>\n",
       "    <tr>\n",
       "      <th>account</th>\n",
       "      <th></th>\n",
       "      <th></th>\n",
       "      <th></th>\n",
       "      <th></th>\n",
       "      <th></th>\n",
       "      <th></th>\n",
       "      <th></th>\n",
       "      <th></th>\n",
       "      <th></th>\n",
       "      <th></th>\n",
       "    </tr>\n",
       "  </thead>\n",
       "  <tbody>\n",
       "    <tr>\n",
       "      <th>37709441</th>\n",
       "      <td>18</td>\n",
       "      <td>663.05</td>\n",
       "      <td>2088.0</td>\n",
       "      <td>153.41</td>\n",
       "      <td>252.0</td>\n",
       "      <td>98107.03</td>\n",
       "      <td>1692.0</td>\n",
       "      <td>399.84</td>\n",
       "      <td>-28.01</td>\n",
       "      <td>1</td>\n",
       "    </tr>\n",
       "    <tr>\n",
       "      <th>38923874</th>\n",
       "      <td>38</td>\n",
       "      <td>1716.74</td>\n",
       "      <td>4671.0</td>\n",
       "      <td>151.27</td>\n",
       "      <td>517.5</td>\n",
       "      <td>506145.72</td>\n",
       "      <td>827.0</td>\n",
       "      <td>734.41</td>\n",
       "      <td>-33.90</td>\n",
       "      <td>1</td>\n",
       "    </tr>\n",
       "    <tr>\n",
       "      <th>53508546</th>\n",
       "      <td>35</td>\n",
       "      <td>350.31</td>\n",
       "      <td>1180.0</td>\n",
       "      <td>150.62</td>\n",
       "      <td>517.5</td>\n",
       "      <td>54704.11</td>\n",
       "      <td>734.5</td>\n",
       "      <td>1204.22</td>\n",
       "      <td>-33.76</td>\n",
       "      <td>0</td>\n",
       "    </tr>\n",
       "    <tr>\n",
       "      <th>80388494</th>\n",
       "      <td>28</td>\n",
       "      <td>1356.47</td>\n",
       "      <td>852.0</td>\n",
       "      <td>144.97</td>\n",
       "      <td>517.5</td>\n",
       "      <td>35050.32</td>\n",
       "      <td>270.0</td>\n",
       "      <td>3033.07</td>\n",
       "      <td>-37.42</td>\n",
       "      <td>1</td>\n",
       "    </tr>\n",
       "    <tr>\n",
       "      <th>90814749</th>\n",
       "      <td>35</td>\n",
       "      <td>1845.16</td>\n",
       "      <td>831.0</td>\n",
       "      <td>151.68</td>\n",
       "      <td>1916.0</td>\n",
       "      <td>65301.33</td>\n",
       "      <td>902.0</td>\n",
       "      <td>1472.62</td>\n",
       "      <td>-32.98</td>\n",
       "      <td>1</td>\n",
       "    </tr>\n",
       "  </tbody>\n",
       "</table>\n",
       "</div>"
      ],
      "text/plain": [
       "          age      pos  payment       Y  phone_bank    balance  inter_bank  \\\n",
       "account                                                                      \n",
       "37709441   18   663.05   2088.0  153.41       252.0   98107.03      1692.0   \n",
       "38923874   38  1716.74   4671.0  151.27       517.5  506145.72       827.0   \n",
       "53508546   35   350.31   1180.0  150.62       517.5   54704.11       734.5   \n",
       "80388494   28  1356.47    852.0  144.97       517.5   35050.32       270.0   \n",
       "90814749   35  1845.16    831.0  151.68      1916.0   65301.33       902.0   \n",
       "\n",
       "          sales_pos      X  gender_M  \n",
       "account                               \n",
       "37709441     399.84 -28.01         1  \n",
       "38923874     734.41 -33.90         1  \n",
       "53508546    1204.22 -33.76         0  \n",
       "80388494    3033.07 -37.42         1  \n",
       "90814749    1472.62 -32.98         1  "
      ]
     },
     "execution_count": 348,
     "metadata": {},
     "output_type": "execute_result"
    }
   ],
   "source": [
    "X = df_merged[features]\n",
    "y = df_merged['annualized_sal']\n",
    "X.head()"
   ]
  },
  {
   "cell_type": "code",
   "execution_count": 349,
   "metadata": {},
   "outputs": [],
   "source": [
    "# Normalize X using a StandardScalar\n",
    "scaler = StandardScaler()\n",
    "X_scaled = scaler.fit_transform(X)"
   ]
  },
  {
   "cell_type": "code",
   "execution_count": 350,
   "metadata": {},
   "outputs": [
    {
     "data": {
      "text/html": [
       "<div>\n",
       "<style scoped>\n",
       "    .dataframe tbody tr th:only-of-type {\n",
       "        vertical-align: middle;\n",
       "    }\n",
       "\n",
       "    .dataframe tbody tr th {\n",
       "        vertical-align: top;\n",
       "    }\n",
       "\n",
       "    .dataframe thead th {\n",
       "        text-align: right;\n",
       "    }\n",
       "</style>\n",
       "<table border=\"1\" class=\"dataframe\">\n",
       "  <thead>\n",
       "    <tr style=\"text-align: right;\">\n",
       "      <th></th>\n",
       "      <th>age</th>\n",
       "      <th>pos</th>\n",
       "      <th>payment</th>\n",
       "      <th>Y</th>\n",
       "      <th>phone_bank</th>\n",
       "      <th>balance</th>\n",
       "      <th>inter_bank</th>\n",
       "      <th>sales_pos</th>\n",
       "      <th>X</th>\n",
       "      <th>gender_M</th>\n",
       "    </tr>\n",
       "  </thead>\n",
       "  <tbody>\n",
       "    <tr>\n",
       "      <th>0</th>\n",
       "      <td>-1.198810</td>\n",
       "      <td>-0.668345</td>\n",
       "      <td>0.056973</td>\n",
       "      <td>0.610939</td>\n",
       "      <td>-1.536565</td>\n",
       "      <td>-0.172917</td>\n",
       "      <td>1.338119</td>\n",
       "      <td>-1.026027</td>\n",
       "      <td>0.196988</td>\n",
       "      <td>0.886405</td>\n",
       "    </tr>\n",
       "    <tr>\n",
       "      <th>1</th>\n",
       "      <td>0.542381</td>\n",
       "      <td>0.134553</td>\n",
       "      <td>2.459192</td>\n",
       "      <td>0.478129</td>\n",
       "      <td>-0.129134</td>\n",
       "      <td>1.615013</td>\n",
       "      <td>-0.084450</td>\n",
       "      <td>-0.736069</td>\n",
       "      <td>0.087915</td>\n",
       "      <td>0.886405</td>\n",
       "    </tr>\n",
       "    <tr>\n",
       "      <th>2</th>\n",
       "      <td>0.281202</td>\n",
       "      <td>-0.906649</td>\n",
       "      <td>-0.787478</td>\n",
       "      <td>0.437789</td>\n",
       "      <td>-0.129134</td>\n",
       "      <td>-0.363099</td>\n",
       "      <td>-0.236574</td>\n",
       "      <td>-0.328904</td>\n",
       "      <td>0.090508</td>\n",
       "      <td>-1.128152</td>\n",
       "    </tr>\n",
       "    <tr>\n",
       "      <th>3</th>\n",
       "      <td>-0.328215</td>\n",
       "      <td>-0.139968</td>\n",
       "      <td>-1.092522</td>\n",
       "      <td>0.087146</td>\n",
       "      <td>-0.129134</td>\n",
       "      <td>-0.449217</td>\n",
       "      <td>-1.000485</td>\n",
       "      <td>1.256084</td>\n",
       "      <td>0.022731</td>\n",
       "      <td>0.886405</td>\n",
       "    </tr>\n",
       "    <tr>\n",
       "      <th>4</th>\n",
       "      <td>0.281202</td>\n",
       "      <td>0.232408</td>\n",
       "      <td>-1.112052</td>\n",
       "      <td>0.503574</td>\n",
       "      <td>7.284396</td>\n",
       "      <td>-0.316664</td>\n",
       "      <td>0.038894</td>\n",
       "      <td>-0.096293</td>\n",
       "      <td>0.104952</td>\n",
       "      <td>0.886405</td>\n",
       "    </tr>\n",
       "    <tr>\n",
       "      <th>...</th>\n",
       "      <td>...</td>\n",
       "      <td>...</td>\n",
       "      <td>...</td>\n",
       "      <td>...</td>\n",
       "      <td>...</td>\n",
       "      <td>...</td>\n",
       "      <td>...</td>\n",
       "      <td>...</td>\n",
       "      <td>...</td>\n",
       "      <td>...</td>\n",
       "    </tr>\n",
       "    <tr>\n",
       "      <th>95</th>\n",
       "      <td>-0.937632</td>\n",
       "      <td>-0.711535</td>\n",
       "      <td>1.795164</td>\n",
       "      <td>-1.722547</td>\n",
       "      <td>-0.129134</td>\n",
       "      <td>-0.236044</td>\n",
       "      <td>0.201709</td>\n",
       "      <td>1.547611</td>\n",
       "      <td>0.126433</td>\n",
       "      <td>0.886405</td>\n",
       "    </tr>\n",
       "    <tr>\n",
       "      <th>96</th>\n",
       "      <td>-0.502334</td>\n",
       "      <td>-1.158524</td>\n",
       "      <td>0.386197</td>\n",
       "      <td>0.339113</td>\n",
       "      <td>-0.129134</td>\n",
       "      <td>-0.190322</td>\n",
       "      <td>-0.236574</td>\n",
       "      <td>-1.281943</td>\n",
       "      <td>0.068101</td>\n",
       "      <td>-1.128152</td>\n",
       "    </tr>\n",
       "    <tr>\n",
       "      <th>97</th>\n",
       "      <td>-0.676453</td>\n",
       "      <td>1.621252</td>\n",
       "      <td>-0.039749</td>\n",
       "      <td>0.116935</td>\n",
       "      <td>-0.129134</td>\n",
       "      <td>-0.376591</td>\n",
       "      <td>-0.342650</td>\n",
       "      <td>0.934684</td>\n",
       "      <td>0.016805</td>\n",
       "      <td>-1.128152</td>\n",
       "    </tr>\n",
       "    <tr>\n",
       "      <th>98</th>\n",
       "      <td>-1.024691</td>\n",
       "      <td>-0.130039</td>\n",
       "      <td>-0.784688</td>\n",
       "      <td>0.103282</td>\n",
       "      <td>-0.129134</td>\n",
       "      <td>-0.418764</td>\n",
       "      <td>-0.236574</td>\n",
       "      <td>-1.170516</td>\n",
       "      <td>0.014583</td>\n",
       "      <td>0.886405</td>\n",
       "    </tr>\n",
       "    <tr>\n",
       "      <th>99</th>\n",
       "      <td>0.890619</td>\n",
       "      <td>-1.079963</td>\n",
       "      <td>-0.547535</td>\n",
       "      <td>0.087766</td>\n",
       "      <td>-0.200698</td>\n",
       "      <td>0.602356</td>\n",
       "      <td>-0.236574</td>\n",
       "      <td>0.407912</td>\n",
       "      <td>0.014953</td>\n",
       "      <td>0.886405</td>\n",
       "    </tr>\n",
       "  </tbody>\n",
       "</table>\n",
       "<p>100 rows × 10 columns</p>\n",
       "</div>"
      ],
      "text/plain": [
       "         age       pos   payment         Y  phone_bank   balance  inter_bank  \\\n",
       "0  -1.198810 -0.668345  0.056973  0.610939   -1.536565 -0.172917    1.338119   \n",
       "1   0.542381  0.134553  2.459192  0.478129   -0.129134  1.615013   -0.084450   \n",
       "2   0.281202 -0.906649 -0.787478  0.437789   -0.129134 -0.363099   -0.236574   \n",
       "3  -0.328215 -0.139968 -1.092522  0.087146   -0.129134 -0.449217   -1.000485   \n",
       "4   0.281202  0.232408 -1.112052  0.503574    7.284396 -0.316664    0.038894   \n",
       "..       ...       ...       ...       ...         ...       ...         ...   \n",
       "95 -0.937632 -0.711535  1.795164 -1.722547   -0.129134 -0.236044    0.201709   \n",
       "96 -0.502334 -1.158524  0.386197  0.339113   -0.129134 -0.190322   -0.236574   \n",
       "97 -0.676453  1.621252 -0.039749  0.116935   -0.129134 -0.376591   -0.342650   \n",
       "98 -1.024691 -0.130039 -0.784688  0.103282   -0.129134 -0.418764   -0.236574   \n",
       "99  0.890619 -1.079963 -0.547535  0.087766   -0.200698  0.602356   -0.236574   \n",
       "\n",
       "    sales_pos         X  gender_M  \n",
       "0   -1.026027  0.196988  0.886405  \n",
       "1   -0.736069  0.087915  0.886405  \n",
       "2   -0.328904  0.090508 -1.128152  \n",
       "3    1.256084  0.022731  0.886405  \n",
       "4   -0.096293  0.104952  0.886405  \n",
       "..        ...       ...       ...  \n",
       "95   1.547611  0.126433  0.886405  \n",
       "96  -1.281943  0.068101 -1.128152  \n",
       "97   0.934684  0.016805 -1.128152  \n",
       "98  -1.170516  0.014583  0.886405  \n",
       "99   0.407912  0.014953  0.886405  \n",
       "\n",
       "[100 rows x 10 columns]"
      ]
     },
     "execution_count": 350,
     "metadata": {},
     "output_type": "execute_result"
    }
   ],
   "source": [
    "X = pd.DataFrame(X_scaled, columns=X.columns)\n",
    "X"
   ]
  },
  {
   "cell_type": "markdown",
   "metadata": {},
   "source": [
    "### b) Linear Regression Model"
   ]
  },
  {
   "cell_type": "code",
   "execution_count": 366,
   "metadata": {},
   "outputs": [],
   "source": [
    "from sklearn.linear_model import Lasso, LassoCV\n",
    "from sklearn.metrics import mean_squared_error"
   ]
  },
  {
   "cell_type": "code",
   "execution_count": 367,
   "metadata": {},
   "outputs": [],
   "source": [
    "# split data again\n",
    "X_train, X_test, y_train, y_test = train_test_split(X, y, test_size = 0.3, random_state=42)"
   ]
  },
  {
   "cell_type": "code",
   "execution_count": 368,
   "metadata": {},
   "outputs": [],
   "source": [
    "reg = LinearRegression().fit(X_train, y_train)"
   ]
  },
  {
   "cell_type": "code",
   "execution_count": 369,
   "metadata": {},
   "outputs": [
    {
     "data": {
      "text/plain": [
       "0.48023076034041423"
      ]
     },
     "execution_count": 369,
     "metadata": {},
     "output_type": "execute_result"
    }
   ],
   "source": [
    "reg.score(X_train, y_train)"
   ]
  },
  {
   "cell_type": "code",
   "execution_count": null,
   "metadata": {},
   "outputs": [],
   "source": []
  },
  {
   "cell_type": "code",
   "execution_count": 379,
   "metadata": {},
   "outputs": [],
   "source": [
    "def view_coeff(X, model):\n",
    "    model_coefs = pd.DataFrame({'variable': X.columns,\n",
    "                                'coef': model.coef_,\n",
    "                                'abs_coef': np.abs(model.coef_)})\n",
    "    model_coefs.sort_values('abs_coef', inplace=True, ascending=False)\n",
    "    sns.barplot(x=\"variable\", y=\"coef\", data=model_coefs)"
   ]
  },
  {
   "cell_type": "code",
   "execution_count": 382,
   "metadata": {},
   "outputs": [
    {
     "data": {
      "image/png": "[encoded data removed]",
      "text/plain": [
       "<Figure size 432x288 with 1 Axes>"
      ]
     },
     "metadata": {
      "needs_background": "light"
     },
     "output_type": "display_data"
    }
   ],
   "source": [
    "# Plot Coefficients\n",
    "view_coeff(X, reg)"
   ]
  },
  {
   "cell_type": "code",
   "execution_count": 383,
   "metadata": {},
   "outputs": [
    {
     "name": "stdout",
     "output_type": "stream",
     "text": [
      "Alpha: 2552.9080682395165\n",
      "Score: 0.40477027373952823\n"
     ]
    }
   ],
   "source": [
    "# Find Optimal Lasso Using LassoCV\n",
    "optimal_lasso = LassoCV(alphas=lasso_alphas, cv=10)\n",
    "optimal_lasso.fit(X, y)\n",
    "print('Alpha:', optimal_lasso.alpha_)\n",
    "print('Score:', optimal_lasso.score(X, y))"
   ]
  },
  {
   "cell_type": "code",
   "execution_count": 384,
   "metadata": {},
   "outputs": [
    {
     "data": {
      "image/png": "[encoded data removed]",
      "text/plain": [
       "<Figure size 432x288 with 1 Axes>"
      ]
     },
     "metadata": {
      "needs_background": "light"
     },
     "output_type": "display_data"
    }
   ],
   "source": [
    "# Plot Coefficient\n",
    "view_coeff(X, optimal_lasso)"
   ]
  },
  {
   "cell_type": "code",
   "execution_count": 381,
   "metadata": {},
   "outputs": [
    {
     "data": {
      "text/html": [
       "<div>\n",
       "<style scoped>\n",
       "    .dataframe tbody tr th:only-of-type {\n",
       "        vertical-align: middle;\n",
       "    }\n",
       "\n",
       "    .dataframe tbody tr th {\n",
       "        vertical-align: top;\n",
       "    }\n",
       "\n",
       "    .dataframe thead th {\n",
       "        text-align: right;\n",
       "    }\n",
       "</style>\n",
       "<table border=\"1\" class=\"dataframe\">\n",
       "  <thead>\n",
       "    <tr style=\"text-align: right;\">\n",
       "      <th></th>\n",
       "      <th>age</th>\n",
       "      <th>pos</th>\n",
       "      <th>payment</th>\n",
       "      <th>Y</th>\n",
       "      <th>phone_bank</th>\n",
       "      <th>balance</th>\n",
       "      <th>inter_bank</th>\n",
       "      <th>sales_pos</th>\n",
       "      <th>X</th>\n",
       "      <th>gender_M</th>\n",
       "    </tr>\n",
       "  </thead>\n",
       "  <tbody>\n",
       "    <tr>\n",
       "      <th>0</th>\n",
       "      <td>-1.198810</td>\n",
       "      <td>-0.668345</td>\n",
       "      <td>0.056973</td>\n",
       "      <td>0.610939</td>\n",
       "      <td>-1.536565</td>\n",
       "      <td>-0.172917</td>\n",
       "      <td>1.338119</td>\n",
       "      <td>-1.026027</td>\n",
       "      <td>0.196988</td>\n",
       "      <td>0.886405</td>\n",
       "    </tr>\n",
       "    <tr>\n",
       "      <th>1</th>\n",
       "      <td>0.542381</td>\n",
       "      <td>0.134553</td>\n",
       "      <td>2.459192</td>\n",
       "      <td>0.478129</td>\n",
       "      <td>-0.129134</td>\n",
       "      <td>1.615013</td>\n",
       "      <td>-0.084450</td>\n",
       "      <td>-0.736069</td>\n",
       "      <td>0.087915</td>\n",
       "      <td>0.886405</td>\n",
       "    </tr>\n",
       "    <tr>\n",
       "      <th>2</th>\n",
       "      <td>0.281202</td>\n",
       "      <td>-0.906649</td>\n",
       "      <td>-0.787478</td>\n",
       "      <td>0.437789</td>\n",
       "      <td>-0.129134</td>\n",
       "      <td>-0.363099</td>\n",
       "      <td>-0.236574</td>\n",
       "      <td>-0.328904</td>\n",
       "      <td>0.090508</td>\n",
       "      <td>-1.128152</td>\n",
       "    </tr>\n",
       "    <tr>\n",
       "      <th>3</th>\n",
       "      <td>-0.328215</td>\n",
       "      <td>-0.139968</td>\n",
       "      <td>-1.092522</td>\n",
       "      <td>0.087146</td>\n",
       "      <td>-0.129134</td>\n",
       "      <td>-0.449217</td>\n",
       "      <td>-1.000485</td>\n",
       "      <td>1.256084</td>\n",
       "      <td>0.022731</td>\n",
       "      <td>0.886405</td>\n",
       "    </tr>\n",
       "    <tr>\n",
       "      <th>4</th>\n",
       "      <td>0.281202</td>\n",
       "      <td>0.232408</td>\n",
       "      <td>-1.112052</td>\n",
       "      <td>0.503574</td>\n",
       "      <td>7.284396</td>\n",
       "      <td>-0.316664</td>\n",
       "      <td>0.038894</td>\n",
       "      <td>-0.096293</td>\n",
       "      <td>0.104952</td>\n",
       "      <td>0.886405</td>\n",
       "    </tr>\n",
       "    <tr>\n",
       "      <th>...</th>\n",
       "      <td>...</td>\n",
       "      <td>...</td>\n",
       "      <td>...</td>\n",
       "      <td>...</td>\n",
       "      <td>...</td>\n",
       "      <td>...</td>\n",
       "      <td>...</td>\n",
       "      <td>...</td>\n",
       "      <td>...</td>\n",
       "      <td>...</td>\n",
       "    </tr>\n",
       "    <tr>\n",
       "      <th>95</th>\n",
       "      <td>-0.937632</td>\n",
       "      <td>-0.711535</td>\n",
       "      <td>1.795164</td>\n",
       "      <td>-1.722547</td>\n",
       "      <td>-0.129134</td>\n",
       "      <td>-0.236044</td>\n",
       "      <td>0.201709</td>\n",
       "      <td>1.547611</td>\n",
       "      <td>0.126433</td>\n",
       "      <td>0.886405</td>\n",
       "    </tr>\n",
       "    <tr>\n",
       "      <th>96</th>\n",
       "      <td>-0.502334</td>\n",
       "      <td>-1.158524</td>\n",
       "      <td>0.386197</td>\n",
       "      <td>0.339113</td>\n",
       "      <td>-0.129134</td>\n",
       "      <td>-0.190322</td>\n",
       "      <td>-0.236574</td>\n",
       "      <td>-1.281943</td>\n",
       "      <td>0.068101</td>\n",
       "      <td>-1.128152</td>\n",
       "    </tr>\n",
       "    <tr>\n",
       "      <th>97</th>\n",
       "      <td>-0.676453</td>\n",
       "      <td>1.621252</td>\n",
       "      <td>-0.039749</td>\n",
       "      <td>0.116935</td>\n",
       "      <td>-0.129134</td>\n",
       "      <td>-0.376591</td>\n",
       "      <td>-0.342650</td>\n",
       "      <td>0.934684</td>\n",
       "      <td>0.016805</td>\n",
       "      <td>-1.128152</td>\n",
       "    </tr>\n",
       "    <tr>\n",
       "      <th>98</th>\n",
       "      <td>-1.024691</td>\n",
       "      <td>-0.130039</td>\n",
       "      <td>-0.784688</td>\n",
       "      <td>0.103282</td>\n",
       "      <td>-0.129134</td>\n",
       "      <td>-0.418764</td>\n",
       "      <td>-0.236574</td>\n",
       "      <td>-1.170516</td>\n",
       "      <td>0.014583</td>\n",
       "      <td>0.886405</td>\n",
       "    </tr>\n",
       "    <tr>\n",
       "      <th>99</th>\n",
       "      <td>0.890619</td>\n",
       "      <td>-1.079963</td>\n",
       "      <td>-0.547535</td>\n",
       "      <td>0.087766</td>\n",
       "      <td>-0.200698</td>\n",
       "      <td>0.602356</td>\n",
       "      <td>-0.236574</td>\n",
       "      <td>0.407912</td>\n",
       "      <td>0.014953</td>\n",
       "      <td>0.886405</td>\n",
       "    </tr>\n",
       "  </tbody>\n",
       "</table>\n",
       "<p>100 rows × 10 columns</p>\n",
       "</div>"
      ],
      "text/plain": [
       "         age       pos   payment         Y  phone_bank   balance  inter_bank  \\\n",
       "0  -1.198810 -0.668345  0.056973  0.610939   -1.536565 -0.172917    1.338119   \n",
       "1   0.542381  0.134553  2.459192  0.478129   -0.129134  1.615013   -0.084450   \n",
       "2   0.281202 -0.906649 -0.787478  0.437789   -0.129134 -0.363099   -0.236574   \n",
       "3  -0.328215 -0.139968 -1.092522  0.087146   -0.129134 -0.449217   -1.000485   \n",
       "4   0.281202  0.232408 -1.112052  0.503574    7.284396 -0.316664    0.038894   \n",
       "..       ...       ...       ...       ...         ...       ...         ...   \n",
       "95 -0.937632 -0.711535  1.795164 -1.722547   -0.129134 -0.236044    0.201709   \n",
       "96 -0.502334 -1.158524  0.386197  0.339113   -0.129134 -0.190322   -0.236574   \n",
       "97 -0.676453  1.621252 -0.039749  0.116935   -0.129134 -0.376591   -0.342650   \n",
       "98 -1.024691 -0.130039 -0.784688  0.103282   -0.129134 -0.418764   -0.236574   \n",
       "99  0.890619 -1.079963 -0.547535  0.087766   -0.200698  0.602356   -0.236574   \n",
       "\n",
       "    sales_pos         X  gender_M  \n",
       "0   -1.026027  0.196988  0.886405  \n",
       "1   -0.736069  0.087915  0.886405  \n",
       "2   -0.328904  0.090508 -1.128152  \n",
       "3    1.256084  0.022731  0.886405  \n",
       "4   -0.096293  0.104952  0.886405  \n",
       "..        ...       ...       ...  \n",
       "95   1.547611  0.126433  0.886405  \n",
       "96  -1.281943  0.068101 -1.128152  \n",
       "97   0.934684  0.016805 -1.128152  \n",
       "98  -1.170516  0.014583  0.886405  \n",
       "99   0.407912  0.014953  0.886405  \n",
       "\n",
       "[100 rows x 10 columns]"
      ]
     },
     "execution_count": 381,
     "metadata": {},
     "output_type": "execute_result"
    }
   ],
   "source": [
    "X"
   ]
  },
  {
   "cell_type": "markdown",
   "metadata": {},
   "source": [
    "### c)  Regression Model"
   ]
  },
  {
   "cell_type": "code",
   "execution_count": null,
   "metadata": {},
   "outputs": [],
   "source": []
  }
 ],
 "metadata": {
  "kernelspec": {
   "display_name": "Python 3",
   "language": "python",
   "name": "python3"
  },
  "language_info": {
   "codemirror_mode": {
    "name": "ipython",
    "version": 3
   },
   "file_extension": ".py",
   "mimetype": "text/x-python",
   "name": "python",
   "nbconvert_exporter": "python",
   "pygments_lexer": "ipython3",
   "version": "3.8.5"
  }
 },
 "nbformat": 4,
 "nbformat_minor": 4
}
