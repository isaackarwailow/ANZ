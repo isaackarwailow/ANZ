{
 "cells": [
  {
   "cell_type": "code",
   "execution_count": 4,
   "metadata": {},
   "outputs": [],
   "source": [
    "import pandas as pd\n",
    "import numpy as np\n",
    "import matplotlib.pyplot as plt\n",
    "import seaborn as sns\n"
   ]
  },
  {
   "cell_type": "code",
   "execution_count": 5,
   "metadata": {},
   "outputs": [],
   "source": [
    "file = 'DATA/ANZ-synthesised-transaction-dataset-original.xlsx'"
   ]
  },
  {
   "cell_type": "code",
   "execution_count": 14,
   "metadata": {},
   "outputs": [],
   "source": [
    "df = pd.read_excel(file)"
   ]
  },
  {
   "cell_type": "code",
   "execution_count": 15,
   "metadata": {},
   "outputs": [
    {
     "data": {
      "text/plain": [
       "Index(['transaction_id', 'account', 'age', 'gender', 'txn_description', 'date',\n",
       "       'status', 'movement', 'card_present_flag', 'long', 'lat', 'geometry',\n",
       "       'balance', 'merchant_suburb', 'merchant_state', 'time_extract',\n",
       "       'amount', 'cust_id', 'merchant_long_lat', 'merch_long', 'merch_lat'],\n",
       "      dtype='object')"
      ]
     },
     "execution_count": 15,
     "metadata": {},
     "output_type": "execute_result"
    }
   ],
   "source": [
    "df.columns\n"
   ]
  },
  {
   "cell_type": "code",
   "execution_count": 14,
   "metadata": {},
   "outputs": [],
   "source": [
    "# df.pop('transaction_id')"
   ]
  },
  {
   "cell_type": "code",
   "execution_count": 16,
   "metadata": {},
   "outputs": [
    {
     "data": {
      "text/plain": [
       "transaction_id               object\n",
       "account                       int64\n",
       "age                           int64\n",
       "gender                       object\n",
       "txn_description              object\n",
       "date                 datetime64[ns]\n",
       "status                       object\n",
       "movement                     object\n",
       "card_present_flag           float64\n",
       "long                        float64\n",
       "lat                         float64\n",
       "geometry                     object\n",
       "balance                     float64\n",
       "merchant_suburb              object\n",
       "merchant_state               object\n",
       "time_extract                 object\n",
       "amount                      float64\n",
       "cust_id                       int64\n",
       "merchant_long_lat            object\n",
       "merch_long                  float64\n",
       "merch_lat                   float64\n",
       "dtype: object"
      ]
     },
     "execution_count": 16,
     "metadata": {},
     "output_type": "execute_result"
    }
   ],
   "source": [
    "df.dtypes"
   ]
  },
  {
   "cell_type": "code",
   "execution_count": 22,
   "metadata": {},
   "outputs": [
    {
     "data": {
      "text/plain": [
       "transaction_id          0\n",
       "account                 0\n",
       "age                     0\n",
       "gender                  0\n",
       "txn_description         0\n",
       "date                    0\n",
       "status                  0\n",
       "movement                0\n",
       "card_present_flag    4326\n",
       "long                    0\n",
       "lat                     0\n",
       "geometry                0\n",
       "balance                 0\n",
       "merchant_suburb      4326\n",
       "merchant_state       4326\n",
       "time_extract            0\n",
       "amount                  0\n",
       "cust_id                 0\n",
       "merchant_long_lat    4326\n",
       "merch_long              0\n",
       "merch_lat               0\n",
       "dtype: int64"
      ]
     },
     "execution_count": 22,
     "metadata": {},
     "output_type": "execute_result"
    }
   ],
   "source": [
    "df.isna().sum()"
   ]
  },
  {
   "cell_type": "code",
   "execution_count": 30,
   "metadata": {},
   "outputs": [],
   "source": [
    "df.fillna(0, inplace=True)"
   ]
  },
  {
   "cell_type": "code",
   "execution_count": 31,
   "metadata": {},
   "outputs": [
    {
     "data": {
      "text/plain": [
       "transaction_id       0\n",
       "account              0\n",
       "age                  0\n",
       "gender               0\n",
       "txn_description      0\n",
       "date                 0\n",
       "status               0\n",
       "movement             0\n",
       "card_present_flag    0\n",
       "long                 0\n",
       "lat                  0\n",
       "geometry             0\n",
       "balance              0\n",
       "merchant_suburb      0\n",
       "merchant_state       0\n",
       "time_extract         0\n",
       "amount               0\n",
       "cust_id              0\n",
       "merchant_long_lat    0\n",
       "merch_long           0\n",
       "merch_lat            0\n",
       "dtype: int64"
      ]
     },
     "execution_count": 31,
     "metadata": {},
     "output_type": "execute_result"
    }
   ],
   "source": [
    "df.isna().sum()"
   ]
  },
  {
   "cell_type": "code",
   "execution_count": null,
   "metadata": {},
   "outputs": [],
   "source": []
  },
  {
   "cell_type": "code",
   "execution_count": null,
   "metadata": {},
   "outputs": [],
   "source": []
  }
 ],
 "metadata": {
  "kernelspec": {
   "display_name": "Python 3",
   "language": "python",
   "name": "python3"
  },
  "language_info": {
   "codemirror_mode": {
    "name": "ipython",
    "version": 3
   },
   "file_extension": ".py",
   "mimetype": "text/x-python",
   "name": "python",
   "nbconvert_exporter": "python",
   "pygments_lexer": "ipython3",
   "version": "3.8.5"
  }
 },
 "nbformat": 4,
 "nbformat_minor": 4
}
